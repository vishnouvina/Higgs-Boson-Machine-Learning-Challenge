{
  "nbformat": 4,
  "nbformat_minor": 0,
  "metadata": {
    "colab": {
      "name": "Group_A_pipeline.ipynb",
      "provenance": [],
      "collapsed_sections": [
        "F8lnv2Qp-dVC",
        "M8B7vgVfAKGD",
        "xnG_mIokMeIC",
        "ChVhglDKDRIX"
      ]
    },
    "kernelspec": {
      "name": "python3",
      "display_name": "Python 3"
    },
    "language_info": {
      "name": "python"
    }
  },
  "cells": [
    {
      "cell_type": "markdown",
      "metadata": {
        "id": "F8lnv2Qp-dVC"
      },
      "source": [
        "### **Pipeline du Groupe A** "
      ]
    },
    {
      "cell_type": "markdown",
      "metadata": {
        "id": "sIASvt6_-BWb"
      },
      "source": [
        "Pipeline du Groupe A,\n",
        "Il faut avoir deux bases de données dans son drive \n",
        "https://drive.google.com/file/d/1xkuT88-x06LEb5f6Lr0BEzVP--gAims8/view?usp=sharing \n",
        "*Le code suivant l'importe et l'installe dans les fichiers du Colab*"
      ]
    },
    {
      "cell_type": "code",
      "metadata": {
        "id": "teegrC8-_XdE"
      },
      "source": [
        "!pip install -U -q PyDrive\n",
        "\n",
        "from pydrive.auth import GoogleAuth\n",
        "from pydrive.drive import GoogleDrive\n",
        "from google.colab import auth\n",
        "from oauth2client.client import GoogleCredentials\n",
        "\n",
        "\n",
        "# Authenticate and create the PyDrive client.\n",
        "auth.authenticate_user()\n",
        "gauth = GoogleAuth()\n",
        "gauth.credentials = GoogleCredentials.get_application_default()\n",
        "drive = GoogleDrive(gauth)\n"
      ],
      "execution_count": null,
      "outputs": []
    },
    {
      "cell_type": "markdown",
      "metadata": {
        "id": "M8B7vgVfAKGD"
      },
      "source": [
        "### *Récupération du DataSet initial*"
      ]
    },
    {
      "cell_type": "code",
      "metadata": {
        "id": "IEh1yROP98KT"
      },
      "source": [
        "link = 'https://drive.google.com/file/d/1xkuT88-x06LEb5f6Lr0BEzVP--gAims8/view?usp=sharing'\n",
        "  \n",
        "import pandas as pd\n",
        "  \n",
        "# to get the id part of the file\n",
        "id = link.split(\"/\")[-2]\n",
        "  \n",
        "downloaded = drive.CreateFile({'id':id}) \n",
        "downloaded.GetContentFile('PRI.csv.gz',)  \n",
        "  \n",
        "fulldata = pd.read_csv('PRI.csv.gz', )\n"
      ],
      "execution_count": null,
      "outputs": []
    },
    {
      "cell_type": "markdown",
      "metadata": {
        "id": "IHMq14zGAO4G"
      },
      "source": [
        "*Regardons la tête du DataSet*"
      ]
    },
    {
      "cell_type": "code",
      "metadata": {
        "colab": {
          "base_uri": "https://localhost:8080/"
        },
        "id": "jUXk0qeJBnH4",
        "outputId": "9555cc2f-14f0-4bce-9940-f9700d352f54"
      },
      "source": [
        "fulldata.head()"
      ],
      "execution_count": null,
      "outputs": [
        {
          "output_type": "execute_result",
          "data": {
            "text/html": [
              "<div>\n",
              "<style scoped>\n",
              "    .dataframe tbody tr th:only-of-type {\n",
              "        vertical-align: middle;\n",
              "    }\n",
              "\n",
              "    .dataframe tbody tr th {\n",
              "        vertical-align: top;\n",
              "    }\n",
              "\n",
              "    .dataframe thead th {\n",
              "        text-align: right;\n",
              "    }\n",
              "</style>\n",
              "<table border=\"1\" class=\"dataframe\">\n",
              "  <thead>\n",
              "    <tr style=\"text-align: right;\">\n",
              "      <th></th>\n",
              "      <th>EventId</th>\n",
              "      <th>PRI_had_pt</th>\n",
              "      <th>PRI_had_eta</th>\n",
              "      <th>PRI_had_phi</th>\n",
              "      <th>PRI_lep_pt</th>\n",
              "      <th>PRI_lep_eta</th>\n",
              "      <th>PRI_lep_phi</th>\n",
              "      <th>PRI_met</th>\n",
              "      <th>PRI_met_phi</th>\n",
              "      <th>PRI_met_sumet</th>\n",
              "      <th>PRI_jet_num</th>\n",
              "      <th>PRI_jet_leading_pt</th>\n",
              "      <th>PRI_jet_leading_eta</th>\n",
              "      <th>PRI_jet_leading_phi</th>\n",
              "      <th>PRI_jet_subleading_pt</th>\n",
              "      <th>PRI_jet_subleading_eta</th>\n",
              "      <th>PRI_jet_subleading_phi</th>\n",
              "      <th>PRI_jet_all_pt</th>\n",
              "      <th>Weight</th>\n",
              "      <th>Label</th>\n",
              "      <th>detailLabel</th>\n",
              "    </tr>\n",
              "  </thead>\n",
              "  <tbody>\n",
              "    <tr>\n",
              "      <th>0</th>\n",
              "      <td>100000</td>\n",
              "      <td>32.638</td>\n",
              "      <td>1.017</td>\n",
              "      <td>0.381</td>\n",
              "      <td>51.626</td>\n",
              "      <td>2.273</td>\n",
              "      <td>-2.414</td>\n",
              "      <td>16.824</td>\n",
              "      <td>-0.277</td>\n",
              "      <td>258.733</td>\n",
              "      <td>2</td>\n",
              "      <td>67.435</td>\n",
              "      <td>2.150</td>\n",
              "      <td>0.444</td>\n",
              "      <td>46.062</td>\n",
              "      <td>1.24</td>\n",
              "      <td>-2.475</td>\n",
              "      <td>113.497</td>\n",
              "      <td>0.001333</td>\n",
              "      <td>1.0</td>\n",
              "      <td>2</td>\n",
              "    </tr>\n",
              "    <tr>\n",
              "      <th>1</th>\n",
              "      <td>100001</td>\n",
              "      <td>42.014</td>\n",
              "      <td>2.039</td>\n",
              "      <td>-3.011</td>\n",
              "      <td>36.918</td>\n",
              "      <td>0.501</td>\n",
              "      <td>0.103</td>\n",
              "      <td>44.704</td>\n",
              "      <td>-1.916</td>\n",
              "      <td>164.546</td>\n",
              "      <td>1</td>\n",
              "      <td>46.226</td>\n",
              "      <td>0.725</td>\n",
              "      <td>1.158</td>\n",
              "      <td>-999.000</td>\n",
              "      <td>-999.00</td>\n",
              "      <td>-999.000</td>\n",
              "      <td>46.226</td>\n",
              "      <td>1.114509</td>\n",
              "      <td>0.0</td>\n",
              "      <td>400</td>\n",
              "    </tr>\n",
              "    <tr>\n",
              "      <th>2</th>\n",
              "      <td>100002</td>\n",
              "      <td>32.154</td>\n",
              "      <td>-0.705</td>\n",
              "      <td>-2.093</td>\n",
              "      <td>121.409</td>\n",
              "      <td>-0.953</td>\n",
              "      <td>1.052</td>\n",
              "      <td>54.283</td>\n",
              "      <td>-2.186</td>\n",
              "      <td>260.414</td>\n",
              "      <td>1</td>\n",
              "      <td>44.251</td>\n",
              "      <td>2.053</td>\n",
              "      <td>-2.028</td>\n",
              "      <td>-999.000</td>\n",
              "      <td>-999.00</td>\n",
              "      <td>-999.000</td>\n",
              "      <td>44.251</td>\n",
              "      <td>1.171295</td>\n",
              "      <td>0.0</td>\n",
              "      <td>400</td>\n",
              "    </tr>\n",
              "    <tr>\n",
              "      <th>3</th>\n",
              "      <td>100003</td>\n",
              "      <td>22.647</td>\n",
              "      <td>-1.655</td>\n",
              "      <td>0.010</td>\n",
              "      <td>53.321</td>\n",
              "      <td>-0.522</td>\n",
              "      <td>-3.100</td>\n",
              "      <td>31.082</td>\n",
              "      <td>0.060</td>\n",
              "      <td>86.062</td>\n",
              "      <td>0</td>\n",
              "      <td>-999.000</td>\n",
              "      <td>-999.000</td>\n",
              "      <td>-999.000</td>\n",
              "      <td>-999.000</td>\n",
              "      <td>-999.00</td>\n",
              "      <td>-999.000</td>\n",
              "      <td>-0.000</td>\n",
              "      <td>2.717621</td>\n",
              "      <td>0.0</td>\n",
              "      <td>400</td>\n",
              "    </tr>\n",
              "    <tr>\n",
              "      <th>4</th>\n",
              "      <td>100004</td>\n",
              "      <td>28.209</td>\n",
              "      <td>-2.197</td>\n",
              "      <td>-2.231</td>\n",
              "      <td>29.774</td>\n",
              "      <td>0.798</td>\n",
              "      <td>1.569</td>\n",
              "      <td>2.723</td>\n",
              "      <td>-0.871</td>\n",
              "      <td>53.131</td>\n",
              "      <td>0</td>\n",
              "      <td>-999.000</td>\n",
              "      <td>-999.000</td>\n",
              "      <td>-999.000</td>\n",
              "      <td>-999.000</td>\n",
              "      <td>-999.00</td>\n",
              "      <td>-999.000</td>\n",
              "      <td>0.000</td>\n",
              "      <td>3.116281</td>\n",
              "      <td>0.0</td>\n",
              "      <td>400</td>\n",
              "    </tr>\n",
              "  </tbody>\n",
              "</table>\n",
              "</div>"
            ],
            "text/plain": [
              "   EventId  PRI_had_pt  PRI_had_eta  ...    Weight  Label  detailLabel\n",
              "0   100000      32.638        1.017  ...  0.001333    1.0            2\n",
              "1   100001      42.014        2.039  ...  1.114509    0.0          400\n",
              "2   100002      32.154       -0.705  ...  1.171295    0.0          400\n",
              "3   100003      22.647       -1.655  ...  2.717621    0.0          400\n",
              "4   100004      28.209       -2.197  ...  3.116281    0.0          400\n",
              "\n",
              "[5 rows x 21 columns]"
            ]
          },
          "metadata": {
            "tags": []
          },
          "execution_count": 3
        }
      ]
    },
    {
      "cell_type": "markdown",
      "metadata": {
        "id": "xnG_mIokMeIC"
      },
      "source": [
        "# Systematic uncertainties"
      ]
    },
    {
      "cell_type": "code",
      "metadata": {
        "id": "QMZEu9rfMJ41"
      },
      "source": [
        "les_param=[[1.05,1,1,1,0],[1,1.5,1,1,0],[1,1,1.03,1,0],[1,1,1,1.03,0],[1,1,1,1,3]]"
      ],
      "execution_count": null,
      "outputs": []
    },
    {
      "cell_type": "code",
      "metadata": {
        "colab": {
          "base_uri": "https://localhost:8080/"
        },
        "id": "IZeXMXWXF0lO",
        "outputId": "57ef7f74-0a1c-44c7-f1be-619418360efd"
      },
      "source": [
        "#!/usr/bin/env python\n",
        "# -*- coding: utf-8 -*-\n",
        "from __future__ import division\n",
        "from __future__ import print_function\n",
        "from __future__ import absolute_import\n",
        "\n",
        "import sys\n",
        "import os\n",
        "import gzip\n",
        "import copy\n",
        "import pandas as pd\n",
        "import numpy as np\n",
        "\n",
        "class V4:\n",
        "    \"\"\"\n",
        "    A simple 4-vector class to ease calculation, work easy peasy on numpy vector of 4 vector\n",
        "    \"\"\"\n",
        "    px=0\n",
        "    py=0\n",
        "    pz=0\n",
        "    e=0\n",
        "    def __init__(self,apx=0., apy=0., apz=0., ae=0.):\n",
        "        \"\"\"\n",
        "        Constructor with 4 coordinates\n",
        "        \"\"\"\n",
        "        self.px = apx\n",
        "        self.py = apy\n",
        "        self.pz = apz\n",
        "        self.e = ae\n",
        "        if self.e + 1e-3 < self.p():\n",
        "            raise ValueError(\"Energy is too small! Energy: {}, p: {}\".format(self.e, self.p()))\n",
        "\n",
        "    def copy(self):\n",
        "        return copy.deepcopy(self)\n",
        "    \n",
        "    def p2(self):\n",
        "        return self.px**2 + self.py**2 + self.pz**2\n",
        "    \n",
        "    def p(self):\n",
        "        return np.sqrt(self.p2())\n",
        "    \n",
        "    def pt2(self):\n",
        "        return self.px**2 + self.py**2\n",
        "    \n",
        "    def pt(self):\n",
        "        return np.sqrt(self.pt2())\n",
        "    \n",
        "    def m(self):\n",
        "        return np.sqrt( np.abs( self.e**2 - self.p2() ) ) # abs is needed for protection\n",
        "    \n",
        "    def eta(self):\n",
        "        return np.arcsinh( self.pz/self.pt() )\n",
        "    \n",
        "    def phi(self):\n",
        "        return np.arctan2(self.py, self.px)\n",
        "    \n",
        "    def deltaPhi(self, v):\n",
        "        \"\"\"delta phi with another v\"\"\"\n",
        "        return (self.phi() - v.phi() + 3*np.pi) % (2*np.pi) - np.pi\n",
        "    \n",
        "    def deltaEta(self,v):\n",
        "        \"\"\"delta eta with another v\"\"\"\n",
        "        return self.eta()-v.eta()\n",
        "    \n",
        "    def deltaR(self,v):\n",
        "        \"\"\"delta R with another v\"\"\"\n",
        "        return np.sqrt(self.deltaPhi(v)**2+self.deltaEta(v)**2 )\n",
        "\n",
        "    def eWithM(self,m=0.):\n",
        "        \"\"\"recompute e given m\"\"\"\n",
        "        return np.sqrt(self.p2()+m**2)\n",
        "\n",
        "    # FIXME this gives ugly prints with 1D-arrays\n",
        "    def __str__(self):\n",
        "        return \"PxPyPzE( %s,%s,%s,%s)<=>PtEtaPhiM( %s,%s,%s,%s) \" % (self.px, self.py,self.pz,self.e,self.pt(),self.eta(),self.phi(),self.m())\n",
        "\n",
        "    def scale(self,factor=1.): # scale\n",
        "        \"\"\"Apply a simple scaling\"\"\"\n",
        "        self.px *= factor\n",
        "        self.py *= factor\n",
        "        self.pz *= factor\n",
        "        self.e = np.abs( factor*self.e )\n",
        "    \n",
        "    def scaleFixedM(self,factor=1.): \n",
        "        \"\"\"Scale (keeping mass unchanged)\"\"\"\n",
        "        m = self.m()\n",
        "        self.px *= factor\n",
        "        self.py *= factor\n",
        "        self.pz *= factor\n",
        "        self.e = self.eWithM(m)\n",
        "    \n",
        "    def setPtEtaPhiM(self, pt=0., eta=0., phi=0., m=0):\n",
        "        \"\"\"Re-initialize with : pt, eta, phi and m\"\"\"\n",
        "        self.px = pt*np.cos(phi)\n",
        "        self.py = pt*np.sin(phi)\n",
        "        self.pz = pt*np.sinh(eta)\n",
        "        self.e = self.eWithM(m)\n",
        "    \n",
        "    def sum(self, v):\n",
        "        \"\"\"Add another V4 into self\"\"\"\n",
        "        self.px += v.px\n",
        "        self.py += v.py\n",
        "        self.pz += v.pz\n",
        "        self.e += v.e\n",
        "    \n",
        "    def __iadd__(self, other):\n",
        "        \"\"\"Add another V4 into self\"\"\"\n",
        "        try:\n",
        "            self.px += other.px\n",
        "            self.py += other.py\n",
        "            self.pz += other.pz\n",
        "            self.e += other.e\n",
        "        except AttributeError: \n",
        "            # If 'other' is not V4 like object then return special NotImplemented error\n",
        "            return NotImplemented\n",
        "        return self\n",
        "    \n",
        "    def __add__(self, other):\n",
        "        \"\"\"Add 2 V4 vectors : v3 = v1 + v2 = v1.__add__(v2)\"\"\"\n",
        "        copy = self.copy()\n",
        "        try:\n",
        "            copy.px += other.px\n",
        "            copy.py += other.py\n",
        "            copy.pz += other.pz\n",
        "            copy.e += other.e\n",
        "        except AttributeError: \n",
        "            # If 'other' is not V4 like object then return special NotImplemented error\n",
        "            return NotImplemented\n",
        "        return copy\n",
        "\n",
        "\n",
        "\n",
        "\n",
        "# ==================================================================================\n",
        "def getDetailLabel(origWeight, Label, num=True):\n",
        "    \"\"\"\n",
        "    Given original weight and label, \n",
        "    return more precise label specifying the original simulation type.\n",
        "    \n",
        "    Args\n",
        "    ----\n",
        "        origWeight: the original weight of the event\n",
        "        Label : the label of the event (can be {\"b\", \"s\"} or {0,1})\n",
        "        num: (default=True) if True use the numeric detail labels\n",
        "                else use the string detail labels. You should prefer numeric labels.\n",
        "\n",
        "    Return\n",
        "    ------\n",
        "        detailLabel: the corresponding detail label (\"W\" is the default if not found)\n",
        "\n",
        "    Note : Could be better optimized but this is fast enough.\n",
        "    \"\"\"\n",
        "    # prefer numeric detail label\n",
        "    detail_label_num={\n",
        "        57207:0, # Signal\n",
        "        4613:1,\n",
        "        8145:2,\n",
        "        4610:3,\n",
        "        917703: 105, #Z\n",
        "        5127399:111,\n",
        "        4435976:112,\n",
        "        4187604:113,\n",
        "        2407146:114,\n",
        "        1307751:115,\n",
        "        944596:122,\n",
        "        936590:123,\n",
        "        1093224:124,\n",
        "        225326:132,\n",
        "        217575:133,\n",
        "        195328:134,\n",
        "        254338:135,\n",
        "        2268701:300 #T\n",
        "        }\n",
        "    # complementary for W detaillabeldict=200\n",
        "    #previous alphanumeric detail label    \n",
        "    detail_label_str={\n",
        "       57207:\"S0\",\n",
        "       4613:\"S1\",\n",
        "       8145:\"S2\",\n",
        "       4610:\"S3\",\n",
        "       917703:\"Z05\",\n",
        "       5127399:\"Z11\",\n",
        "       4435976:\"Z12\",\n",
        "       4187604:\"Z13\",\n",
        "       2407146:\"Z14\",\n",
        "       1307751:\"Z15\",\n",
        "       944596:\"Z22\",\n",
        "       936590:\"Z23\",\n",
        "       1093224:\"Z24\",\n",
        "       225326:\"Z32\",\n",
        "       217575:\"Z33\",\n",
        "       195328:\"Z34\",\n",
        "       254338:\"Z35\",\n",
        "       2268701:\"W\"  # was T\n",
        "    }\n",
        "\n",
        "    if num:\n",
        "        detailLabelDict = detail_label_num\n",
        "        defaultLabel=400 # 400 \"T\" is the default value if not found\n",
        "    else:\n",
        "        detailLabelDict = detail_label_str\n",
        "        defaultLabel=\"T\" #\"T\" is the default value if not found\n",
        "        \n",
        "    iWeight=int(1e7*origWeight+0.5)\n",
        "    detailLabel = detailLabelDict.get(iWeight, defaultLabel) \n",
        "    if detailLabel == \"T\" and (Label != 0 and Label != 'b') :\n",
        "        raise ValueError(\"ERROR! if not in detailLabelDict sould have Label==1 ({}, {})\".format(iWeight,Label))\n",
        "\n",
        "    return detailLabel\n",
        "\n",
        "\n",
        "def w_bkg_weight_norm(data, systBkgNorm):\n",
        "    \"\"\"\n",
        "    Apply a scaling to the weight. For W background\n",
        "\n",
        "    Args\n",
        "    ----\n",
        "        data: the dataset should be a pandas.DataFrame like object.\n",
        "            This function will modify the given data inplace.\n",
        "\n",
        "    \"\"\"\n",
        "    # scale the weight, arbitrary but reasonable value\n",
        "    data[\"Weight\"] = ( data[\"Weight\"]*systBkgNorm ).where(data[\"detailLabel\"] == 300, other=data[\"Weight\"])\n",
        "\n",
        "\n",
        "\n",
        "def all_bkg_weight_norm(data, systBkgNorm):\n",
        "    \"\"\"\n",
        "    Apply a scaling to the weight.\n",
        "\n",
        "    Args\n",
        "    ----\n",
        "        data: the dataset should be a pandas.DataFrame like object.\n",
        "            This function will modify the given data inplace.\n",
        "\n",
        "    \"\"\"\n",
        "    # scale the weight, arbitrary but reasonable value\n",
        "    data[\"Weight\"] = ( data[\"Weight\"]*systBkgNorm ).where(data[\"Label\"] == 0, other=data[\"Weight\"])\n",
        "\n",
        "\n",
        "\n",
        "\n",
        "\n",
        "        \n",
        "# ==================================================================================\n",
        "# Manipulate the 4-momenta\n",
        "# ==================================================================================\n",
        "def mom4_manipulate (data, systTauEnergyScale, systJetEnergyScale,softMET):\n",
        "    \"\"\"\n",
        "    Manipulate primary inputs : the PRI_had_pt PRI_jet_leading_pt PRI_jet_subleading_pt and recompute the others values accordingly.\n",
        "\n",
        "    Args\n",
        "    ----\n",
        "        data: the dataset should be a pandas.DataFrame like object.\n",
        "            This function will modify the given data inplace.\n",
        "        systTauEnergyScale : the factor applied : PRI_had_pt <-- PRI_had_pt * systTauEnergyScale\n",
        "        systJetEnergyScale : the factor applied : all jet pt  * systJetEnergyScale\n",
        "        recompute MET accordingly\n",
        "        Add soft MET gaussian random energy \n",
        "\n",
        "        \n",
        "    Notes :\n",
        "    -------\n",
        "        Recompute :\n",
        "            - PRI_had_pt\n",
        "            - PRI_jet_leading_pt\n",
        "            - PRI_jet_subleading_pt            \n",
        "            - PRI_met\n",
        "            - PRI_met_phi\n",
        "            - PRI_met_sumet\n",
        "        Round up to 3 decimals.\n",
        "\n",
        "    \"\"\"\n",
        "\n",
        "\n",
        "    vmet = V4() # met 4-vector\n",
        "    vmet.setPtEtaPhiM(data[\"PRI_met\"], 0., data[\"PRI_met_phi\"], 0.) # met mass zero,\n",
        "    met_sumet=data[\"PRI_met_sumet\"]\n",
        "    \n",
        "    if systTauEnergyScale!=1.:\n",
        "        # scale tau energy scale, arbitrary but reasonable value\n",
        "        data[\"PRI_had_pt\"] *= systTauEnergyScale \n",
        "\n",
        "\n",
        "        # build 4-vectors\n",
        "        vtau = V4() # tau 4-vector\n",
        "        vtau.setPtEtaPhiM(data[\"PRI_had_pt\"], data[\"PRI_had_eta\"], data[\"PRI_had_phi\"], 0.8) # tau mass 0.8 like in original\n",
        "\n",
        "        #vlep = V4() # lepton 4-vector\n",
        "        #vlep.setPtEtaPhiM(data[\"PRI_lep_pt\"], data[\"PRI_lep_eta\"], data[\"PRI_lep_phi\"], 0.) # lep mass 0 (either 0.106 or 0.0005 but info is lost)\n",
        "\n",
        "\n",
        "        # fix MET according to tau pt change (minus sign since met is minus sum pt of visible particles\n",
        "        vtauDeltaMinus = vtau.copy()\n",
        "        vtauDeltaMinus.scaleFixedM( (1.-systTauEnergyScale)/systTauEnergyScale )\n",
        "        vmet += vtauDeltaMinus\n",
        "        vmet.pz = 0.\n",
        "        vmet.e = vmet.eWithM(0.)\n",
        "\n",
        "        #met_sum_et is increased if energy scale increased\n",
        "        tauDeltaMinus=vtau.pt()\n",
        "        met_sumet+= (systTauEnergyScale-1)/systTauEnergyScale *tauDeltaMinus\n",
        "\n",
        "\n",
        "    \n",
        "    \n",
        "    \n",
        "\n",
        "    # scale jet energy scale, arbitrary but reasonable value\n",
        "\n",
        "    if systJetEnergyScale!=1. :\n",
        "        #data[\"PRI_jet_leading_pt\"]    *= systJetEnergyScale\n",
        "        data[\"PRI_jet_leading_pt\"] = np.where(data[\"PRI_jet_num\"] >0,\n",
        "                                           data[\"PRI_jet_leading_pt\"]*systJetEnergyScale,\n",
        "                                           data[\"PRI_jet_leading_pt\"])\n",
        "        #data[\"PRI_jet_subleading_pt\"] *= systJetEnergyScale\n",
        "        data[\"PRI_jet_subleading_pt\"] = np.where(data[\"PRI_jet_num\"] >1,\n",
        "                                           data[\"PRI_jet_subleading_pt\"]*systJetEnergyScale,\n",
        "                                           data[\"PRI_jet_subleading_pt\"])\n",
        "\n",
        "        data[\"PRI_jet_all_pt\"] *= systJetEnergyScale \n",
        "\n",
        "        jet_all_pt= data[\"PRI_jet_all_pt\"]\n",
        "    \n",
        "        #met_sum_et is increased if energy scale increased\n",
        "        met_sumet+= (systJetEnergyScale-1)/systJetEnergyScale *jet_all_pt\n",
        "    \n",
        "\n",
        "        # first jet if it exists\n",
        "        vj1 = V4()\n",
        "        vj1.setPtEtaPhiM(data[\"PRI_jet_leading_pt\"].where( data[\"PRI_jet_num\"] > 0, other=0 ),\n",
        "                             data[\"PRI_jet_leading_eta\"].where( data[\"PRI_jet_num\"] > 0, other=0 ),\n",
        "                             data[\"PRI_jet_leading_phi\"].where( data[\"PRI_jet_num\"] > 0, other=0 ),\n",
        "                             0.) # zero mass\n",
        "        # fix MET according to leading jet pt change\n",
        "        vj1DeltaMinus = vj1.copy()\n",
        "        vj1DeltaMinus.scaleFixedM( (1.-systJetEnergyScale)/systJetEnergyScale )\n",
        "        vmet += vj1DeltaMinus\n",
        "        vmet.pz = 0.\n",
        "        vmet.e = vmet.eWithM(0.)\n",
        "\n",
        "\n",
        "\n",
        "        # second jet if it exists\n",
        "        vj2=V4()\n",
        "        vj2.setPtEtaPhiM(data[\"PRI_jet_subleading_pt\"].where( data[\"PRI_jet_num\"] > 1, other=0 ),\n",
        "                         data[\"PRI_jet_subleading_eta\"].where( data[\"PRI_jet_num\"] > 1, other=0 ),\n",
        "                         data[\"PRI_jet_subleading_phi\"].where( data[\"PRI_jet_num\"] > 1, other=0 ),\n",
        "                         0.) # zero mass\n",
        "\n",
        "        # fix MET according to leading jet pt change\n",
        "        vj2DeltaMinus = vj2.copy()\n",
        "        vj2DeltaMinus.scaleFixedM( (1.-systJetEnergyScale)/systJetEnergyScale )\n",
        "        vmet += vj2DeltaMinus\n",
        "        vmet.pz = 0.\n",
        "        vmet.e = vmet.eWithM(0.)\n",
        "        \n",
        "    #note that in principle we should also fix MET for the third jet or more but we do not have enough information\n",
        "\n",
        "    if softMET>0:\n",
        "        # add soft met term\n",
        "        # Compute the missing v4 vector\n",
        "        random_state = np.random.RandomState(seed=seed)\n",
        "        SIZE = data.shape[0]\n",
        "        v4_soft_term = V4()\n",
        "        v4_soft_term.px = random_state.normal(0, softMET, size=SIZE)\n",
        "        v4_soft_term.py = random_state.normal(0, softMET, size=SIZE)\n",
        "        v4_soft_term.pz = np.zeros(SIZE)\n",
        "        v4_soft_term.e = v4_soft_term.eWithM(0.)\n",
        "        # fix MET according to soft term\n",
        "        vmet = vmet + v4_soft_term\n",
        "\n",
        "    \n",
        "\n",
        "    data[\"PRI_met\"] = vmet.pt()\n",
        "    data[\"PRI_met_phi\"] = vmet.phi()\n",
        "    data[\"PRI_met_sumet\"] = met_sumet\n",
        "                     \n",
        "    # Fix precision to 3 decimals\n",
        "    DECIMALS = 3\n",
        "\n",
        "    data[\"PRI_had_pt\"] = data[\"PRI_had_pt\"].round(decimals=DECIMALS)\n",
        "    data[\"PRI_had_eta\"] = data[\"PRI_had_eta\"].round(decimals=DECIMALS)\n",
        "    data[\"PRI_had_phi\"] = data[\"PRI_had_phi\"].round(decimals=DECIMALS)\n",
        "    data[\"PRI_lep_pt\"] = data[\"PRI_lep_pt\"].round(decimals=DECIMALS)\n",
        "    data[\"PRI_lep_eta\"] = data[\"PRI_lep_eta\"].round(decimals=DECIMALS)\n",
        "    data[\"PRI_lep_phi\"] = data[\"PRI_lep_phi\"].round(decimals=DECIMALS)\n",
        "    data[\"PRI_met\"] = data[\"PRI_met\"].round(decimals=DECIMALS)\n",
        "    data[\"PRI_met_phi\"] = data[\"PRI_met_phi\"].round(decimals=DECIMALS)\n",
        "    data[\"PRI_met_sumet\"] = data[\"PRI_met_sumet\"].round(decimals=DECIMALS)\n",
        "    data[\"PRI_jet_leading_pt\"] = data[\"PRI_jet_leading_pt\"].round(decimals=DECIMALS)\n",
        "    data[\"PRI_jet_leading_eta\"] = data[\"PRI_jet_leading_eta\"].round(decimals=DECIMALS)\n",
        "    data[\"PRI_jet_leading_phi\"] = data[\"PRI_jet_leading_phi\"].round(decimals=DECIMALS)\n",
        "    data[\"PRI_jet_subleading_pt\"] = data[\"PRI_jet_subleading_pt\"].round(decimals=DECIMALS)\n",
        "    data[\"PRI_jet_subleading_eta\"] = data[\"PRI_jet_subleading_eta\"].round(decimals=DECIMALS)\n",
        "    data[\"PRI_jet_subleading_phi\"] = data[\"PRI_jet_subleading_phi\"].round(decimals=DECIMALS)\n",
        "    data[\"PRI_jet_all_pt\"] = data[\"PRI_jet_all_pt\"].round(decimals=DECIMALS)\n",
        "    \n",
        "\n",
        "\n",
        "# ==================================================================================\n",
        "#  MAIN : here is defined the behaviour of this module as a main script\n",
        "# ==================================================================================\n",
        "\n",
        "\n",
        "\n",
        "for param in les_param:\n",
        "    \n",
        "  quiet = True # quiet flag\n",
        "  csv = False # csv flag\n",
        "  w_scale = param[0]  # W bkg Weight scaling factor\n",
        "  bkg_scale = param[1] # ALl bkg Weight scaling factor\n",
        "  tes = param[2] # Tau energy scale factor\n",
        "  jes = param[3] # ket energy scale factor\n",
        "  softMET = param[4] # soft Missing Energy Term\n",
        "  seed = 31415926 # random seed for soft met term\n",
        "  in_file = \"atlas-higgs-challenge-2014-v2-s0_e500000.csv.gz\" # input file\n",
        "  out_file = \"atlas-higgs-challenge-2014-v2-shifted-w_scale={}-bkg_scale={}-tes={}-jes={}-softMET={}-\".format(w_scale,bkg_scale,tes,jes,softMET) # output file\n",
        "  debug = False\n",
        "\n",
        "  columns = [ \"EventId\",\n",
        "              \"PRI_had_pt\",\n",
        "              \"PRI_had_eta\",\n",
        "              \"PRI_had_phi\",\n",
        "              \"PRI_lep_pt\",\n",
        "              \"PRI_lep_eta\",\n",
        "              \"PRI_lep_phi\",\n",
        "              \"PRI_met\",\n",
        "              \"PRI_met_phi\",\n",
        "              \"PRI_met_sumet\",\n",
        "              \"PRI_jet_num\",\n",
        "              \"PRI_jet_leading_pt\",\n",
        "              \"PRI_jet_leading_eta\",\n",
        "              \"PRI_jet_leading_phi\",\n",
        "              \"PRI_jet_subleading_pt\",\n",
        "              \"PRI_jet_subleading_eta\",\n",
        "              \"PRI_jet_subleading_phi\",\n",
        "              \"PRI_jet_all_pt\",\n",
        "              \"Weight\",\n",
        "              \"Label\",                \n",
        "              \"detailLabel\",\n",
        "              ] \n",
        "\n",
        "  if not quiet:\n",
        "      print(\"Loading the dataset\")\n",
        "\n",
        "  data = fulldata\n",
        "\n",
        "  \n",
        "  if w_scale is not None:\n",
        "      if not quiet:\n",
        "          print(\"W bkg weight rescaling :\", w_scale)\n",
        "      w_bkg_weight_norm(data, w_scale)\n",
        "\n",
        "  if bkg_scale is not None:\n",
        "      if not quiet:\n",
        "          print(\"All bkg weight rescaling :\", bkg_scale)\n",
        "      all_bkg_weight_norm(data, bkg_scale)\n",
        "\n",
        "  if tes is not None or jes is not None or softMET is not None:\n",
        "      if not quiet:\n",
        "          print(\"Tau energy rescaling :\", tes)\n",
        "          print(\"Jet energy rescaling :\", jes)\n",
        "          print(\"Soft MET addition :\", softMET)\n",
        "      mom4_manipulate(data, tes,jes,softMET)\n",
        "\n",
        "  compression = None if csv else \"gzip\"\n",
        "  _, ext = os.path.splitext(out_file)\n",
        "  if ext != \".csv\":\n",
        "      out_file += \".csv\"\n",
        "  if not csv and ext != \".gz\":\n",
        "      out_file += \".gz\"\n",
        "\n",
        "  if not quiet:\n",
        "      print(\"Writing results to :\", out_file)\n",
        "\n",
        "\n",
        "  if debug:\n",
        "      print (\"only take first few rows for debug\")\n",
        "      data=data.head(50)\n",
        "\n",
        "  data.to_csv(out_file, index=False, compression=compression, columns=columns)\n",
        "              \n",
        "  print(\"Done.\")\n",
        "\n"
      ],
      "execution_count": null,
      "outputs": [
        {
          "output_type": "stream",
          "text": [
            "Done.\n",
            "Done.\n",
            "Done.\n",
            "Done.\n",
            "Done.\n"
          ],
          "name": "stdout"
        }
      ]
    },
    {
      "cell_type": "markdown",
      "metadata": {
        "id": "KG8IBIPIAVvo"
      },
      "source": [
        "On regarde les classes labelisées"
      ]
    },
    {
      "cell_type": "code",
      "metadata": {
        "id": "lQsalTmorlHj",
        "colab": {
          "base_uri": "https://localhost:8080/"
        },
        "outputId": "21040e73-ab0a-4a15-cfda-b578e412d571"
      },
      "source": [
        "print (\"Normalization is already correct for the full 2012 LHC running. Background and signal.\")\n",
        "# in principle should multiply all the scaleFactor (then weights will vary event by event)\n",
        "class_weights = (fulldata.query(\"Label==0\").Weight.sum(), fulldata.query(\"Label==1\").Weight.sum()) \n",
        "print(\"total class weights\",class_weights)\n",
        "\n",
        "class_nevents = (len(fulldata.query(\"Label==0\")), len(fulldata.query(\"Label==1\")))\n",
        "print (\"total class number of events\",class_nevents)\n",
        "\n"
      ],
      "execution_count": null,
      "outputs": [
        {
          "output_type": "stream",
          "text": [
            "Normalization is already correct for the full 2012 LHC running. Background and signal.\n",
            "total class weights (616944.6202092533, 693.2443108784654)\n",
            "total class number of events (329105, 170895)\n"
          ],
          "name": "stdout"
        }
      ]
    },
    {
      "cell_type": "markdown",
      "metadata": {
        "id": "rtI5u5GErlHq"
      },
      "source": [
        "## Event selection"
      ]
    },
    {
      "cell_type": "code",
      "metadata": {
        "id": "kaO2JM1hrlHr",
        "colab": {
          "base_uri": "https://localhost:8080/"
        },
        "outputId": "72f27c8d-405e-4c1e-f062-29214f58f35d"
      },
      "source": [
        "fulldata=fulldata.query(\"PRI_had_pt>22\") # needed for technical reason\n",
        "print (fulldata.shape)"
      ],
      "execution_count": null,
      "outputs": [
        {
          "output_type": "stream",
          "text": [
            "(457451, 21)\n"
          ],
          "name": "stdout"
        }
      ]
    },
    {
      "cell_type": "code",
      "metadata": {
        "id": "C5tCZ6cTrlHw",
        "colab": {
          "base_uri": "https://localhost:8080/"
        },
        "outputId": "0ca78940-1e81-4ddd-9a88-88a02ce76847"
      },
      "source": [
        "#DR replace dummy -999 by -7, for nicer plots\n",
        "fulldata.replace(-999,-7,inplace=True)\n",
        "fulldata.head()"
      ],
      "execution_count": null,
      "outputs": [
        {
          "output_type": "stream",
          "text": [
            "/usr/local/lib/python3.7/dist-packages/pandas/core/frame.py:4389: SettingWithCopyWarning: \n",
            "A value is trying to be set on a copy of a slice from a DataFrame\n",
            "\n",
            "See the caveats in the documentation: https://pandas.pydata.org/pandas-docs/stable/user_guide/indexing.html#returning-a-view-versus-a-copy\n",
            "  method=method,\n"
          ],
          "name": "stderr"
        },
        {
          "output_type": "execute_result",
          "data": {
            "text/html": [
              "<div>\n",
              "<style scoped>\n",
              "    .dataframe tbody tr th:only-of-type {\n",
              "        vertical-align: middle;\n",
              "    }\n",
              "\n",
              "    .dataframe tbody tr th {\n",
              "        vertical-align: top;\n",
              "    }\n",
              "\n",
              "    .dataframe thead th {\n",
              "        text-align: right;\n",
              "    }\n",
              "</style>\n",
              "<table border=\"1\" class=\"dataframe\">\n",
              "  <thead>\n",
              "    <tr style=\"text-align: right;\">\n",
              "      <th></th>\n",
              "      <th>EventId</th>\n",
              "      <th>PRI_had_pt</th>\n",
              "      <th>PRI_had_eta</th>\n",
              "      <th>PRI_had_phi</th>\n",
              "      <th>PRI_lep_pt</th>\n",
              "      <th>PRI_lep_eta</th>\n",
              "      <th>PRI_lep_phi</th>\n",
              "      <th>PRI_met</th>\n",
              "      <th>PRI_met_phi</th>\n",
              "      <th>PRI_met_sumet</th>\n",
              "      <th>PRI_jet_num</th>\n",
              "      <th>PRI_jet_leading_pt</th>\n",
              "      <th>PRI_jet_leading_eta</th>\n",
              "      <th>PRI_jet_leading_phi</th>\n",
              "      <th>PRI_jet_subleading_pt</th>\n",
              "      <th>PRI_jet_subleading_eta</th>\n",
              "      <th>PRI_jet_subleading_phi</th>\n",
              "      <th>PRI_jet_all_pt</th>\n",
              "      <th>Weight</th>\n",
              "      <th>Label</th>\n",
              "      <th>detailLabel</th>\n",
              "    </tr>\n",
              "  </thead>\n",
              "  <tbody>\n",
              "    <tr>\n",
              "      <th>0</th>\n",
              "      <td>100000</td>\n",
              "      <td>33.617</td>\n",
              "      <td>1.017</td>\n",
              "      <td>0.381</td>\n",
              "      <td>51.626</td>\n",
              "      <td>2.273</td>\n",
              "      <td>-2.414</td>\n",
              "      <td>22.545</td>\n",
              "      <td>-0.529</td>\n",
              "      <td>263.117</td>\n",
              "      <td>2</td>\n",
              "      <td>69.458</td>\n",
              "      <td>2.150</td>\n",
              "      <td>0.444</td>\n",
              "      <td>47.444</td>\n",
              "      <td>1.24</td>\n",
              "      <td>-2.475</td>\n",
              "      <td>116.902</td>\n",
              "      <td>0.001333</td>\n",
              "      <td>1.0</td>\n",
              "      <td>2</td>\n",
              "    </tr>\n",
              "    <tr>\n",
              "      <th>1</th>\n",
              "      <td>100001</td>\n",
              "      <td>43.274</td>\n",
              "      <td>2.039</td>\n",
              "      <td>-3.011</td>\n",
              "      <td>36.918</td>\n",
              "      <td>0.501</td>\n",
              "      <td>0.103</td>\n",
              "      <td>45.473</td>\n",
              "      <td>-1.943</td>\n",
              "      <td>167.193</td>\n",
              "      <td>1</td>\n",
              "      <td>47.613</td>\n",
              "      <td>0.725</td>\n",
              "      <td>1.158</td>\n",
              "      <td>-7.000</td>\n",
              "      <td>-7.00</td>\n",
              "      <td>-7.000</td>\n",
              "      <td>47.613</td>\n",
              "      <td>1.671763</td>\n",
              "      <td>0.0</td>\n",
              "      <td>400</td>\n",
              "    </tr>\n",
              "    <tr>\n",
              "      <th>2</th>\n",
              "      <td>100002</td>\n",
              "      <td>33.119</td>\n",
              "      <td>-0.705</td>\n",
              "      <td>-2.093</td>\n",
              "      <td>121.409</td>\n",
              "      <td>-0.953</td>\n",
              "      <td>1.052</td>\n",
              "      <td>51.817</td>\n",
              "      <td>-2.203</td>\n",
              "      <td>262.707</td>\n",
              "      <td>1</td>\n",
              "      <td>45.579</td>\n",
              "      <td>2.053</td>\n",
              "      <td>-2.028</td>\n",
              "      <td>-7.000</td>\n",
              "      <td>-7.00</td>\n",
              "      <td>-7.000</td>\n",
              "      <td>45.579</td>\n",
              "      <td>1.756942</td>\n",
              "      <td>0.0</td>\n",
              "      <td>400</td>\n",
              "    </tr>\n",
              "    <tr>\n",
              "      <th>3</th>\n",
              "      <td>100003</td>\n",
              "      <td>23.326</td>\n",
              "      <td>-1.655</td>\n",
              "      <td>0.010</td>\n",
              "      <td>53.321</td>\n",
              "      <td>-0.522</td>\n",
              "      <td>-3.100</td>\n",
              "      <td>28.116</td>\n",
              "      <td>0.100</td>\n",
              "      <td>86.741</td>\n",
              "      <td>0</td>\n",
              "      <td>-7.000</td>\n",
              "      <td>-7.000</td>\n",
              "      <td>-7.000</td>\n",
              "      <td>-7.000</td>\n",
              "      <td>-7.00</td>\n",
              "      <td>-7.000</td>\n",
              "      <td>-0.000</td>\n",
              "      <td>4.076431</td>\n",
              "      <td>0.0</td>\n",
              "      <td>400</td>\n",
              "    </tr>\n",
              "    <tr>\n",
              "      <th>4</th>\n",
              "      <td>100004</td>\n",
              "      <td>29.055</td>\n",
              "      <td>-2.197</td>\n",
              "      <td>-2.231</td>\n",
              "      <td>29.774</td>\n",
              "      <td>0.798</td>\n",
              "      <td>1.569</td>\n",
              "      <td>2.214</td>\n",
              "      <td>-0.387</td>\n",
              "      <td>53.977</td>\n",
              "      <td>0</td>\n",
              "      <td>-7.000</td>\n",
              "      <td>-7.000</td>\n",
              "      <td>-7.000</td>\n",
              "      <td>-7.000</td>\n",
              "      <td>-7.00</td>\n",
              "      <td>-7.000</td>\n",
              "      <td>0.000</td>\n",
              "      <td>4.674422</td>\n",
              "      <td>0.0</td>\n",
              "      <td>400</td>\n",
              "    </tr>\n",
              "  </tbody>\n",
              "</table>\n",
              "</div>"
            ],
            "text/plain": [
              "   EventId  PRI_had_pt  PRI_had_eta  ...    Weight  Label  detailLabel\n",
              "0   100000      33.617        1.017  ...  0.001333    1.0            2\n",
              "1   100001      43.274        2.039  ...  1.671763    0.0          400\n",
              "2   100002      33.119       -0.705  ...  1.756942    0.0          400\n",
              "3   100003      23.326       -1.655  ...  4.076431    0.0          400\n",
              "4   100004      29.055       -2.197  ...  4.674422    0.0          400\n",
              "\n",
              "[5 rows x 21 columns]"
            ]
          },
          "metadata": {
            "tags": []
          },
          "execution_count": 8
        }
      ]
    },
    {
      "cell_type": "code",
      "metadata": {
        "id": "iMQpKhDKrlH0"
      },
      "source": [
        "#WARNING : there should be no selection nor shuffling later on !\n",
        "\n",
        "#hide label in separate vector\n",
        "target = fulldata[\"Label\"]\n",
        "del fulldata[\"Label\"]\n",
        "\n",
        "#hide weight in separate vector\n",
        "weights = fulldata[\"Weight\"]\n",
        "del fulldata[\"Weight\"]\n",
        "\n",
        "#remove unnecessary variable (save in separate DF just in case)\n",
        "eventid = fulldata[\"EventId\"]\n",
        "del fulldata[\"EventId\"]\n",
        "\n",
        "detaillabel = fulldata[\"detailLabel\"]\n",
        "del fulldata[\"detailLabel\"]\n"
      ],
      "execution_count": null,
      "outputs": []
    },
    {
      "cell_type": "markdown",
      "metadata": {
        "id": "ChVhglDKDRIX"
      },
      "source": [
        "# On repart avec un nouveau DataSet fixé"
      ]
    },
    {
      "cell_type": "code",
      "metadata": {
        "scrolled": true,
        "colab": {
          "base_uri": "https://localhost:8080/"
        },
        "id": "JZ_sDLIEDRIY",
        "outputId": "b3551305-a21f-484d-b6b4-c2b204602896"
      },
      "source": [
        "#keep everything\n",
        "data=fulldata.copy()\n",
        "print (data.shape)\n",
        "data.head()"
      ],
      "execution_count": null,
      "outputs": [
        {
          "output_type": "stream",
          "text": [
            "(457451, 17)\n"
          ],
          "name": "stdout"
        },
        {
          "output_type": "execute_result",
          "data": {
            "text/html": [
              "<div>\n",
              "<style scoped>\n",
              "    .dataframe tbody tr th:only-of-type {\n",
              "        vertical-align: middle;\n",
              "    }\n",
              "\n",
              "    .dataframe tbody tr th {\n",
              "        vertical-align: top;\n",
              "    }\n",
              "\n",
              "    .dataframe thead th {\n",
              "        text-align: right;\n",
              "    }\n",
              "</style>\n",
              "<table border=\"1\" class=\"dataframe\">\n",
              "  <thead>\n",
              "    <tr style=\"text-align: right;\">\n",
              "      <th></th>\n",
              "      <th>PRI_had_pt</th>\n",
              "      <th>PRI_had_eta</th>\n",
              "      <th>PRI_had_phi</th>\n",
              "      <th>PRI_lep_pt</th>\n",
              "      <th>PRI_lep_eta</th>\n",
              "      <th>PRI_lep_phi</th>\n",
              "      <th>PRI_met</th>\n",
              "      <th>PRI_met_phi</th>\n",
              "      <th>PRI_met_sumet</th>\n",
              "      <th>PRI_jet_num</th>\n",
              "      <th>PRI_jet_leading_pt</th>\n",
              "      <th>PRI_jet_leading_eta</th>\n",
              "      <th>PRI_jet_leading_phi</th>\n",
              "      <th>PRI_jet_subleading_pt</th>\n",
              "      <th>PRI_jet_subleading_eta</th>\n",
              "      <th>PRI_jet_subleading_phi</th>\n",
              "      <th>PRI_jet_all_pt</th>\n",
              "    </tr>\n",
              "  </thead>\n",
              "  <tbody>\n",
              "    <tr>\n",
              "      <th>0</th>\n",
              "      <td>33.617</td>\n",
              "      <td>1.017</td>\n",
              "      <td>0.381</td>\n",
              "      <td>51.626</td>\n",
              "      <td>2.273</td>\n",
              "      <td>-2.414</td>\n",
              "      <td>22.545</td>\n",
              "      <td>-0.529</td>\n",
              "      <td>263.117</td>\n",
              "      <td>2</td>\n",
              "      <td>69.458</td>\n",
              "      <td>2.150</td>\n",
              "      <td>0.444</td>\n",
              "      <td>47.444</td>\n",
              "      <td>1.24</td>\n",
              "      <td>-2.475</td>\n",
              "      <td>116.902</td>\n",
              "    </tr>\n",
              "    <tr>\n",
              "      <th>1</th>\n",
              "      <td>43.274</td>\n",
              "      <td>2.039</td>\n",
              "      <td>-3.011</td>\n",
              "      <td>36.918</td>\n",
              "      <td>0.501</td>\n",
              "      <td>0.103</td>\n",
              "      <td>45.473</td>\n",
              "      <td>-1.943</td>\n",
              "      <td>167.193</td>\n",
              "      <td>1</td>\n",
              "      <td>47.613</td>\n",
              "      <td>0.725</td>\n",
              "      <td>1.158</td>\n",
              "      <td>-7.000</td>\n",
              "      <td>-7.00</td>\n",
              "      <td>-7.000</td>\n",
              "      <td>47.613</td>\n",
              "    </tr>\n",
              "    <tr>\n",
              "      <th>2</th>\n",
              "      <td>33.119</td>\n",
              "      <td>-0.705</td>\n",
              "      <td>-2.093</td>\n",
              "      <td>121.409</td>\n",
              "      <td>-0.953</td>\n",
              "      <td>1.052</td>\n",
              "      <td>51.817</td>\n",
              "      <td>-2.203</td>\n",
              "      <td>262.707</td>\n",
              "      <td>1</td>\n",
              "      <td>45.579</td>\n",
              "      <td>2.053</td>\n",
              "      <td>-2.028</td>\n",
              "      <td>-7.000</td>\n",
              "      <td>-7.00</td>\n",
              "      <td>-7.000</td>\n",
              "      <td>45.579</td>\n",
              "    </tr>\n",
              "    <tr>\n",
              "      <th>3</th>\n",
              "      <td>23.326</td>\n",
              "      <td>-1.655</td>\n",
              "      <td>0.010</td>\n",
              "      <td>53.321</td>\n",
              "      <td>-0.522</td>\n",
              "      <td>-3.100</td>\n",
              "      <td>28.116</td>\n",
              "      <td>0.100</td>\n",
              "      <td>86.741</td>\n",
              "      <td>0</td>\n",
              "      <td>-7.000</td>\n",
              "      <td>-7.000</td>\n",
              "      <td>-7.000</td>\n",
              "      <td>-7.000</td>\n",
              "      <td>-7.00</td>\n",
              "      <td>-7.000</td>\n",
              "      <td>-0.000</td>\n",
              "    </tr>\n",
              "    <tr>\n",
              "      <th>4</th>\n",
              "      <td>29.055</td>\n",
              "      <td>-2.197</td>\n",
              "      <td>-2.231</td>\n",
              "      <td>29.774</td>\n",
              "      <td>0.798</td>\n",
              "      <td>1.569</td>\n",
              "      <td>2.214</td>\n",
              "      <td>-0.387</td>\n",
              "      <td>53.977</td>\n",
              "      <td>0</td>\n",
              "      <td>-7.000</td>\n",
              "      <td>-7.000</td>\n",
              "      <td>-7.000</td>\n",
              "      <td>-7.000</td>\n",
              "      <td>-7.00</td>\n",
              "      <td>-7.000</td>\n",
              "      <td>0.000</td>\n",
              "    </tr>\n",
              "  </tbody>\n",
              "</table>\n",
              "</div>"
            ],
            "text/plain": [
              "   PRI_had_pt  PRI_had_eta  ...  PRI_jet_subleading_phi  PRI_jet_all_pt\n",
              "0      33.617        1.017  ...                  -2.475         116.902\n",
              "1      43.274        2.039  ...                  -7.000          47.613\n",
              "2      33.119       -0.705  ...                  -7.000          45.579\n",
              "3      23.326       -1.655  ...                  -7.000          -0.000\n",
              "4      29.055       -2.197  ...                  -7.000           0.000\n",
              "\n",
              "[5 rows x 17 columns]"
            ]
          },
          "metadata": {
            "tags": []
          },
          "execution_count": 10
        }
      ]
    },
    {
      "cell_type": "markdown",
      "metadata": {
        "id": "qL6FAP9CAqXO"
      },
      "source": [
        "### Histogrammes de répartition des différents features"
      ]
    },
    {
      "cell_type": "code",
      "metadata": {
        "colab": {
          "base_uri": "https://localhost:8080/"
        },
        "id": "KrPcaYxKDRIY",
        "outputId": "9b67633c-ca24-4715-be39-938702779269"
      },
      "source": [
        "import matplotlib.pyplot as plt\n",
        "plt.figure()\n",
        "\n",
        "ax=data[target==0].hist(weights=weights[target==0],figsize=(15,12),color='b',alpha=0.5,density=True)\n",
        "\n",
        "ax=ax.flatten()[:data.shape[1]] # to avoid error if holes in the grid of plots (like if 7 or 8 features)\n",
        "data[target==1].hist(weights=weights[target==1],figsize=(15,12),color='r',alpha=0.5,density=True,ax=ax)\n",
        "plt.show()\n",
        "print (data.shape)\n",
        "\n"
      ],
      "execution_count": null,
      "outputs": [
        {
          "output_type": "display_data",
          "data": {
            "text/plain": [
              "<Figure size 432x288 with 0 Axes>"
            ]
          },
          "metadata": {
            "tags": []
          }
        },
        {
          "output_type": "display_data",
          "data": {
            "image/png": "[encoded data removed]",
            "text/plain": [
              "<Figure size 1080x864 with 20 Axes>"
            ]
          },
          "metadata": {
            "tags": [],
            "needs_background": "light"
          }
        },
        {
          "output_type": "stream",
          "text": [
            "(457451, 17)\n"
          ],
          "name": "stdout"
        }
      ]
    },
    {
      "cell_type": "markdown",
      "metadata": {
        "id": "e__5rEruo1lw"
      },
      "source": [
        "#**Feature engineering**\n"
      ]
    },
    {
      "cell_type": "markdown",
      "metadata": {
        "id": "c__VYjd3iARQ"
      },
      "source": [
        "Turn the variable \"corrected\" to True to work on the dataset provided by the systematic errors group. Don't forget to reexecute the code from 2 cells above when you want to come back to the original dataset."
      ]
    },
    {
      "cell_type": "code",
      "metadata": {
        "id": "Pox_s4CUhRCm",
        "colab": {
          "base_uri": "https://localhost:8080/"
        },
        "outputId": "24906eea-405c-4870-8ba1-ef2b102ff7a3"
      },
      "source": [
        "download = drive.CreateFile({'id': '1P_IEO3wxj8tSlURMDpNOZX3L65r9Gtgi'})\n",
        "download.GetContentFile(\"atlas-higgs-challenge-2014-v2-s0_e500000.csv.gz\")\n",
        "\n",
        "\n",
        "  \n",
        "fulldata2 = pd.read_csv(\"atlas-higgs-challenge-2014-v2-s0_e500000.csv.gz\")\n",
        "\n",
        "print (fulldata2.shape)\n",
        "fulldata2=fulldata2.query(\"PRI_had_pt>22\") # needed for technical reason\n",
        "print (fulldata2.shape)\n",
        "\n",
        "display(fulldata2.head())"
      ],
      "execution_count": null,
      "outputs": [
        {
          "output_type": "stream",
          "text": [
            "(500000, 21)\n",
            "(439494, 21)\n"
          ],
          "name": "stdout"
        },
        {
          "output_type": "display_data",
          "data": {
            "text/html": [
              "<div>\n",
              "<style scoped>\n",
              "    .dataframe tbody tr th:only-of-type {\n",
              "        vertical-align: middle;\n",
              "    }\n",
              "\n",
              "    .dataframe tbody tr th {\n",
              "        vertical-align: top;\n",
              "    }\n",
              "\n",
              "    .dataframe thead th {\n",
              "        text-align: right;\n",
              "    }\n",
              "</style>\n",
              "<table border=\"1\" class=\"dataframe\">\n",
              "  <thead>\n",
              "    <tr style=\"text-align: right;\">\n",
              "      <th></th>\n",
              "      <th>EventId</th>\n",
              "      <th>PRI_had_pt</th>\n",
              "      <th>PRI_had_eta</th>\n",
              "      <th>PRI_had_phi</th>\n",
              "      <th>PRI_lep_pt</th>\n",
              "      <th>PRI_lep_eta</th>\n",
              "      <th>PRI_lep_phi</th>\n",
              "      <th>PRI_met</th>\n",
              "      <th>PRI_met_phi</th>\n",
              "      <th>PRI_met_sumet</th>\n",
              "      <th>PRI_jet_num</th>\n",
              "      <th>PRI_jet_leading_pt</th>\n",
              "      <th>PRI_jet_leading_eta</th>\n",
              "      <th>PRI_jet_leading_phi</th>\n",
              "      <th>PRI_jet_subleading_pt</th>\n",
              "      <th>PRI_jet_subleading_eta</th>\n",
              "      <th>PRI_jet_subleading_phi</th>\n",
              "      <th>PRI_jet_all_pt</th>\n",
              "      <th>Weight</th>\n",
              "      <th>Label</th>\n",
              "      <th>detailLabel</th>\n",
              "    </tr>\n",
              "  </thead>\n",
              "  <tbody>\n",
              "    <tr>\n",
              "      <th>0</th>\n",
              "      <td>100000</td>\n",
              "      <td>32.638</td>\n",
              "      <td>1.017</td>\n",
              "      <td>0.381</td>\n",
              "      <td>51.626</td>\n",
              "      <td>2.273</td>\n",
              "      <td>-2.414</td>\n",
              "      <td>16.824</td>\n",
              "      <td>-0.277</td>\n",
              "      <td>258.733</td>\n",
              "      <td>2</td>\n",
              "      <td>67.435</td>\n",
              "      <td>2.150</td>\n",
              "      <td>0.444</td>\n",
              "      <td>46.062</td>\n",
              "      <td>1.24</td>\n",
              "      <td>-2.475</td>\n",
              "      <td>113.497</td>\n",
              "      <td>0.001333</td>\n",
              "      <td>1.0</td>\n",
              "      <td>2</td>\n",
              "    </tr>\n",
              "    <tr>\n",
              "      <th>1</th>\n",
              "      <td>100001</td>\n",
              "      <td>42.014</td>\n",
              "      <td>2.039</td>\n",
              "      <td>-3.011</td>\n",
              "      <td>36.918</td>\n",
              "      <td>0.501</td>\n",
              "      <td>0.103</td>\n",
              "      <td>44.704</td>\n",
              "      <td>-1.916</td>\n",
              "      <td>164.546</td>\n",
              "      <td>1</td>\n",
              "      <td>46.226</td>\n",
              "      <td>0.725</td>\n",
              "      <td>1.158</td>\n",
              "      <td>-999.000</td>\n",
              "      <td>-999.00</td>\n",
              "      <td>-999.000</td>\n",
              "      <td>46.226</td>\n",
              "      <td>1.114509</td>\n",
              "      <td>0.0</td>\n",
              "      <td>400</td>\n",
              "    </tr>\n",
              "    <tr>\n",
              "      <th>2</th>\n",
              "      <td>100002</td>\n",
              "      <td>32.154</td>\n",
              "      <td>-0.705</td>\n",
              "      <td>-2.093</td>\n",
              "      <td>121.409</td>\n",
              "      <td>-0.953</td>\n",
              "      <td>1.052</td>\n",
              "      <td>54.283</td>\n",
              "      <td>-2.186</td>\n",
              "      <td>260.414</td>\n",
              "      <td>1</td>\n",
              "      <td>44.251</td>\n",
              "      <td>2.053</td>\n",
              "      <td>-2.028</td>\n",
              "      <td>-999.000</td>\n",
              "      <td>-999.00</td>\n",
              "      <td>-999.000</td>\n",
              "      <td>44.251</td>\n",
              "      <td>1.171295</td>\n",
              "      <td>0.0</td>\n",
              "      <td>400</td>\n",
              "    </tr>\n",
              "    <tr>\n",
              "      <th>3</th>\n",
              "      <td>100003</td>\n",
              "      <td>22.647</td>\n",
              "      <td>-1.655</td>\n",
              "      <td>0.010</td>\n",
              "      <td>53.321</td>\n",
              "      <td>-0.522</td>\n",
              "      <td>-3.100</td>\n",
              "      <td>31.082</td>\n",
              "      <td>0.060</td>\n",
              "      <td>86.062</td>\n",
              "      <td>0</td>\n",
              "      <td>-999.000</td>\n",
              "      <td>-999.000</td>\n",
              "      <td>-999.000</td>\n",
              "      <td>-999.000</td>\n",
              "      <td>-999.00</td>\n",
              "      <td>-999.000</td>\n",
              "      <td>-0.000</td>\n",
              "      <td>2.717621</td>\n",
              "      <td>0.0</td>\n",
              "      <td>400</td>\n",
              "    </tr>\n",
              "    <tr>\n",
              "      <th>4</th>\n",
              "      <td>100004</td>\n",
              "      <td>28.209</td>\n",
              "      <td>-2.197</td>\n",
              "      <td>-2.231</td>\n",
              "      <td>29.774</td>\n",
              "      <td>0.798</td>\n",
              "      <td>1.569</td>\n",
              "      <td>2.723</td>\n",
              "      <td>-0.871</td>\n",
              "      <td>53.131</td>\n",
              "      <td>0</td>\n",
              "      <td>-999.000</td>\n",
              "      <td>-999.000</td>\n",
              "      <td>-999.000</td>\n",
              "      <td>-999.000</td>\n",
              "      <td>-999.00</td>\n",
              "      <td>-999.000</td>\n",
              "      <td>0.000</td>\n",
              "      <td>3.116281</td>\n",
              "      <td>0.0</td>\n",
              "      <td>400</td>\n",
              "    </tr>\n",
              "  </tbody>\n",
              "</table>\n",
              "</div>"
            ],
            "text/plain": [
              "   EventId  PRI_had_pt  PRI_had_eta  ...    Weight  Label  detailLabel\n",
              "0   100000      32.638        1.017  ...  0.001333    1.0            2\n",
              "1   100001      42.014        2.039  ...  1.114509    0.0          400\n",
              "2   100002      32.154       -0.705  ...  1.171295    0.0          400\n",
              "3   100003      22.647       -1.655  ...  2.717621    0.0          400\n",
              "4   100004      28.209       -2.197  ...  3.116281    0.0          400\n",
              "\n",
              "[5 rows x 21 columns]"
            ]
          },
          "metadata": {
            "tags": []
          }
        }
      ]
    },
    {
      "cell_type": "code",
      "metadata": {
        "id": "iho93xnNi5Ml",
        "colab": {
          "base_uri": "https://localhost:8080/"
        },
        "outputId": "8860cb30-9fed-497b-c9ff-3b8f95ba577f"
      },
      "source": [
        "#remove unnecessary variable (save in separate DF just in case)\n",
        "eventid = fulldata2[\"EventId\"]\n",
        "del fulldata2[\"EventId\"]\n",
        "\n",
        "display(fulldata2.head())"
      ],
      "execution_count": null,
      "outputs": [
        {
          "output_type": "display_data",
          "data": {
            "text/html": [
              "<div>\n",
              "<style scoped>\n",
              "    .dataframe tbody tr th:only-of-type {\n",
              "        vertical-align: middle;\n",
              "    }\n",
              "\n",
              "    .dataframe tbody tr th {\n",
              "        vertical-align: top;\n",
              "    }\n",
              "\n",
              "    .dataframe thead th {\n",
              "        text-align: right;\n",
              "    }\n",
              "</style>\n",
              "<table border=\"1\" class=\"dataframe\">\n",
              "  <thead>\n",
              "    <tr style=\"text-align: right;\">\n",
              "      <th></th>\n",
              "      <th>PRI_had_pt</th>\n",
              "      <th>PRI_had_eta</th>\n",
              "      <th>PRI_had_phi</th>\n",
              "      <th>PRI_lep_pt</th>\n",
              "      <th>PRI_lep_eta</th>\n",
              "      <th>PRI_lep_phi</th>\n",
              "      <th>PRI_met</th>\n",
              "      <th>PRI_met_phi</th>\n",
              "      <th>PRI_met_sumet</th>\n",
              "      <th>PRI_jet_num</th>\n",
              "      <th>PRI_jet_leading_pt</th>\n",
              "      <th>PRI_jet_leading_eta</th>\n",
              "      <th>PRI_jet_leading_phi</th>\n",
              "      <th>PRI_jet_subleading_pt</th>\n",
              "      <th>PRI_jet_subleading_eta</th>\n",
              "      <th>PRI_jet_subleading_phi</th>\n",
              "      <th>PRI_jet_all_pt</th>\n",
              "      <th>Weight</th>\n",
              "      <th>Label</th>\n",
              "      <th>detailLabel</th>\n",
              "    </tr>\n",
              "  </thead>\n",
              "  <tbody>\n",
              "    <tr>\n",
              "      <th>0</th>\n",
              "      <td>32.638</td>\n",
              "      <td>1.017</td>\n",
              "      <td>0.381</td>\n",
              "      <td>51.626</td>\n",
              "      <td>2.273</td>\n",
              "      <td>-2.414</td>\n",
              "      <td>16.824</td>\n",
              "      <td>-0.277</td>\n",
              "      <td>258.733</td>\n",
              "      <td>2</td>\n",
              "      <td>67.435</td>\n",
              "      <td>2.150</td>\n",
              "      <td>0.444</td>\n",
              "      <td>46.062</td>\n",
              "      <td>1.24</td>\n",
              "      <td>-2.475</td>\n",
              "      <td>113.497</td>\n",
              "      <td>0.001333</td>\n",
              "      <td>1.0</td>\n",
              "      <td>2</td>\n",
              "    </tr>\n",
              "    <tr>\n",
              "      <th>1</th>\n",
              "      <td>42.014</td>\n",
              "      <td>2.039</td>\n",
              "      <td>-3.011</td>\n",
              "      <td>36.918</td>\n",
              "      <td>0.501</td>\n",
              "      <td>0.103</td>\n",
              "      <td>44.704</td>\n",
              "      <td>-1.916</td>\n",
              "      <td>164.546</td>\n",
              "      <td>1</td>\n",
              "      <td>46.226</td>\n",
              "      <td>0.725</td>\n",
              "      <td>1.158</td>\n",
              "      <td>-999.000</td>\n",
              "      <td>-999.00</td>\n",
              "      <td>-999.000</td>\n",
              "      <td>46.226</td>\n",
              "      <td>1.114509</td>\n",
              "      <td>0.0</td>\n",
              "      <td>400</td>\n",
              "    </tr>\n",
              "    <tr>\n",
              "      <th>2</th>\n",
              "      <td>32.154</td>\n",
              "      <td>-0.705</td>\n",
              "      <td>-2.093</td>\n",
              "      <td>121.409</td>\n",
              "      <td>-0.953</td>\n",
              "      <td>1.052</td>\n",
              "      <td>54.283</td>\n",
              "      <td>-2.186</td>\n",
              "      <td>260.414</td>\n",
              "      <td>1</td>\n",
              "      <td>44.251</td>\n",
              "      <td>2.053</td>\n",
              "      <td>-2.028</td>\n",
              "      <td>-999.000</td>\n",
              "      <td>-999.00</td>\n",
              "      <td>-999.000</td>\n",
              "      <td>44.251</td>\n",
              "      <td>1.171295</td>\n",
              "      <td>0.0</td>\n",
              "      <td>400</td>\n",
              "    </tr>\n",
              "    <tr>\n",
              "      <th>3</th>\n",
              "      <td>22.647</td>\n",
              "      <td>-1.655</td>\n",
              "      <td>0.010</td>\n",
              "      <td>53.321</td>\n",
              "      <td>-0.522</td>\n",
              "      <td>-3.100</td>\n",
              "      <td>31.082</td>\n",
              "      <td>0.060</td>\n",
              "      <td>86.062</td>\n",
              "      <td>0</td>\n",
              "      <td>-999.000</td>\n",
              "      <td>-999.000</td>\n",
              "      <td>-999.000</td>\n",
              "      <td>-999.000</td>\n",
              "      <td>-999.00</td>\n",
              "      <td>-999.000</td>\n",
              "      <td>-0.000</td>\n",
              "      <td>2.717621</td>\n",
              "      <td>0.0</td>\n",
              "      <td>400</td>\n",
              "    </tr>\n",
              "    <tr>\n",
              "      <th>4</th>\n",
              "      <td>28.209</td>\n",
              "      <td>-2.197</td>\n",
              "      <td>-2.231</td>\n",
              "      <td>29.774</td>\n",
              "      <td>0.798</td>\n",
              "      <td>1.569</td>\n",
              "      <td>2.723</td>\n",
              "      <td>-0.871</td>\n",
              "      <td>53.131</td>\n",
              "      <td>0</td>\n",
              "      <td>-999.000</td>\n",
              "      <td>-999.000</td>\n",
              "      <td>-999.000</td>\n",
              "      <td>-999.000</td>\n",
              "      <td>-999.00</td>\n",
              "      <td>-999.000</td>\n",
              "      <td>0.000</td>\n",
              "      <td>3.116281</td>\n",
              "      <td>0.0</td>\n",
              "      <td>400</td>\n",
              "    </tr>\n",
              "  </tbody>\n",
              "</table>\n",
              "</div>"
            ],
            "text/plain": [
              "   PRI_had_pt  PRI_had_eta  PRI_had_phi  ...    Weight  Label  detailLabel\n",
              "0      32.638        1.017        0.381  ...  0.001333    1.0            2\n",
              "1      42.014        2.039       -3.011  ...  1.114509    0.0          400\n",
              "2      32.154       -0.705       -2.093  ...  1.171295    0.0          400\n",
              "3      22.647       -1.655        0.010  ...  2.717621    0.0          400\n",
              "4      28.209       -2.197       -2.231  ...  3.116281    0.0          400\n",
              "\n",
              "[5 rows x 20 columns]"
            ]
          },
          "metadata": {
            "tags": []
          }
        }
      ]
    },
    {
      "cell_type": "code",
      "metadata": {
        "id": "ggHAhm5-jt2c"
      },
      "source": [
        "data = fulldata2.copy()"
      ],
      "execution_count": null,
      "outputs": []
    },
    {
      "cell_type": "code",
      "metadata": {
        "id": "O5KkS3-5zRu_"
      },
      "source": [
        "PRI_tau_pt = data[\"PRI_had_pt\"]\n",
        "\n",
        "PRI_tau_eta = data[\"PRI_had_eta\"]\n",
        "\n",
        "PRI_tau_phi = data[\"PRI_had_phi\"]\n",
        "\n",
        "PRI_lep_pt = data[\"PRI_lep_pt\"]\n",
        "\n",
        "PRI_lep_eta = data[\"PRI_lep_eta\"]\n",
        "\n",
        "PRI_lep_phi = data[\"PRI_lep_phi\"]\n",
        "\n",
        "PRI_met = data[\"PRI_met\"]\n",
        "\n",
        "PRI_met_phi = data[\"PRI_met_phi\"]\n",
        "\n",
        "PRI_met_sumet = data[\"PRI_met_sumet\"]\n",
        "\n",
        "PRI_jet_num = data[\"PRI_jet_num\"]\n",
        "\n",
        "PRI_jet_leading_pt = data[\"PRI_jet_leading_pt\"]\n",
        "\n",
        "PRI_jet_leading_eta = data[\"PRI_jet_leading_eta\"]\n",
        "\n",
        "PRI_jet_leading_phi = data[\"PRI_jet_leading_phi\"]\n",
        "\n",
        "PRI_jet_subleading_pt = data[\"PRI_jet_subleading_pt\"]\n",
        "\n",
        "PRI_jet_subleading_eta = data[\"PRI_jet_subleading_eta\"]\n",
        "\n",
        "PRI_jet_subleading_phi = data[\"PRI_jet_subleading_phi\"]\n",
        "\n",
        "PRI_jet_all_pt = data[\"PRI_jet_all_pt\"]"
      ],
      "execution_count": null,
      "outputs": []
    },
    {
      "cell_type": "markdown",
      "metadata": {
        "id": "svk6gdTttsrK"
      },
      "source": [
        "We define a few functions that will help us calculate the DERived features."
      ]
    },
    {
      "cell_type": "code",
      "metadata": {
        "id": "jL9SVzhoKKgy"
      },
      "source": [
        "def cartesian_conversion(pT, phi, eta):\n",
        "  return pT*np.cos(phi), pT*np.sin(phi), pT*np.sinh(eta)\n",
        "  \n",
        "def modulus(pT, nu):\n",
        "  return pT * np.cosh(nu)\n",
        "\n",
        "def inv_mass(a, b):\n",
        "  # a and b are vectors or arrays of vectors in cartesian coordinates\n",
        "  return np.sqrt(((np.sqrt(a[0] ** 2 + a[1] ** 2 + a[2] ** 2) + np.sqrt(b[0] ** 2 + b[1] ** 2 + b[2] ** 2)) ** 2) - (a[0] + b[0]) ** 2 - (a[1] + b[1]) ** 2 - (a[2] + b[2]) ** 2)\n",
        "\n",
        "def tr_mass(a, b):\n",
        "  # a and b are vectors in cartesian coordinates\n",
        "  squared_tr_mass = (np.sqrt(a[0] **2 + a[1] ** 2) + np.sqrt(b[0] **2 + b[1] **2)) ** 2 - (a[0] + b[0]) ** 2 - (a[1] + b[1]) ** 2\n",
        "  if squared_tr_mass < 0:\n",
        "    return 0\n",
        "  return np.sqrt(squared_tr_mass)\n",
        "\n",
        "\n",
        "def pseudorap_sep(nu_a, nu_b):\n",
        "  return np.abs(nu_a - nu_b)\n",
        "\n",
        "\n",
        "def R_sep(nu_a, nu_b, phi_a, phi_b):\n",
        "  phi = phi_a - phi_b\n",
        "  phi = np.abs(np.mod(phi+3*np.pi,2*np.pi)-np.pi) - np.pi # Now phi_a - phi_b is in [-pi, pi[\n",
        "  return np.sqrt((nu_a - nu_b) ** 2 + phi **2)"
      ],
      "execution_count": null,
      "outputs": []
    },
    {
      "cell_type": "markdown",
      "metadata": {
        "id": "PIcUdsGcvxGf"
      },
      "source": [
        "Calculation of DER_mass_transverse_met_lep\n"
      ]
    },
    {
      "cell_type": "code",
      "metadata": {
        "id": "BCUdRhDMv4tS"
      },
      "source": [
        "x_E = PRI_met*np.cos(PRI_met_phi) \n",
        "y_E = PRI_met*np.sin(PRI_met_phi)\n",
        "x_lep = PRI_lep_pt*np.cos(PRI_lep_phi) \n",
        "y_lep = PRI_lep_pt*np.sin(PRI_lep_phi)\n",
        "\n",
        "Emiss = []\n",
        "lepton = []\n",
        "\n",
        "\n",
        "for i in range(data.index[-1] + 1):\n",
        "  if i in x_E.index:\n",
        "    Emiss.append([x_E[i], y_E[i]])\n",
        "    lepton.append([x_lep[i], y_lep[i]])\n",
        "\n",
        "DER_mass_transverse_met_lep = []\n",
        "\n",
        "for i in range(len(Emiss)):\n",
        "  DER_mass_transverse_met_lep.append(tr_mass(np.array(Emiss[i]),np.array(lepton[i])))\n",
        "\n",
        "DER_mass_transverse_met_lep = np.array(DER_mass_transverse_met_lep)"
      ],
      "execution_count": null,
      "outputs": []
    },
    {
      "cell_type": "markdown",
      "metadata": {
        "id": "7mx5at5h6drf"
      },
      "source": [
        "Calculation of DER_mass_vis"
      ]
    },
    {
      "cell_type": "code",
      "metadata": {
        "id": "WEqr2ZNa6aa_"
      },
      "source": [
        "p_tau = cartesian_conversion(PRI_tau_pt, PRI_tau_eta, PRI_tau_phi)\n",
        "p_lep = cartesian_conversion(PRI_lep_pt, PRI_lep_eta, PRI_lep_phi)\n",
        "  \n",
        "DER_mass_vis = inv_mass(p_tau, p_lep)"
      ],
      "execution_count": null,
      "outputs": []
    },
    {
      "cell_type": "markdown",
      "metadata": {
        "id": "iH2ML_eb12Ix"
      },
      "source": [
        "Calculation of DER_deltaeta_jet_jet"
      ]
    },
    {
      "cell_type": "code",
      "metadata": {
        "id": "WzMFtUla15H0"
      },
      "source": [
        "DER_deltaeta_jet_jet = pseudorap_sep(PRI_jet_leading_eta, PRI_jet_subleading_eta)\n",
        "DER_deltaeta_jet_jet[PRI_jet_num <= 1] = -999"
      ],
      "execution_count": null,
      "outputs": []
    },
    {
      "cell_type": "markdown",
      "metadata": {
        "id": "mXAdGBAWHf1t"
      },
      "source": [
        "Calculation of DER_mass_jet_jet"
      ]
    },
    {
      "cell_type": "code",
      "metadata": {
        "id": "Gyzoe85l8dLv",
        "colab": {
          "base_uri": "https://localhost:8080/"
        },
        "outputId": "13fe145d-78be-4cdb-f970-7d6ce23ddaf2"
      },
      "source": [
        "lead_cart = cartesian_conversion(PRI_jet_leading_pt, PRI_jet_leading_phi, PRI_jet_leading_eta)\n",
        "sublead_cart = cartesian_conversion(PRI_jet_subleading_pt, PRI_jet_subleading_phi, PRI_jet_subleading_eta)\n",
        "\n",
        "DER_mass_jet_jet = inv_mass(lead_cart, sublead_cart)\n",
        "DER_mass_jet_jet[PRI_jet_num <= 1] = -999"
      ],
      "execution_count": null,
      "outputs": [
        {
          "output_type": "stream",
          "text": [
            "/usr/local/lib/python3.7/dist-packages/pandas/core/series.py:726: RuntimeWarning: overflow encountered in sinh\n",
            "  result = getattr(ufunc, method)(*inputs, **kwargs)\n"
          ],
          "name": "stderr"
        }
      ]
    },
    {
      "cell_type": "markdown",
      "metadata": {
        "id": "GR3iGmGu2Ky5"
      },
      "source": [
        "Calculation of DER_lep_eta_centrality"
      ]
    },
    {
      "cell_type": "code",
      "metadata": {
        "id": "NI6Ogl1E2JaP"
      },
      "source": [
        "DER_lep_eta_centrality = np.exp((-4/(PRI_jet_leading_eta-PRI_jet_subleading_eta)**2)*(PRI_lep_eta-(PRI_jet_leading_eta+PRI_jet_subleading_eta)/2)**2)\n",
        "DER_lep_eta_centrality[PRI_jet_num <= 1] = -999"
      ],
      "execution_count": null,
      "outputs": []
    },
    {
      "cell_type": "markdown",
      "metadata": {
        "id": "MCD16vUt6GcG"
      },
      "source": [
        "Calculation of DER_met_phi_centrality"
      ]
    },
    {
      "cell_type": "code",
      "metadata": {
        "id": "xCvnLdJ76ID2"
      },
      "source": [
        "A = np.sin(PRI_met_phi-PRI_lep_phi)*np.sign(np.sin(PRI_tau_phi-PRI_lep_phi))\n",
        "B = np.sin(PRI_tau_phi-PRI_met_phi)*np.sign(np.sin(PRI_tau_phi-PRI_lep_phi))\n",
        "DER_met_phi_centrality = (A+B)/np.sqrt((A**2)+(B**2))\n",
        "DER_met_phi_centrality[A == -B] = 0 # Due to a strange behaviour, it returns NaN when A = -B"
      ],
      "execution_count": null,
      "outputs": []
    },
    {
      "cell_type": "markdown",
      "metadata": {
        "id": "bMoCyTrx8EdD"
      },
      "source": [
        "Calculation of DER_prodeta_jet_jet"
      ]
    },
    {
      "cell_type": "code",
      "metadata": {
        "id": "sLqwtflL8Bll"
      },
      "source": [
        "DER_prodeta_jet_jet = PRI_jet_leading_eta*PRI_jet_subleading_eta\n",
        "DER_prodeta_jet_jet[PRI_jet_num <= 1] = -999"
      ],
      "execution_count": null,
      "outputs": []
    },
    {
      "cell_type": "markdown",
      "metadata": {
        "id": "TfAS-j8DzEZ8"
      },
      "source": [
        "Calculation of DER_deltar_tau_lep"
      ]
    },
    {
      "cell_type": "code",
      "metadata": {
        "id": "hLR4WWolzKhZ"
      },
      "source": [
        "DER_deltar_tau_lep = R_sep(PRI_tau_eta,PRI_lep_eta,PRI_tau_phi,PRI_lep_phi)"
      ],
      "execution_count": null,
      "outputs": []
    },
    {
      "cell_type": "markdown",
      "metadata": {
        "id": "BO1ttG-lkPJE"
      },
      "source": [
        "Calculation of DER_sum_pt"
      ]
    },
    {
      "cell_type": "code",
      "metadata": {
        "id": "gvhZ0hjBkQPk"
      },
      "source": [
        "DER_sum_pt = PRI_tau_pt+PRI_lep_pt\n",
        "\n",
        "DER_sum_pt[PRI_jet_num == 1] += PRI_jet_leading_pt\n",
        "\n",
        "DER_sum_pt[PRI_jet_num == 2] += PRI_jet_leading_pt+PRI_jet_subleading_pt\n",
        "\n",
        "DER_sum_pt[PRI_jet_num == 3] += PRI_jet_all_pt\n"
      ],
      "execution_count": null,
      "outputs": []
    },
    {
      "cell_type": "markdown",
      "metadata": {
        "id": "VTfeTMZF82sE"
      },
      "source": [
        "Calculation of DER_pt_ratio_lep_tau"
      ]
    },
    {
      "cell_type": "code",
      "metadata": {
        "id": "GaUUf3jt9B-K"
      },
      "source": [
        "DER_pt_ratio_lep_tau = PRI_lep_pt/PRI_tau_pt"
      ],
      "execution_count": null,
      "outputs": []
    },
    {
      "cell_type": "markdown",
      "metadata": {
        "id": "fIU6TxO1xq6Y"
      },
      "source": [
        "Calculation of DER_pt_h and DER_pt_tot"
      ]
    },
    {
      "cell_type": "code",
      "metadata": {
        "id": "_-Jd6NvexvBS",
        "colab": {
          "base_uri": "https://localhost:8080/"
        },
        "outputId": "e9e7eb7a-2a11-4dec-d7bb-a1c63930656d"
      },
      "source": [
        "tau_cart = np.array(cartesian_conversion(PRI_tau_pt, PRI_tau_phi, PRI_tau_eta))\n",
        "lep_cart = np.array(cartesian_conversion(PRI_lep_pt, PRI_lep_phi, PRI_lep_eta))\n",
        "met_cart = np.array(cartesian_conversion(PRI_met, PRI_met_phi, 0)) # Only the two first terms are useful\n",
        "lead_cart = cartesian_conversion(PRI_jet_leading_pt, PRI_jet_leading_phi, PRI_jet_leading_eta)\n",
        "sublead_cart = cartesian_conversion(PRI_jet_subleading_pt, PRI_jet_subleading_phi, PRI_jet_subleading_eta)\n",
        "\n",
        "sum_vector = np.transpose(tau_cart + lep_cart + met_cart)\n",
        "\n",
        "DER_pt_h = np.sqrt(sum_vector[:, 0] ** 2 + sum_vector[:, 1] ** 2)\n",
        "\n",
        "\n",
        "# Now we add the two jets\n",
        "lead_cart = np.transpose(np.array(lead_cart))\n",
        "sublead_cart = np.transpose(np.array(sublead_cart))\n",
        "tests = np.array(PRI_jet_num)\n",
        "\n",
        "for i in range(data.shape[0]):\n",
        "  if tests[i] >= 1:\n",
        "    sum_vector[i] += lead_cart[i]\n",
        "  if tests[i] >= 2:\n",
        "    sum_vector[i] += sublead_cart[i]\n",
        "\n",
        "\n",
        "DER_pt_tot = np.sqrt(sum_vector[:, 0] ** 2 + sum_vector[:, 1] ** 2)"
      ],
      "execution_count": null,
      "outputs": [
        {
          "output_type": "stream",
          "text": [
            "/usr/local/lib/python3.7/dist-packages/pandas/core/series.py:726: RuntimeWarning: overflow encountered in sinh\n",
            "  result = getattr(ufunc, method)(*inputs, **kwargs)\n"
          ],
          "name": "stderr"
        }
      ]
    },
    {
      "cell_type": "markdown",
      "metadata": {
        "id": "yeQMqF2Jzaly"
      },
      "source": [
        "We now add the DERived features to our data tables"
      ]
    },
    {
      "cell_type": "code",
      "metadata": {
        "id": "7nDka-jtzfbL",
        "colab": {
          "base_uri": "https://localhost:8080/"
        },
        "outputId": "a68b562e-e298-45ba-fc1d-5ba2ab73c7ba"
      },
      "source": [
        "data = data.assign(DER_mass_transverse_met_lep = DER_mass_transverse_met_lep)\n",
        "data = data.assign(DER_mass_vis = DER_mass_vis)\n",
        "data = data.assign(DER_pt_h = DER_pt_h)\n",
        "data = data.assign(DER_deltaeta_jet_jet = DER_deltaeta_jet_jet)\n",
        "data = data.assign(DER_mass_jet_jet = DER_mass_jet_jet)\n",
        "data = data.assign(DER_prodeta_jet_jet = DER_prodeta_jet_jet)\n",
        "data = data.assign(DER_deltar_tau_lep = DER_deltar_tau_lep)\n",
        "data = data.assign(DER_pt_tot = DER_pt_tot)\n",
        "data = data.assign(DER_sum_pt = DER_sum_pt)\n",
        "data = data.assign(DER_pt_ratio_lep_tau = DER_pt_ratio_lep_tau)\n",
        "data = data.assign(DER_met_phi_centrality = DER_met_phi_centrality)\n",
        "data = data.assign(DER_lep_eta_centrality = DER_lep_eta_centrality)\n",
        "\n",
        "print(data.shape)\n",
        "data.replace(-7,-999,inplace=True)\n",
        "\n",
        "data.head()\n"
      ],
      "execution_count": null,
      "outputs": [
        {
          "output_type": "stream",
          "text": [
            "(439494, 32)\n"
          ],
          "name": "stdout"
        },
        {
          "output_type": "execute_result",
          "data": {
            "text/html": [
              "<div>\n",
              "<style scoped>\n",
              "    .dataframe tbody tr th:only-of-type {\n",
              "        vertical-align: middle;\n",
              "    }\n",
              "\n",
              "    .dataframe tbody tr th {\n",
              "        vertical-align: top;\n",
              "    }\n",
              "\n",
              "    .dataframe thead th {\n",
              "        text-align: right;\n",
              "    }\n",
              "</style>\n",
              "<table border=\"1\" class=\"dataframe\">\n",
              "  <thead>\n",
              "    <tr style=\"text-align: right;\">\n",
              "      <th></th>\n",
              "      <th>PRI_had_pt</th>\n",
              "      <th>PRI_had_eta</th>\n",
              "      <th>PRI_had_phi</th>\n",
              "      <th>PRI_lep_pt</th>\n",
              "      <th>PRI_lep_eta</th>\n",
              "      <th>PRI_lep_phi</th>\n",
              "      <th>PRI_met</th>\n",
              "      <th>PRI_met_phi</th>\n",
              "      <th>PRI_met_sumet</th>\n",
              "      <th>PRI_jet_num</th>\n",
              "      <th>PRI_jet_leading_pt</th>\n",
              "      <th>PRI_jet_leading_eta</th>\n",
              "      <th>PRI_jet_leading_phi</th>\n",
              "      <th>PRI_jet_subleading_pt</th>\n",
              "      <th>PRI_jet_subleading_eta</th>\n",
              "      <th>PRI_jet_subleading_phi</th>\n",
              "      <th>PRI_jet_all_pt</th>\n",
              "      <th>Weight</th>\n",
              "      <th>Label</th>\n",
              "      <th>detailLabel</th>\n",
              "      <th>DER_mass_transverse_met_lep</th>\n",
              "      <th>DER_mass_vis</th>\n",
              "      <th>DER_pt_h</th>\n",
              "      <th>DER_deltaeta_jet_jet</th>\n",
              "      <th>DER_mass_jet_jet</th>\n",
              "      <th>DER_prodeta_jet_jet</th>\n",
              "      <th>DER_deltar_tau_lep</th>\n",
              "      <th>DER_pt_tot</th>\n",
              "      <th>DER_sum_pt</th>\n",
              "      <th>DER_pt_ratio_lep_tau</th>\n",
              "      <th>DER_met_phi_centrality</th>\n",
              "      <th>DER_lep_eta_centrality</th>\n",
              "    </tr>\n",
              "  </thead>\n",
              "  <tbody>\n",
              "    <tr>\n",
              "      <th>0</th>\n",
              "      <td>32.638</td>\n",
              "      <td>1.017</td>\n",
              "      <td>0.381</td>\n",
              "      <td>51.626</td>\n",
              "      <td>2.273</td>\n",
              "      <td>-2.414</td>\n",
              "      <td>16.824</td>\n",
              "      <td>-0.277</td>\n",
              "      <td>258.733</td>\n",
              "      <td>2</td>\n",
              "      <td>67.435</td>\n",
              "      <td>2.150</td>\n",
              "      <td>0.444</td>\n",
              "      <td>46.062</td>\n",
              "      <td>1.24</td>\n",
              "      <td>-2.475</td>\n",
              "      <td>113.497</td>\n",
              "      <td>0.001333</td>\n",
              "      <td>1.0</td>\n",
              "      <td>2</td>\n",
              "      <td>51.661920</td>\n",
              "      <td>163.187301</td>\n",
              "      <td>27.947400</td>\n",
              "      <td>0.91</td>\n",
              "      <td>122.581441</td>\n",
              "      <td>2.666</td>\n",
              "      <td>1.302944</td>\n",
              "      <td>41.911618</td>\n",
              "      <td>197.761</td>\n",
              "      <td>1.581776</td>\n",
              "      <td>1.396522</td>\n",
              "      <td>0.199142</td>\n",
              "    </tr>\n",
              "    <tr>\n",
              "      <th>1</th>\n",
              "      <td>42.014</td>\n",
              "      <td>2.039</td>\n",
              "      <td>-3.011</td>\n",
              "      <td>36.918</td>\n",
              "      <td>0.501</td>\n",
              "      <td>0.103</td>\n",
              "      <td>44.704</td>\n",
              "      <td>-1.916</td>\n",
              "      <td>164.546</td>\n",
              "      <td>1</td>\n",
              "      <td>46.226</td>\n",
              "      <td>0.725</td>\n",
              "      <td>1.158</td>\n",
              "      <td>-999.000</td>\n",
              "      <td>-999.00</td>\n",
              "      <td>-999.000</td>\n",
              "      <td>46.226</td>\n",
              "      <td>1.114509</td>\n",
              "      <td>0.0</td>\n",
              "      <td>400</td>\n",
              "      <td>68.783298</td>\n",
              "      <td>186.770557</td>\n",
              "      <td>48.122970</td>\n",
              "      <td>-999.00</td>\n",
              "      <td>-999.000000</td>\n",
              "      <td>-999.000</td>\n",
              "      <td>1.538247</td>\n",
              "      <td>2.063284</td>\n",
              "      <td>125.158</td>\n",
              "      <td>0.878707</td>\n",
              "      <td>1.414180</td>\n",
              "      <td>-999.000000</td>\n",
              "    </tr>\n",
              "    <tr>\n",
              "      <th>2</th>\n",
              "      <td>32.154</td>\n",
              "      <td>-0.705</td>\n",
              "      <td>-2.093</td>\n",
              "      <td>121.409</td>\n",
              "      <td>-0.953</td>\n",
              "      <td>1.052</td>\n",
              "      <td>54.283</td>\n",
              "      <td>-2.186</td>\n",
              "      <td>260.414</td>\n",
              "      <td>1</td>\n",
              "      <td>44.251</td>\n",
              "      <td>2.053</td>\n",
              "      <td>-2.028</td>\n",
              "      <td>-999.000</td>\n",
              "      <td>-999.00</td>\n",
              "      <td>-999.000</td>\n",
              "      <td>44.251</td>\n",
              "      <td>1.171295</td>\n",
              "      <td>0.0</td>\n",
              "      <td>400</td>\n",
              "      <td>162.174512</td>\n",
              "      <td>288.520441</td>\n",
              "      <td>35.625939</td>\n",
              "      <td>-999.00</td>\n",
              "      <td>-999.000000</td>\n",
              "      <td>-999.000</td>\n",
              "      <td>0.248023</td>\n",
              "      <td>9.316181</td>\n",
              "      <td>197.814</td>\n",
              "      <td>3.775860</td>\n",
              "      <td>1.413986</td>\n",
              "      <td>-999.000000</td>\n",
              "    </tr>\n",
              "    <tr>\n",
              "      <th>3</th>\n",
              "      <td>22.647</td>\n",
              "      <td>-1.655</td>\n",
              "      <td>0.010</td>\n",
              "      <td>53.321</td>\n",
              "      <td>-0.522</td>\n",
              "      <td>-3.100</td>\n",
              "      <td>31.082</td>\n",
              "      <td>0.060</td>\n",
              "      <td>86.062</td>\n",
              "      <td>0</td>\n",
              "      <td>-999.000</td>\n",
              "      <td>-999.000</td>\n",
              "      <td>-999.000</td>\n",
              "      <td>-999.000</td>\n",
              "      <td>-999.00</td>\n",
              "      <td>-999.000</td>\n",
              "      <td>-0.000</td>\n",
              "      <td>2.717621</td>\n",
              "      <td>0.0</td>\n",
              "      <td>400</td>\n",
              "      <td>81.417024</td>\n",
              "      <td>161.569652</td>\n",
              "      <td>0.416824</td>\n",
              "      <td>-999.00</td>\n",
              "      <td>-999.000000</td>\n",
              "      <td>-999.000</td>\n",
              "      <td>1.133440</td>\n",
              "      <td>0.416824</td>\n",
              "      <td>75.968</td>\n",
              "      <td>2.354440</td>\n",
              "      <td>-1.283975</td>\n",
              "      <td>-999.000000</td>\n",
              "    </tr>\n",
              "    <tr>\n",
              "      <th>4</th>\n",
              "      <td>28.209</td>\n",
              "      <td>-2.197</td>\n",
              "      <td>-2.231</td>\n",
              "      <td>29.774</td>\n",
              "      <td>0.798</td>\n",
              "      <td>1.569</td>\n",
              "      <td>2.723</td>\n",
              "      <td>-0.871</td>\n",
              "      <td>53.131</td>\n",
              "      <td>0</td>\n",
              "      <td>-999.000</td>\n",
              "      <td>-999.000</td>\n",
              "      <td>-999.000</td>\n",
              "      <td>-999.000</td>\n",
              "      <td>-999.00</td>\n",
              "      <td>-999.000</td>\n",
              "      <td>0.000</td>\n",
              "      <td>3.116281</td>\n",
              "      <td>0.0</td>\n",
              "      <td>400</td>\n",
              "      <td>16.911571</td>\n",
              "      <td>198.052652</td>\n",
              "      <td>16.409958</td>\n",
              "      <td>-999.00</td>\n",
              "      <td>-999.000000</td>\n",
              "      <td>-999.000</td>\n",
              "      <td>3.066517</td>\n",
              "      <td>16.409958</td>\n",
              "      <td>57.983</td>\n",
              "      <td>1.055479</td>\n",
              "      <td>-1.385461</td>\n",
              "      <td>-999.000000</td>\n",
              "    </tr>\n",
              "  </tbody>\n",
              "</table>\n",
              "</div>"
            ],
            "text/plain": [
              "   PRI_had_pt  PRI_had_eta  ...  DER_met_phi_centrality  DER_lep_eta_centrality\n",
              "0      32.638        1.017  ...                1.396522                0.199142\n",
              "1      42.014        2.039  ...                1.414180             -999.000000\n",
              "2      32.154       -0.705  ...                1.413986             -999.000000\n",
              "3      22.647       -1.655  ...               -1.283975             -999.000000\n",
              "4      28.209       -2.197  ...               -1.385461             -999.000000\n",
              "\n",
              "[5 rows x 32 columns]"
            ]
          },
          "metadata": {
            "tags": []
          },
          "execution_count": 28
        }
      ]
    },
    {
      "cell_type": "markdown",
      "metadata": {
        "id": "Ithc8Mdb1Iga"
      },
      "source": [
        "Now we extract the dataset into a csv file if turned to True"
      ]
    },
    {
      "cell_type": "code",
      "metadata": {
        "id": "c1DDwmxi1kC-"
      },
      "source": [
        "if False:\n",
        "  data.to_csv(\"./data_derived_variables_corrected.csv\")"
      ],
      "execution_count": null,
      "outputs": []
    },
    {
      "cell_type": "markdown",
      "metadata": {
        "id": "0ONqwNz49qvl"
      },
      "source": [
        "Here we plot histograms for the derived variables showing what PDFs look like for both signal and background. It could give clues to what derived feature will be important to train the AI"
      ]
    },
    {
      "cell_type": "code",
      "metadata": {
        "id": "4kZ0dKnk9yUa",
        "colab": {
          "base_uri": "https://localhost:8080/"
        },
        "outputId": "692f98b0-a2f6-4ba3-866d-12a3f2b9d0d1"
      },
      "source": [
        "frame = {'DER_mass_transverse_met_lep': DER_mass_transverse_met_lep, \n",
        "        'DER_mass_vis' : DER_mass_vis,\n",
        "        'DER_pt_h' : DER_pt_h,\n",
        "        'DER_deltaeta_jet_jet' : DER_deltaeta_jet_jet,\n",
        "        'DER_mass_jet_jet' : DER_mass_jet_jet,\n",
        "        'DER_prodeta_jet_jet' : DER_prodeta_jet_jet,\n",
        "        'DER_deltar_tau_lep' : DER_deltar_tau_lep,\n",
        "        'DER_pt_tot' : DER_pt_tot,\n",
        "        'DER_sum_pt' : DER_sum_pt,\n",
        "        'DER_pt_ratio_lep_tau' : DER_pt_ratio_lep_tau,\n",
        "        'DER_met_phi_centrality' : DER_met_phi_centrality,\n",
        "        'DER_lep_eta_centrality' : DER_lep_eta_centrality}\n",
        "\n",
        "data_to_plot = pd.DataFrame(frame).reset_index() # Because there is an event selection, indexes are not full, leading to strange behaviour\n",
        "\n",
        "del data_to_plot[\"index\"] # reset_index() adds an unwanted column 'index'\n",
        "\n",
        "target = data[\"Label\"]\n",
        "weights = data[\"Weight\"]\n",
        "\n",
        "target = target.reset_index()[\"Label\"]\n",
        "weights = weights.reset_index()[\"Weight\"]\n",
        "\n",
        "# We separate the dataset so that the histograms only show defined values\n",
        "to_plot_all = data_to_plot[['DER_mass_transverse_met_lep', 'DER_mass_vis', 'DER_pt_h', 'DER_deltar_tau_lep', 'DER_pt_tot', 'DER_sum_pt', 'DER_pt_ratio_lep_tau', 'DER_met_phi_centrality']]\n",
        "to_plot_jet = data_to_plot[['DER_deltaeta_jet_jet', 'DER_mass_jet_jet', 'DER_prodeta_jet_jet', 'DER_lep_eta_centrality']][data_to_plot['DER_deltaeta_jet_jet'] != -999]\n",
        "\n",
        "plt.figure()\n",
        "\n",
        "ax=to_plot_all[target==0].hist(weights=weights[target==0],figsize=(25,20),color='b',alpha=0.5,density=True, bins = 200)\n",
        "\n",
        "ax=ax.flatten()[:to_plot_all.shape[1]] # to avoid error if holes in the grid of plots (like if 7 or 8 features)\n",
        "to_plot_all[target==1].hist(weights=weights[target==1],figsize=(25,20),color='r',alpha=0.5,density=True,ax=ax, bins = 200)\n",
        "\n",
        "plt.show()\n",
        "\n",
        "target = target[data_to_plot['DER_deltaeta_jet_jet'] != -999]\n",
        "weights = weights[data_to_plot['DER_deltaeta_jet_jet'] != -999]\n",
        "\n",
        "plt.figure()\n",
        "\n",
        "ax=to_plot_jet[target==0].hist(weights=weights[target==0],figsize=(15,12),color='b',alpha=0.5,density=True, bins = 200)\n",
        "\n",
        "ax=ax.flatten()[:to_plot_jet.shape[1]] # to avoid error if holes in the grid of plots (like if 7 or 8 features)\n",
        "to_plot_jet[target==1].hist(weights=weights[target==1],figsize=(15,12),color='r',alpha=0.5,density=True,ax=ax, bins = 200)\n",
        "\n",
        "plt.show()\n",
        "\n",
        "# Now we calculate the proportion of values that are defined for all the variables\n",
        "\n",
        "all_values = to_plot_all.shape[0]\n",
        "defined_values = to_plot_jet.shape[0]\n",
        "\n",
        "print(\"Number of values in the whole dataset :\", all_values)\n",
        "print(\"Number of values defined for all the variables :\", defined_values)\n",
        "print(\"Ratio :\", defined_values/all_values)"
      ],
      "execution_count": null,
      "outputs": [
        {
          "output_type": "display_data",
          "data": {
            "text/plain": [
              "<Figure size 432x288 with 0 Axes>"
            ]
          },
          "metadata": {
            "tags": []
          }
        },
        {
          "output_type": "display_data",
          "data": {
            "image/png": "[encoded data removed]",
            "text/plain": [
              "<Figure size 1800x1440 with 9 Axes>"
            ]
          },
          "metadata": {
            "tags": [],
            "needs_background": "light"
          }
        },
        {
          "output_type": "display_data",
          "data": {
            "text/plain": [
              "<Figure size 432x288 with 0 Axes>"
            ]
          },
          "metadata": {
            "tags": []
          }
        },
        {
          "output_type": "display_data",
          "data": {
            "image/png": "[encoded data removed]",
            "text/plain": [
              "<Figure size 1080x864 with 4 Axes>"
            ]
          },
          "metadata": {
            "tags": [],
            "needs_background": "light"
          }
        },
        {
          "output_type": "stream",
          "text": [
            "Number of values in the whole dataset : 439494\n",
            "Number of values defined for all the variables : 132218\n",
            "Ratio : 0.30084142218096266\n"
          ],
          "name": "stdout"
        }
      ]
    },
    {
      "cell_type": "markdown",
      "metadata": {
        "id": "kPdknk8DIcr4"
      },
      "source": [
        "## Boost Decision Tree"
      ]
    },
    {
      "cell_type": "markdown",
      "metadata": {
        "id": "VHxzCYA9D-JG"
      },
      "source": [
        "### *Récupération du modèle entraîné de BDT*\n",
        "\n",
        "\n"
      ]
    },
    {
      "cell_type": "code",
      "metadata": {
        "colab": {
          "base_uri": "https://localhost:8080/"
        },
        "id": "3FDRMP4aE5rH",
        "outputId": "618285a3-e596-46e4-f643-bfdd26794bd5"
      },
      "source": [
        "\n",
        "!pip install xgboost --upgrade \n",
        "pass\n",
        "\n",
        "import xgboost\n",
        "print(xgboost.__version__)\n"
      ],
      "execution_count": null,
      "outputs": [
        {
          "output_type": "stream",
          "text": [
            "Collecting xgboost\n",
            "\u001b[?25l  Downloading https://files.pythonhosted.org/packages/bb/35/169eec194bf1f9ef52ed670f5032ef2abaf6ed285cfadcb4b6026b800fc9/xgboost-1.4.2-py3-none-manylinux2010_x86_64.whl (166.7MB)\n",
            "\u001b[K     |████████████████████████████████| 166.7MB 52kB/s \n",
            "\u001b[?25hRequirement already satisfied, skipping upgrade: scipy in /usr/local/lib/python3.7/dist-packages (from xgboost) (1.4.1)\n",
            "Requirement already satisfied, skipping upgrade: numpy in /usr/local/lib/python3.7/dist-packages (from xgboost) (1.19.5)\n",
            "Installing collected packages: xgboost\n",
            "  Found existing installation: xgboost 0.90\n",
            "    Uninstalling xgboost-0.90:\n",
            "      Successfully uninstalled xgboost-0.90\n",
            "Successfully installed xgboost-1.4.2\n",
            "1.4.2\n"
          ],
          "name": "stdout"
        }
      ]
    },
    {
      "cell_type": "markdown",
      "metadata": {
        "id": "T4VBLqEtKQET"
      },
      "source": [
        "Import du dataset"
      ]
    },
    {
      "cell_type": "code",
      "metadata": {
        "id": "Ij8rml_7D-JT",
        "colab": {
          "base_uri": "https://localhost:8080/"
        },
        "outputId": "3dea32bc-0b25-40b1-fc84-d7d09281a8e6"
      },
      "source": [
        "link = 'https://drive.google.com/file/d/179JAvqA15laThDLo6o23PK5XyuMUr0ld/view?usp=sharing'\n",
        "import pandas as pd\n",
        "  \n",
        "# to get the id part of the file\n",
        "id = \"1rh0b9VNOlSpM223XxW-CBJwrGHYikkTE\"\n",
        "  \n",
        "downloaded = drive.CreateFile({'id':id}) \n",
        "downloaded.GetContentFile('data.csv',)  \n",
        "  \n",
        "fulldata = pd.read_csv('data.csv')\n",
        "del fulldata[\"Unnamed: 0\"]\n",
        "fulldata.dropna(inplace=True)\n",
        "fulldata.describe()"
      ],
      "execution_count": null,
      "outputs": [
        {
          "output_type": "execute_result",
          "data": {
            "text/html": [
              "<div>\n",
              "<style scoped>\n",
              "    .dataframe tbody tr th:only-of-type {\n",
              "        vertical-align: middle;\n",
              "    }\n",
              "\n",
              "    .dataframe tbody tr th {\n",
              "        vertical-align: top;\n",
              "    }\n",
              "\n",
              "    .dataframe thead th {\n",
              "        text-align: right;\n",
              "    }\n",
              "</style>\n",
              "<table border=\"1\" class=\"dataframe\">\n",
              "  <thead>\n",
              "    <tr style=\"text-align: right;\">\n",
              "      <th></th>\n",
              "      <th>EventId</th>\n",
              "      <th>PRI_had_pt</th>\n",
              "      <th>PRI_had_eta</th>\n",
              "      <th>PRI_had_phi</th>\n",
              "      <th>PRI_lep_pt</th>\n",
              "      <th>PRI_lep_eta</th>\n",
              "      <th>PRI_lep_phi</th>\n",
              "      <th>PRI_met</th>\n",
              "      <th>PRI_met_phi</th>\n",
              "      <th>PRI_met_sumet</th>\n",
              "      <th>PRI_jet_num</th>\n",
              "      <th>PRI_jet_leading_pt</th>\n",
              "      <th>PRI_jet_leading_eta</th>\n",
              "      <th>PRI_jet_leading_phi</th>\n",
              "      <th>PRI_jet_subleading_pt</th>\n",
              "      <th>PRI_jet_subleading_eta</th>\n",
              "      <th>PRI_jet_subleading_phi</th>\n",
              "      <th>PRI_jet_all_pt</th>\n",
              "      <th>Weight</th>\n",
              "      <th>Label</th>\n",
              "      <th>detailLabel</th>\n",
              "      <th>DER_mass_transverse_met_lep</th>\n",
              "      <th>DER_mass_vis</th>\n",
              "      <th>DER_pt_h</th>\n",
              "      <th>DER_deltaeta_jet_jet</th>\n",
              "      <th>DER_mass_jet_jet</th>\n",
              "      <th>DER_prodeta_jet_jet</th>\n",
              "      <th>DER_deltar_tau_lep</th>\n",
              "      <th>DER_pt_tot</th>\n",
              "      <th>DER_sum_pt</th>\n",
              "      <th>DER_pt_ratio_lep_tau</th>\n",
              "      <th>DER_met_phi_centrality</th>\n",
              "      <th>DER_lep_eta_centrality</th>\n",
              "    </tr>\n",
              "  </thead>\n",
              "  <tbody>\n",
              "    <tr>\n",
              "      <th>count</th>\n",
              "      <td>457377.000000</td>\n",
              "      <td>457377.000000</td>\n",
              "      <td>457377.000000</td>\n",
              "      <td>457377.000000</td>\n",
              "      <td>457377.000000</td>\n",
              "      <td>457377.000000</td>\n",
              "      <td>457377.000000</td>\n",
              "      <td>457377.000000</td>\n",
              "      <td>457377.000000</td>\n",
              "      <td>457377.00000</td>\n",
              "      <td>457377.000000</td>\n",
              "      <td>457377.000000</td>\n",
              "      <td>457377.000000</td>\n",
              "      <td>457377.000000</td>\n",
              "      <td>457377.000000</td>\n",
              "      <td>457377.000000</td>\n",
              "      <td>457377.000000</td>\n",
              "      <td>457377.000000</td>\n",
              "      <td>457377.000000</td>\n",
              "      <td>457377.000000</td>\n",
              "      <td>457377.000000</td>\n",
              "      <td>457377.000000</td>\n",
              "      <td>457377.000000</td>\n",
              "      <td>457377.000000</td>\n",
              "      <td>457377.000000</td>\n",
              "      <td>457377.000000</td>\n",
              "      <td>457377.000000</td>\n",
              "      <td>457377.000000</td>\n",
              "      <td>457377.000000</td>\n",
              "      <td>457377.000000</td>\n",
              "      <td>457377.000000</td>\n",
              "      <td>457377.000000</td>\n",
              "      <td>4.573770e+05</td>\n",
              "    </tr>\n",
              "    <tr>\n",
              "      <th>mean</th>\n",
              "      <td>349979.338989</td>\n",
              "      <td>41.603830</td>\n",
              "      <td>-0.013807</td>\n",
              "      <td>-0.013147</td>\n",
              "      <td>46.749935</td>\n",
              "      <td>-0.020504</td>\n",
              "      <td>0.047300</td>\n",
              "      <td>43.111114</td>\n",
              "      <td>-0.007869</td>\n",
              "      <td>217.14240</td>\n",
              "      <td>0.996854</td>\n",
              "      <td>-337.675093</td>\n",
              "      <td>-391.483797</td>\n",
              "      <td>-391.491496</td>\n",
              "      <td>-683.927646</td>\n",
              "      <td>-701.691551</td>\n",
              "      <td>-701.693265</td>\n",
              "      <td>77.310865</td>\n",
              "      <td>0.821019</td>\n",
              "      <td>0.360963</td>\n",
              "      <td>194.724757</td>\n",
              "      <td>47.952555</td>\n",
              "      <td>173.194696</td>\n",
              "      <td>61.306084</td>\n",
              "      <td>-700.969230</td>\n",
              "      <td>-586.875499</td>\n",
              "      <td>-701.946412</td>\n",
              "      <td>1.549001</td>\n",
              "      <td>20.073113</td>\n",
              "      <td>165.664630</td>\n",
              "      <td>1.325686</td>\n",
              "      <td>-0.087703</td>\n",
              "      <td>-7.015521e+02</td>\n",
              "    </tr>\n",
              "    <tr>\n",
              "      <th>std</th>\n",
              "      <td>144326.419486</td>\n",
              "      <td>23.430475</td>\n",
              "      <td>1.205169</td>\n",
              "      <td>1.816219</td>\n",
              "      <td>22.224089</td>\n",
              "      <td>1.257886</td>\n",
              "      <td>1.814577</td>\n",
              "      <td>34.402008</td>\n",
              "      <td>1.811273</td>\n",
              "      <td>131.09718</td>\n",
              "      <td>0.981240</td>\n",
              "      <td>533.170717</td>\n",
              "      <td>487.681450</td>\n",
              "      <td>487.675345</td>\n",
              "      <td>484.385836</td>\n",
              "      <td>456.747958</td>\n",
              "      <td>456.745048</td>\n",
              "      <td>102.643194</td>\n",
              "      <td>0.955725</td>\n",
              "      <td>0.480280</td>\n",
              "      <td>178.303077</td>\n",
              "      <td>35.496665</td>\n",
              "      <td>144.302956</td>\n",
              "      <td>66.259420</td>\n",
              "      <td>457.857279</td>\n",
              "      <td>672.081096</td>\n",
              "      <td>456.359277</td>\n",
              "      <td>0.884814</td>\n",
              "      <td>21.808589</td>\n",
              "      <td>120.765391</td>\n",
              "      <td>0.767922</td>\n",
              "      <td>1.198413</td>\n",
              "      <td>4.569608e+02</td>\n",
              "    </tr>\n",
              "    <tr>\n",
              "      <th>min</th>\n",
              "      <td>100000.000000</td>\n",
              "      <td>22.001000</td>\n",
              "      <td>-2.499000</td>\n",
              "      <td>-3.142000</td>\n",
              "      <td>26.000000</td>\n",
              "      <td>-2.508000</td>\n",
              "      <td>-3.142000</td>\n",
              "      <td>0.027000</td>\n",
              "      <td>-3.142000</td>\n",
              "      <td>14.75900</td>\n",
              "      <td>0.000000</td>\n",
              "      <td>-999.000000</td>\n",
              "      <td>-999.000000</td>\n",
              "      <td>-999.000000</td>\n",
              "      <td>-999.000000</td>\n",
              "      <td>-999.000000</td>\n",
              "      <td>-999.000000</td>\n",
              "      <td>0.000000</td>\n",
              "      <td>0.000754</td>\n",
              "      <td>0.000000</td>\n",
              "      <td>0.000000</td>\n",
              "      <td>0.000000</td>\n",
              "      <td>6.462390</td>\n",
              "      <td>0.012608</td>\n",
              "      <td>-999.000000</td>\n",
              "      <td>-999.000000</td>\n",
              "      <td>-999.000000</td>\n",
              "      <td>0.002557</td>\n",
              "      <td>0.012608</td>\n",
              "      <td>48.076000</td>\n",
              "      <td>0.046028</td>\n",
              "      <td>-1.414214</td>\n",
              "      <td>-9.990000e+02</td>\n",
              "    </tr>\n",
              "    <tr>\n",
              "      <th>25%</th>\n",
              "      <td>225033.000000</td>\n",
              "      <td>26.905000</td>\n",
              "      <td>-0.917000</td>\n",
              "      <td>-1.583000</td>\n",
              "      <td>32.342000</td>\n",
              "      <td>-1.003000</td>\n",
              "      <td>-1.515000</td>\n",
              "      <td>21.713000</td>\n",
              "      <td>-1.573000</td>\n",
              "      <td>127.36000</td>\n",
              "      <td>0.000000</td>\n",
              "      <td>-999.000000</td>\n",
              "      <td>-999.000000</td>\n",
              "      <td>-999.000000</td>\n",
              "      <td>-999.000000</td>\n",
              "      <td>-999.000000</td>\n",
              "      <td>-999.000000</td>\n",
              "      <td>0.000000</td>\n",
              "      <td>0.009362</td>\n",
              "      <td>0.000000</td>\n",
              "      <td>1.000000</td>\n",
              "      <td>18.086592</td>\n",
              "      <td>82.228127</td>\n",
              "      <td>15.475440</td>\n",
              "      <td>-999.000000</td>\n",
              "      <td>-999.000000</td>\n",
              "      <td>-999.000000</td>\n",
              "      <td>0.849758</td>\n",
              "      <td>4.880599</td>\n",
              "      <td>81.026000</td>\n",
              "      <td>0.824483</td>\n",
              "      <td>-1.371477</td>\n",
              "      <td>-9.990000e+02</td>\n",
              "    </tr>\n",
              "    <tr>\n",
              "      <th>50%</th>\n",
              "      <td>349963.000000</td>\n",
              "      <td>34.454000</td>\n",
              "      <td>-0.026000</td>\n",
              "      <td>-0.041000</td>\n",
              "      <td>40.528000</td>\n",
              "      <td>-0.045000</td>\n",
              "      <td>0.091000</td>\n",
              "      <td>35.538000</td>\n",
              "      <td>-0.018000</td>\n",
              "      <td>185.84400</td>\n",
              "      <td>1.000000</td>\n",
              "      <td>41.112000</td>\n",
              "      <td>-1.796000</td>\n",
              "      <td>-2.037000</td>\n",
              "      <td>-999.000000</td>\n",
              "      <td>-999.000000</td>\n",
              "      <td>-999.000000</td>\n",
              "      <td>43.077000</td>\n",
              "      <td>0.584746</td>\n",
              "      <td>0.000000</td>\n",
              "      <td>123.000000</td>\n",
              "      <td>44.049738</td>\n",
              "      <td>136.572850</td>\n",
              "      <td>40.562216</td>\n",
              "      <td>-999.000000</td>\n",
              "      <td>-999.000000</td>\n",
              "      <td>-999.000000</td>\n",
              "      <td>1.420747</td>\n",
              "      <td>13.319084</td>\n",
              "      <td>126.613000</td>\n",
              "      <td>1.179120</td>\n",
              "      <td>-0.195204</td>\n",
              "      <td>-9.990000e+02</td>\n",
              "    </tr>\n",
              "    <tr>\n",
              "      <th>75%</th>\n",
              "      <td>474940.000000</td>\n",
              "      <td>48.009000</td>\n",
              "      <td>0.887000</td>\n",
              "      <td>1.560000</td>\n",
              "      <td>53.548000</td>\n",
              "      <td>0.947000</td>\n",
              "      <td>1.616000</td>\n",
              "      <td>53.791000</td>\n",
              "      <td>1.558000</td>\n",
              "      <td>272.65500</td>\n",
              "      <td>2.000000</td>\n",
              "      <td>79.417000</td>\n",
              "      <td>0.458000</td>\n",
              "      <td>0.530000</td>\n",
              "      <td>35.475000</td>\n",
              "      <td>-2.282000</td>\n",
              "      <td>-2.149000</td>\n",
              "      <td>116.770000</td>\n",
              "      <td>1.200200</td>\n",
              "      <td>1.000000</td>\n",
              "      <td>400.000000</td>\n",
              "      <td>72.319903</td>\n",
              "      <td>215.287823</td>\n",
              "      <td>83.627458</td>\n",
              "      <td>0.563000</td>\n",
              "      <td>88.524873</td>\n",
              "      <td>-4.211466</td>\n",
              "      <td>2.140964</td>\n",
              "      <td>28.320318</td>\n",
              "      <td>210.044000</td>\n",
              "      <td>1.633480</td>\n",
              "      <td>1.248308</td>\n",
              "      <td>4.294931e-07</td>\n",
              "    </tr>\n",
              "    <tr>\n",
              "      <th>max</th>\n",
              "      <td>599999.000000</td>\n",
              "      <td>787.340000</td>\n",
              "      <td>2.499000</td>\n",
              "      <td>3.142000</td>\n",
              "      <td>701.328000</td>\n",
              "      <td>2.506000</td>\n",
              "      <td>3.142000</td>\n",
              "      <td>2843.646000</td>\n",
              "      <td>3.142000</td>\n",
              "      <td>2248.34900</td>\n",
              "      <td>3.000000</td>\n",
              "      <td>1198.342000</td>\n",
              "      <td>4.499000</td>\n",
              "      <td>3.142000</td>\n",
              "      <td>842.335000</td>\n",
              "      <td>4.500000</td>\n",
              "      <td>3.142000</td>\n",
              "      <td>1915.980000</td>\n",
              "      <td>4.095734</td>\n",
              "      <td>1.000000</td>\n",
              "      <td>400.000000</td>\n",
              "      <td>968.958141</td>\n",
              "      <td>3084.002651</td>\n",
              "      <td>2835.955769</td>\n",
              "      <td>8.724000</td>\n",
              "      <td>5125.017256</td>\n",
              "      <td>17.293560</td>\n",
              "      <td>5.718588</td>\n",
              "      <td>2835.955769</td>\n",
              "      <td>2140.006000</td>\n",
              "      <td>31.289730</td>\n",
              "      <td>1.414214</td>\n",
              "      <td>1.000000e+00</td>\n",
              "    </tr>\n",
              "  </tbody>\n",
              "</table>\n",
              "</div>"
            ],
            "text/plain": [
              "             EventId  ...  DER_lep_eta_centrality\n",
              "count  457377.000000  ...            4.573770e+05\n",
              "mean   349979.338989  ...           -7.015521e+02\n",
              "std    144326.419486  ...            4.569608e+02\n",
              "min    100000.000000  ...           -9.990000e+02\n",
              "25%    225033.000000  ...           -9.990000e+02\n",
              "50%    349963.000000  ...           -9.990000e+02\n",
              "75%    474940.000000  ...            4.294931e-07\n",
              "max    599999.000000  ...            1.000000e+00\n",
              "\n",
              "[8 rows x 33 columns]"
            ]
          },
          "metadata": {
            "tags": []
          },
          "execution_count": 32
        }
      ]
    },
    {
      "cell_type": "markdown",
      "metadata": {
        "id": "8-ZQoXJlHAx6"
      },
      "source": [
        "Load X_test and X_train"
      ]
    },
    {
      "cell_type": "markdown",
      "metadata": {
        "id": "UrU1v0syMAS1"
      },
      "source": [
        "Load test sample event ids"
      ]
    },
    {
      "cell_type": "code",
      "metadata": {
        "id": "IGGjtsHbMFmE"
      },
      "source": [
        "import pickle\n",
        "\n",
        "link = \"https://drive.google.com/file/d/1t_51v8L1dXM85dEGR7Ojz8HX33aozvUX/view?usp=sharing\"\n",
        "\n",
        "id = link.split(\"/\")[-2]\n",
        "\n",
        "downloaded = drive.CreateFile({\"id\": id})\n",
        "downloaded.GetContentFile('test_ids.p')\n",
        "test_ids = pickle.load(open(\"test_ids.p\",\"rb\"))"
      ],
      "execution_count": null,
      "outputs": []
    },
    {
      "cell_type": "markdown",
      "metadata": {
        "id": "eZnaaHoYHkdV"
      },
      "source": [
        "Select the data to predict (corresponding to the event id of the test dataset"
      ]
    },
    {
      "cell_type": "code",
      "metadata": {
        "id": "F6uqp6XwHqRQ",
        "colab": {
          "base_uri": "https://localhost:8080/"
        },
        "outputId": "a92aae38-910d-4086-f8a0-1500930672e3"
      },
      "source": [
        "dataset = fulldata.copy()\n",
        "\n",
        "test_dataset = dataset.loc[dataset['EventId'].isin(test_ids)]\n",
        "eventId_test = test_dataset[\"EventId\"]\n",
        "del test_dataset[\"EventId\"]\n",
        "label_test = test_dataset[\"Label\"]\n",
        "del test_dataset[\"Label\"]\n",
        "weight_test = test_dataset[\"Weight\"]\n",
        "del test_dataset[\"Weight\"]\n",
        "del test_dataset[\"detailLabel\"]\n",
        "X_test = test_dataset.copy()\n",
        "print(X_test.shape)\n",
        "\n",
        "\n",
        "\n",
        "train_dataset = dataset.loc[~dataset['EventId'].isin(test_ids)]\n",
        "eventId_train = train_dataset[\"EventId\"]\n",
        "del train_dataset[\"EventId\"]\n",
        "label_train = train_dataset[\"Label\"]\n",
        "del train_dataset[\"Label\"]\n",
        "weight_train = train_dataset[\"Weight\"]\n",
        "del train_dataset[\"Weight\"]\n",
        "del train_dataset[\"detailLabel\"]\n",
        "X_train = train_dataset.copy()\n",
        "\n",
        "\n",
        "\n",
        "y_test, y_train = label_test.copy(), label_train.copy()\n",
        "weights_test, weights_train = weight_test.copy(), weight_train.copy()\n",
        "\n",
        "train_size = X_train.size/(X_train.size + X_test.size)\n",
        "\n",
        "y_train_2, y_test_2, weights_train_2, weights_test_2 = \\\n",
        "    y_train.reset_index(drop=True), y_test.reset_index(drop=True), \\\n",
        "    weights_train.reset_index(drop=True), weights_test.reset_index(drop=True)\n",
        "\n",
        "class_weights_train = (weights_train_2[y_train_2==0].sum(), weights_train_2[y_train_2==1].sum())\n",
        "\n",
        "for i in range(len(class_weights_train)):\n",
        "  weights_train_2[y_train_2==i] *= max(class_weights_train)/class_weights_train[i]\n",
        "  weights_test_2[y_train_2==i] *= 1/(1-train_size)"
      ],
      "execution_count": null,
      "outputs": [
        {
          "output_type": "stream",
          "text": [
            "(91476, 29)\n"
          ],
          "name": "stdout"
        }
      ]
    },
    {
      "cell_type": "markdown",
      "metadata": {
        "id": "Ky6HHtthH6tT"
      },
      "source": [
        "Load xgboost module "
      ]
    },
    {
      "cell_type": "markdown",
      "metadata": {
        "id": "hlSZJC7GIVeF"
      },
      "source": [
        "### Compute XGBoost predictions"
      ]
    },
    {
      "cell_type": "code",
      "metadata": {
        "id": "tubeE5V_Cyl0"
      },
      "source": [
        "from sklearn.preprocessing import StandardScaler\n",
        "\n",
        "#scale to mean 0 and variance 1\n",
        "\n",
        "scaler = StandardScaler()\n",
        "X_train_scaled = scaler.fit_transform(X_train)\n",
        "X_test_scaled = scaler.transform(X_test) "
      ],
      "execution_count": null,
      "outputs": []
    },
    {
      "cell_type": "code",
      "metadata": {
        "id": "hSZ37bZAJieH"
      },
      "source": [
        "from xgboost import XGBClassifier\n",
        "from sklearn.metrics import roc_auc_score, roc_curve\n",
        "\n",
        "\n",
        "# Lien Drive du modèle BDT\n",
        "link = \"https://drive.google.com/file/d/1C2fJ7tx-7ZlnO9eFxmQ3HGzjJ35uUiFE/view?usp=sharing\"\n",
        "id3 = link.split(\"/\")[-2]\n",
        "\n",
        "downloaded = drive.CreateFile({\"id\": id3})\n",
        "downloaded.GetContentFile('XGBoost.model')\n",
        "\n",
        "\n",
        "# récuperer le jeu de Test sur Drive\n",
        "xgb = XGBClassifier(tree_method=\"hist\",use_label_encoder=False,eval_metric='logloss', learning_rate=0.12, max_depth=8, n_estimators=99)\n",
        "xgb.load_model(\"XGBoost.model\")\n",
        "\n",
        "y_pred_xgb = xgb.predict_proba(X_test_scaled)[:,1].ravel()\n",
        "y_pred_train_xgb = xgb.predict_proba(X_train_scaled)[:,1].ravel()\n",
        "\n",
        "\n"
      ],
      "execution_count": null,
      "outputs": []
    },
    {
      "cell_type": "code",
      "metadata": {
        "id": "GRcQAyKLIbOL",
        "colab": {
          "base_uri": "https://localhost:8080/"
        },
        "outputId": "c1168d5b-a840-498e-803a-19fede25bfba"
      },
      "source": [
        "pred = pd.DataFrame({\"Prediction\": y_pred_xgb})\n",
        "pred"
      ],
      "execution_count": null,
      "outputs": [
        {
          "output_type": "execute_result",
          "data": {
            "text/html": [
              "<div>\n",
              "<style scoped>\n",
              "    .dataframe tbody tr th:only-of-type {\n",
              "        vertical-align: middle;\n",
              "    }\n",
              "\n",
              "    .dataframe tbody tr th {\n",
              "        vertical-align: top;\n",
              "    }\n",
              "\n",
              "    .dataframe thead th {\n",
              "        text-align: right;\n",
              "    }\n",
              "</style>\n",
              "<table border=\"1\" class=\"dataframe\">\n",
              "  <thead>\n",
              "    <tr style=\"text-align: right;\">\n",
              "      <th></th>\n",
              "      <th>Prediction</th>\n",
              "    </tr>\n",
              "  </thead>\n",
              "  <tbody>\n",
              "    <tr>\n",
              "      <th>0</th>\n",
              "      <td>0.082915</td>\n",
              "    </tr>\n",
              "    <tr>\n",
              "      <th>1</th>\n",
              "      <td>0.065633</td>\n",
              "    </tr>\n",
              "    <tr>\n",
              "      <th>2</th>\n",
              "      <td>0.738462</td>\n",
              "    </tr>\n",
              "    <tr>\n",
              "      <th>3</th>\n",
              "      <td>0.618912</td>\n",
              "    </tr>\n",
              "    <tr>\n",
              "      <th>4</th>\n",
              "      <td>0.961573</td>\n",
              "    </tr>\n",
              "    <tr>\n",
              "      <th>...</th>\n",
              "      <td>...</td>\n",
              "    </tr>\n",
              "    <tr>\n",
              "      <th>91471</th>\n",
              "      <td>0.129801</td>\n",
              "    </tr>\n",
              "    <tr>\n",
              "      <th>91472</th>\n",
              "      <td>0.005752</td>\n",
              "    </tr>\n",
              "    <tr>\n",
              "      <th>91473</th>\n",
              "      <td>0.030780</td>\n",
              "    </tr>\n",
              "    <tr>\n",
              "      <th>91474</th>\n",
              "      <td>0.213647</td>\n",
              "    </tr>\n",
              "    <tr>\n",
              "      <th>91475</th>\n",
              "      <td>0.429143</td>\n",
              "    </tr>\n",
              "  </tbody>\n",
              "</table>\n",
              "<p>91476 rows × 1 columns</p>\n",
              "</div>"
            ],
            "text/plain": [
              "       Prediction\n",
              "0        0.082915\n",
              "1        0.065633\n",
              "2        0.738462\n",
              "3        0.618912\n",
              "4        0.961573\n",
              "...           ...\n",
              "91471    0.129801\n",
              "91472    0.005752\n",
              "91473    0.030780\n",
              "91474    0.213647\n",
              "91475    0.429143\n",
              "\n",
              "[91476 rows x 1 columns]"
            ]
          },
          "metadata": {
            "tags": []
          },
          "execution_count": 37
        }
      ]
    },
    {
      "cell_type": "code",
      "metadata": {
        "id": "HQ1ziSnVJAK0",
        "colab": {
          "base_uri": "https://localhost:8080/"
        },
        "outputId": "7d2d0712-c73e-4e4e-d3c4-9fac2d739029"
      },
      "source": [
        "# A modifier\n",
        "\n",
        "result = pd.concat([eventId_test.reset_index(), label_test.reset_index(), weight_test.reset_index(), pred], axis= 1)\n",
        "del result[\"index\"]\n",
        "result"
      ],
      "execution_count": null,
      "outputs": [
        {
          "output_type": "execute_result",
          "data": {
            "text/html": [
              "<div>\n",
              "<style scoped>\n",
              "    .dataframe tbody tr th:only-of-type {\n",
              "        vertical-align: middle;\n",
              "    }\n",
              "\n",
              "    .dataframe tbody tr th {\n",
              "        vertical-align: top;\n",
              "    }\n",
              "\n",
              "    .dataframe thead th {\n",
              "        text-align: right;\n",
              "    }\n",
              "</style>\n",
              "<table border=\"1\" class=\"dataframe\">\n",
              "  <thead>\n",
              "    <tr style=\"text-align: right;\">\n",
              "      <th></th>\n",
              "      <th>EventId</th>\n",
              "      <th>Label</th>\n",
              "      <th>Weight</th>\n",
              "      <th>Prediction</th>\n",
              "    </tr>\n",
              "  </thead>\n",
              "  <tbody>\n",
              "    <tr>\n",
              "      <th>0</th>\n",
              "      <td>100003</td>\n",
              "      <td>0.0</td>\n",
              "      <td>2.853502</td>\n",
              "      <td>0.082915</td>\n",
              "    </tr>\n",
              "    <tr>\n",
              "      <th>1</th>\n",
              "      <td>100004</td>\n",
              "      <td>0.0</td>\n",
              "      <td>3.272095</td>\n",
              "      <td>0.065633</td>\n",
              "    </tr>\n",
              "    <tr>\n",
              "      <th>2</th>\n",
              "      <td>100005</td>\n",
              "      <td>0.0</td>\n",
              "      <td>0.043703</td>\n",
              "      <td>0.738462</td>\n",
              "    </tr>\n",
              "    <tr>\n",
              "      <th>3</th>\n",
              "      <td>100021</td>\n",
              "      <td>0.0</td>\n",
              "      <td>0.881041</td>\n",
              "      <td>0.618912</td>\n",
              "    </tr>\n",
              "    <tr>\n",
              "      <th>4</th>\n",
              "      <td>100023</td>\n",
              "      <td>1.0</td>\n",
              "      <td>0.000755</td>\n",
              "      <td>0.961573</td>\n",
              "    </tr>\n",
              "    <tr>\n",
              "      <th>...</th>\n",
              "      <td>...</td>\n",
              "      <td>...</td>\n",
              "      <td>...</td>\n",
              "      <td>...</td>\n",
              "    </tr>\n",
              "    <tr>\n",
              "      <th>91471</th>\n",
              "      <td>599961</td>\n",
              "      <td>0.0</td>\n",
              "      <td>0.994969</td>\n",
              "      <td>0.129801</td>\n",
              "    </tr>\n",
              "    <tr>\n",
              "      <th>91472</th>\n",
              "      <td>599966</td>\n",
              "      <td>0.0</td>\n",
              "      <td>1.013057</td>\n",
              "      <td>0.005752</td>\n",
              "    </tr>\n",
              "    <tr>\n",
              "      <th>91473</th>\n",
              "      <td>599967</td>\n",
              "      <td>0.0</td>\n",
              "      <td>1.370538</td>\n",
              "      <td>0.030780</td>\n",
              "    </tr>\n",
              "    <tr>\n",
              "      <th>91474</th>\n",
              "      <td>599970</td>\n",
              "      <td>1.0</td>\n",
              "      <td>0.000755</td>\n",
              "      <td>0.213647</td>\n",
              "    </tr>\n",
              "    <tr>\n",
              "      <th>91475</th>\n",
              "      <td>599989</td>\n",
              "      <td>0.0</td>\n",
              "      <td>0.762234</td>\n",
              "      <td>0.429143</td>\n",
              "    </tr>\n",
              "  </tbody>\n",
              "</table>\n",
              "<p>91476 rows × 4 columns</p>\n",
              "</div>"
            ],
            "text/plain": [
              "       EventId  Label    Weight  Prediction\n",
              "0       100003    0.0  2.853502    0.082915\n",
              "1       100004    0.0  3.272095    0.065633\n",
              "2       100005    0.0  0.043703    0.738462\n",
              "3       100021    0.0  0.881041    0.618912\n",
              "4       100023    1.0  0.000755    0.961573\n",
              "...        ...    ...       ...         ...\n",
              "91471   599961    0.0  0.994969    0.129801\n",
              "91472   599966    0.0  1.013057    0.005752\n",
              "91473   599967    0.0  1.370538    0.030780\n",
              "91474   599970    1.0  0.000755    0.213647\n",
              "91475   599989    0.0  0.762234    0.429143\n",
              "\n",
              "[91476 rows x 4 columns]"
            ]
          },
          "metadata": {
            "tags": []
          },
          "execution_count": 38
        }
      ]
    },
    {
      "cell_type": "markdown",
      "metadata": {
        "id": "YreUJBeI-Ij1"
      },
      "source": [
        "ROC and significance curves"
      ]
    },
    {
      "cell_type": "markdown",
      "metadata": {
        "id": "zBHRWGGCF-QG"
      },
      "source": [
        "Load significance function"
      ]
    },
    {
      "cell_type": "code",
      "metadata": {
        "id": "q31VmJZVF9cQ"
      },
      "source": [
        "from math import sqrt\n",
        "from math import log\n",
        "def amsasimov(s,b): # asimov significance arXiv:1007.1727 eq. 97\n",
        "        if b<=0 or s<=0:\n",
        "            return 0\n",
        "        try:\n",
        "            return sqrt(2*((s+b)*log(1+float(s)/b)-s))\n",
        "        except ValueError:\n",
        "            print(1+float(s)/b)\n",
        "            print(2*((s+b)*log(1+float(s)/b)-s))\n",
        "        #return s/sqrt(s+b)"
      ],
      "execution_count": null,
      "outputs": []
    },
    {
      "cell_type": "code",
      "metadata": {
        "id": "O8reOLPI-Rhh",
        "colab": {
          "base_uri": "https://localhost:8080/"
        },
        "outputId": "d5fb310f-ec20-406c-a0ba-ba4cba5ce39c"
      },
      "source": [
        "from sklearn.metrics import roc_auc_score\n",
        "auc_test_xgb = roc_auc_score(y_true=y_test_2, y_score=y_pred_xgb, sample_weight=weights_test_2)\n",
        "auc_train_xgb = roc_auc_score(y_true=y_train.values, y_score=y_pred_train_xgb)\n",
        "print(\"auc test:\", auc_test_xgb)\n",
        "print(\"auc train:\", auc_train_xgb)\n"
      ],
      "execution_count": null,
      "outputs": [
        {
          "output_type": "stream",
          "text": [
            "auc test: 0.9258660496120164\n",
            "auc train: 0.8774211785865328\n"
          ],
          "name": "stdout"
        }
      ]
    },
    {
      "cell_type": "code",
      "metadata": {
        "id": "5QPnbUCkDF-O",
        "colab": {
          "base_uri": "https://localhost:8080/"
        },
        "outputId": "40ef86be-a9ad-4be1-f151-0e5ed34fc30d"
      },
      "source": [
        "import numpy as np\n",
        "import matplotlib.pyplot as plt\n",
        "\n",
        "int_pred_test_sig_xgb = [weights_test_2[(y_test_2 ==1) & (y_pred_xgb > th_cut)].sum() for th_cut in np.linspace(0,1,num=50)]\n",
        "int_pred_test_bkg_xgb = [weights_test_2[(y_test_2 ==0) & (y_pred_xgb > th_cut)].sum() for th_cut in np.linspace(0,1,num=50)]\n",
        "\n",
        "vamsasimov_xgb = [amsasimov(sumsig,sumbkg) for (sumsig,sumbkg) in zip(int_pred_test_sig_xgb,int_pred_test_bkg_xgb)]\n",
        "significance_xgb = max(vamsasimov_xgb)\n",
        "Z = significance_xgb\n",
        "print(\"Z:\",Z)"
      ],
      "execution_count": null,
      "outputs": [
        {
          "output_type": "stream",
          "text": [
            "Z: 3.177381422053353\n"
          ],
          "name": "stdout"
        }
      ]
    },
    {
      "cell_type": "markdown",
      "metadata": {
        "id": "ScZDr-r6D0YP"
      },
      "source": [
        "Plot ROC curve"
      ]
    },
    {
      "cell_type": "code",
      "metadata": {
        "id": "ToioKg80Dc0k",
        "colab": {
          "base_uri": "https://localhost:8080/"
        },
        "outputId": "d4629b0d-85e3-47bd-d699-ebd7f63a1ab0"
      },
      "source": [
        "from sklearn.metrics import roc_curve\n",
        "lw = 2\n",
        "\n",
        "fpr_xgb,tpr_xgb,_ = roc_curve(y_true=y_test_2, y_score=y_pred_xgb,sample_weight=weights_test_2.values)\n",
        "plt.plot(fpr_xgb, tpr_xgb, color='darkgreen',lw=lw, label='XGBoost (AUC  = {})'.format(np.round(auc_test_xgb,decimals=2)))\n",
        "plt.plot([0, 1], [0, 1], color='navy', lw=lw, linestyle='--')\n",
        "plt.xlim([0.0, 1.0])\n",
        "plt.ylim([0.0, 1.05])\n",
        "plt.xlabel('False Positive Rate')\n",
        "plt.ylabel('True Positive Rate')\n",
        "plt.title('Receiver Operating Characteristic')\n",
        "plt.legend(loc=\"lower right\")\n",
        "\n",
        "#plt.savefig(drive_path + \"ROC_comparing_\" + version + \".pdf\")\n",
        "plt.show() "
      ],
      "execution_count": null,
      "outputs": [
        {
          "output_type": "display_data",
          "data": {
            "image/png": "[encoded data removed]",
            "text/plain": [
              "<Figure size 432x288 with 1 Axes>"
            ]
          },
          "metadata": {
            "tags": [],
            "needs_background": "light"
          }
        }
      ]
    },
    {
      "cell_type": "markdown",
      "metadata": {
        "id": "oNNz_79oDxi4"
      },
      "source": [
        "Plot significance curve"
      ]
    },
    {
      "cell_type": "code",
      "metadata": {
        "id": "EFZPtAAlDpvU",
        "colab": {
          "base_uri": "https://localhost:8080/"
        },
        "outputId": "04406203-bb9c-4070-d7af-6886a4230248"
      },
      "source": [
        "\n",
        "plt.plot(np.linspace(0,1,num=50),vamsasimov_xgb, label='XGBoost (Z = {})'.format(np.round(significance_xgb,decimals=2)))\n",
        "\n",
        "plt.title(\"BDT Significance\")\n",
        "plt.xlabel(\"Threshold\")\n",
        "plt.ylabel(\"Significance\")\n",
        "plt.legend()\n",
        "#plt.savefig(drive_path + \"Significance_comparing_\" + version + \".pdf\")\n",
        "plt.show()"
      ],
      "execution_count": null,
      "outputs": [
        {
          "output_type": "display_data",
          "data": {
            "image/png": "[encoded data removed]",
            "text/plain": [
              "<Figure size 432x288 with 1 Axes>"
            ]
          },
          "metadata": {
            "tags": [],
            "needs_background": "light"
          }
        }
      ]
    },
    {
      "cell_type": "markdown",
      "metadata": {
        "id": "J-xPk19TJVln"
      },
      "source": [
        "## NeuralNetworks"
      ]
    },
    {
      "cell_type": "markdown",
      "metadata": {
        "id": "axTOB5NzA65t"
      },
      "source": [
        "# Machine Learning : Neural Networks & Boosted Decision Tree"
      ]
    },
    {
      "cell_type": "code",
      "metadata": {
        "id": "tlYoWZJOIe20"
      },
      "source": [
        "import tensorflow as tf\n",
        "import numpy as np\n",
        "from sklearn.metrics import roc_auc_score\n",
        "from sklearn.utils import class_weight\n",
        "import json\n",
        "import pickle\n",
        "\n",
        "pipeline_NN = False\n",
        "\n",
        "if pipeline_NN :\n",
        "# Function that loads the model and the associated test_ids\n",
        "  def load_model(path_json,path_h5,test_ids_path=None):\n",
        "      with open(path_json, 'r') as json_file:\n",
        "          architecture = json.load(json_file)\n",
        "          model = tf.keras.models.model_from_json(json.dumps(architecture))\n",
        "      model.load_weights(path_h5)\n",
        "      if test_ids_path is None:\n",
        "          test_ids = None\n",
        "      else:\n",
        "          test_ids = pickle.load(open(test_ids_path, \"rb\"))\n",
        "      print('Model loaded successfully !')\n",
        "      return (model,test_ids)\n",
        "\n",
        "# Function to split the dataset according to test_ids\n",
        "  def split_dataset(data, test_ids, return_train=False):\n",
        "      test_dataset = data.loc[data['EventId'].isin(test_ids)]\n",
        "      y_test = test_dataset['Label']\n",
        "      del test_dataset[\"Label\"]\n",
        "      weights_test = test_dataset[\"Weight\"]\n",
        "      del test_dataset[\"Weight\"]\n",
        "      del test_dataset[\"detailLabel\"]\n",
        "      del test_dataset[\"Unnamed: 0\"]\n",
        "      del test_dataset[\"EventId\"]\n",
        "      X_test = test_dataset.copy()\n",
        "\n",
        "      if return_train:\n",
        "          train_dataset = data.loc[~data['EventId'].isin(test_ids)]\n",
        "          y_train = train_dataset['Label']\n",
        "          del train_dataset[\"Label\"]\n",
        "          weights_train = train_dataset[\"Weight\"]\n",
        "          del train_dataset[\"Weight\"]\n",
        "          del train_dataset[\"detailLabel\"]\n",
        "          del train_dataset[\"Unnamed: 0\"]\n",
        "          del train_dataset[\"EventId\"]\n",
        "          X_train = train_dataset.copy()\n",
        "\n",
        "      print('Dataset split successfully !')\n",
        "      if return_train:\n",
        "          return (X_train, weights_train, y_train, X_test, weights_test, y_test)\n",
        "      else:\n",
        "          return (X_test, weights_test, y_test)\n",
        "\n",
        "# Lien Drive du modèle\n",
        "  if not os.path.exists('model'):\n",
        "      download = drive.CreateFile({'id': '1Hfns7qYkzwQkfj3IbEh6P-Ew9pgKDNfE'})\n",
        "      download.GetContentFile(\"model.zip\")\n",
        "      !unzip \"model.zip\" -d \"./\"\n",
        "      os.remove(\"model.zip\")\n",
        "\n",
        "  model,test_ids = load_model('./model/model.json','./model/model.h5','./model/test_ids.p')\n",
        "\n",
        "  if pipeline_NN:\n",
        "    X_test, weights_test, y_test, X_train, weights_train, y_train = split_dataset(data,test_ids, True)\n",
        "\n",
        "    y_pred = model.predict(X_test)\n",
        "    df_pred = pd.DataFrame(y_pred)\n",
        "    df_pred\n",
        "\n",
        "    result = pd.concat([y_test,weights_test,df_pred],axis=1)\n",
        "    result.columns = ['Label','Weight','Score']\n",
        "\n"
      ],
      "execution_count": 150,
      "outputs": []
    },
    {
      "cell_type": "code",
      "metadata": {
        "id": "IhE7WP2NUByz"
      },
      "source": [
        "if pipeline_NN :\n",
        "\n",
        "  from math import sqrt\n",
        "  from math import log\n",
        "  import matplotlib.pyplot as plt\n",
        "  def amsasimov(s,b): # asimov (or Poisson) significance\n",
        "          if b<=0 or s<=0:\n",
        "              return 0\n",
        "          try:\n",
        "              return sqrt(2*((s+b)*log(1+float(s)/b)-s))\n",
        "          except ValueError:\n",
        "              print(1+float(s)/b)\n",
        "              print (2*((s+b)*log(1+float(s)/b)-s))\n",
        "        #return s/sqrt(s+b)"
      ],
      "execution_count": 151,
      "outputs": []
    },
    {
      "cell_type": "code",
      "metadata": {
        "id": "tzdaZr_KUDKR"
      },
      "source": [
        "if pipeline_NN :\n",
        "  y_test = label_test\n",
        "  y_train = label_train\n",
        "  model.compile(loss=\"binary_crossentropy\", optimizer='adam', metrics = [\"binary_accuracy\"])\n",
        "  score = model.evaluate(X_test,y_test, verbose = 1)\n",
        "\n",
        "  from sklean.metrics import roc_curve, roc_auc_score\n",
        "  loss,accuracy = score[0],score[1]\n",
        "  print(\"binary loss :\", loss)\n",
        "  print(\"binary accuracy :\",accuracy)\n",
        "\n",
        "  y_pred_test = model.predict(X_test).ravel()\n",
        "  y_pred_train = model.predict(X_train).ravel()\n",
        "  auc_test = roc_auc_score(y_true=y_test, y_score=y_pred_test)\n",
        "  auc_train = roc_auc_score(y_true=y_train.values, y_score=y_pred_train)\n",
        "  print(\"auc test:\",auc_test)\n",
        "  print (\"auc train:\",auc_train)\n",
        "  int_pred_test_sig = [weight_test[(y_test ==1) & (y_pred_test > th_cut)].sum() for th_cut in np.linspace(0,1,num=50)]\n",
        "  int_pred_test_bkg = [weight_test[(y_test ==0) & (y_pred_test > th_cut)].sum() for th_cut in np.linspace(0,1,num=50)]\n",
        "\n",
        "  lw = 2\n",
        "\n",
        "  fpr,tpr,_ = roc_curve(y_true=y_test, y_score=y_pred_test,sample_weight=weight_test.values)\n",
        "  plt.plot(fpr, tpr, color='darkorange',lw=lw, label='NN (AUC  = {})'.format(np.round(auc_test,decimals=2)))\n",
        "  plt.plot([0, 1], [0, 1], color='navy', lw=lw, linestyle='--')\n",
        "  plt.xlim([0.0, 1.0])\n",
        "  plt.ylim([0.0, 1.05])\n",
        "  plt.xlabel('False Positive Rate')\n",
        "  plt.ylabel('True Positive Rate')\n",
        "  plt.title('Receiver Operating Characteristic')\n",
        "  plt.legend(loc=\"lower right\")\n",
        "  plt.show()\n",
        "\n",
        "  vamsasimov = [amsasimov(sumsig,sumbkg) for (sumsig,sumbkg) in zip(int_pred_test_sig,int_pred_test_bkg)]\n",
        "  plt.plot(np.linspace(0,1,len(vamsasimov)),vamsasimov)\n",
        "  Z = max(vamsasimov)\n",
        "  print(\"Z:\",Z)"
      ],
      "execution_count": 152,
      "outputs": []
    },
    {
      "cell_type": "markdown",
      "metadata": {
        "id": "Jcpr4ovw9mJg"
      },
      "source": [
        "### Statistical Treatments"
      ]
    },
    {
      "cell_type": "markdown",
      "metadata": {
        "id": "G-WZR11NzRxP"
      },
      "source": [
        "# Statistical treatment"
      ]
    },
    {
      "cell_type": "markdown",
      "metadata": {
        "id": "yaYoUKq3tg8m"
      },
      "source": [
        "The model we will be using is the following: the detector recieves $n=\\mu S+B$ events, with $S$ the predicted number of signal events, $B$ the predicted number of background events, and $\\mu$ the signal strength, which we aim at identifying.\n",
        "\n",
        "More accurately, we aim at determining $\\sigma_\\mu$, the uncertainty on the maximum likelihood estimator of $\\mu$, given the actual number of signal and background events. "
      ]
    },
    {
      "cell_type": "markdown",
      "metadata": {
        "id": "MaiOo95ttYgp"
      },
      "source": [
        "Let's start with importing the useful libraries."
      ]
    },
    {
      "cell_type": "code",
      "metadata": {
        "id": "kBm4ja62sjIu"
      },
      "source": [
        "from matplotlib import pyplot as plt\n",
        "from scipy import stats\n",
        "import numpy as np\n",
        "from matplotlib import pyplot as plt\n",
        "from IPython.display import set_matplotlib_formats, display\n",
        "from scipy.stats import poisson, norm\n",
        "from scipy.optimize import minimize\n",
        "import matplotlib.colors as colors\n",
        "\n",
        "set_matplotlib_formats('pdf', 'svg')\n",
        "%config InlineBackend.figure_format ='svg'\n",
        "plt.style.use('ggplot')\n",
        "\n",
        "# Definition of the progress bar\n",
        "def progressbar(value, max=100):\n",
        "  from IPython.display import HTML\n",
        "  return HTML(\"\"\"<progress value='{value}' max='{max}' style='width: 100%'>\n",
        "    {value}</progress>\"\"\".format(value=value, max=max))\n",
        "  \n",
        "def pbinit(kmin, kmax):\n",
        "  return display(progressbar(kmin, kmax), display_id=True)\n",
        "\n",
        "# Definition of LaTex format printing functions:\n",
        "def pprint(mu, sigma_plus, sigma_minus):\n",
        "  from IPython.display import display, Latex\n",
        "  display(Latex(r'$\\hat{\\mu} = ' +\n",
        "                f'{mu:.3f}' +\n",
        "                r'^{+' + f'{sigma_plus:.3f}' + r'}' +\n",
        "                r'_{-' + f'{sigma_minus:.3f}' + r'}$'))\n",
        "  \n",
        "def pprintMC(mu, sigma_plus, sigma_minus):\n",
        "  from IPython.display import display, Latex\n",
        "  display(Latex(r'$\\hat{\\mu}_{MC} = ' +\n",
        "                f'{mu:.3f}' +\n",
        "                r'^{+' + f'{sigma_plus:.3f}' + r'}' +\n",
        "                r'_{-' + f'{sigma_minus:.3f}' + r'}$'))\n",
        "\n"
      ],
      "execution_count": null,
      "outputs": []
    },
    {
      "cell_type": "markdown",
      "metadata": {
        "id": "KRBnMHvl0cCE"
      },
      "source": [
        "Now that the libraries are imported, we may define our model, as well as the probability density functions for signal and background events with respect to their score from the Neural Network and Boosted Decision Tree algorithms."
      ]
    },
    {
      "cell_type": "code",
      "metadata": {
        "id": "uaNEewc074ZF",
        "colab": {
          "base_uri": "https://localhost:8080/",
          "height": 568
        },
        "outputId": "55e942d7-b9ea-4900-f841-44648550979c"
      },
      "source": [
        "isNN = False;\n",
        "\n",
        "linkBDT = 'https://drive.google.com/file/d/1hjJHSanUs6pzodxhkkKN24I_VZK4eSLo/view?usp=sharing'\n",
        "  \n",
        "# to get the id part of the file\n",
        "idStat = linkBDT\n",
        "  \n",
        "downloaded = drive.CreateFile({'id': idStat}) \n",
        "downloaded.GetContentFile('tableau_BDT.csv',) \n",
        "\n",
        "#Neural Nets\n",
        "\n",
        "linkNN = 'https://drive.google.com/file/d/1GTk2t33fsUJxAyh2ou89POSIELbflevR/view?usp=sharing'\n",
        "  \n",
        "# to get the id part of the file\n",
        "idNN = linkNN.split(\"/\")[-2]\n",
        "  \n",
        "downloaded = drive.CreateFile({'id':idNN}) \n",
        "downloaded.GetContentFile('tableau_NN.csv',) \n",
        "\n",
        "#si on prend le jeu de données issus du training de NeuralNetworks"
      ],
      "execution_count": null,
      "outputs": [
        {
          "output_type": "error",
          "ename": "ApiRequestError",
          "evalue": "ignored",
          "traceback": [
            "\u001b[0;31m---------------------------------------------------------------------------\u001b[0m",
            "\u001b[0;31mHttpError\u001b[0m                                 Traceback (most recent call last)",
            "\u001b[0;32m/usr/local/lib/python3.7/dist-packages/pydrive/files.py\u001b[0m in \u001b[0;36mFetchMetadata\u001b[0;34m(self, fields, fetch_all)\u001b[0m\n\u001b[1;32m    236\u001b[0m                                                  fields=fields)\\\n\u001b[0;32m--> 237\u001b[0;31m           \u001b[0;34m.\u001b[0m\u001b[0mexecute\u001b[0m\u001b[0;34m(\u001b[0m\u001b[0mhttp\u001b[0m\u001b[0;34m=\u001b[0m\u001b[0mself\u001b[0m\u001b[0;34m.\u001b[0m\u001b[0mhttp\u001b[0m\u001b[0;34m)\u001b[0m\u001b[0;34m\u001b[0m\u001b[0;34m\u001b[0m\u001b[0m\n\u001b[0m\u001b[1;32m    238\u001b[0m       \u001b[0;32mexcept\u001b[0m \u001b[0merrors\u001b[0m\u001b[0;34m.\u001b[0m\u001b[0mHttpError\u001b[0m \u001b[0;32mas\u001b[0m \u001b[0merror\u001b[0m\u001b[0;34m:\u001b[0m\u001b[0;34m\u001b[0m\u001b[0;34m\u001b[0m\u001b[0m\n",
            "\u001b[0;32m/usr/local/lib/python3.7/dist-packages/googleapiclient/_helpers.py\u001b[0m in \u001b[0;36mpositional_wrapper\u001b[0;34m(*args, **kwargs)\u001b[0m\n\u001b[1;32m    133\u001b[0m                     \u001b[0mlogger\u001b[0m\u001b[0;34m.\u001b[0m\u001b[0mwarning\u001b[0m\u001b[0;34m(\u001b[0m\u001b[0mmessage\u001b[0m\u001b[0;34m)\u001b[0m\u001b[0;34m\u001b[0m\u001b[0;34m\u001b[0m\u001b[0m\n\u001b[0;32m--> 134\u001b[0;31m             \u001b[0;32mreturn\u001b[0m \u001b[0mwrapped\u001b[0m\u001b[0;34m(\u001b[0m\u001b[0;34m*\u001b[0m\u001b[0margs\u001b[0m\u001b[0;34m,\u001b[0m \u001b[0;34m**\u001b[0m\u001b[0mkwargs\u001b[0m\u001b[0;34m)\u001b[0m\u001b[0;34m\u001b[0m\u001b[0;34m\u001b[0m\u001b[0m\n\u001b[0m\u001b[1;32m    135\u001b[0m \u001b[0;34m\u001b[0m\u001b[0m\n",
            "\u001b[0;32m/usr/local/lib/python3.7/dist-packages/googleapiclient/http.py\u001b[0m in \u001b[0;36mexecute\u001b[0;34m(self, http, num_retries)\u001b[0m\n\u001b[1;32m    914\u001b[0m         \u001b[0;32mif\u001b[0m \u001b[0mresp\u001b[0m\u001b[0;34m.\u001b[0m\u001b[0mstatus\u001b[0m \u001b[0;34m>=\u001b[0m \u001b[0;36m300\u001b[0m\u001b[0;34m:\u001b[0m\u001b[0;34m\u001b[0m\u001b[0;34m\u001b[0m\u001b[0m\n\u001b[0;32m--> 915\u001b[0;31m             \u001b[0;32mraise\u001b[0m \u001b[0mHttpError\u001b[0m\u001b[0;34m(\u001b[0m\u001b[0mresp\u001b[0m\u001b[0;34m,\u001b[0m \u001b[0mcontent\u001b[0m\u001b[0;34m,\u001b[0m \u001b[0muri\u001b[0m\u001b[0;34m=\u001b[0m\u001b[0mself\u001b[0m\u001b[0;34m.\u001b[0m\u001b[0muri\u001b[0m\u001b[0;34m)\u001b[0m\u001b[0;34m\u001b[0m\u001b[0;34m\u001b[0m\u001b[0m\n\u001b[0m\u001b[1;32m    916\u001b[0m         \u001b[0;32mreturn\u001b[0m \u001b[0mself\u001b[0m\u001b[0;34m.\u001b[0m\u001b[0mpostproc\u001b[0m\u001b[0;34m(\u001b[0m\u001b[0mresp\u001b[0m\u001b[0;34m,\u001b[0m \u001b[0mcontent\u001b[0m\u001b[0;34m)\u001b[0m\u001b[0;34m\u001b[0m\u001b[0;34m\u001b[0m\u001b[0m\n",
            "\u001b[0;31mHttpError\u001b[0m: <HttpError 404 when requesting https://www.googleapis.com/drive/v2/files/https%3A%2F%2Fdrive.google.com%2Ffile%2Fd%2F1hjJHSanUs6pzodxhkkKN24I_VZK4eSLo%2Fview%3Fusp%3Dsharing?alt=json returned \"File not found: https://drive.google.com/file/d/1hjJHSanUs6pzodxhkkKN24I_VZK4eSLo/view?usp=sharing\". Details: \"File not found: https://drive.google.com/file/d/1hjJHSanUs6pzodxhkkKN24I_VZK4eSLo/view?usp=sharing\">",
            "\nDuring handling of the above exception, another exception occurred:\n",
            "\u001b[0;31mApiRequestError\u001b[0m                           Traceback (most recent call last)",
            "\u001b[0;32m<ipython-input-124-d903b3f52210>\u001b[0m in \u001b[0;36m<module>\u001b[0;34m()\u001b[0m\n\u001b[1;32m      7\u001b[0m \u001b[0;34m\u001b[0m\u001b[0m\n\u001b[1;32m      8\u001b[0m \u001b[0mdownloaded\u001b[0m \u001b[0;34m=\u001b[0m \u001b[0mdrive\u001b[0m\u001b[0;34m.\u001b[0m\u001b[0mCreateFile\u001b[0m\u001b[0;34m(\u001b[0m\u001b[0;34m{\u001b[0m\u001b[0;34m'id'\u001b[0m\u001b[0;34m:\u001b[0m \u001b[0midStat\u001b[0m\u001b[0;34m}\u001b[0m\u001b[0;34m)\u001b[0m\u001b[0;34m\u001b[0m\u001b[0;34m\u001b[0m\u001b[0m\n\u001b[0;32m----> 9\u001b[0;31m \u001b[0mdownloaded\u001b[0m\u001b[0;34m.\u001b[0m\u001b[0mGetContentFile\u001b[0m\u001b[0;34m(\u001b[0m\u001b[0;34m'tableau_BDT.csv'\u001b[0m\u001b[0;34m,\u001b[0m\u001b[0;34m)\u001b[0m\u001b[0;34m\u001b[0m\u001b[0;34m\u001b[0m\u001b[0m\n\u001b[0m\u001b[1;32m     10\u001b[0m \u001b[0;34m\u001b[0m\u001b[0m\n\u001b[1;32m     11\u001b[0m \u001b[0;31m#Neural Nets\u001b[0m\u001b[0;34m\u001b[0m\u001b[0;34m\u001b[0m\u001b[0;34m\u001b[0m\u001b[0m\n",
            "\u001b[0;32m/usr/local/lib/python3.7/dist-packages/pydrive/files.py\u001b[0m in \u001b[0;36mGetContentFile\u001b[0;34m(self, filename, mimetype, remove_bom)\u001b[0m\n\u001b[1;32m    208\u001b[0m                     \u001b[0mtype\u001b[0m\u001b[0;34m(\u001b[0m\u001b[0mself\u001b[0m\u001b[0;34m.\u001b[0m\u001b[0mcontent\u001b[0m\u001b[0;34m)\u001b[0m \u001b[0;32mis\u001b[0m \u001b[0;32mnot\u001b[0m \u001b[0mio\u001b[0m\u001b[0;34m.\u001b[0m\u001b[0mBytesIO\u001b[0m \u001b[0;32mor\u001b[0m\u001b[0;31m \u001b[0m\u001b[0;31m\\\u001b[0m\u001b[0;34m\u001b[0m\u001b[0;34m\u001b[0m\u001b[0m\n\u001b[1;32m    209\u001b[0m                     \u001b[0mself\u001b[0m\u001b[0;34m.\u001b[0m\u001b[0mhas_bom\u001b[0m \u001b[0;34m==\u001b[0m \u001b[0mremove_bom\u001b[0m\u001b[0;34m:\u001b[0m\u001b[0;34m\u001b[0m\u001b[0;34m\u001b[0m\u001b[0m\n\u001b[0;32m--> 210\u001b[0;31m       \u001b[0mself\u001b[0m\u001b[0;34m.\u001b[0m\u001b[0mFetchContent\u001b[0m\u001b[0;34m(\u001b[0m\u001b[0mmimetype\u001b[0m\u001b[0;34m,\u001b[0m \u001b[0mremove_bom\u001b[0m\u001b[0;34m)\u001b[0m\u001b[0;34m\u001b[0m\u001b[0;34m\u001b[0m\u001b[0m\n\u001b[0m\u001b[1;32m    211\u001b[0m     \u001b[0mf\u001b[0m \u001b[0;34m=\u001b[0m \u001b[0mopen\u001b[0m\u001b[0;34m(\u001b[0m\u001b[0mfilename\u001b[0m\u001b[0;34m,\u001b[0m \u001b[0;34m'wb'\u001b[0m\u001b[0;34m)\u001b[0m\u001b[0;34m\u001b[0m\u001b[0;34m\u001b[0m\u001b[0m\n\u001b[1;32m    212\u001b[0m     \u001b[0mf\u001b[0m\u001b[0;34m.\u001b[0m\u001b[0mwrite\u001b[0m\u001b[0;34m(\u001b[0m\u001b[0mself\u001b[0m\u001b[0;34m.\u001b[0m\u001b[0mcontent\u001b[0m\u001b[0;34m.\u001b[0m\u001b[0mgetvalue\u001b[0m\u001b[0;34m(\u001b[0m\u001b[0;34m)\u001b[0m\u001b[0;34m)\u001b[0m\u001b[0;34m\u001b[0m\u001b[0;34m\u001b[0m\u001b[0m\n",
            "\u001b[0;32m/usr/local/lib/python3.7/dist-packages/pydrive/files.py\u001b[0m in \u001b[0;36m_decorated\u001b[0;34m(self, *args, **kwargs)\u001b[0m\n\u001b[1;32m     40\u001b[0m   \u001b[0;32mdef\u001b[0m \u001b[0m_decorated\u001b[0m\u001b[0;34m(\u001b[0m\u001b[0mself\u001b[0m\u001b[0;34m,\u001b[0m \u001b[0;34m*\u001b[0m\u001b[0margs\u001b[0m\u001b[0;34m,\u001b[0m \u001b[0;34m**\u001b[0m\u001b[0mkwargs\u001b[0m\u001b[0;34m)\u001b[0m\u001b[0;34m:\u001b[0m\u001b[0;34m\u001b[0m\u001b[0;34m\u001b[0m\u001b[0m\n\u001b[1;32m     41\u001b[0m     \u001b[0;32mif\u001b[0m \u001b[0;32mnot\u001b[0m \u001b[0mself\u001b[0m\u001b[0;34m.\u001b[0m\u001b[0muploaded\u001b[0m\u001b[0;34m:\u001b[0m\u001b[0;34m\u001b[0m\u001b[0;34m\u001b[0m\u001b[0m\n\u001b[0;32m---> 42\u001b[0;31m       \u001b[0mself\u001b[0m\u001b[0;34m.\u001b[0m\u001b[0mFetchMetadata\u001b[0m\u001b[0;34m(\u001b[0m\u001b[0;34m)\u001b[0m\u001b[0;34m\u001b[0m\u001b[0;34m\u001b[0m\u001b[0m\n\u001b[0m\u001b[1;32m     43\u001b[0m     \u001b[0;32mreturn\u001b[0m \u001b[0mdecoratee\u001b[0m\u001b[0;34m(\u001b[0m\u001b[0mself\u001b[0m\u001b[0;34m,\u001b[0m \u001b[0;34m*\u001b[0m\u001b[0margs\u001b[0m\u001b[0;34m,\u001b[0m \u001b[0;34m**\u001b[0m\u001b[0mkwargs\u001b[0m\u001b[0;34m)\u001b[0m\u001b[0;34m\u001b[0m\u001b[0;34m\u001b[0m\u001b[0m\n\u001b[1;32m     44\u001b[0m   \u001b[0;32mreturn\u001b[0m \u001b[0m_decorated\u001b[0m\u001b[0;34m\u001b[0m\u001b[0;34m\u001b[0m\u001b[0m\n",
            "\u001b[0;32m/usr/local/lib/python3.7/dist-packages/pydrive/auth.py\u001b[0m in \u001b[0;36m_decorated\u001b[0;34m(self, *args, **kwargs)\u001b[0m\n\u001b[1;32m     73\u001b[0m       \u001b[0mself\u001b[0m\u001b[0;34m.\u001b[0m\u001b[0mhttp\u001b[0m \u001b[0;34m=\u001b[0m \u001b[0mself\u001b[0m\u001b[0;34m.\u001b[0m\u001b[0mauth\u001b[0m\u001b[0;34m.\u001b[0m\u001b[0mGet_Http_Object\u001b[0m\u001b[0;34m(\u001b[0m\u001b[0;34m)\u001b[0m\u001b[0;34m\u001b[0m\u001b[0;34m\u001b[0m\u001b[0m\n\u001b[1;32m     74\u001b[0m \u001b[0;34m\u001b[0m\u001b[0m\n\u001b[0;32m---> 75\u001b[0;31m     \u001b[0;32mreturn\u001b[0m \u001b[0mdecoratee\u001b[0m\u001b[0;34m(\u001b[0m\u001b[0mself\u001b[0m\u001b[0;34m,\u001b[0m \u001b[0;34m*\u001b[0m\u001b[0margs\u001b[0m\u001b[0;34m,\u001b[0m \u001b[0;34m**\u001b[0m\u001b[0mkwargs\u001b[0m\u001b[0;34m)\u001b[0m\u001b[0;34m\u001b[0m\u001b[0;34m\u001b[0m\u001b[0m\n\u001b[0m\u001b[1;32m     76\u001b[0m   \u001b[0;32mreturn\u001b[0m \u001b[0m_decorated\u001b[0m\u001b[0;34m\u001b[0m\u001b[0;34m\u001b[0m\u001b[0m\n\u001b[1;32m     77\u001b[0m \u001b[0;34m\u001b[0m\u001b[0m\n",
            "\u001b[0;32m/usr/local/lib/python3.7/dist-packages/pydrive/files.py\u001b[0m in \u001b[0;36mFetchMetadata\u001b[0;34m(self, fields, fetch_all)\u001b[0m\n\u001b[1;32m    237\u001b[0m           \u001b[0;34m.\u001b[0m\u001b[0mexecute\u001b[0m\u001b[0;34m(\u001b[0m\u001b[0mhttp\u001b[0m\u001b[0;34m=\u001b[0m\u001b[0mself\u001b[0m\u001b[0;34m.\u001b[0m\u001b[0mhttp\u001b[0m\u001b[0;34m)\u001b[0m\u001b[0;34m\u001b[0m\u001b[0;34m\u001b[0m\u001b[0m\n\u001b[1;32m    238\u001b[0m       \u001b[0;32mexcept\u001b[0m \u001b[0merrors\u001b[0m\u001b[0;34m.\u001b[0m\u001b[0mHttpError\u001b[0m \u001b[0;32mas\u001b[0m \u001b[0merror\u001b[0m\u001b[0;34m:\u001b[0m\u001b[0;34m\u001b[0m\u001b[0;34m\u001b[0m\u001b[0m\n\u001b[0;32m--> 239\u001b[0;31m         \u001b[0;32mraise\u001b[0m \u001b[0mApiRequestError\u001b[0m\u001b[0;34m(\u001b[0m\u001b[0merror\u001b[0m\u001b[0;34m)\u001b[0m\u001b[0;34m\u001b[0m\u001b[0;34m\u001b[0m\u001b[0m\n\u001b[0m\u001b[1;32m    240\u001b[0m       \u001b[0;32melse\u001b[0m\u001b[0;34m:\u001b[0m\u001b[0;34m\u001b[0m\u001b[0;34m\u001b[0m\u001b[0m\n\u001b[1;32m    241\u001b[0m         \u001b[0mself\u001b[0m\u001b[0;34m.\u001b[0m\u001b[0muploaded\u001b[0m \u001b[0;34m=\u001b[0m \u001b[0;32mTrue\u001b[0m\u001b[0;34m\u001b[0m\u001b[0;34m\u001b[0m\u001b[0m\n",
            "\u001b[0;31mApiRequestError\u001b[0m: <HttpError 404 when requesting https://www.googleapis.com/drive/v2/files/https%3A%2F%2Fdrive.google.com%2Ffile%2Fd%2F1hjJHSanUs6pzodxhkkKN24I_VZK4eSLo%2Fview%3Fusp%3Dsharing?alt=json returned \"File not found: https://drive.google.com/file/d/1hjJHSanUs6pzodxhkkKN24I_VZK4eSLo/view?usp=sharing\". Details: \"File not found: https://drive.google.com/file/d/1hjJHSanUs6pzodxhkkKN24I_VZK4eSLo/view?usp=sharing\">"
          ]
        }
      ]
    },
    {
      "cell_type": "code",
      "metadata": {
        "id": "B_pN7gaHe_Rk"
      },
      "source": [
        "isNN = False"
      ],
      "execution_count": null,
      "outputs": []
    },
    {
      "cell_type": "code",
      "metadata": {
        "id": "-iy5bma-09se",
        "colab": {
          "base_uri": "https://localhost:8080/"
        },
        "outputId": "02337a66-341e-46a8-b88d-c197a2ccb090"
      },
      "source": [
        "# Loading the data obtained by NN and BDT\n",
        "\n",
        "if isNN:\n",
        "  \n",
        "  \n",
        "  tab=pd.read_csv('tableau_NN.csv', delimiter=',')\n",
        "  events_list= eventId_test.tolist()\n",
        "  #score label weight\n",
        "  # events_list=[[events_list[i][3],events_list[i][1],events_list[i][2]] for i in range (len(events_list))]\n",
        "  result = pd.concat([eventId_test, label_test, weight_test, pred])\n",
        "  good_result = pd.concat([pred, label_test, weight_test])\n",
        "  events_list = good_result.values.tolist()\n",
        "\n",
        "else:\n",
        "  tab=pd.read_csv('tableau_BDT.csv', delimiter=',')\n",
        "  #tab=pd.read_csv('X_test_score_label_weight_PRI_DER.csv', delimiter=',')\n",
        "  events_list=tab.values.tolist()\n",
        "  #score label weight\n",
        "  events_list=[[events_list[i][3],events_list[i][1],events_list[i][2]] for i in range (len(events_list))]\n",
        "\n",
        "\n",
        "# Definition of the empirical probability density functions for the signal and background\n",
        "def diagram(l,dt):\n",
        "  x = np.arange(0,1+dt,dt)\n",
        "  count_signal = [0]*len(x)\n",
        "  count_bruit = [0]*len(x)\n",
        "  nb_signal = 0\n",
        "  nb_bruit = 0\n",
        "  weight_signal = 0\n",
        "  weight_bruit = 0\n",
        "  for e in l:\n",
        "    for k in range(1,len(x)):\n",
        "      if x[k]>e[0] and x[k-1]<=e[0]:\n",
        "        if e[1]==0:\n",
        "          count_bruit[k-1]+= e[2]\n",
        "          weight_bruit += e[2]\n",
        "          nb_bruit += 1\n",
        "        else:\n",
        "          count_signal[k-1]+= e[2]\n",
        "          weight_signal += e[2]\n",
        "          nb_signal += 1\n",
        "  print(weight_bruit,weight_signal)\n",
        "  cs = [i/weight_signal for i in count_signal]\n",
        "  cb =  [i/weight_bruit for i in count_bruit]\n",
        "  return np.array(cs),np.array(cb),weight_signal,weight_bruit\n",
        "\n",
        "dt = 0.05\n",
        "pS,pB,S,B = diagram(events_list,dt)\n",
        "S,B = round(S), round(B)\n",
        "\n",
        "n = S+B\n",
        "\n",
        "# Definition of the parametric model\n",
        "def model(mu):\n",
        "  return mu*S + B"
      ],
      "execution_count": null,
      "outputs": [
        {
          "output_type": "stream",
          "text": [
            "329037.54309081845 661.9422389424745\n"
          ],
          "name": "stdout"
        }
      ]
    },
    {
      "cell_type": "markdown",
      "metadata": {
        "id": "lygX7C_NEV7j"
      },
      "source": [
        "## Counting analysis"
      ]
    },
    {
      "cell_type": "markdown",
      "metadata": {
        "id": "hwvp_TLmuwgK"
      },
      "source": [
        "Our first approach will consist in couting the total number of signal events and of background events, regardless of their score.\n",
        "\n",
        "Given our definition of $n:=S+B$, we expect $\\hat{\\mu}$, the maximum likelihood estimator for $\\mu$, to be equal to $1$. Nonetheless, we may determine the uncertainty $\\sigma_\\mu$ on that value.\n",
        "\n",
        "To do so, we use the following approximation:\n",
        "$$-2\\,\\log\\left(\\frac{{\\cal L}(\\mu)} {{\\cal L}(\\hat{\\mu})}\\right)\\approx\\left(\\frac{\\mu-\\hat{\\mu}}{\\sigma_{\\mu}}\\right)^2,$$\n",
        "and notice that, for $\\mu=\\hat{\\mu}\\pm\\sigma_\\mu$, it holds: $\\left(\\frac{\\mu-\\hat{\\mu}}{\\sigma_{\\mu}}\\right)^2=1$.\n",
        "\n",
        "All in all, if $\\mu_-\\leq\\mu_+$ are such that:\n",
        "$$-2\\,\\log\\left(\\frac{{\\cal L}(\\mu_\\pm)} {{\\cal L}(\\hat{\\mu})}\\right)=1,$$\n",
        "then we can estimate $\\sigma_\\mu\\approx\\frac{\\mu_+-\\mu_-}{2}$.\n"
      ]
    },
    {
      "cell_type": "code",
      "metadata": {
        "id": "RLLDfilzucCU",
        "colab": {
          "base_uri": "https://localhost:8080/",
          "height": 452
        },
        "outputId": "134f1b9b-e6cf-4940-9689-78908689d9a8"
      },
      "source": [
        "# Definition of the log-likelihood\n",
        "def loglik(mu, n):\n",
        "  return -2*np.log(poisson.pmf(n, model(mu)))\n",
        "\n",
        "# Disretization of mu values and associated log-likelihood\n",
        "mu_axis_values = np.linspace(0, 2, 1000)\n",
        "loglike_values = np.array([loglik(mu, n) for mu in mu_axis_values])\n",
        "\n",
        "plt.plot(mu_axis_values, loglike_values - min(loglike_values), color = 'tab:orange', label='log-likelihood')\n",
        "plt.hlines(1, min(mu_axis_values), max(mu_axis_values), linestyle= ':', color= 'tab:gray')\n",
        "\n",
        "# Determination of mu- and mu+:\n",
        "idx = np.argwhere(np.diff(np.sign(loglike_values-min(loglike_values)-1))).flatten()\n",
        "\n",
        "# Plot of the mu values:\n",
        "plt.plot(mu_axis_values[idx], [1, 1], 'ko', label=r'$1\\sigma$ interval')\n",
        "plt.plot(mu_axis_values[idx[0]]*np.ones(2), [0, 1], 'k--')\n",
        "plt.plot(mu_axis_values[idx[1]]*np.ones(2), [0, 1], 'k--')\n",
        "plt.xlabel(r'$\\mu$')\n",
        "plt.ylabel(r'$-2\\log {\\cal L}(\\mu)/{\\cal L}(\\hat{\\mu})$')\n",
        "plt.title(r'Log-likelihood profile with respect to $\\mu$')\n",
        "\n",
        "# Computation of sigma_mu\n",
        "sigma_mu = np.diff(mu_axis_values[idx])/2\n",
        "\n",
        "plt.plot(mu_axis_values, ((mu_axis_values-1)/sigma_mu)**2, linestyle='--',\n",
        "         color= 'tab:green', label='parabola approximation')\n",
        "plt.legend(facecolor = 'w')\n",
        "plt.show()\n",
        "\n",
        "# Determination of mu_hat for the discretization\n",
        "muhat = mu_axis_values[np.argmin(loglike_values)]\n",
        "\n",
        "print('{Counting analysis} Best fit parameter and uncertainty:\\n')\n",
        "pprint(muhat, mu_axis_values[idx[1]] - muhat, abs(mu_axis_values[idx[0]] - muhat))"
      ],
      "execution_count": null,
      "outputs": [
        {
          "output_type": "display_data",
          "data": {
            "text/plain": [
              "<Figure size 432x288 with 1 Axes>"
            ],
            "image/svg+xml": "<?xml version=\"1.0\" encoding=\"utf-8\" standalone=\"no\"?>\n<!DOCTYPE svg PUBLIC \"-//W3C//DTD SVG 1.1//EN\"\n  \"http://www.w3.org/Graphics/SVG/1.1/DTD/svg11.dtd\">\n<!-- Created with matplotlib (https://matplotlib.org/) -->\n<svg height=\"281.075875pt\" version=\"1.1\" viewBox=\"0 0 389.663125 281.075875\" width=\"389.663125pt\" xmlns=\"http://www.w3.org/2000/svg\" xmlns:xlink=\"http://www.w3.org/1999/xlink\">\n <defs>\n  <style type=\"text/css\">\n*{stroke-linecap:butt;stroke-linejoin:round;}\n  </style>\n </defs>\n <g id=\"figure_1\">\n  <g id=\"patch_1\">\n   <path d=\"M 0 281.075875 \nL 389.663125 281.075875 \nL 389.663125 0 \nL 0 0 \nz\n\" style=\"fill:#ffffff;\"/>\n  </g>\n  <g id=\"axes_1\">\n   <g id=\"patch_2\">\n    <path d=\"M 47.663125 241.584 \nL 382.463125 241.584 \nL 382.463125 24.144 \nL 47.663125 24.144 \nz\n\" style=\"fill:#e5e5e5;\"/>\n   </g>\n   <g id=\"matplotlib.axis_1\">\n    <g id=\"xtick_1\">\n     <g id=\"line2d_1\">\n      <path clip-path=\"url(#pcf4759c49a)\" d=\"M 62.881307 241.584 \nL 62.881307 24.144 \n\" style=\"fill:none;stroke:#ffffff;stroke-linecap:square;stroke-width:0.8;\"/>\n     </g>\n     <g id=\"line2d_2\">\n      <defs>\n       <path d=\"M 0 0 \nL 0 3.5 \n\" id=\"mcec90978d1\" style=\"stroke:#555555;stroke-width:0.8;\"/>\n      </defs>\n      <g>\n       <use style=\"fill:#555555;stroke:#555555;stroke-width:0.8;\" x=\"62.881307\" xlink:href=\"#mcec90978d1\" y=\"241.584\"/>\n      </g>\n     </g>\n     <g id=\"text_1\">\n      <!-- 0.00 -->\n      <defs>\n       <path d=\"M 31.78125 66.40625 \nQ 24.171875 66.40625 20.328125 58.90625 \nQ 16.5 51.421875 16.5 36.375 \nQ 16.5 21.390625 20.328125 13.890625 \nQ 24.171875 6.390625 31.78125 6.390625 \nQ 39.453125 6.390625 43.28125 13.890625 \nQ 47.125 21.390625 47.125 36.375 \nQ 47.125 51.421875 43.28125 58.90625 \nQ 39.453125 66.40625 31.78125 66.40625 \nz\nM 31.78125 74.21875 \nQ 44.046875 74.21875 50.515625 64.515625 \nQ 56.984375 54.828125 56.984375 36.375 \nQ 56.984375 17.96875 50.515625 8.265625 \nQ 44.046875 -1.421875 31.78125 -1.421875 \nQ 19.53125 -1.421875 13.0625 8.265625 \nQ 6.59375 17.96875 6.59375 36.375 \nQ 6.59375 54.828125 13.0625 64.515625 \nQ 19.53125 74.21875 31.78125 74.21875 \nz\n\" id=\"DejaVuSans-48\"/>\n       <path d=\"M 10.6875 12.40625 \nL 21 12.40625 \nL 21 0 \nL 10.6875 0 \nz\n\" id=\"DejaVuSans-46\"/>\n      </defs>\n      <g style=\"fill:#555555;\" transform=\"translate(51.748494 256.182437)scale(0.1 -0.1)\">\n       <use xlink:href=\"#DejaVuSans-48\"/>\n       <use x=\"63.623047\" xlink:href=\"#DejaVuSans-46\"/>\n       <use x=\"95.410156\" xlink:href=\"#DejaVuSans-48\"/>\n       <use x=\"159.033203\" xlink:href=\"#DejaVuSans-48\"/>\n      </g>\n     </g>\n    </g>\n    <g id=\"xtick_2\">\n     <g id=\"line2d_3\">\n      <path clip-path=\"url(#pcf4759c49a)\" d=\"M 100.926761 241.584 \nL 100.926761 24.144 \n\" style=\"fill:none;stroke:#ffffff;stroke-linecap:square;stroke-width:0.8;\"/>\n     </g>\n     <g id=\"line2d_4\">\n      <g>\n       <use style=\"fill:#555555;stroke:#555555;stroke-width:0.8;\" x=\"100.926761\" xlink:href=\"#mcec90978d1\" y=\"241.584\"/>\n      </g>\n     </g>\n     <g id=\"text_2\">\n      <!-- 0.25 -->\n      <defs>\n       <path d=\"M 19.1875 8.296875 \nL 53.609375 8.296875 \nL 53.609375 0 \nL 7.328125 0 \nL 7.328125 8.296875 \nQ 12.9375 14.109375 22.625 23.890625 \nQ 32.328125 33.6875 34.8125 36.53125 \nQ 39.546875 41.84375 41.421875 45.53125 \nQ 43.3125 49.21875 43.3125 52.78125 \nQ 43.3125 58.59375 39.234375 62.25 \nQ 35.15625 65.921875 28.609375 65.921875 \nQ 23.96875 65.921875 18.8125 64.3125 \nQ 13.671875 62.703125 7.8125 59.421875 \nL 7.8125 69.390625 \nQ 13.765625 71.78125 18.9375 73 \nQ 24.125 74.21875 28.421875 74.21875 \nQ 39.75 74.21875 46.484375 68.546875 \nQ 53.21875 62.890625 53.21875 53.421875 \nQ 53.21875 48.921875 51.53125 44.890625 \nQ 49.859375 40.875 45.40625 35.40625 \nQ 44.1875 33.984375 37.640625 27.21875 \nQ 31.109375 20.453125 19.1875 8.296875 \nz\n\" id=\"DejaVuSans-50\"/>\n       <path d=\"M 10.796875 72.90625 \nL 49.515625 72.90625 \nL 49.515625 64.59375 \nL 19.828125 64.59375 \nL 19.828125 46.734375 \nQ 21.96875 47.46875 24.109375 47.828125 \nQ 26.265625 48.1875 28.421875 48.1875 \nQ 40.625 48.1875 47.75 41.5 \nQ 54.890625 34.8125 54.890625 23.390625 \nQ 54.890625 11.625 47.5625 5.09375 \nQ 40.234375 -1.421875 26.90625 -1.421875 \nQ 22.3125 -1.421875 17.546875 -0.640625 \nQ 12.796875 0.140625 7.71875 1.703125 \nL 7.71875 11.625 \nQ 12.109375 9.234375 16.796875 8.0625 \nQ 21.484375 6.890625 26.703125 6.890625 \nQ 35.15625 6.890625 40.078125 11.328125 \nQ 45.015625 15.765625 45.015625 23.390625 \nQ 45.015625 31 40.078125 35.4375 \nQ 35.15625 39.890625 26.703125 39.890625 \nQ 22.75 39.890625 18.8125 39.015625 \nQ 14.890625 38.140625 10.796875 36.28125 \nz\n\" id=\"DejaVuSans-53\"/>\n      </defs>\n      <g style=\"fill:#555555;\" transform=\"translate(89.793949 256.182437)scale(0.1 -0.1)\">\n       <use xlink:href=\"#DejaVuSans-48\"/>\n       <use x=\"63.623047\" xlink:href=\"#DejaVuSans-46\"/>\n       <use x=\"95.410156\" xlink:href=\"#DejaVuSans-50\"/>\n       <use x=\"159.033203\" xlink:href=\"#DejaVuSans-53\"/>\n      </g>\n     </g>\n    </g>\n    <g id=\"xtick_3\">\n     <g id=\"line2d_5\">\n      <path clip-path=\"url(#pcf4759c49a)\" d=\"M 138.972216 241.584 \nL 138.972216 24.144 \n\" style=\"fill:none;stroke:#ffffff;stroke-linecap:square;stroke-width:0.8;\"/>\n     </g>\n     <g id=\"line2d_6\">\n      <g>\n       <use style=\"fill:#555555;stroke:#555555;stroke-width:0.8;\" x=\"138.972216\" xlink:href=\"#mcec90978d1\" y=\"241.584\"/>\n      </g>\n     </g>\n     <g id=\"text_3\">\n      <!-- 0.50 -->\n      <g style=\"fill:#555555;\" transform=\"translate(127.839403 256.182437)scale(0.1 -0.1)\">\n       <use xlink:href=\"#DejaVuSans-48\"/>\n       <use x=\"63.623047\" xlink:href=\"#DejaVuSans-46\"/>\n       <use x=\"95.410156\" xlink:href=\"#DejaVuSans-53\"/>\n       <use x=\"159.033203\" xlink:href=\"#DejaVuSans-48\"/>\n      </g>\n     </g>\n    </g>\n    <g id=\"xtick_4\">\n     <g id=\"line2d_7\">\n      <path clip-path=\"url(#pcf4759c49a)\" d=\"M 177.01767 241.584 \nL 177.01767 24.144 \n\" style=\"fill:none;stroke:#ffffff;stroke-linecap:square;stroke-width:0.8;\"/>\n     </g>\n     <g id=\"line2d_8\">\n      <g>\n       <use style=\"fill:#555555;stroke:#555555;stroke-width:0.8;\" x=\"177.01767\" xlink:href=\"#mcec90978d1\" y=\"241.584\"/>\n      </g>\n     </g>\n     <g id=\"text_4\">\n      <!-- 0.75 -->\n      <defs>\n       <path d=\"M 8.203125 72.90625 \nL 55.078125 72.90625 \nL 55.078125 68.703125 \nL 28.609375 0 \nL 18.3125 0 \nL 43.21875 64.59375 \nL 8.203125 64.59375 \nz\n\" id=\"DejaVuSans-55\"/>\n      </defs>\n      <g style=\"fill:#555555;\" transform=\"translate(165.884858 256.182437)scale(0.1 -0.1)\">\n       <use xlink:href=\"#DejaVuSans-48\"/>\n       <use x=\"63.623047\" xlink:href=\"#DejaVuSans-46\"/>\n       <use x=\"95.410156\" xlink:href=\"#DejaVuSans-55\"/>\n       <use x=\"159.033203\" xlink:href=\"#DejaVuSans-53\"/>\n      </g>\n     </g>\n    </g>\n    <g id=\"xtick_5\">\n     <g id=\"line2d_9\">\n      <path clip-path=\"url(#pcf4759c49a)\" d=\"M 215.063125 241.584 \nL 215.063125 24.144 \n\" style=\"fill:none;stroke:#ffffff;stroke-linecap:square;stroke-width:0.8;\"/>\n     </g>\n     <g id=\"line2d_10\">\n      <g>\n       <use style=\"fill:#555555;stroke:#555555;stroke-width:0.8;\" x=\"215.063125\" xlink:href=\"#mcec90978d1\" y=\"241.584\"/>\n      </g>\n     </g>\n     <g id=\"text_5\">\n      <!-- 1.00 -->\n      <defs>\n       <path d=\"M 12.40625 8.296875 \nL 28.515625 8.296875 \nL 28.515625 63.921875 \nL 10.984375 60.40625 \nL 10.984375 69.390625 \nL 28.421875 72.90625 \nL 38.28125 72.90625 \nL 38.28125 8.296875 \nL 54.390625 8.296875 \nL 54.390625 0 \nL 12.40625 0 \nz\n\" id=\"DejaVuSans-49\"/>\n      </defs>\n      <g style=\"fill:#555555;\" transform=\"translate(203.930312 256.182437)scale(0.1 -0.1)\">\n       <use xlink:href=\"#DejaVuSans-49\"/>\n       <use x=\"63.623047\" xlink:href=\"#DejaVuSans-46\"/>\n       <use x=\"95.410156\" xlink:href=\"#DejaVuSans-48\"/>\n       <use x=\"159.033203\" xlink:href=\"#DejaVuSans-48\"/>\n      </g>\n     </g>\n    </g>\n    <g id=\"xtick_6\">\n     <g id=\"line2d_11\">\n      <path clip-path=\"url(#pcf4759c49a)\" d=\"M 253.10858 241.584 \nL 253.10858 24.144 \n\" style=\"fill:none;stroke:#ffffff;stroke-linecap:square;stroke-width:0.8;\"/>\n     </g>\n     <g id=\"line2d_12\">\n      <g>\n       <use style=\"fill:#555555;stroke:#555555;stroke-width:0.8;\" x=\"253.10858\" xlink:href=\"#mcec90978d1\" y=\"241.584\"/>\n      </g>\n     </g>\n     <g id=\"text_6\">\n      <!-- 1.25 -->\n      <g style=\"fill:#555555;\" transform=\"translate(241.975767 256.182437)scale(0.1 -0.1)\">\n       <use xlink:href=\"#DejaVuSans-49\"/>\n       <use x=\"63.623047\" xlink:href=\"#DejaVuSans-46\"/>\n       <use x=\"95.410156\" xlink:href=\"#DejaVuSans-50\"/>\n       <use x=\"159.033203\" xlink:href=\"#DejaVuSans-53\"/>\n      </g>\n     </g>\n    </g>\n    <g id=\"xtick_7\">\n     <g id=\"line2d_13\">\n      <path clip-path=\"url(#pcf4759c49a)\" d=\"M 291.154034 241.584 \nL 291.154034 24.144 \n\" style=\"fill:none;stroke:#ffffff;stroke-linecap:square;stroke-width:0.8;\"/>\n     </g>\n     <g id=\"line2d_14\">\n      <g>\n       <use style=\"fill:#555555;stroke:#555555;stroke-width:0.8;\" x=\"291.154034\" xlink:href=\"#mcec90978d1\" y=\"241.584\"/>\n      </g>\n     </g>\n     <g id=\"text_7\">\n      <!-- 1.50 -->\n      <g style=\"fill:#555555;\" transform=\"translate(280.021222 256.182437)scale(0.1 -0.1)\">\n       <use xlink:href=\"#DejaVuSans-49\"/>\n       <use x=\"63.623047\" xlink:href=\"#DejaVuSans-46\"/>\n       <use x=\"95.410156\" xlink:href=\"#DejaVuSans-53\"/>\n       <use x=\"159.033203\" xlink:href=\"#DejaVuSans-48\"/>\n      </g>\n     </g>\n    </g>\n    <g id=\"xtick_8\">\n     <g id=\"line2d_15\">\n      <path clip-path=\"url(#pcf4759c49a)\" d=\"M 329.199489 241.584 \nL 329.199489 24.144 \n\" style=\"fill:none;stroke:#ffffff;stroke-linecap:square;stroke-width:0.8;\"/>\n     </g>\n     <g id=\"line2d_16\">\n      <g>\n       <use style=\"fill:#555555;stroke:#555555;stroke-width:0.8;\" x=\"329.199489\" xlink:href=\"#mcec90978d1\" y=\"241.584\"/>\n      </g>\n     </g>\n     <g id=\"text_8\">\n      <!-- 1.75 -->\n      <g style=\"fill:#555555;\" transform=\"translate(318.066676 256.182437)scale(0.1 -0.1)\">\n       <use xlink:href=\"#DejaVuSans-49\"/>\n       <use x=\"63.623047\" xlink:href=\"#DejaVuSans-46\"/>\n       <use x=\"95.410156\" xlink:href=\"#DejaVuSans-55\"/>\n       <use x=\"159.033203\" xlink:href=\"#DejaVuSans-53\"/>\n      </g>\n     </g>\n    </g>\n    <g id=\"xtick_9\">\n     <g id=\"line2d_17\">\n      <path clip-path=\"url(#pcf4759c49a)\" d=\"M 367.244943 241.584 \nL 367.244943 24.144 \n\" style=\"fill:none;stroke:#ffffff;stroke-linecap:square;stroke-width:0.8;\"/>\n     </g>\n     <g id=\"line2d_18\">\n      <g>\n       <use style=\"fill:#555555;stroke:#555555;stroke-width:0.8;\" x=\"367.244943\" xlink:href=\"#mcec90978d1\" y=\"241.584\"/>\n      </g>\n     </g>\n     <g id=\"text_9\">\n      <!-- 2.00 -->\n      <g style=\"fill:#555555;\" transform=\"translate(356.112131 256.182437)scale(0.1 -0.1)\">\n       <use xlink:href=\"#DejaVuSans-50\"/>\n       <use x=\"63.623047\" xlink:href=\"#DejaVuSans-46\"/>\n       <use x=\"95.410156\" xlink:href=\"#DejaVuSans-48\"/>\n       <use x=\"159.033203\" xlink:href=\"#DejaVuSans-48\"/>\n      </g>\n     </g>\n    </g>\n    <g id=\"text_10\">\n     <!-- $\\mu$ -->\n     <defs>\n      <path d=\"M -1.3125 -20.796875 \nL 13.375 54.6875 \nL 22.40625 54.6875 \nL 15.765625 20.65625 \nQ 15.578125 19.625 15.421875 18.359375 \nQ 15.28125 17.09375 15.28125 15.828125 \nQ 15.28125 11.28125 18.140625 8.828125 \nQ 21 6.390625 26.3125 6.390625 \nQ 33.546875 6.390625 37.984375 10.484375 \nQ 42.4375 14.59375 44 22.796875 \nL 50.203125 54.6875 \nL 59.1875 54.6875 \nL 51.03125 12.640625 \nQ 50.828125 11.71875 50.75 11.03125 \nQ 50.6875 10.359375 50.6875 9.8125 \nQ 50.6875 8.296875 51.296875 7.59375 \nQ 51.90625 6.890625 53.21875 6.890625 \nQ 53.71875 6.890625 54.5625 7.125 \nQ 55.421875 7.375 56.984375 8.015625 \nL 55.609375 0.78125 \nQ 53.46875 -0.296875 51.515625 -0.859375 \nQ 49.5625 -1.421875 47.703125 -1.421875 \nQ 44.484375 -1.421875 42.65625 0.625 \nQ 40.828125 2.6875 40.828125 6.296875 \nQ 38.09375 2.390625 34.296875 0.484375 \nQ 30.515625 -1.421875 25.390625 -1.421875 \nQ 20.84375 -1.421875 17.453125 0.671875 \nQ 14.0625 2.78125 12.984375 6.203125 \nL 7.71875 -20.796875 \nz\n\" id=\"DejaVuSans-Oblique-956\"/>\n     </defs>\n     <g style=\"fill:#555555;\" transform=\"translate(211.223125 271.355875)scale(0.12 -0.12)\">\n      <use transform=\"translate(0 0.3125)\" xlink:href=\"#DejaVuSans-Oblique-956\"/>\n     </g>\n    </g>\n   </g>\n   <g id=\"matplotlib.axis_2\">\n    <g id=\"ytick_1\">\n     <g id=\"line2d_19\">\n      <path clip-path=\"url(#pcf4759c49a)\" d=\"M 47.663125 231.700364 \nL 382.463125 231.700364 \n\" style=\"fill:none;stroke:#ffffff;stroke-linecap:square;stroke-width:0.8;\"/>\n     </g>\n     <g id=\"line2d_20\">\n      <defs>\n       <path d=\"M 0 0 \nL -3.5 0 \n\" id=\"mbad784834f\" style=\"stroke:#555555;stroke-width:0.8;\"/>\n      </defs>\n      <g>\n       <use style=\"fill:#555555;stroke:#555555;stroke-width:0.8;\" x=\"47.663125\" xlink:href=\"#mbad784834f\" y=\"231.700364\"/>\n      </g>\n     </g>\n     <g id=\"text_11\">\n      <!-- 0.0 -->\n      <g style=\"fill:#555555;\" transform=\"translate(24.76 235.499582)scale(0.1 -0.1)\">\n       <use xlink:href=\"#DejaVuSans-48\"/>\n       <use x=\"63.623047\" xlink:href=\"#DejaVuSans-46\"/>\n       <use x=\"95.410156\" xlink:href=\"#DejaVuSans-48\"/>\n      </g>\n     </g>\n    </g>\n    <g id=\"ytick_2\">\n     <g id=\"line2d_21\">\n      <path clip-path=\"url(#pcf4759c49a)\" d=\"M 47.663125 201.9975 \nL 382.463125 201.9975 \n\" style=\"fill:none;stroke:#ffffff;stroke-linecap:square;stroke-width:0.8;\"/>\n     </g>\n     <g id=\"line2d_22\">\n      <g>\n       <use style=\"fill:#555555;stroke:#555555;stroke-width:0.8;\" x=\"47.663125\" xlink:href=\"#mbad784834f\" y=\"201.9975\"/>\n      </g>\n     </g>\n     <g id=\"text_12\">\n      <!-- 0.2 -->\n      <g style=\"fill:#555555;\" transform=\"translate(24.76 205.796719)scale(0.1 -0.1)\">\n       <use xlink:href=\"#DejaVuSans-48\"/>\n       <use x=\"63.623047\" xlink:href=\"#DejaVuSans-46\"/>\n       <use x=\"95.410156\" xlink:href=\"#DejaVuSans-50\"/>\n      </g>\n     </g>\n    </g>\n    <g id=\"ytick_3\">\n     <g id=\"line2d_23\">\n      <path clip-path=\"url(#pcf4759c49a)\" d=\"M 47.663125 172.294636 \nL 382.463125 172.294636 \n\" style=\"fill:none;stroke:#ffffff;stroke-linecap:square;stroke-width:0.8;\"/>\n     </g>\n     <g id=\"line2d_24\">\n      <g>\n       <use style=\"fill:#555555;stroke:#555555;stroke-width:0.8;\" x=\"47.663125\" xlink:href=\"#mbad784834f\" y=\"172.294636\"/>\n      </g>\n     </g>\n     <g id=\"text_13\">\n      <!-- 0.4 -->\n      <defs>\n       <path d=\"M 37.796875 64.3125 \nL 12.890625 25.390625 \nL 37.796875 25.390625 \nz\nM 35.203125 72.90625 \nL 47.609375 72.90625 \nL 47.609375 25.390625 \nL 58.015625 25.390625 \nL 58.015625 17.1875 \nL 47.609375 17.1875 \nL 47.609375 0 \nL 37.796875 0 \nL 37.796875 17.1875 \nL 4.890625 17.1875 \nL 4.890625 26.703125 \nz\n\" id=\"DejaVuSans-52\"/>\n      </defs>\n      <g style=\"fill:#555555;\" transform=\"translate(24.76 176.093855)scale(0.1 -0.1)\">\n       <use xlink:href=\"#DejaVuSans-48\"/>\n       <use x=\"63.623047\" xlink:href=\"#DejaVuSans-46\"/>\n       <use x=\"95.410156\" xlink:href=\"#DejaVuSans-52\"/>\n      </g>\n     </g>\n    </g>\n    <g id=\"ytick_4\">\n     <g id=\"line2d_25\">\n      <path clip-path=\"url(#pcf4759c49a)\" d=\"M 47.663125 142.591772 \nL 382.463125 142.591772 \n\" style=\"fill:none;stroke:#ffffff;stroke-linecap:square;stroke-width:0.8;\"/>\n     </g>\n     <g id=\"line2d_26\">\n      <g>\n       <use style=\"fill:#555555;stroke:#555555;stroke-width:0.8;\" x=\"47.663125\" xlink:href=\"#mbad784834f\" y=\"142.591772\"/>\n      </g>\n     </g>\n     <g id=\"text_14\">\n      <!-- 0.6 -->\n      <defs>\n       <path d=\"M 33.015625 40.375 \nQ 26.375 40.375 22.484375 35.828125 \nQ 18.609375 31.296875 18.609375 23.390625 \nQ 18.609375 15.53125 22.484375 10.953125 \nQ 26.375 6.390625 33.015625 6.390625 \nQ 39.65625 6.390625 43.53125 10.953125 \nQ 47.40625 15.53125 47.40625 23.390625 \nQ 47.40625 31.296875 43.53125 35.828125 \nQ 39.65625 40.375 33.015625 40.375 \nz\nM 52.59375 71.296875 \nL 52.59375 62.3125 \nQ 48.875 64.0625 45.09375 64.984375 \nQ 41.3125 65.921875 37.59375 65.921875 \nQ 27.828125 65.921875 22.671875 59.328125 \nQ 17.53125 52.734375 16.796875 39.40625 \nQ 19.671875 43.65625 24.015625 45.921875 \nQ 28.375 48.1875 33.59375 48.1875 \nQ 44.578125 48.1875 50.953125 41.515625 \nQ 57.328125 34.859375 57.328125 23.390625 \nQ 57.328125 12.15625 50.6875 5.359375 \nQ 44.046875 -1.421875 33.015625 -1.421875 \nQ 20.359375 -1.421875 13.671875 8.265625 \nQ 6.984375 17.96875 6.984375 36.375 \nQ 6.984375 53.65625 15.1875 63.9375 \nQ 23.390625 74.21875 37.203125 74.21875 \nQ 40.921875 74.21875 44.703125 73.484375 \nQ 48.484375 72.75 52.59375 71.296875 \nz\n\" id=\"DejaVuSans-54\"/>\n      </defs>\n      <g style=\"fill:#555555;\" transform=\"translate(24.76 146.390991)scale(0.1 -0.1)\">\n       <use xlink:href=\"#DejaVuSans-48\"/>\n       <use x=\"63.623047\" xlink:href=\"#DejaVuSans-46\"/>\n       <use x=\"95.410156\" xlink:href=\"#DejaVuSans-54\"/>\n      </g>\n     </g>\n    </g>\n    <g id=\"ytick_5\">\n     <g id=\"line2d_27\">\n      <path clip-path=\"url(#pcf4759c49a)\" d=\"M 47.663125 112.888909 \nL 382.463125 112.888909 \n\" style=\"fill:none;stroke:#ffffff;stroke-linecap:square;stroke-width:0.8;\"/>\n     </g>\n     <g id=\"line2d_28\">\n      <g>\n       <use style=\"fill:#555555;stroke:#555555;stroke-width:0.8;\" x=\"47.663125\" xlink:href=\"#mbad784834f\" y=\"112.888909\"/>\n      </g>\n     </g>\n     <g id=\"text_15\">\n      <!-- 0.8 -->\n      <defs>\n       <path d=\"M 31.78125 34.625 \nQ 24.75 34.625 20.71875 30.859375 \nQ 16.703125 27.09375 16.703125 20.515625 \nQ 16.703125 13.921875 20.71875 10.15625 \nQ 24.75 6.390625 31.78125 6.390625 \nQ 38.8125 6.390625 42.859375 10.171875 \nQ 46.921875 13.96875 46.921875 20.515625 \nQ 46.921875 27.09375 42.890625 30.859375 \nQ 38.875 34.625 31.78125 34.625 \nz\nM 21.921875 38.8125 \nQ 15.578125 40.375 12.03125 44.71875 \nQ 8.5 49.078125 8.5 55.328125 \nQ 8.5 64.0625 14.71875 69.140625 \nQ 20.953125 74.21875 31.78125 74.21875 \nQ 42.671875 74.21875 48.875 69.140625 \nQ 55.078125 64.0625 55.078125 55.328125 \nQ 55.078125 49.078125 51.53125 44.71875 \nQ 48 40.375 41.703125 38.8125 \nQ 48.828125 37.15625 52.796875 32.3125 \nQ 56.78125 27.484375 56.78125 20.515625 \nQ 56.78125 9.90625 50.3125 4.234375 \nQ 43.84375 -1.421875 31.78125 -1.421875 \nQ 19.734375 -1.421875 13.25 4.234375 \nQ 6.78125 9.90625 6.78125 20.515625 \nQ 6.78125 27.484375 10.78125 32.3125 \nQ 14.796875 37.15625 21.921875 38.8125 \nz\nM 18.3125 54.390625 \nQ 18.3125 48.734375 21.84375 45.5625 \nQ 25.390625 42.390625 31.78125 42.390625 \nQ 38.140625 42.390625 41.71875 45.5625 \nQ 45.3125 48.734375 45.3125 54.390625 \nQ 45.3125 60.0625 41.71875 63.234375 \nQ 38.140625 66.40625 31.78125 66.40625 \nQ 25.390625 66.40625 21.84375 63.234375 \nQ 18.3125 60.0625 18.3125 54.390625 \nz\n\" id=\"DejaVuSans-56\"/>\n      </defs>\n      <g style=\"fill:#555555;\" transform=\"translate(24.76 116.688127)scale(0.1 -0.1)\">\n       <use xlink:href=\"#DejaVuSans-48\"/>\n       <use x=\"63.623047\" xlink:href=\"#DejaVuSans-46\"/>\n       <use x=\"95.410156\" xlink:href=\"#DejaVuSans-56\"/>\n      </g>\n     </g>\n    </g>\n    <g id=\"ytick_6\">\n     <g id=\"line2d_29\">\n      <path clip-path=\"url(#pcf4759c49a)\" d=\"M 47.663125 83.186045 \nL 382.463125 83.186045 \n\" style=\"fill:none;stroke:#ffffff;stroke-linecap:square;stroke-width:0.8;\"/>\n     </g>\n     <g id=\"line2d_30\">\n      <g>\n       <use style=\"fill:#555555;stroke:#555555;stroke-width:0.8;\" x=\"47.663125\" xlink:href=\"#mbad784834f\" y=\"83.186045\"/>\n      </g>\n     </g>\n     <g id=\"text_16\">\n      <!-- 1.0 -->\n      <g style=\"fill:#555555;\" transform=\"translate(24.76 86.985264)scale(0.1 -0.1)\">\n       <use xlink:href=\"#DejaVuSans-49\"/>\n       <use x=\"63.623047\" xlink:href=\"#DejaVuSans-46\"/>\n       <use x=\"95.410156\" xlink:href=\"#DejaVuSans-48\"/>\n      </g>\n     </g>\n    </g>\n    <g id=\"ytick_7\">\n     <g id=\"line2d_31\">\n      <path clip-path=\"url(#pcf4759c49a)\" d=\"M 47.663125 53.483181 \nL 382.463125 53.483181 \n\" style=\"fill:none;stroke:#ffffff;stroke-linecap:square;stroke-width:0.8;\"/>\n     </g>\n     <g id=\"line2d_32\">\n      <g>\n       <use style=\"fill:#555555;stroke:#555555;stroke-width:0.8;\" x=\"47.663125\" xlink:href=\"#mbad784834f\" y=\"53.483181\"/>\n      </g>\n     </g>\n     <g id=\"text_17\">\n      <!-- 1.2 -->\n      <g style=\"fill:#555555;\" transform=\"translate(24.76 57.2824)scale(0.1 -0.1)\">\n       <use xlink:href=\"#DejaVuSans-49\"/>\n       <use x=\"63.623047\" xlink:href=\"#DejaVuSans-46\"/>\n       <use x=\"95.410156\" xlink:href=\"#DejaVuSans-50\"/>\n      </g>\n     </g>\n    </g>\n    <g id=\"text_18\">\n     <!-- $-2\\log {\\cal L}(\\mu)/{\\cal L}(\\hat{\\mu})$ -->\n     <defs>\n      <path d=\"M 10.59375 35.5 \nL 73.1875 35.5 \nL 73.1875 27.203125 \nL 10.59375 27.203125 \nz\n\" id=\"DejaVuSans-8722\"/>\n      <path d=\"M 9.421875 75.984375 \nL 18.40625 75.984375 \nL 18.40625 0 \nL 9.421875 0 \nz\n\" id=\"DejaVuSans-108\"/>\n      <path d=\"M 30.609375 48.390625 \nQ 23.390625 48.390625 19.1875 42.75 \nQ 14.984375 37.109375 14.984375 27.296875 \nQ 14.984375 17.484375 19.15625 11.84375 \nQ 23.34375 6.203125 30.609375 6.203125 \nQ 37.796875 6.203125 41.984375 11.859375 \nQ 46.1875 17.53125 46.1875 27.296875 \nQ 46.1875 37.015625 41.984375 42.703125 \nQ 37.796875 48.390625 30.609375 48.390625 \nz\nM 30.609375 56 \nQ 42.328125 56 49.015625 48.375 \nQ 55.71875 40.765625 55.71875 27.296875 \nQ 55.71875 13.875 49.015625 6.21875 \nQ 42.328125 -1.421875 30.609375 -1.421875 \nQ 18.84375 -1.421875 12.171875 6.21875 \nQ 5.515625 13.875 5.515625 27.296875 \nQ 5.515625 40.765625 12.171875 48.375 \nQ 18.84375 56 30.609375 56 \nz\n\" id=\"DejaVuSans-111\"/>\n      <path d=\"M 45.40625 27.984375 \nQ 45.40625 37.75 41.375 43.109375 \nQ 37.359375 48.484375 30.078125 48.484375 \nQ 22.859375 48.484375 18.828125 43.109375 \nQ 14.796875 37.75 14.796875 27.984375 \nQ 14.796875 18.265625 18.828125 12.890625 \nQ 22.859375 7.515625 30.078125 7.515625 \nQ 37.359375 7.515625 41.375 12.890625 \nQ 45.40625 18.265625 45.40625 27.984375 \nz\nM 54.390625 6.78125 \nQ 54.390625 -7.171875 48.1875 -13.984375 \nQ 42 -20.796875 29.203125 -20.796875 \nQ 24.46875 -20.796875 20.265625 -20.09375 \nQ 16.0625 -19.390625 12.109375 -17.921875 \nL 12.109375 -9.1875 \nQ 16.0625 -11.328125 19.921875 -12.34375 \nQ 23.78125 -13.375 27.78125 -13.375 \nQ 36.625 -13.375 41.015625 -8.765625 \nQ 45.40625 -4.15625 45.40625 5.171875 \nL 45.40625 9.625 \nQ 42.625 4.78125 38.28125 2.390625 \nQ 33.9375 0 27.875 0 \nQ 17.828125 0 11.671875 7.65625 \nQ 5.515625 15.328125 5.515625 27.984375 \nQ 5.515625 40.671875 11.671875 48.328125 \nQ 17.828125 56 27.875 56 \nQ 33.9375 56 38.28125 53.609375 \nQ 42.625 51.21875 45.40625 46.390625 \nL 45.40625 54.6875 \nL 54.390625 54.6875 \nz\n\" id=\"DejaVuSans-103\"/>\n      <path d=\"M 63.59375 14.296875 \nL 65.296875 12.5 \nQ 52.296875 -0.703125 37.703125 -0.703125 \nQ 33.703125 -0.703125 28.90625 0.40625 \nQ 21.796875 1.90625 17.90625 1.90625 \nQ 15.703125 1.90625 10.5 0.953125 \nQ 5.296875 0 3 0 \nL 3.59375 2.40625 \nQ 9.09375 2.40625 11.40625 11.703125 \nL 18.40625 40.09375 \nQ 20.09375 47 23.6875 52.390625 \nQ 27.296875 57.796875 31.640625 60.84375 \nQ 36 63.90625 40.390625 65.453125 \nQ 44.796875 67 48.796875 67 \nQ 53.796875 67 56.140625 63.796875 \nQ 58.5 60.59375 58.5 56 \nQ 58.5 52.296875 56.140625 50 \nQ 53.796875 47.703125 50.40625 47.703125 \nQ 48.203125 47.703125 46.796875 49.203125 \nQ 45.40625 50.703125 45.40625 52.796875 \nQ 45.40625 54.40625 46.203125 55.5 \nQ 47 56.59375 47.890625 56.9375 \nQ 48.796875 57.296875 49.59375 57.890625 \nQ 50.40625 58.5 50.40625 59.203125 \nQ 50.40625 63 44.59375 63 \nQ 39.40625 63 36.09375 59.140625 \nQ 32.796875 55.296875 31.09375 48.9375 \nQ 29.40625 42.59375 28.046875 35.6875 \nQ 26.703125 28.796875 24.203125 21.296875 \nQ 21.703125 13.796875 18.09375 9.203125 \nL 18.09375 8.796875 \nQ 21.296875 11 29.5 11 \nQ 34.796875 11 38.4375 8.5 \nQ 42.09375 6 46.296875 6 \nQ 54.796875 6 63.59375 14.296875 \nz\n\" id=\"STIXNonUnicode-Italic-57912\"/>\n      <path d=\"M 31 75.875 \nQ 24.46875 64.65625 21.28125 53.65625 \nQ 18.109375 42.671875 18.109375 31.390625 \nQ 18.109375 20.125 21.3125 9.0625 \nQ 24.515625 -2 31 -13.1875 \nL 23.1875 -13.1875 \nQ 15.875 -1.703125 12.234375 9.375 \nQ 8.59375 20.453125 8.59375 31.390625 \nQ 8.59375 42.28125 12.203125 53.3125 \nQ 15.828125 64.359375 23.1875 75.875 \nz\n\" id=\"DejaVuSans-40\"/>\n      <path d=\"M 8.015625 75.875 \nL 15.828125 75.875 \nQ 23.140625 64.359375 26.78125 53.3125 \nQ 30.421875 42.28125 30.421875 31.390625 \nQ 30.421875 20.453125 26.78125 9.375 \nQ 23.140625 -1.703125 15.828125 -13.1875 \nL 8.015625 -13.1875 \nQ 14.5 -2 17.703125 9.0625 \nQ 20.90625 20.125 20.90625 31.390625 \nQ 20.90625 42.671875 17.703125 53.65625 \nQ 14.5 64.65625 8.015625 75.875 \nz\n\" id=\"DejaVuSans-41\"/>\n      <path d=\"M 25.390625 72.90625 \nL 33.6875 72.90625 \nL 8.296875 -9.28125 \nL 0 -9.28125 \nz\n\" id=\"DejaVuSans-47\"/>\n      <path d=\"M -28.609375 79.984375 \nL -21.390625 79.984375 \nL -9.421875 61.625 \nL -16.21875 61.625 \nL -25 73.578125 \nL -33.796875 61.625 \nL -40.578125 61.625 \nz\nM -25 56 \nz\n\" id=\"DejaVuSans-770\"/>\n     </defs>\n     <g style=\"fill:#555555;\" transform=\"translate(18.24 178.224)rotate(-90)scale(0.12 -0.12)\">\n      <use transform=\"translate(0 0.828125)\" xlink:href=\"#DejaVuSans-8722\"/>\n      <use transform=\"translate(83.789062 0.828125)\" xlink:href=\"#DejaVuSans-50\"/>\n      <use transform=\"translate(147.412109 0.828125)\" xlink:href=\"#DejaVuSans-108\"/>\n      <use transform=\"translate(175.195312 0.828125)\" xlink:href=\"#DejaVuSans-111\"/>\n      <use transform=\"translate(236.376953 0.828125)\" xlink:href=\"#DejaVuSans-103\"/>\n      <use transform=\"translate(299.853516 0.828125)\" xlink:href=\"#STIXNonUnicode-Italic-57912\"/>\n      <use transform=\"translate(369.153503 0.828125)\" xlink:href=\"#DejaVuSans-40\"/>\n      <use transform=\"translate(408.167175 0.828125)\" xlink:href=\"#DejaVuSans-Oblique-956\"/>\n      <use transform=\"translate(471.790222 0.828125)\" xlink:href=\"#DejaVuSans-41\"/>\n      <use transform=\"translate(510.803894 0.828125)\" xlink:href=\"#DejaVuSans-47\"/>\n      <use transform=\"translate(544.4953 0.828125)\" xlink:href=\"#STIXNonUnicode-Italic-57912\"/>\n      <use transform=\"translate(613.795288 0.828125)\" xlink:href=\"#DejaVuSans-40\"/>\n      <use transform=\"translate(717.292847 12.015625)\" xlink:href=\"#DejaVuSans-770\"/>\n      <use transform=\"translate(652.80896 0.828125)\" xlink:href=\"#DejaVuSans-Oblique-956\"/>\n      <use transform=\"translate(716.432007 0.828125)\" xlink:href=\"#DejaVuSans-41\"/>\n     </g>\n    </g>\n   </g>\n   <g id=\"LineCollection_1\">\n    <path clip-path=\"url(#pcf4759c49a)\" d=\"M 62.881307 83.186045 \nL 367.244943 83.186045 \n\" style=\"fill:none;stroke:#7f7f7f;stroke-dasharray:1.5,2.475;stroke-dashoffset:0;stroke-width:1.5;\"/>\n   </g>\n   <g id=\"line2d_33\">\n    <path clip-path=\"url(#pcf4759c49a)\" d=\"M 62.881307 34.027636 \nL 68.974673 49.550169 \nL 74.763371 63.708016 \nL 80.552068 77.292486 \nL 86.340766 90.303666 \nL 91.824796 102.101301 \nL 97.308825 113.384558 \nL 102.792855 124.153512 \nL 107.972216 133.852018 \nL 113.151577 143.091906 \nL 118.330938 151.873241 \nL 123.205631 159.719195 \nL 128.080324 167.159064 \nL 132.955017 174.192899 \nL 137.82971 180.820754 \nL 142.399734 186.6657 \nL 146.969759 192.153916 \nL 151.539783 197.285445 \nL 155.80514 201.753099 \nL 160.070496 205.910111 \nL 164.335852 209.756516 \nL 168.601209 213.29235 \nL 172.561896 216.297566 \nL 176.522584 219.035052 \nL 180.483272 221.504834 \nL 184.44396 223.706942 \nL 188.404648 225.641403 \nL 192.060668 227.189527 \nL 195.716688 228.509643 \nL 199.372707 229.601772 \nL 203.028727 230.465938 \nL 206.684747 231.102161 \nL 210.340766 231.510464 \nL 213.996786 231.690869 \nL 217.652806 231.643398 \nL 221.308825 231.368072 \nL 224.964845 230.864914 \nL 228.620865 230.133945 \nL 232.276884 229.175189 \nL 235.932904 227.988665 \nL 239.588924 226.574398 \nL 243.244943 224.932408 \nL 247.205631 222.896633 \nL 251.166319 220.593653 \nL 255.127007 218.023498 \nL 259.087695 215.186194 \nL 263.048383 212.081771 \nL 267.009071 208.710255 \nL 271.274427 204.780723 \nL 275.539783 200.541494 \nL 279.80514 195.992604 \nL 284.070496 191.134086 \nL 288.640521 185.58498 \nL 293.210545 179.680518 \nL 297.78057 173.420742 \nL 302.655263 166.352061 \nL 307.529955 158.879213 \nL 312.404648 151.00225 \nL 317.58401 142.190244 \nL 322.763371 132.922151 \nL 327.942732 123.198033 \nL 333.122093 113.017951 \nL 338.606123 101.742127 \nL 344.090152 89.955263 \nL 349.574182 77.657433 \nL 355.362879 64.122137 \nL 361.151577 50.017692 \nL 366.940275 35.344187 \nL 367.244943 34.556135 \nL 367.244943 34.556135 \n\" style=\"fill:none;stroke:#ff7f0e;stroke-linecap:square;stroke-width:1.5;\"/>\n   </g>\n   <g id=\"line2d_34\">\n    <defs>\n     <path d=\"M 0 3 \nC 0.795609 3 1.55874 2.683901 2.12132 2.12132 \nC 2.683901 1.55874 3 0.795609 3 0 \nC 3 -0.795609 2.683901 -1.55874 2.12132 -2.12132 \nC 1.55874 -2.683901 0.795609 -3 0 -3 \nC -0.795609 -3 -1.55874 -2.683901 -2.12132 -2.12132 \nC -2.683901 -1.55874 -3 -0.795609 -3 0 \nC -3 0.795609 -2.683901 1.55874 -2.12132 2.12132 \nC -1.55874 2.683901 -0.795609 3 0 3 \nz\n\" id=\"me9e2298725\" style=\"stroke:#000000;\"/>\n    </defs>\n    <g clip-path=\"url(#pcf4759c49a)\">\n     <use style=\"stroke:#000000;\" x=\"82.989415\" xlink:href=\"#me9e2298725\" y=\"83.186045\"/>\n     <use style=\"stroke:#000000;\" x=\"347.136835\" xlink:href=\"#me9e2298725\" y=\"83.186045\"/>\n    </g>\n   </g>\n   <g id=\"line2d_35\">\n    <path clip-path=\"url(#pcf4759c49a)\" d=\"M 82.989415 231.700364 \nL 82.989415 83.186045 \n\" style=\"fill:none;stroke:#000000;stroke-dasharray:5.55,2.4;stroke-dashoffset:0;stroke-width:1.5;\"/>\n   </g>\n   <g id=\"line2d_36\">\n    <path clip-path=\"url(#pcf4759c49a)\" d=\"M 347.136835 231.700364 \nL 347.136835 83.186045 \n\" style=\"fill:none;stroke:#000000;stroke-dasharray:5.55,2.4;stroke-dashoffset:0;stroke-width:1.5;\"/>\n   </g>\n   <g id=\"line2d_37\">\n    <path clip-path=\"url(#pcf4759c49a)\" d=\"M 62.881307 34.52116 \nL 68.974673 49.995167 \nL 74.763371 64.109865 \nL 80.552068 77.653968 \nL 86.340766 90.627478 \nL 91.824796 102.391833 \nL 97.308825 113.644076 \nL 102.792855 124.384208 \nL 107.972216 134.057438 \nL 113.151577 143.273877 \nL 118.330938 152.033525 \nL 123.205631 159.860623 \nL 128.080324 167.283089 \nL 132.955017 174.300923 \nL 137.82971 180.914125 \nL 142.399734 186.746514 \nL 146.969759 192.223269 \nL 151.539783 197.344391 \nL 155.80514 201.803245 \nL 160.070496 205.952302 \nL 164.335852 209.791563 \nL 168.601209 213.321028 \nL 172.561896 216.320994 \nL 176.522584 219.05384 \nL 180.483272 221.519565 \nL 184.44396 223.71817 \nL 188.404648 225.649655 \nL 192.060668 227.195475 \nL 195.716688 228.51369 \nL 199.372707 229.604299 \nL 203.028727 230.467303 \nL 206.684747 231.102702 \nL 210.340766 231.510495 \nL 213.996786 231.690683 \nL 217.652806 231.643265 \nL 221.308825 231.368241 \nL 224.964845 230.865613 \nL 228.620865 230.135379 \nL 232.276884 229.177539 \nL 235.932904 227.992094 \nL 239.588924 226.579044 \nL 243.244943 224.938388 \nL 247.205631 222.904165 \nL 251.166319 220.602821 \nL 255.127007 218.034357 \nL 259.087695 215.198773 \nL 263.048383 212.096068 \nL 267.009071 208.726243 \nL 271.274427 204.798469 \nL 275.539783 200.560899 \nL 279.80514 196.013532 \nL 284.070496 191.156369 \nL 288.640521 185.608487 \nL 293.210545 179.704971 \nL 297.78057 173.445822 \nL 302.655263 166.377409 \nL 307.529955 158.904364 \nL 312.404648 151.026687 \nL 317.58401 142.213299 \nL 322.763371 132.94312 \nL 327.942732 123.216149 \nL 333.122093 113.032387 \nL 338.606123 101.751693 \nL 344.090152 89.958887 \nL 349.574182 77.653968 \nL 355.362879 64.109865 \nL 361.151577 49.995167 \nL 366.940275 35.309876 \nL 367.244943 34.52116 \nL 367.244943 34.52116 \n\" style=\"fill:none;stroke:#2ca02c;stroke-dasharray:5.55,2.4;stroke-dashoffset:0;stroke-width:1.5;\"/>\n   </g>\n   <g id=\"patch_3\">\n    <path d=\"M 47.663125 241.584 \nL 47.663125 24.144 \n\" style=\"fill:none;stroke:#ffffff;stroke-linecap:square;stroke-linejoin:miter;\"/>\n   </g>\n   <g id=\"patch_4\">\n    <path d=\"M 382.463125 241.584 \nL 382.463125 24.144 \n\" style=\"fill:none;stroke:#ffffff;stroke-linecap:square;stroke-linejoin:miter;\"/>\n   </g>\n   <g id=\"patch_5\">\n    <path d=\"M 47.663125 241.584 \nL 382.463125 241.584 \n\" style=\"fill:none;stroke:#ffffff;stroke-linecap:square;stroke-linejoin:miter;\"/>\n   </g>\n   <g id=\"patch_6\">\n    <path d=\"M 47.663125 24.144 \nL 382.463125 24.144 \n\" style=\"fill:none;stroke:#ffffff;stroke-linecap:square;stroke-linejoin:miter;\"/>\n   </g>\n   <g id=\"text_19\">\n    <!-- Log-likelihood profile with respect to $\\mu$ -->\n    <defs>\n     <path d=\"M 9.8125 72.90625 \nL 19.671875 72.90625 \nL 19.671875 8.296875 \nL 55.171875 8.296875 \nL 55.171875 0 \nL 9.8125 0 \nz\n\" id=\"DejaVuSans-76\"/>\n     <path d=\"M 4.890625 31.390625 \nL 31.203125 31.390625 \nL 31.203125 23.390625 \nL 4.890625 23.390625 \nz\n\" id=\"DejaVuSans-45\"/>\n     <path d=\"M 9.421875 54.6875 \nL 18.40625 54.6875 \nL 18.40625 0 \nL 9.421875 0 \nz\nM 9.421875 75.984375 \nL 18.40625 75.984375 \nL 18.40625 64.59375 \nL 9.421875 64.59375 \nz\n\" id=\"DejaVuSans-105\"/>\n     <path d=\"M 9.078125 75.984375 \nL 18.109375 75.984375 \nL 18.109375 31.109375 \nL 44.921875 54.6875 \nL 56.390625 54.6875 \nL 27.390625 29.109375 \nL 57.625 0 \nL 45.90625 0 \nL 18.109375 26.703125 \nL 18.109375 0 \nL 9.078125 0 \nz\n\" id=\"DejaVuSans-107\"/>\n     <path d=\"M 56.203125 29.59375 \nL 56.203125 25.203125 \nL 14.890625 25.203125 \nQ 15.484375 15.921875 20.484375 11.0625 \nQ 25.484375 6.203125 34.421875 6.203125 \nQ 39.59375 6.203125 44.453125 7.46875 \nQ 49.3125 8.734375 54.109375 11.28125 \nL 54.109375 2.78125 \nQ 49.265625 0.734375 44.1875 -0.34375 \nQ 39.109375 -1.421875 33.890625 -1.421875 \nQ 20.796875 -1.421875 13.15625 6.1875 \nQ 5.515625 13.8125 5.515625 26.8125 \nQ 5.515625 40.234375 12.765625 48.109375 \nQ 20.015625 56 32.328125 56 \nQ 43.359375 56 49.78125 48.890625 \nQ 56.203125 41.796875 56.203125 29.59375 \nz\nM 47.21875 32.234375 \nQ 47.125 39.59375 43.09375 43.984375 \nQ 39.0625 48.390625 32.421875 48.390625 \nQ 24.90625 48.390625 20.390625 44.140625 \nQ 15.875 39.890625 15.1875 32.171875 \nz\n\" id=\"DejaVuSans-101\"/>\n     <path d=\"M 54.890625 33.015625 \nL 54.890625 0 \nL 45.90625 0 \nL 45.90625 32.71875 \nQ 45.90625 40.484375 42.875 44.328125 \nQ 39.84375 48.1875 33.796875 48.1875 \nQ 26.515625 48.1875 22.3125 43.546875 \nQ 18.109375 38.921875 18.109375 30.90625 \nL 18.109375 0 \nL 9.078125 0 \nL 9.078125 75.984375 \nL 18.109375 75.984375 \nL 18.109375 46.1875 \nQ 21.34375 51.125 25.703125 53.5625 \nQ 30.078125 56 35.796875 56 \nQ 45.21875 56 50.046875 50.171875 \nQ 54.890625 44.34375 54.890625 33.015625 \nz\n\" id=\"DejaVuSans-104\"/>\n     <path d=\"M 45.40625 46.390625 \nL 45.40625 75.984375 \nL 54.390625 75.984375 \nL 54.390625 0 \nL 45.40625 0 \nL 45.40625 8.203125 \nQ 42.578125 3.328125 38.25 0.953125 \nQ 33.9375 -1.421875 27.875 -1.421875 \nQ 17.96875 -1.421875 11.734375 6.484375 \nQ 5.515625 14.40625 5.515625 27.296875 \nQ 5.515625 40.1875 11.734375 48.09375 \nQ 17.96875 56 27.875 56 \nQ 33.9375 56 38.25 53.625 \nQ 42.578125 51.265625 45.40625 46.390625 \nz\nM 14.796875 27.296875 \nQ 14.796875 17.390625 18.875 11.75 \nQ 22.953125 6.109375 30.078125 6.109375 \nQ 37.203125 6.109375 41.296875 11.75 \nQ 45.40625 17.390625 45.40625 27.296875 \nQ 45.40625 37.203125 41.296875 42.84375 \nQ 37.203125 48.484375 30.078125 48.484375 \nQ 22.953125 48.484375 18.875 42.84375 \nQ 14.796875 37.203125 14.796875 27.296875 \nz\n\" id=\"DejaVuSans-100\"/>\n     <path id=\"DejaVuSans-32\"/>\n     <path d=\"M 18.109375 8.203125 \nL 18.109375 -20.796875 \nL 9.078125 -20.796875 \nL 9.078125 54.6875 \nL 18.109375 54.6875 \nL 18.109375 46.390625 \nQ 20.953125 51.265625 25.265625 53.625 \nQ 29.59375 56 35.59375 56 \nQ 45.5625 56 51.78125 48.09375 \nQ 58.015625 40.1875 58.015625 27.296875 \nQ 58.015625 14.40625 51.78125 6.484375 \nQ 45.5625 -1.421875 35.59375 -1.421875 \nQ 29.59375 -1.421875 25.265625 0.953125 \nQ 20.953125 3.328125 18.109375 8.203125 \nz\nM 48.6875 27.296875 \nQ 48.6875 37.203125 44.609375 42.84375 \nQ 40.53125 48.484375 33.40625 48.484375 \nQ 26.265625 48.484375 22.1875 42.84375 \nQ 18.109375 37.203125 18.109375 27.296875 \nQ 18.109375 17.390625 22.1875 11.75 \nQ 26.265625 6.109375 33.40625 6.109375 \nQ 40.53125 6.109375 44.609375 11.75 \nQ 48.6875 17.390625 48.6875 27.296875 \nz\n\" id=\"DejaVuSans-112\"/>\n     <path d=\"M 41.109375 46.296875 \nQ 39.59375 47.171875 37.8125 47.578125 \nQ 36.03125 48 33.890625 48 \nQ 26.265625 48 22.1875 43.046875 \nQ 18.109375 38.09375 18.109375 28.8125 \nL 18.109375 0 \nL 9.078125 0 \nL 9.078125 54.6875 \nL 18.109375 54.6875 \nL 18.109375 46.1875 \nQ 20.953125 51.171875 25.484375 53.578125 \nQ 30.03125 56 36.53125 56 \nQ 37.453125 56 38.578125 55.875 \nQ 39.703125 55.765625 41.0625 55.515625 \nz\n\" id=\"DejaVuSans-114\"/>\n     <path d=\"M 37.109375 75.984375 \nL 37.109375 68.5 \nL 28.515625 68.5 \nQ 23.6875 68.5 21.796875 66.546875 \nQ 19.921875 64.59375 19.921875 59.515625 \nL 19.921875 54.6875 \nL 34.71875 54.6875 \nL 34.71875 47.703125 \nL 19.921875 47.703125 \nL 19.921875 0 \nL 10.890625 0 \nL 10.890625 47.703125 \nL 2.296875 47.703125 \nL 2.296875 54.6875 \nL 10.890625 54.6875 \nL 10.890625 58.5 \nQ 10.890625 67.625 15.140625 71.796875 \nQ 19.390625 75.984375 28.609375 75.984375 \nz\n\" id=\"DejaVuSans-102\"/>\n     <path d=\"M 4.203125 54.6875 \nL 13.1875 54.6875 \nL 24.421875 12.015625 \nL 35.59375 54.6875 \nL 46.1875 54.6875 \nL 57.421875 12.015625 \nL 68.609375 54.6875 \nL 77.59375 54.6875 \nL 63.28125 0 \nL 52.6875 0 \nL 40.921875 44.828125 \nL 29.109375 0 \nL 18.5 0 \nz\n\" id=\"DejaVuSans-119\"/>\n     <path d=\"M 18.3125 70.21875 \nL 18.3125 54.6875 \nL 36.8125 54.6875 \nL 36.8125 47.703125 \nL 18.3125 47.703125 \nL 18.3125 18.015625 \nQ 18.3125 11.328125 20.140625 9.421875 \nQ 21.96875 7.515625 27.59375 7.515625 \nL 36.8125 7.515625 \nL 36.8125 0 \nL 27.59375 0 \nQ 17.1875 0 13.234375 3.875 \nQ 9.28125 7.765625 9.28125 18.015625 \nL 9.28125 47.703125 \nL 2.6875 47.703125 \nL 2.6875 54.6875 \nL 9.28125 54.6875 \nL 9.28125 70.21875 \nz\n\" id=\"DejaVuSans-116\"/>\n     <path d=\"M 44.28125 53.078125 \nL 44.28125 44.578125 \nQ 40.484375 46.53125 36.375 47.5 \nQ 32.28125 48.484375 27.875 48.484375 \nQ 21.1875 48.484375 17.84375 46.4375 \nQ 14.5 44.390625 14.5 40.28125 \nQ 14.5 37.15625 16.890625 35.375 \nQ 19.28125 33.59375 26.515625 31.984375 \nL 29.59375 31.296875 \nQ 39.15625 29.25 43.1875 25.515625 \nQ 47.21875 21.78125 47.21875 15.09375 \nQ 47.21875 7.46875 41.1875 3.015625 \nQ 35.15625 -1.421875 24.609375 -1.421875 \nQ 20.21875 -1.421875 15.453125 -0.5625 \nQ 10.6875 0.296875 5.421875 2 \nL 5.421875 11.28125 \nQ 10.40625 8.6875 15.234375 7.390625 \nQ 20.0625 6.109375 24.8125 6.109375 \nQ 31.15625 6.109375 34.5625 8.28125 \nQ 37.984375 10.453125 37.984375 14.40625 \nQ 37.984375 18.0625 35.515625 20.015625 \nQ 33.0625 21.96875 24.703125 23.78125 \nL 21.578125 24.515625 \nQ 13.234375 26.265625 9.515625 29.90625 \nQ 5.8125 33.546875 5.8125 39.890625 \nQ 5.8125 47.609375 11.28125 51.796875 \nQ 16.75 56 26.8125 56 \nQ 31.78125 56 36.171875 55.265625 \nQ 40.578125 54.546875 44.28125 53.078125 \nz\n\" id=\"DejaVuSans-115\"/>\n     <path d=\"M 48.78125 52.59375 \nL 48.78125 44.1875 \nQ 44.96875 46.296875 41.140625 47.34375 \nQ 37.3125 48.390625 33.40625 48.390625 \nQ 24.65625 48.390625 19.8125 42.84375 \nQ 14.984375 37.3125 14.984375 27.296875 \nQ 14.984375 17.28125 19.8125 11.734375 \nQ 24.65625 6.203125 33.40625 6.203125 \nQ 37.3125 6.203125 41.140625 7.25 \nQ 44.96875 8.296875 48.78125 10.40625 \nL 48.78125 2.09375 \nQ 45.015625 0.34375 40.984375 -0.53125 \nQ 36.96875 -1.421875 32.421875 -1.421875 \nQ 20.0625 -1.421875 12.78125 6.34375 \nQ 5.515625 14.109375 5.515625 27.296875 \nQ 5.515625 40.671875 12.859375 48.328125 \nQ 20.21875 56 33.015625 56 \nQ 37.15625 56 41.109375 55.140625 \nQ 45.0625 54.296875 48.78125 52.59375 \nz\n\" id=\"DejaVuSans-99\"/>\n    </defs>\n    <g transform=\"translate(76.535125 18.144)scale(0.144 -0.144)\">\n     <use transform=\"translate(0 0.015625)\" xlink:href=\"#DejaVuSans-76\"/>\n     <use transform=\"translate(55.712891 0.015625)\" xlink:href=\"#DejaVuSans-111\"/>\n     <use transform=\"translate(116.894531 0.015625)\" xlink:href=\"#DejaVuSans-103\"/>\n     <use transform=\"translate(180.371094 0.015625)\" xlink:href=\"#DejaVuSans-45\"/>\n     <use transform=\"translate(216.455078 0.015625)\" xlink:href=\"#DejaVuSans-108\"/>\n     <use transform=\"translate(244.238281 0.015625)\" xlink:href=\"#DejaVuSans-105\"/>\n     <use transform=\"translate(272.021484 0.015625)\" xlink:href=\"#DejaVuSans-107\"/>\n     <use transform=\"translate(329.931641 0.015625)\" xlink:href=\"#DejaVuSans-101\"/>\n     <use transform=\"translate(391.455078 0.015625)\" xlink:href=\"#DejaVuSans-108\"/>\n     <use transform=\"translate(419.238281 0.015625)\" xlink:href=\"#DejaVuSans-105\"/>\n     <use transform=\"translate(447.021484 0.015625)\" xlink:href=\"#DejaVuSans-104\"/>\n     <use transform=\"translate(510.400391 0.015625)\" xlink:href=\"#DejaVuSans-111\"/>\n     <use transform=\"translate(571.582031 0.015625)\" xlink:href=\"#DejaVuSans-111\"/>\n     <use transform=\"translate(632.763672 0.015625)\" xlink:href=\"#DejaVuSans-100\"/>\n     <use transform=\"translate(696.240234 0.015625)\" xlink:href=\"#DejaVuSans-32\"/>\n     <use transform=\"translate(728.027344 0.015625)\" xlink:href=\"#DejaVuSans-112\"/>\n     <use transform=\"translate(791.503906 0.015625)\" xlink:href=\"#DejaVuSans-114\"/>\n     <use transform=\"translate(832.617188 0.015625)\" xlink:href=\"#DejaVuSans-111\"/>\n     <use transform=\"translate(893.798828 0.015625)\" xlink:href=\"#DejaVuSans-102\"/>\n     <use transform=\"translate(929.003906 0.015625)\" xlink:href=\"#DejaVuSans-105\"/>\n     <use transform=\"translate(956.787109 0.015625)\" xlink:href=\"#DejaVuSans-108\"/>\n     <use transform=\"translate(984.570312 0.015625)\" xlink:href=\"#DejaVuSans-101\"/>\n     <use transform=\"translate(1046.09375 0.015625)\" xlink:href=\"#DejaVuSans-32\"/>\n     <use transform=\"translate(1077.880859 0.015625)\" xlink:href=\"#DejaVuSans-119\"/>\n     <use transform=\"translate(1159.667969 0.015625)\" xlink:href=\"#DejaVuSans-105\"/>\n     <use transform=\"translate(1187.451172 0.015625)\" xlink:href=\"#DejaVuSans-116\"/>\n     <use transform=\"translate(1226.660156 0.015625)\" xlink:href=\"#DejaVuSans-104\"/>\n     <use transform=\"translate(1290.039062 0.015625)\" xlink:href=\"#DejaVuSans-32\"/>\n     <use transform=\"translate(1321.826172 0.015625)\" xlink:href=\"#DejaVuSans-114\"/>\n     <use transform=\"translate(1362.939453 0.015625)\" xlink:href=\"#DejaVuSans-101\"/>\n     <use transform=\"translate(1424.462891 0.015625)\" xlink:href=\"#DejaVuSans-115\"/>\n     <use transform=\"translate(1476.5625 0.015625)\" xlink:href=\"#DejaVuSans-112\"/>\n     <use transform=\"translate(1540.039062 0.015625)\" xlink:href=\"#DejaVuSans-101\"/>\n     <use transform=\"translate(1601.5625 0.015625)\" xlink:href=\"#DejaVuSans-99\"/>\n     <use transform=\"translate(1656.542969 0.015625)\" xlink:href=\"#DejaVuSans-116\"/>\n     <use transform=\"translate(1695.751953 0.015625)\" xlink:href=\"#DejaVuSans-32\"/>\n     <use transform=\"translate(1727.539062 0.015625)\" xlink:href=\"#DejaVuSans-116\"/>\n     <use transform=\"translate(1766.748047 0.015625)\" xlink:href=\"#DejaVuSans-111\"/>\n     <use transform=\"translate(1827.929688 0.015625)\" xlink:href=\"#DejaVuSans-32\"/>\n     <use transform=\"translate(1859.716797 0.015625)\" xlink:href=\"#DejaVuSans-Oblique-956\"/>\n    </g>\n   </g>\n   <g id=\"legend_1\">\n    <g id=\"patch_7\">\n     <path d=\"M 139.310781 76.178375 \nL 290.815469 76.178375 \nQ 292.815469 76.178375 292.815469 74.178375 \nL 292.815469 31.144 \nQ 292.815469 29.144 290.815469 29.144 \nL 139.310781 29.144 \nQ 137.310781 29.144 137.310781 31.144 \nL 137.310781 74.178375 \nQ 137.310781 76.178375 139.310781 76.178375 \nz\n\" style=\"fill:#ffffff;opacity:0.8;stroke:#cccccc;stroke-linejoin:miter;stroke-width:0.5;\"/>\n    </g>\n    <g id=\"line2d_38\">\n     <path d=\"M 141.310781 37.242438 \nL 161.310781 37.242438 \n\" style=\"fill:none;stroke:#ff7f0e;stroke-linecap:square;stroke-width:1.5;\"/>\n    </g>\n    <g id=\"line2d_39\"/>\n    <g id=\"text_20\">\n     <!-- log-likelihood -->\n     <g transform=\"translate(169.310781 40.742438)scale(0.1 -0.1)\">\n      <use xlink:href=\"#DejaVuSans-108\"/>\n      <use x=\"27.783203\" xlink:href=\"#DejaVuSans-111\"/>\n      <use x=\"88.964844\" xlink:href=\"#DejaVuSans-103\"/>\n      <use x=\"152.441406\" xlink:href=\"#DejaVuSans-45\"/>\n      <use x=\"188.525391\" xlink:href=\"#DejaVuSans-108\"/>\n      <use x=\"216.308594\" xlink:href=\"#DejaVuSans-105\"/>\n      <use x=\"244.091797\" xlink:href=\"#DejaVuSans-107\"/>\n      <use x=\"298.376953\" xlink:href=\"#DejaVuSans-101\"/>\n      <use x=\"359.900391\" xlink:href=\"#DejaVuSans-108\"/>\n      <use x=\"387.683594\" xlink:href=\"#DejaVuSans-105\"/>\n      <use x=\"415.466797\" xlink:href=\"#DejaVuSans-104\"/>\n      <use x=\"478.845703\" xlink:href=\"#DejaVuSans-111\"/>\n      <use x=\"540.027344\" xlink:href=\"#DejaVuSans-111\"/>\n      <use x=\"601.208984\" xlink:href=\"#DejaVuSans-100\"/>\n     </g>\n    </g>\n    <g id=\"line2d_40\"/>\n    <g id=\"line2d_41\">\n     <g>\n      <use style=\"stroke:#000000;\" x=\"151.310781\" xlink:href=\"#me9e2298725\" y=\"51.920563\"/>\n     </g>\n    </g>\n    <g id=\"text_21\">\n     <!-- $1\\sigma$ interval -->\n     <defs>\n      <path d=\"M 34.671875 47.5625 \nQ 27.25 47.5625 22.21875 42.1875 \nQ 16.890625 36.578125 15.140625 27.296875 \nQ 13.1875 17.484375 16.3125 11.8125 \nQ 19.390625 6.203125 26.65625 6.203125 \nQ 33.84375 6.203125 39.109375 11.859375 \nQ 44.4375 17.53125 46.34375 27.296875 \nQ 48.046875 36.234375 45.015625 42.1875 \nQ 42.1875 47.5625 34.671875 47.5625 \nz\nM 36.078125 54.734375 \nL 65.921875 54.6875 \nL 64.15625 45.703125 \nL 54.109375 45.703125 \nQ 57.90625 38.09375 55.859375 27.296875 \nQ 53.21875 13.875 45.0625 6.25 \nQ 36.859375 -1.421875 25.140625 -1.421875 \nQ 13.375 -1.421875 8.203125 6.25 \nQ 3.03125 13.875 5.671875 27.296875 \nQ 8.25 40.765625 16.40625 48.390625 \nQ 23.1875 54.734375 36.078125 54.734375 \nz\n\" id=\"DejaVuSans-Oblique-963\"/>\n      <path d=\"M 54.890625 33.015625 \nL 54.890625 0 \nL 45.90625 0 \nL 45.90625 32.71875 \nQ 45.90625 40.484375 42.875 44.328125 \nQ 39.84375 48.1875 33.796875 48.1875 \nQ 26.515625 48.1875 22.3125 43.546875 \nQ 18.109375 38.921875 18.109375 30.90625 \nL 18.109375 0 \nL 9.078125 0 \nL 9.078125 54.6875 \nL 18.109375 54.6875 \nL 18.109375 46.1875 \nQ 21.34375 51.125 25.703125 53.5625 \nQ 30.078125 56 35.796875 56 \nQ 45.21875 56 50.046875 50.171875 \nQ 54.890625 44.34375 54.890625 33.015625 \nz\n\" id=\"DejaVuSans-110\"/>\n      <path d=\"M 2.984375 54.6875 \nL 12.5 54.6875 \nL 29.59375 8.796875 \nL 46.6875 54.6875 \nL 56.203125 54.6875 \nL 35.6875 0 \nL 23.484375 0 \nz\n\" id=\"DejaVuSans-118\"/>\n      <path d=\"M 34.28125 27.484375 \nQ 23.390625 27.484375 19.1875 25 \nQ 14.984375 22.515625 14.984375 16.5 \nQ 14.984375 11.71875 18.140625 8.90625 \nQ 21.296875 6.109375 26.703125 6.109375 \nQ 34.1875 6.109375 38.703125 11.40625 \nQ 43.21875 16.703125 43.21875 25.484375 \nL 43.21875 27.484375 \nz\nM 52.203125 31.203125 \nL 52.203125 0 \nL 43.21875 0 \nL 43.21875 8.296875 \nQ 40.140625 3.328125 35.546875 0.953125 \nQ 30.953125 -1.421875 24.3125 -1.421875 \nQ 15.921875 -1.421875 10.953125 3.296875 \nQ 6 8.015625 6 15.921875 \nQ 6 25.140625 12.171875 29.828125 \nQ 18.359375 34.515625 30.609375 34.515625 \nL 43.21875 34.515625 \nL 43.21875 35.40625 \nQ 43.21875 41.609375 39.140625 45 \nQ 35.0625 48.390625 27.6875 48.390625 \nQ 23 48.390625 18.546875 47.265625 \nQ 14.109375 46.140625 10.015625 43.890625 \nL 10.015625 52.203125 \nQ 14.9375 54.109375 19.578125 55.046875 \nQ 24.21875 56 28.609375 56 \nQ 40.484375 56 46.34375 49.84375 \nQ 52.203125 43.703125 52.203125 31.203125 \nz\n\" id=\"DejaVuSans-97\"/>\n     </defs>\n     <g transform=\"translate(169.310781 55.420563)scale(0.1 -0.1)\">\n      <use transform=\"translate(0 0.015625)\" xlink:href=\"#DejaVuSans-49\"/>\n      <use transform=\"translate(63.623047 0.015625)\" xlink:href=\"#DejaVuSans-Oblique-963\"/>\n      <use transform=\"translate(127.001953 0.015625)\" xlink:href=\"#DejaVuSans-32\"/>\n      <use transform=\"translate(158.789062 0.015625)\" xlink:href=\"#DejaVuSans-105\"/>\n      <use transform=\"translate(186.572266 0.015625)\" xlink:href=\"#DejaVuSans-110\"/>\n      <use transform=\"translate(249.951172 0.015625)\" xlink:href=\"#DejaVuSans-116\"/>\n      <use transform=\"translate(289.160156 0.015625)\" xlink:href=\"#DejaVuSans-101\"/>\n      <use transform=\"translate(350.683594 0.015625)\" xlink:href=\"#DejaVuSans-114\"/>\n      <use transform=\"translate(391.796875 0.015625)\" xlink:href=\"#DejaVuSans-118\"/>\n      <use transform=\"translate(450.976562 0.015625)\" xlink:href=\"#DejaVuSans-97\"/>\n      <use transform=\"translate(512.255859 0.015625)\" xlink:href=\"#DejaVuSans-108\"/>\n     </g>\n    </g>\n    <g id=\"line2d_42\">\n     <path d=\"M 141.310781 66.598688 \nL 161.310781 66.598688 \n\" style=\"fill:none;stroke:#2ca02c;stroke-dasharray:5.55,2.4;stroke-dashoffset:0;stroke-width:1.5;\"/>\n    </g>\n    <g id=\"line2d_43\"/>\n    <g id=\"text_22\">\n     <!-- parabola approximation -->\n     <defs>\n      <path d=\"M 48.6875 27.296875 \nQ 48.6875 37.203125 44.609375 42.84375 \nQ 40.53125 48.484375 33.40625 48.484375 \nQ 26.265625 48.484375 22.1875 42.84375 \nQ 18.109375 37.203125 18.109375 27.296875 \nQ 18.109375 17.390625 22.1875 11.75 \nQ 26.265625 6.109375 33.40625 6.109375 \nQ 40.53125 6.109375 44.609375 11.75 \nQ 48.6875 17.390625 48.6875 27.296875 \nz\nM 18.109375 46.390625 \nQ 20.953125 51.265625 25.265625 53.625 \nQ 29.59375 56 35.59375 56 \nQ 45.5625 56 51.78125 48.09375 \nQ 58.015625 40.1875 58.015625 27.296875 \nQ 58.015625 14.40625 51.78125 6.484375 \nQ 45.5625 -1.421875 35.59375 -1.421875 \nQ 29.59375 -1.421875 25.265625 0.953125 \nQ 20.953125 3.328125 18.109375 8.203125 \nL 18.109375 0 \nL 9.078125 0 \nL 9.078125 75.984375 \nL 18.109375 75.984375 \nz\n\" id=\"DejaVuSans-98\"/>\n      <path d=\"M 54.890625 54.6875 \nL 35.109375 28.078125 \nL 55.90625 0 \nL 45.3125 0 \nL 29.390625 21.484375 \nL 13.484375 0 \nL 2.875 0 \nL 24.125 28.609375 \nL 4.6875 54.6875 \nL 15.28125 54.6875 \nL 29.78125 35.203125 \nL 44.28125 54.6875 \nz\n\" id=\"DejaVuSans-120\"/>\n      <path d=\"M 52 44.1875 \nQ 55.375 50.25 60.0625 53.125 \nQ 64.75 56 71.09375 56 \nQ 79.640625 56 84.28125 50.015625 \nQ 88.921875 44.046875 88.921875 33.015625 \nL 88.921875 0 \nL 79.890625 0 \nL 79.890625 32.71875 \nQ 79.890625 40.578125 77.09375 44.375 \nQ 74.3125 48.1875 68.609375 48.1875 \nQ 61.625 48.1875 57.5625 43.546875 \nQ 53.515625 38.921875 53.515625 30.90625 \nL 53.515625 0 \nL 44.484375 0 \nL 44.484375 32.71875 \nQ 44.484375 40.625 41.703125 44.40625 \nQ 38.921875 48.1875 33.109375 48.1875 \nQ 26.21875 48.1875 22.15625 43.53125 \nQ 18.109375 38.875 18.109375 30.90625 \nL 18.109375 0 \nL 9.078125 0 \nL 9.078125 54.6875 \nL 18.109375 54.6875 \nL 18.109375 46.1875 \nQ 21.1875 51.21875 25.484375 53.609375 \nQ 29.78125 56 35.6875 56 \nQ 41.65625 56 45.828125 52.96875 \nQ 50 49.953125 52 44.1875 \nz\n\" id=\"DejaVuSans-109\"/>\n     </defs>\n     <g transform=\"translate(169.310781 70.098688)scale(0.1 -0.1)\">\n      <use xlink:href=\"#DejaVuSans-112\"/>\n      <use x=\"63.476562\" xlink:href=\"#DejaVuSans-97\"/>\n      <use x=\"124.755859\" xlink:href=\"#DejaVuSans-114\"/>\n      <use x=\"165.869141\" xlink:href=\"#DejaVuSans-97\"/>\n      <use x=\"227.148438\" xlink:href=\"#DejaVuSans-98\"/>\n      <use x=\"290.625\" xlink:href=\"#DejaVuSans-111\"/>\n      <use x=\"351.806641\" xlink:href=\"#DejaVuSans-108\"/>\n      <use x=\"379.589844\" xlink:href=\"#DejaVuSans-97\"/>\n      <use x=\"440.869141\" xlink:href=\"#DejaVuSans-32\"/>\n      <use x=\"472.65625\" xlink:href=\"#DejaVuSans-97\"/>\n      <use x=\"533.935547\" xlink:href=\"#DejaVuSans-112\"/>\n      <use x=\"597.412109\" xlink:href=\"#DejaVuSans-112\"/>\n      <use x=\"660.888672\" xlink:href=\"#DejaVuSans-114\"/>\n      <use x=\"699.751953\" xlink:href=\"#DejaVuSans-111\"/>\n      <use x=\"757.808594\" xlink:href=\"#DejaVuSans-120\"/>\n      <use x=\"816.988281\" xlink:href=\"#DejaVuSans-105\"/>\n      <use x=\"844.771484\" xlink:href=\"#DejaVuSans-109\"/>\n      <use x=\"942.183594\" xlink:href=\"#DejaVuSans-97\"/>\n      <use x=\"1003.462891\" xlink:href=\"#DejaVuSans-116\"/>\n      <use x=\"1042.671875\" xlink:href=\"#DejaVuSans-105\"/>\n      <use x=\"1070.455078\" xlink:href=\"#DejaVuSans-111\"/>\n      <use x=\"1131.636719\" xlink:href=\"#DejaVuSans-110\"/>\n     </g>\n    </g>\n   </g>\n  </g>\n </g>\n <defs>\n  <clipPath id=\"pcf4759c49a\">\n   <rect height=\"217.44\" width=\"334.8\" x=\"47.663125\" y=\"24.144\"/>\n  </clipPath>\n </defs>\n</svg>\n"
          },
          "metadata": {
            "tags": []
          }
        },
        {
          "output_type": "stream",
          "text": [
            "{Counting analysis} Best fit parameter and uncertainty:\n",
            "\n"
          ],
          "name": "stdout"
        },
        {
          "output_type": "display_data",
          "data": {
            "text/latex": "$\\hat{\\mu} = 1.001^{+0.867}_{-0.869}$",
            "text/plain": [
              "<IPython.core.display.Latex object>"
            ]
          },
          "metadata": {
            "tags": []
          }
        }
      ]
    },
    {
      "cell_type": "markdown",
      "metadata": {
        "id": "A6LUN6l08hAM"
      },
      "source": [
        "One could also use the Monte-Carlo method to determine the average $\\hat{\\mu}$ and the associated uncertainty $\\sigma_\\mu$."
      ]
    },
    {
      "cell_type": "markdown",
      "metadata": {
        "id": "Uj1Pe7ujzicj"
      },
      "source": [
        "## Binned shape analysis"
      ]
    },
    {
      "cell_type": "markdown",
      "metadata": {
        "id": "crsKnVI0jgS-"
      },
      "source": [
        "In order to get a better result, we implement the binned shape analysis method. Instead of counting all the signal and background events, we count them depending on their score. Then, we define the likelihood on each score interval (bin), and compute $\\hat{\\mu}$ with that new composite likelihood. To do so, we use the probability density functions of $S$ and $B$."
      ]
    },
    {
      "cell_type": "code",
      "metadata": {
        "id": "OHNUPc3rsraN",
        "colab": {
          "base_uri": "https://localhost:8080/",
          "height": 322
        },
        "outputId": "5cac14fd-4487-47a3-c463-19391e0b2add"
      },
      "source": [
        "# And we draw the result of the bin contents:\n",
        "fig, fig_axes = plt.subplots(ncols=2, nrows=1)\n",
        "fig.set_size_inches(w=14, h=3)\n",
        "x_bin_edges = np.arange(0,1+dt,dt)\n",
        "\n",
        "fig_axes[0].step(x_bin_edges, pS, color= 'tab:red', label='Signal')\n",
        "fig_axes[0].step(x_bin_edges, pB, color = 'tab:blue', label='Background')\n",
        "fig_axes[0].set_title(r'${\\bf Probability}$: bin content of Signal and Background')\n",
        "fig_axes[0].set_xlabel('Score')\n",
        "fig_axes[0].set_ylabel('Probability')\n",
        "fig_axes[0].legend(facecolor= 'w')\n",
        "\n",
        "fig_axes[1].step(x_bin_edges, S*pS+B*pB, color = 'tab:purple', label='S+B')\n",
        "fig_axes[1].step(x_bin_edges, B*pB, color = 'tab:blue', label='Background')\n",
        "fig_axes[1].step(x_bin_edges, S*pS, color = 'tab:red', label='Signal')\n",
        "fig_axes[1].set_title(r'${\\bf Counts}$: bin content of Signal and Background')\n",
        "fig_axes[1].set_xlabel('Score')\n",
        "fig_axes[1].set_ylabel('Counts')\n",
        "fig_axes[1].legend(facecolor= 'w')\n",
        "\n",
        "plt.show()"
      ],
      "execution_count": null,
      "outputs": [
        {
          "output_type": "display_data",
          "data": {
            "text/plain": [
              "<Figure size 1008x216 with 2 Axes>"
            ],
            "image/svg+xml": "<?xml version=\"1.0\" encoding=\"utf-8\" standalone=\"no\"?>\n<!DOCTYPE svg PUBLIC \"-//W3C//DTD SVG 1.1//EN\"\n  \"http://www.w3.org/Graphics/SVG/1.1/DTD/svg11.dtd\">\n<!-- Created with matplotlib (https://matplotlib.org/) -->\n<svg height=\"226.715875pt\" version=\"1.1\" viewBox=\"0 0 834.116875 226.715875\" width=\"834.116875pt\" xmlns=\"http://www.w3.org/2000/svg\" xmlns:xlink=\"http://www.w3.org/1999/xlink\">\n <defs>\n  <style type=\"text/css\">\n*{stroke-linecap:butt;stroke-linejoin:round;}\n  </style>\n </defs>\n <g id=\"figure_1\">\n  <g id=\"patch_1\">\n   <path d=\"M 0 226.715875 \nL 834.116875 226.715875 \nL 834.116875 0 \nL 0 0 \nz\n\" style=\"fill:#ffffff;\"/>\n  </g>\n  <g id=\"axes_1\">\n   <g id=\"patch_2\">\n    <path d=\"M 45.716875 187.224 \nL 400.807784 187.224 \nL 400.807784 24.144 \nL 45.716875 24.144 \nz\n\" style=\"fill:#e5e5e5;\"/>\n   </g>\n   <g id=\"matplotlib.axis_1\">\n    <g id=\"xtick_1\">\n     <g id=\"line2d_1\">\n      <path clip-path=\"url(#p294ab0cdee)\" d=\"M 61.857371 187.224 \nL 61.857371 24.144 \n\" style=\"fill:none;stroke:#ffffff;stroke-linecap:square;stroke-width:0.8;\"/>\n     </g>\n     <g id=\"line2d_2\">\n      <defs>\n       <path d=\"M 0 0 \nL 0 3.5 \n\" id=\"m21ac4e672b\" style=\"stroke:#555555;stroke-width:0.8;\"/>\n      </defs>\n      <g>\n       <use style=\"fill:#555555;stroke:#555555;stroke-width:0.8;\" x=\"61.857371\" xlink:href=\"#m21ac4e672b\" y=\"187.224\"/>\n      </g>\n     </g>\n     <g id=\"text_1\">\n      <!-- 0.0 -->\n      <defs>\n       <path d=\"M 31.78125 66.40625 \nQ 24.171875 66.40625 20.328125 58.90625 \nQ 16.5 51.421875 16.5 36.375 \nQ 16.5 21.390625 20.328125 13.890625 \nQ 24.171875 6.390625 31.78125 6.390625 \nQ 39.453125 6.390625 43.28125 13.890625 \nQ 47.125 21.390625 47.125 36.375 \nQ 47.125 51.421875 43.28125 58.90625 \nQ 39.453125 66.40625 31.78125 66.40625 \nz\nM 31.78125 74.21875 \nQ 44.046875 74.21875 50.515625 64.515625 \nQ 56.984375 54.828125 56.984375 36.375 \nQ 56.984375 17.96875 50.515625 8.265625 \nQ 44.046875 -1.421875 31.78125 -1.421875 \nQ 19.53125 -1.421875 13.0625 8.265625 \nQ 6.59375 17.96875 6.59375 36.375 \nQ 6.59375 54.828125 13.0625 64.515625 \nQ 19.53125 74.21875 31.78125 74.21875 \nz\n\" id=\"DejaVuSans-48\"/>\n       <path d=\"M 10.6875 12.40625 \nL 21 12.40625 \nL 21 0 \nL 10.6875 0 \nz\n\" id=\"DejaVuSans-46\"/>\n      </defs>\n      <g style=\"fill:#555555;\" transform=\"translate(53.905808 201.822438)scale(0.1 -0.1)\">\n       <use xlink:href=\"#DejaVuSans-48\"/>\n       <use x=\"63.623047\" xlink:href=\"#DejaVuSans-46\"/>\n       <use x=\"95.410156\" xlink:href=\"#DejaVuSans-48\"/>\n      </g>\n     </g>\n    </g>\n    <g id=\"xtick_2\">\n     <g id=\"line2d_3\">\n      <path clip-path=\"url(#p294ab0cdee)\" d=\"M 126.419354 187.224 \nL 126.419354 24.144 \n\" style=\"fill:none;stroke:#ffffff;stroke-linecap:square;stroke-width:0.8;\"/>\n     </g>\n     <g id=\"line2d_4\">\n      <g>\n       <use style=\"fill:#555555;stroke:#555555;stroke-width:0.8;\" x=\"126.419354\" xlink:href=\"#m21ac4e672b\" y=\"187.224\"/>\n      </g>\n     </g>\n     <g id=\"text_2\">\n      <!-- 0.2 -->\n      <defs>\n       <path d=\"M 19.1875 8.296875 \nL 53.609375 8.296875 \nL 53.609375 0 \nL 7.328125 0 \nL 7.328125 8.296875 \nQ 12.9375 14.109375 22.625 23.890625 \nQ 32.328125 33.6875 34.8125 36.53125 \nQ 39.546875 41.84375 41.421875 45.53125 \nQ 43.3125 49.21875 43.3125 52.78125 \nQ 43.3125 58.59375 39.234375 62.25 \nQ 35.15625 65.921875 28.609375 65.921875 \nQ 23.96875 65.921875 18.8125 64.3125 \nQ 13.671875 62.703125 7.8125 59.421875 \nL 7.8125 69.390625 \nQ 13.765625 71.78125 18.9375 73 \nQ 24.125 74.21875 28.421875 74.21875 \nQ 39.75 74.21875 46.484375 68.546875 \nQ 53.21875 62.890625 53.21875 53.421875 \nQ 53.21875 48.921875 51.53125 44.890625 \nQ 49.859375 40.875 45.40625 35.40625 \nQ 44.1875 33.984375 37.640625 27.21875 \nQ 31.109375 20.453125 19.1875 8.296875 \nz\n\" id=\"DejaVuSans-50\"/>\n      </defs>\n      <g style=\"fill:#555555;\" transform=\"translate(118.467792 201.822438)scale(0.1 -0.1)\">\n       <use xlink:href=\"#DejaVuSans-48\"/>\n       <use x=\"63.623047\" xlink:href=\"#DejaVuSans-46\"/>\n       <use x=\"95.410156\" xlink:href=\"#DejaVuSans-50\"/>\n      </g>\n     </g>\n    </g>\n    <g id=\"xtick_3\">\n     <g id=\"line2d_5\">\n      <path clip-path=\"url(#p294ab0cdee)\" d=\"M 190.981338 187.224 \nL 190.981338 24.144 \n\" style=\"fill:none;stroke:#ffffff;stroke-linecap:square;stroke-width:0.8;\"/>\n     </g>\n     <g id=\"line2d_6\">\n      <g>\n       <use style=\"fill:#555555;stroke:#555555;stroke-width:0.8;\" x=\"190.981338\" xlink:href=\"#m21ac4e672b\" y=\"187.224\"/>\n      </g>\n     </g>\n     <g id=\"text_3\">\n      <!-- 0.4 -->\n      <defs>\n       <path d=\"M 37.796875 64.3125 \nL 12.890625 25.390625 \nL 37.796875 25.390625 \nz\nM 35.203125 72.90625 \nL 47.609375 72.90625 \nL 47.609375 25.390625 \nL 58.015625 25.390625 \nL 58.015625 17.1875 \nL 47.609375 17.1875 \nL 47.609375 0 \nL 37.796875 0 \nL 37.796875 17.1875 \nL 4.890625 17.1875 \nL 4.890625 26.703125 \nz\n\" id=\"DejaVuSans-52\"/>\n      </defs>\n      <g style=\"fill:#555555;\" transform=\"translate(183.029775 201.822438)scale(0.1 -0.1)\">\n       <use xlink:href=\"#DejaVuSans-48\"/>\n       <use x=\"63.623047\" xlink:href=\"#DejaVuSans-46\"/>\n       <use x=\"95.410156\" xlink:href=\"#DejaVuSans-52\"/>\n      </g>\n     </g>\n    </g>\n    <g id=\"xtick_4\">\n     <g id=\"line2d_7\">\n      <path clip-path=\"url(#p294ab0cdee)\" d=\"M 255.543321 187.224 \nL 255.543321 24.144 \n\" style=\"fill:none;stroke:#ffffff;stroke-linecap:square;stroke-width:0.8;\"/>\n     </g>\n     <g id=\"line2d_8\">\n      <g>\n       <use style=\"fill:#555555;stroke:#555555;stroke-width:0.8;\" x=\"255.543321\" xlink:href=\"#m21ac4e672b\" y=\"187.224\"/>\n      </g>\n     </g>\n     <g id=\"text_4\">\n      <!-- 0.6 -->\n      <defs>\n       <path d=\"M 33.015625 40.375 \nQ 26.375 40.375 22.484375 35.828125 \nQ 18.609375 31.296875 18.609375 23.390625 \nQ 18.609375 15.53125 22.484375 10.953125 \nQ 26.375 6.390625 33.015625 6.390625 \nQ 39.65625 6.390625 43.53125 10.953125 \nQ 47.40625 15.53125 47.40625 23.390625 \nQ 47.40625 31.296875 43.53125 35.828125 \nQ 39.65625 40.375 33.015625 40.375 \nz\nM 52.59375 71.296875 \nL 52.59375 62.3125 \nQ 48.875 64.0625 45.09375 64.984375 \nQ 41.3125 65.921875 37.59375 65.921875 \nQ 27.828125 65.921875 22.671875 59.328125 \nQ 17.53125 52.734375 16.796875 39.40625 \nQ 19.671875 43.65625 24.015625 45.921875 \nQ 28.375 48.1875 33.59375 48.1875 \nQ 44.578125 48.1875 50.953125 41.515625 \nQ 57.328125 34.859375 57.328125 23.390625 \nQ 57.328125 12.15625 50.6875 5.359375 \nQ 44.046875 -1.421875 33.015625 -1.421875 \nQ 20.359375 -1.421875 13.671875 8.265625 \nQ 6.984375 17.96875 6.984375 36.375 \nQ 6.984375 53.65625 15.1875 63.9375 \nQ 23.390625 74.21875 37.203125 74.21875 \nQ 40.921875 74.21875 44.703125 73.484375 \nQ 48.484375 72.75 52.59375 71.296875 \nz\n\" id=\"DejaVuSans-54\"/>\n      </defs>\n      <g style=\"fill:#555555;\" transform=\"translate(247.591759 201.822438)scale(0.1 -0.1)\">\n       <use xlink:href=\"#DejaVuSans-48\"/>\n       <use x=\"63.623047\" xlink:href=\"#DejaVuSans-46\"/>\n       <use x=\"95.410156\" xlink:href=\"#DejaVuSans-54\"/>\n      </g>\n     </g>\n    </g>\n    <g id=\"xtick_5\">\n     <g id=\"line2d_9\">\n      <path clip-path=\"url(#p294ab0cdee)\" d=\"M 320.105305 187.224 \nL 320.105305 24.144 \n\" style=\"fill:none;stroke:#ffffff;stroke-linecap:square;stroke-width:0.8;\"/>\n     </g>\n     <g id=\"line2d_10\">\n      <g>\n       <use style=\"fill:#555555;stroke:#555555;stroke-width:0.8;\" x=\"320.105305\" xlink:href=\"#m21ac4e672b\" y=\"187.224\"/>\n      </g>\n     </g>\n     <g id=\"text_5\">\n      <!-- 0.8 -->\n      <defs>\n       <path d=\"M 31.78125 34.625 \nQ 24.75 34.625 20.71875 30.859375 \nQ 16.703125 27.09375 16.703125 20.515625 \nQ 16.703125 13.921875 20.71875 10.15625 \nQ 24.75 6.390625 31.78125 6.390625 \nQ 38.8125 6.390625 42.859375 10.171875 \nQ 46.921875 13.96875 46.921875 20.515625 \nQ 46.921875 27.09375 42.890625 30.859375 \nQ 38.875 34.625 31.78125 34.625 \nz\nM 21.921875 38.8125 \nQ 15.578125 40.375 12.03125 44.71875 \nQ 8.5 49.078125 8.5 55.328125 \nQ 8.5 64.0625 14.71875 69.140625 \nQ 20.953125 74.21875 31.78125 74.21875 \nQ 42.671875 74.21875 48.875 69.140625 \nQ 55.078125 64.0625 55.078125 55.328125 \nQ 55.078125 49.078125 51.53125 44.71875 \nQ 48 40.375 41.703125 38.8125 \nQ 48.828125 37.15625 52.796875 32.3125 \nQ 56.78125 27.484375 56.78125 20.515625 \nQ 56.78125 9.90625 50.3125 4.234375 \nQ 43.84375 -1.421875 31.78125 -1.421875 \nQ 19.734375 -1.421875 13.25 4.234375 \nQ 6.78125 9.90625 6.78125 20.515625 \nQ 6.78125 27.484375 10.78125 32.3125 \nQ 14.796875 37.15625 21.921875 38.8125 \nz\nM 18.3125 54.390625 \nQ 18.3125 48.734375 21.84375 45.5625 \nQ 25.390625 42.390625 31.78125 42.390625 \nQ 38.140625 42.390625 41.71875 45.5625 \nQ 45.3125 48.734375 45.3125 54.390625 \nQ 45.3125 60.0625 41.71875 63.234375 \nQ 38.140625 66.40625 31.78125 66.40625 \nQ 25.390625 66.40625 21.84375 63.234375 \nQ 18.3125 60.0625 18.3125 54.390625 \nz\n\" id=\"DejaVuSans-56\"/>\n      </defs>\n      <g style=\"fill:#555555;\" transform=\"translate(312.153742 201.822438)scale(0.1 -0.1)\">\n       <use xlink:href=\"#DejaVuSans-48\"/>\n       <use x=\"63.623047\" xlink:href=\"#DejaVuSans-46\"/>\n       <use x=\"95.410156\" xlink:href=\"#DejaVuSans-56\"/>\n      </g>\n     </g>\n    </g>\n    <g id=\"xtick_6\">\n     <g id=\"line2d_11\">\n      <path clip-path=\"url(#p294ab0cdee)\" d=\"M 384.667288 187.224 \nL 384.667288 24.144 \n\" style=\"fill:none;stroke:#ffffff;stroke-linecap:square;stroke-width:0.8;\"/>\n     </g>\n     <g id=\"line2d_12\">\n      <g>\n       <use style=\"fill:#555555;stroke:#555555;stroke-width:0.8;\" x=\"384.667288\" xlink:href=\"#m21ac4e672b\" y=\"187.224\"/>\n      </g>\n     </g>\n     <g id=\"text_6\">\n      <!-- 1.0 -->\n      <defs>\n       <path d=\"M 12.40625 8.296875 \nL 28.515625 8.296875 \nL 28.515625 63.921875 \nL 10.984375 60.40625 \nL 10.984375 69.390625 \nL 28.421875 72.90625 \nL 38.28125 72.90625 \nL 38.28125 8.296875 \nL 54.390625 8.296875 \nL 54.390625 0 \nL 12.40625 0 \nz\n\" id=\"DejaVuSans-49\"/>\n      </defs>\n      <g style=\"fill:#555555;\" transform=\"translate(376.715726 201.822438)scale(0.1 -0.1)\">\n       <use xlink:href=\"#DejaVuSans-49\"/>\n       <use x=\"63.623047\" xlink:href=\"#DejaVuSans-46\"/>\n       <use x=\"95.410156\" xlink:href=\"#DejaVuSans-48\"/>\n      </g>\n     </g>\n    </g>\n    <g id=\"text_7\">\n     <!-- Score -->\n     <defs>\n      <path d=\"M 53.515625 70.515625 \nL 53.515625 60.890625 \nQ 47.90625 63.578125 42.921875 64.890625 \nQ 37.9375 66.21875 33.296875 66.21875 \nQ 25.25 66.21875 20.875 63.09375 \nQ 16.5 59.96875 16.5 54.203125 \nQ 16.5 49.359375 19.40625 46.890625 \nQ 22.3125 44.4375 30.421875 42.921875 \nL 36.375 41.703125 \nQ 47.40625 39.59375 52.65625 34.296875 \nQ 57.90625 29 57.90625 20.125 \nQ 57.90625 9.515625 50.796875 4.046875 \nQ 43.703125 -1.421875 29.984375 -1.421875 \nQ 24.8125 -1.421875 18.96875 -0.25 \nQ 13.140625 0.921875 6.890625 3.21875 \nL 6.890625 13.375 \nQ 12.890625 10.015625 18.65625 8.296875 \nQ 24.421875 6.59375 29.984375 6.59375 \nQ 38.421875 6.59375 43.015625 9.90625 \nQ 47.609375 13.234375 47.609375 19.390625 \nQ 47.609375 24.75 44.3125 27.78125 \nQ 41.015625 30.8125 33.5 32.328125 \nL 27.484375 33.5 \nQ 16.453125 35.6875 11.515625 40.375 \nQ 6.59375 45.0625 6.59375 53.421875 \nQ 6.59375 63.09375 13.40625 68.65625 \nQ 20.21875 74.21875 32.171875 74.21875 \nQ 37.3125 74.21875 42.625 73.28125 \nQ 47.953125 72.359375 53.515625 70.515625 \nz\n\" id=\"DejaVuSans-83\"/>\n      <path d=\"M 48.78125 52.59375 \nL 48.78125 44.1875 \nQ 44.96875 46.296875 41.140625 47.34375 \nQ 37.3125 48.390625 33.40625 48.390625 \nQ 24.65625 48.390625 19.8125 42.84375 \nQ 14.984375 37.3125 14.984375 27.296875 \nQ 14.984375 17.28125 19.8125 11.734375 \nQ 24.65625 6.203125 33.40625 6.203125 \nQ 37.3125 6.203125 41.140625 7.25 \nQ 44.96875 8.296875 48.78125 10.40625 \nL 48.78125 2.09375 \nQ 45.015625 0.34375 40.984375 -0.53125 \nQ 36.96875 -1.421875 32.421875 -1.421875 \nQ 20.0625 -1.421875 12.78125 6.34375 \nQ 5.515625 14.109375 5.515625 27.296875 \nQ 5.515625 40.671875 12.859375 48.328125 \nQ 20.21875 56 33.015625 56 \nQ 37.15625 56 41.109375 55.140625 \nQ 45.0625 54.296875 48.78125 52.59375 \nz\n\" id=\"DejaVuSans-99\"/>\n      <path d=\"M 30.609375 48.390625 \nQ 23.390625 48.390625 19.1875 42.75 \nQ 14.984375 37.109375 14.984375 27.296875 \nQ 14.984375 17.484375 19.15625 11.84375 \nQ 23.34375 6.203125 30.609375 6.203125 \nQ 37.796875 6.203125 41.984375 11.859375 \nQ 46.1875 17.53125 46.1875 27.296875 \nQ 46.1875 37.015625 41.984375 42.703125 \nQ 37.796875 48.390625 30.609375 48.390625 \nz\nM 30.609375 56 \nQ 42.328125 56 49.015625 48.375 \nQ 55.71875 40.765625 55.71875 27.296875 \nQ 55.71875 13.875 49.015625 6.21875 \nQ 42.328125 -1.421875 30.609375 -1.421875 \nQ 18.84375 -1.421875 12.171875 6.21875 \nQ 5.515625 13.875 5.515625 27.296875 \nQ 5.515625 40.765625 12.171875 48.375 \nQ 18.84375 56 30.609375 56 \nz\n\" id=\"DejaVuSans-111\"/>\n      <path d=\"M 41.109375 46.296875 \nQ 39.59375 47.171875 37.8125 47.578125 \nQ 36.03125 48 33.890625 48 \nQ 26.265625 48 22.1875 43.046875 \nQ 18.109375 38.09375 18.109375 28.8125 \nL 18.109375 0 \nL 9.078125 0 \nL 9.078125 54.6875 \nL 18.109375 54.6875 \nL 18.109375 46.1875 \nQ 20.953125 51.171875 25.484375 53.578125 \nQ 30.03125 56 36.53125 56 \nQ 37.453125 56 38.578125 55.875 \nQ 39.703125 55.765625 41.0625 55.515625 \nz\n\" id=\"DejaVuSans-114\"/>\n      <path d=\"M 56.203125 29.59375 \nL 56.203125 25.203125 \nL 14.890625 25.203125 \nQ 15.484375 15.921875 20.484375 11.0625 \nQ 25.484375 6.203125 34.421875 6.203125 \nQ 39.59375 6.203125 44.453125 7.46875 \nQ 49.3125 8.734375 54.109375 11.28125 \nL 54.109375 2.78125 \nQ 49.265625 0.734375 44.1875 -0.34375 \nQ 39.109375 -1.421875 33.890625 -1.421875 \nQ 20.796875 -1.421875 13.15625 6.1875 \nQ 5.515625 13.8125 5.515625 26.8125 \nQ 5.515625 40.234375 12.765625 48.109375 \nQ 20.015625 56 32.328125 56 \nQ 43.359375 56 49.78125 48.890625 \nQ 56.203125 41.796875 56.203125 29.59375 \nz\nM 47.21875 32.234375 \nQ 47.125 39.59375 43.09375 43.984375 \nQ 39.0625 48.390625 32.421875 48.390625 \nQ 24.90625 48.390625 20.390625 44.140625 \nQ 15.875 39.890625 15.1875 32.171875 \nz\n\" id=\"DejaVuSans-101\"/>\n     </defs>\n     <g style=\"fill:#555555;\" transform=\"translate(206.459517 217.02025)scale(0.12 -0.12)\">\n      <use xlink:href=\"#DejaVuSans-83\"/>\n      <use x=\"63.476562\" xlink:href=\"#DejaVuSans-99\"/>\n      <use x=\"118.457031\" xlink:href=\"#DejaVuSans-111\"/>\n      <use x=\"179.638672\" xlink:href=\"#DejaVuSans-114\"/>\n      <use x=\"218.501953\" xlink:href=\"#DejaVuSans-101\"/>\n     </g>\n    </g>\n   </g>\n   <g id=\"matplotlib.axis_2\">\n    <g id=\"ytick_1\">\n     <g id=\"line2d_13\">\n      <path clip-path=\"url(#p294ab0cdee)\" d=\"M 45.716875 179.811273 \nL 400.807784 179.811273 \n\" style=\"fill:none;stroke:#ffffff;stroke-linecap:square;stroke-width:0.8;\"/>\n     </g>\n     <g id=\"line2d_14\">\n      <defs>\n       <path d=\"M 0 0 \nL -3.5 0 \n\" id=\"m68f47219f1\" style=\"stroke:#555555;stroke-width:0.8;\"/>\n      </defs>\n      <g>\n       <use style=\"fill:#555555;stroke:#555555;stroke-width:0.8;\" x=\"45.716875\" xlink:href=\"#m68f47219f1\" y=\"179.811273\"/>\n      </g>\n     </g>\n     <g id=\"text_8\">\n      <!-- 0.0 -->\n      <g style=\"fill:#555555;\" transform=\"translate(22.81375 183.610491)scale(0.1 -0.1)\">\n       <use xlink:href=\"#DejaVuSans-48\"/>\n       <use x=\"63.623047\" xlink:href=\"#DejaVuSans-46\"/>\n       <use x=\"95.410156\" xlink:href=\"#DejaVuSans-48\"/>\n      </g>\n     </g>\n    </g>\n    <g id=\"ytick_2\">\n     <g id=\"line2d_15\">\n      <path clip-path=\"url(#p294ab0cdee)\" d=\"M 45.716875 147.654512 \nL 400.807784 147.654512 \n\" style=\"fill:none;stroke:#ffffff;stroke-linecap:square;stroke-width:0.8;\"/>\n     </g>\n     <g id=\"line2d_16\">\n      <g>\n       <use style=\"fill:#555555;stroke:#555555;stroke-width:0.8;\" x=\"45.716875\" xlink:href=\"#m68f47219f1\" y=\"147.654512\"/>\n      </g>\n     </g>\n     <g id=\"text_9\">\n      <!-- 0.1 -->\n      <g style=\"fill:#555555;\" transform=\"translate(22.81375 151.453731)scale(0.1 -0.1)\">\n       <use xlink:href=\"#DejaVuSans-48\"/>\n       <use x=\"63.623047\" xlink:href=\"#DejaVuSans-46\"/>\n       <use x=\"95.410156\" xlink:href=\"#DejaVuSans-49\"/>\n      </g>\n     </g>\n    </g>\n    <g id=\"ytick_3\">\n     <g id=\"line2d_17\">\n      <path clip-path=\"url(#p294ab0cdee)\" d=\"M 45.716875 115.497751 \nL 400.807784 115.497751 \n\" style=\"fill:none;stroke:#ffffff;stroke-linecap:square;stroke-width:0.8;\"/>\n     </g>\n     <g id=\"line2d_18\">\n      <g>\n       <use style=\"fill:#555555;stroke:#555555;stroke-width:0.8;\" x=\"45.716875\" xlink:href=\"#m68f47219f1\" y=\"115.497751\"/>\n      </g>\n     </g>\n     <g id=\"text_10\">\n      <!-- 0.2 -->\n      <g style=\"fill:#555555;\" transform=\"translate(22.81375 119.29697)scale(0.1 -0.1)\">\n       <use xlink:href=\"#DejaVuSans-48\"/>\n       <use x=\"63.623047\" xlink:href=\"#DejaVuSans-46\"/>\n       <use x=\"95.410156\" xlink:href=\"#DejaVuSans-50\"/>\n      </g>\n     </g>\n    </g>\n    <g id=\"ytick_4\">\n     <g id=\"line2d_19\">\n      <path clip-path=\"url(#p294ab0cdee)\" d=\"M 45.716875 83.34099 \nL 400.807784 83.34099 \n\" style=\"fill:none;stroke:#ffffff;stroke-linecap:square;stroke-width:0.8;\"/>\n     </g>\n     <g id=\"line2d_20\">\n      <g>\n       <use style=\"fill:#555555;stroke:#555555;stroke-width:0.8;\" x=\"45.716875\" xlink:href=\"#m68f47219f1\" y=\"83.34099\"/>\n      </g>\n     </g>\n     <g id=\"text_11\">\n      <!-- 0.3 -->\n      <defs>\n       <path d=\"M 40.578125 39.3125 \nQ 47.65625 37.796875 51.625 33 \nQ 55.609375 28.21875 55.609375 21.1875 \nQ 55.609375 10.40625 48.1875 4.484375 \nQ 40.765625 -1.421875 27.09375 -1.421875 \nQ 22.515625 -1.421875 17.65625 -0.515625 \nQ 12.796875 0.390625 7.625 2.203125 \nL 7.625 11.71875 \nQ 11.71875 9.328125 16.59375 8.109375 \nQ 21.484375 6.890625 26.8125 6.890625 \nQ 36.078125 6.890625 40.9375 10.546875 \nQ 45.796875 14.203125 45.796875 21.1875 \nQ 45.796875 27.640625 41.28125 31.265625 \nQ 36.765625 34.90625 28.71875 34.90625 \nL 20.21875 34.90625 \nL 20.21875 43.015625 \nL 29.109375 43.015625 \nQ 36.375 43.015625 40.234375 45.921875 \nQ 44.09375 48.828125 44.09375 54.296875 \nQ 44.09375 59.90625 40.109375 62.90625 \nQ 36.140625 65.921875 28.71875 65.921875 \nQ 24.65625 65.921875 20.015625 65.03125 \nQ 15.375 64.15625 9.8125 62.3125 \nL 9.8125 71.09375 \nQ 15.4375 72.65625 20.34375 73.4375 \nQ 25.25 74.21875 29.59375 74.21875 \nQ 40.828125 74.21875 47.359375 69.109375 \nQ 53.90625 64.015625 53.90625 55.328125 \nQ 53.90625 49.265625 50.4375 45.09375 \nQ 46.96875 40.921875 40.578125 39.3125 \nz\n\" id=\"DejaVuSans-51\"/>\n      </defs>\n      <g style=\"fill:#555555;\" transform=\"translate(22.81375 87.140209)scale(0.1 -0.1)\">\n       <use xlink:href=\"#DejaVuSans-48\"/>\n       <use x=\"63.623047\" xlink:href=\"#DejaVuSans-46\"/>\n       <use x=\"95.410156\" xlink:href=\"#DejaVuSans-51\"/>\n      </g>\n     </g>\n    </g>\n    <g id=\"ytick_5\">\n     <g id=\"line2d_21\">\n      <path clip-path=\"url(#p294ab0cdee)\" d=\"M 45.716875 51.184229 \nL 400.807784 51.184229 \n\" style=\"fill:none;stroke:#ffffff;stroke-linecap:square;stroke-width:0.8;\"/>\n     </g>\n     <g id=\"line2d_22\">\n      <g>\n       <use style=\"fill:#555555;stroke:#555555;stroke-width:0.8;\" x=\"45.716875\" xlink:href=\"#m68f47219f1\" y=\"51.184229\"/>\n      </g>\n     </g>\n     <g id=\"text_12\">\n      <!-- 0.4 -->\n      <g style=\"fill:#555555;\" transform=\"translate(22.81375 54.983448)scale(0.1 -0.1)\">\n       <use xlink:href=\"#DejaVuSans-48\"/>\n       <use x=\"63.623047\" xlink:href=\"#DejaVuSans-46\"/>\n       <use x=\"95.410156\" xlink:href=\"#DejaVuSans-52\"/>\n      </g>\n     </g>\n    </g>\n    <g id=\"text_13\">\n     <!-- Probability -->\n     <defs>\n      <path d=\"M 19.671875 64.796875 \nL 19.671875 37.40625 \nL 32.078125 37.40625 \nQ 38.96875 37.40625 42.71875 40.96875 \nQ 46.484375 44.53125 46.484375 51.125 \nQ 46.484375 57.671875 42.71875 61.234375 \nQ 38.96875 64.796875 32.078125 64.796875 \nz\nM 9.8125 72.90625 \nL 32.078125 72.90625 \nQ 44.34375 72.90625 50.609375 67.359375 \nQ 56.890625 61.8125 56.890625 51.125 \nQ 56.890625 40.328125 50.609375 34.8125 \nQ 44.34375 29.296875 32.078125 29.296875 \nL 19.671875 29.296875 \nL 19.671875 0 \nL 9.8125 0 \nz\n\" id=\"DejaVuSans-80\"/>\n      <path d=\"M 48.6875 27.296875 \nQ 48.6875 37.203125 44.609375 42.84375 \nQ 40.53125 48.484375 33.40625 48.484375 \nQ 26.265625 48.484375 22.1875 42.84375 \nQ 18.109375 37.203125 18.109375 27.296875 \nQ 18.109375 17.390625 22.1875 11.75 \nQ 26.265625 6.109375 33.40625 6.109375 \nQ 40.53125 6.109375 44.609375 11.75 \nQ 48.6875 17.390625 48.6875 27.296875 \nz\nM 18.109375 46.390625 \nQ 20.953125 51.265625 25.265625 53.625 \nQ 29.59375 56 35.59375 56 \nQ 45.5625 56 51.78125 48.09375 \nQ 58.015625 40.1875 58.015625 27.296875 \nQ 58.015625 14.40625 51.78125 6.484375 \nQ 45.5625 -1.421875 35.59375 -1.421875 \nQ 29.59375 -1.421875 25.265625 0.953125 \nQ 20.953125 3.328125 18.109375 8.203125 \nL 18.109375 0 \nL 9.078125 0 \nL 9.078125 75.984375 \nL 18.109375 75.984375 \nz\n\" id=\"DejaVuSans-98\"/>\n      <path d=\"M 34.28125 27.484375 \nQ 23.390625 27.484375 19.1875 25 \nQ 14.984375 22.515625 14.984375 16.5 \nQ 14.984375 11.71875 18.140625 8.90625 \nQ 21.296875 6.109375 26.703125 6.109375 \nQ 34.1875 6.109375 38.703125 11.40625 \nQ 43.21875 16.703125 43.21875 25.484375 \nL 43.21875 27.484375 \nz\nM 52.203125 31.203125 \nL 52.203125 0 \nL 43.21875 0 \nL 43.21875 8.296875 \nQ 40.140625 3.328125 35.546875 0.953125 \nQ 30.953125 -1.421875 24.3125 -1.421875 \nQ 15.921875 -1.421875 10.953125 3.296875 \nQ 6 8.015625 6 15.921875 \nQ 6 25.140625 12.171875 29.828125 \nQ 18.359375 34.515625 30.609375 34.515625 \nL 43.21875 34.515625 \nL 43.21875 35.40625 \nQ 43.21875 41.609375 39.140625 45 \nQ 35.0625 48.390625 27.6875 48.390625 \nQ 23 48.390625 18.546875 47.265625 \nQ 14.109375 46.140625 10.015625 43.890625 \nL 10.015625 52.203125 \nQ 14.9375 54.109375 19.578125 55.046875 \nQ 24.21875 56 28.609375 56 \nQ 40.484375 56 46.34375 49.84375 \nQ 52.203125 43.703125 52.203125 31.203125 \nz\n\" id=\"DejaVuSans-97\"/>\n      <path d=\"M 9.421875 54.6875 \nL 18.40625 54.6875 \nL 18.40625 0 \nL 9.421875 0 \nz\nM 9.421875 75.984375 \nL 18.40625 75.984375 \nL 18.40625 64.59375 \nL 9.421875 64.59375 \nz\n\" id=\"DejaVuSans-105\"/>\n      <path d=\"M 9.421875 75.984375 \nL 18.40625 75.984375 \nL 18.40625 0 \nL 9.421875 0 \nz\n\" id=\"DejaVuSans-108\"/>\n      <path d=\"M 18.3125 70.21875 \nL 18.3125 54.6875 \nL 36.8125 54.6875 \nL 36.8125 47.703125 \nL 18.3125 47.703125 \nL 18.3125 18.015625 \nQ 18.3125 11.328125 20.140625 9.421875 \nQ 21.96875 7.515625 27.59375 7.515625 \nL 36.8125 7.515625 \nL 36.8125 0 \nL 27.59375 0 \nQ 17.1875 0 13.234375 3.875 \nQ 9.28125 7.765625 9.28125 18.015625 \nL 9.28125 47.703125 \nL 2.6875 47.703125 \nL 2.6875 54.6875 \nL 9.28125 54.6875 \nL 9.28125 70.21875 \nz\n\" id=\"DejaVuSans-116\"/>\n      <path d=\"M 32.171875 -5.078125 \nQ 28.375 -14.84375 24.75 -17.8125 \nQ 21.140625 -20.796875 15.09375 -20.796875 \nL 7.90625 -20.796875 \nL 7.90625 -13.28125 \nL 13.1875 -13.28125 \nQ 16.890625 -13.28125 18.9375 -11.515625 \nQ 21 -9.765625 23.484375 -3.21875 \nL 25.09375 0.875 \nL 2.984375 54.6875 \nL 12.5 54.6875 \nL 29.59375 11.921875 \nL 46.6875 54.6875 \nL 56.203125 54.6875 \nz\n\" id=\"DejaVuSans-121\"/>\n     </defs>\n     <g style=\"fill:#555555;\" transform=\"translate(16.318125 137.398687)rotate(-90)scale(0.12 -0.12)\">\n      <use xlink:href=\"#DejaVuSans-80\"/>\n      <use x=\"58.552734\" xlink:href=\"#DejaVuSans-114\"/>\n      <use x=\"97.416016\" xlink:href=\"#DejaVuSans-111\"/>\n      <use x=\"158.597656\" xlink:href=\"#DejaVuSans-98\"/>\n      <use x=\"222.074219\" xlink:href=\"#DejaVuSans-97\"/>\n      <use x=\"283.353516\" xlink:href=\"#DejaVuSans-98\"/>\n      <use x=\"346.830078\" xlink:href=\"#DejaVuSans-105\"/>\n      <use x=\"374.613281\" xlink:href=\"#DejaVuSans-108\"/>\n      <use x=\"402.396484\" xlink:href=\"#DejaVuSans-105\"/>\n      <use x=\"430.179688\" xlink:href=\"#DejaVuSans-116\"/>\n      <use x=\"469.388672\" xlink:href=\"#DejaVuSans-121\"/>\n     </g>\n    </g>\n   </g>\n   <g id=\"line2d_23\">\n    <path clip-path=\"url(#p294ab0cdee)\" d=\"M 61.857371 177.030414 \nL 61.857371 176.394296 \nL 77.997867 176.394296 \nL 77.997867 176.475671 \nL 94.138363 176.475671 \nL 94.138363 176.019675 \nL 110.278858 176.019675 \nL 110.278858 175.205819 \nL 126.419354 175.205819 \nL 126.419354 174.686476 \nL 142.55985 174.686476 \nL 142.55985 174.728462 \nL 158.700346 174.728462 \nL 158.700346 174.355508 \nL 174.840842 174.355508 \nL 174.840842 173.334411 \nL 190.981338 173.334411 \nL 190.981338 173.028938 \nL 207.121834 173.028938 \nL 207.121834 171.453395 \nL 223.26233 171.453395 \nL 223.26233 169.929773 \nL 239.402825 169.929773 \nL 239.402825 167.865043 \nL 255.543321 167.865043 \nL 255.543321 164.715826 \nL 271.683817 164.715826 \nL 271.683817 161.757125 \nL 287.824313 161.757125 \nL 287.824313 156.367512 \nL 303.964809 156.367512 \nL 303.964809 149.972339 \nL 320.105305 149.972339 \nL 320.105305 141.070271 \nL 336.245801 141.070271 \nL 336.245801 122.006363 \nL 352.386296 122.006363 \nL 352.386296 118.260529 \nL 368.526792 118.260529 \nL 368.526792 179.811273 \nL 384.667288 179.811273 \n\" style=\"fill:none;stroke:#d62728;stroke-linecap:square;stroke-width:1.5;\"/>\n   </g>\n   <g id=\"line2d_24\">\n    <path clip-path=\"url(#p294ab0cdee)\" d=\"M 61.857371 31.556727 \nL 61.857371 147.483063 \nL 77.997867 147.483063 \nL 77.997867 160.569121 \nL 94.138363 160.569121 \nL 94.138363 165.70174 \nL 110.278858 165.70174 \nL 110.278858 168.519787 \nL 126.419354 168.519787 \nL 126.419354 170.322156 \nL 142.55985 170.322156 \nL 142.55985 171.129202 \nL 158.700346 171.129202 \nL 158.700346 171.648593 \nL 174.840842 171.648593 \nL 174.840842 172.664536 \nL 190.981338 172.664536 \nL 190.981338 173.113475 \nL 207.121834 173.113475 \nL 207.121834 173.173165 \nL 223.26233 173.173165 \nL 223.26233 173.688725 \nL 239.402825 173.688725 \nL 239.402825 173.157285 \nL 255.543321 173.157285 \nL 255.543321 173.371301 \nL 271.683817 173.371301 \nL 271.683817 173.136545 \nL 287.824313 173.136545 \nL 287.824313 173.443071 \nL 303.964809 173.443071 \nL 303.964809 173.949483 \nL 320.105305 173.949483 \nL 320.105305 174.426758 \nL 336.245801 174.426758 \nL 336.245801 175.630262 \nL 352.386296 175.630262 \nL 352.386296 177.972849 \nL 368.526792 177.972849 \nL 368.526792 179.811273 \nL 384.667288 179.811273 \n\" style=\"fill:none;stroke:#1f77b4;stroke-linecap:square;stroke-width:1.5;\"/>\n   </g>\n   <g id=\"patch_3\">\n    <path d=\"M 45.716875 187.224 \nL 45.716875 24.144 \n\" style=\"fill:none;stroke:#ffffff;stroke-linecap:square;stroke-linejoin:miter;\"/>\n   </g>\n   <g id=\"patch_4\">\n    <path d=\"M 400.807784 187.224 \nL 400.807784 24.144 \n\" style=\"fill:none;stroke:#ffffff;stroke-linecap:square;stroke-linejoin:miter;\"/>\n   </g>\n   <g id=\"patch_5\">\n    <path d=\"M 45.716875 187.224 \nL 400.807784 187.224 \n\" style=\"fill:none;stroke:#ffffff;stroke-linecap:square;stroke-linejoin:miter;\"/>\n   </g>\n   <g id=\"patch_6\">\n    <path d=\"M 45.716875 24.144 \nL 400.807784 24.144 \n\" style=\"fill:none;stroke:#ffffff;stroke-linecap:square;stroke-linejoin:miter;\"/>\n   </g>\n   <g id=\"text_14\">\n    <!-- ${\\bf Probability}$: bin content of Signal and Background -->\n    <defs>\n     <path d=\"M 9.1875 72.90625 \nL 40.375 72.90625 \nQ 54.296875 72.90625 61.734375 66.71875 \nQ 69.1875 60.546875 69.1875 49.125 \nQ 69.1875 37.640625 61.734375 31.46875 \nQ 54.296875 25.296875 40.375 25.296875 \nL 27.984375 25.296875 \nL 27.984375 0 \nL 9.1875 0 \nz\nM 27.984375 59.28125 \nL 27.984375 38.921875 \nL 38.375 38.921875 \nQ 43.84375 38.921875 46.828125 41.578125 \nQ 49.8125 44.234375 49.8125 49.125 \nQ 49.8125 54 46.828125 56.640625 \nQ 43.84375 59.28125 38.375 59.28125 \nz\n\" id=\"DejaVuSans-Bold-80\"/>\n     <path d=\"M 49.03125 39.796875 \nQ 46.734375 40.875 44.453125 41.375 \nQ 42.1875 41.890625 39.890625 41.890625 \nQ 33.15625 41.890625 29.515625 37.5625 \nQ 25.875 33.25 25.875 25.203125 \nL 25.875 0 \nL 8.40625 0 \nL 8.40625 54.6875 \nL 25.875 54.6875 \nL 25.875 45.703125 \nQ 29.25 51.078125 33.609375 53.53125 \nQ 37.984375 56 44.09375 56 \nQ 44.96875 56 45.984375 55.921875 \nQ 47.015625 55.859375 48.96875 55.609375 \nz\n\" id=\"DejaVuSans-Bold-114\"/>\n     <path d=\"M 34.421875 43.5 \nQ 28.609375 43.5 25.5625 39.328125 \nQ 22.515625 35.15625 22.515625 27.296875 \nQ 22.515625 19.4375 25.5625 15.25 \nQ 28.609375 11.078125 34.421875 11.078125 \nQ 40.140625 11.078125 43.15625 15.25 \nQ 46.1875 19.4375 46.1875 27.296875 \nQ 46.1875 35.15625 43.15625 39.328125 \nQ 40.140625 43.5 34.421875 43.5 \nz\nM 34.421875 56 \nQ 48.53125 56 56.46875 48.375 \nQ 64.40625 40.765625 64.40625 27.296875 \nQ 64.40625 13.8125 56.46875 6.1875 \nQ 48.53125 -1.421875 34.421875 -1.421875 \nQ 20.265625 -1.421875 12.28125 6.1875 \nQ 4.296875 13.8125 4.296875 27.296875 \nQ 4.296875 40.765625 12.28125 48.375 \nQ 20.265625 56 34.421875 56 \nz\n\" id=\"DejaVuSans-Bold-111\"/>\n     <path d=\"M 37.5 11.28125 \nQ 43.109375 11.28125 46.0625 15.375 \nQ 49.03125 19.484375 49.03125 27.296875 \nQ 49.03125 35.109375 46.0625 39.203125 \nQ 43.109375 43.3125 37.5 43.3125 \nQ 31.890625 43.3125 28.875 39.1875 \nQ 25.875 35.0625 25.875 27.296875 \nQ 25.875 19.53125 28.875 15.40625 \nQ 31.890625 11.28125 37.5 11.28125 \nz\nM 25.875 46.6875 \nQ 29.5 51.46875 33.890625 53.734375 \nQ 38.28125 56 44 56 \nQ 54.109375 56 60.59375 47.96875 \nQ 67.09375 39.9375 67.09375 27.296875 \nQ 67.09375 14.65625 60.59375 6.609375 \nQ 54.109375 -1.421875 44 -1.421875 \nQ 38.28125 -1.421875 33.890625 0.84375 \nQ 29.5 3.125 25.875 7.90625 \nL 25.875 0 \nL 8.40625 0 \nL 8.40625 75.984375 \nL 25.875 75.984375 \nz\n\" id=\"DejaVuSans-Bold-98\"/>\n     <path d=\"M 32.90625 24.609375 \nQ 27.4375 24.609375 24.671875 22.75 \nQ 21.921875 20.90625 21.921875 17.28125 \nQ 21.921875 13.96875 24.140625 12.078125 \nQ 26.375 10.203125 30.328125 10.203125 \nQ 35.25 10.203125 38.625 13.734375 \nQ 42 17.28125 42 22.609375 \nL 42 24.609375 \nz\nM 59.625 31.203125 \nL 59.625 0 \nL 42 0 \nL 42 8.109375 \nQ 38.484375 3.125 34.078125 0.84375 \nQ 29.6875 -1.421875 23.390625 -1.421875 \nQ 14.890625 -1.421875 9.59375 3.53125 \nQ 4.296875 8.5 4.296875 16.40625 \nQ 4.296875 26.03125 10.90625 30.515625 \nQ 17.53125 35.015625 31.6875 35.015625 \nL 42 35.015625 \nL 42 36.375 \nQ 42 40.53125 38.71875 42.453125 \nQ 35.453125 44.390625 28.515625 44.390625 \nQ 22.90625 44.390625 18.0625 43.265625 \nQ 13.234375 42.140625 9.078125 39.890625 \nL 9.078125 53.21875 \nQ 14.703125 54.59375 20.359375 55.296875 \nQ 26.03125 56 31.6875 56 \nQ 46.484375 56 53.046875 50.171875 \nQ 59.625 44.34375 59.625 31.203125 \nz\n\" id=\"DejaVuSans-Bold-97\"/>\n     <path d=\"M 8.40625 54.6875 \nL 25.875 54.6875 \nL 25.875 0 \nL 8.40625 0 \nz\nM 8.40625 75.984375 \nL 25.875 75.984375 \nL 25.875 61.71875 \nL 8.40625 61.71875 \nz\n\" id=\"DejaVuSans-Bold-105\"/>\n     <path d=\"M 8.40625 75.984375 \nL 25.875 75.984375 \nL 25.875 0 \nL 8.40625 0 \nz\n\" id=\"DejaVuSans-Bold-108\"/>\n     <path d=\"M 27.484375 70.21875 \nL 27.484375 54.6875 \nL 45.515625 54.6875 \nL 45.515625 42.1875 \nL 27.484375 42.1875 \nL 27.484375 19 \nQ 27.484375 15.1875 29 13.84375 \nQ 30.515625 12.5 35.015625 12.5 \nL 44 12.5 \nL 44 0 \nL 29 0 \nQ 18.65625 0 14.328125 4.3125 \nQ 10.015625 8.640625 10.015625 19 \nL 10.015625 42.1875 \nL 1.3125 42.1875 \nL 1.3125 54.6875 \nL 10.015625 54.6875 \nL 10.015625 70.21875 \nz\n\" id=\"DejaVuSans-Bold-116\"/>\n     <path d=\"M 1.21875 54.6875 \nL 18.703125 54.6875 \nL 33.40625 17.578125 \nL 45.90625 54.6875 \nL 63.375 54.6875 \nL 40.375 -5.171875 \nQ 36.921875 -14.3125 32.296875 -17.9375 \nQ 27.6875 -21.578125 20.125 -21.578125 \nL 10.015625 -21.578125 \nL 10.015625 -10.109375 \nL 15.484375 -10.109375 \nQ 19.921875 -10.109375 21.9375 -8.6875 \nQ 23.96875 -7.28125 25.09375 -3.609375 \nL 25.59375 -2.09375 \nz\n\" id=\"DejaVuSans-Bold-121\"/>\n     <path d=\"M 11.71875 12.40625 \nL 22.015625 12.40625 \nL 22.015625 0 \nL 11.71875 0 \nz\nM 11.71875 51.703125 \nL 22.015625 51.703125 \nL 22.015625 39.3125 \nL 11.71875 39.3125 \nz\n\" id=\"DejaVuSans-58\"/>\n     <path id=\"DejaVuSans-32\"/>\n     <path d=\"M 54.890625 33.015625 \nL 54.890625 0 \nL 45.90625 0 \nL 45.90625 32.71875 \nQ 45.90625 40.484375 42.875 44.328125 \nQ 39.84375 48.1875 33.796875 48.1875 \nQ 26.515625 48.1875 22.3125 43.546875 \nQ 18.109375 38.921875 18.109375 30.90625 \nL 18.109375 0 \nL 9.078125 0 \nL 9.078125 54.6875 \nL 18.109375 54.6875 \nL 18.109375 46.1875 \nQ 21.34375 51.125 25.703125 53.5625 \nQ 30.078125 56 35.796875 56 \nQ 45.21875 56 50.046875 50.171875 \nQ 54.890625 44.34375 54.890625 33.015625 \nz\n\" id=\"DejaVuSans-110\"/>\n     <path d=\"M 37.109375 75.984375 \nL 37.109375 68.5 \nL 28.515625 68.5 \nQ 23.6875 68.5 21.796875 66.546875 \nQ 19.921875 64.59375 19.921875 59.515625 \nL 19.921875 54.6875 \nL 34.71875 54.6875 \nL 34.71875 47.703125 \nL 19.921875 47.703125 \nL 19.921875 0 \nL 10.890625 0 \nL 10.890625 47.703125 \nL 2.296875 47.703125 \nL 2.296875 54.6875 \nL 10.890625 54.6875 \nL 10.890625 58.5 \nQ 10.890625 67.625 15.140625 71.796875 \nQ 19.390625 75.984375 28.609375 75.984375 \nz\n\" id=\"DejaVuSans-102\"/>\n     <path d=\"M 45.40625 27.984375 \nQ 45.40625 37.75 41.375 43.109375 \nQ 37.359375 48.484375 30.078125 48.484375 \nQ 22.859375 48.484375 18.828125 43.109375 \nQ 14.796875 37.75 14.796875 27.984375 \nQ 14.796875 18.265625 18.828125 12.890625 \nQ 22.859375 7.515625 30.078125 7.515625 \nQ 37.359375 7.515625 41.375 12.890625 \nQ 45.40625 18.265625 45.40625 27.984375 \nz\nM 54.390625 6.78125 \nQ 54.390625 -7.171875 48.1875 -13.984375 \nQ 42 -20.796875 29.203125 -20.796875 \nQ 24.46875 -20.796875 20.265625 -20.09375 \nQ 16.0625 -19.390625 12.109375 -17.921875 \nL 12.109375 -9.1875 \nQ 16.0625 -11.328125 19.921875 -12.34375 \nQ 23.78125 -13.375 27.78125 -13.375 \nQ 36.625 -13.375 41.015625 -8.765625 \nQ 45.40625 -4.15625 45.40625 5.171875 \nL 45.40625 9.625 \nQ 42.625 4.78125 38.28125 2.390625 \nQ 33.9375 0 27.875 0 \nQ 17.828125 0 11.671875 7.65625 \nQ 5.515625 15.328125 5.515625 27.984375 \nQ 5.515625 40.671875 11.671875 48.328125 \nQ 17.828125 56 27.875 56 \nQ 33.9375 56 38.28125 53.609375 \nQ 42.625 51.21875 45.40625 46.390625 \nL 45.40625 54.6875 \nL 54.390625 54.6875 \nz\n\" id=\"DejaVuSans-103\"/>\n     <path d=\"M 45.40625 46.390625 \nL 45.40625 75.984375 \nL 54.390625 75.984375 \nL 54.390625 0 \nL 45.40625 0 \nL 45.40625 8.203125 \nQ 42.578125 3.328125 38.25 0.953125 \nQ 33.9375 -1.421875 27.875 -1.421875 \nQ 17.96875 -1.421875 11.734375 6.484375 \nQ 5.515625 14.40625 5.515625 27.296875 \nQ 5.515625 40.1875 11.734375 48.09375 \nQ 17.96875 56 27.875 56 \nQ 33.9375 56 38.25 53.625 \nQ 42.578125 51.265625 45.40625 46.390625 \nz\nM 14.796875 27.296875 \nQ 14.796875 17.390625 18.875 11.75 \nQ 22.953125 6.109375 30.078125 6.109375 \nQ 37.203125 6.109375 41.296875 11.75 \nQ 45.40625 17.390625 45.40625 27.296875 \nQ 45.40625 37.203125 41.296875 42.84375 \nQ 37.203125 48.484375 30.078125 48.484375 \nQ 22.953125 48.484375 18.875 42.84375 \nQ 14.796875 37.203125 14.796875 27.296875 \nz\n\" id=\"DejaVuSans-100\"/>\n     <path d=\"M 19.671875 34.8125 \nL 19.671875 8.109375 \nL 35.5 8.109375 \nQ 43.453125 8.109375 47.28125 11.40625 \nQ 51.125 14.703125 51.125 21.484375 \nQ 51.125 28.328125 47.28125 31.5625 \nQ 43.453125 34.8125 35.5 34.8125 \nz\nM 19.671875 64.796875 \nL 19.671875 42.828125 \nL 34.28125 42.828125 \nQ 41.5 42.828125 45.03125 45.53125 \nQ 48.578125 48.25 48.578125 53.8125 \nQ 48.578125 59.328125 45.03125 62.0625 \nQ 41.5 64.796875 34.28125 64.796875 \nz\nM 9.8125 72.90625 \nL 35.015625 72.90625 \nQ 46.296875 72.90625 52.390625 68.21875 \nQ 58.5 63.53125 58.5 54.890625 \nQ 58.5 48.1875 55.375 44.234375 \nQ 52.25 40.28125 46.1875 39.3125 \nQ 53.46875 37.75 57.5 32.78125 \nQ 61.53125 27.828125 61.53125 20.40625 \nQ 61.53125 10.640625 54.890625 5.3125 \nQ 48.25 0 35.984375 0 \nL 9.8125 0 \nz\n\" id=\"DejaVuSans-66\"/>\n     <path d=\"M 9.078125 75.984375 \nL 18.109375 75.984375 \nL 18.109375 31.109375 \nL 44.921875 54.6875 \nL 56.390625 54.6875 \nL 27.390625 29.109375 \nL 57.625 0 \nL 45.90625 0 \nL 18.109375 26.703125 \nL 18.109375 0 \nL 9.078125 0 \nz\n\" id=\"DejaVuSans-107\"/>\n     <path d=\"M 8.5 21.578125 \nL 8.5 54.6875 \nL 17.484375 54.6875 \nL 17.484375 21.921875 \nQ 17.484375 14.15625 20.5 10.265625 \nQ 23.53125 6.390625 29.59375 6.390625 \nQ 36.859375 6.390625 41.078125 11.03125 \nQ 45.3125 15.671875 45.3125 23.6875 \nL 45.3125 54.6875 \nL 54.296875 54.6875 \nL 54.296875 0 \nL 45.3125 0 \nL 45.3125 8.40625 \nQ 42.046875 3.421875 37.71875 1 \nQ 33.40625 -1.421875 27.6875 -1.421875 \nQ 18.265625 -1.421875 13.375 4.4375 \nQ 8.5 10.296875 8.5 21.578125 \nz\nM 31.109375 56 \nz\n\" id=\"DejaVuSans-117\"/>\n    </defs>\n    <g transform=\"translate(38.15033 18.144)scale(0.144 -0.144)\">\n     <use transform=\"translate(0 0.015625)\" xlink:href=\"#DejaVuSans-Bold-80\"/>\n     <use transform=\"translate(73.291016 0.015625)\" xlink:href=\"#DejaVuSans-Bold-114\"/>\n     <use transform=\"translate(122.607422 0.015625)\" xlink:href=\"#DejaVuSans-Bold-111\"/>\n     <use transform=\"translate(191.308594 0.015625)\" xlink:href=\"#DejaVuSans-Bold-98\"/>\n     <use transform=\"translate(262.890625 0.015625)\" xlink:href=\"#DejaVuSans-Bold-97\"/>\n     <use transform=\"translate(330.371094 0.015625)\" xlink:href=\"#DejaVuSans-Bold-98\"/>\n     <use transform=\"translate(401.953125 0.015625)\" xlink:href=\"#DejaVuSans-Bold-105\"/>\n     <use transform=\"translate(436.230469 0.015625)\" xlink:href=\"#DejaVuSans-Bold-108\"/>\n     <use transform=\"translate(470.507812 0.015625)\" xlink:href=\"#DejaVuSans-Bold-105\"/>\n     <use transform=\"translate(504.785156 0.015625)\" xlink:href=\"#DejaVuSans-Bold-116\"/>\n     <use transform=\"translate(552.587891 0.015625)\" xlink:href=\"#DejaVuSans-Bold-121\"/>\n     <use transform=\"translate(617.773438 0.015625)\" xlink:href=\"#DejaVuSans-58\"/>\n     <use transform=\"translate(651.464844 0.015625)\" xlink:href=\"#DejaVuSans-32\"/>\n     <use transform=\"translate(683.251953 0.015625)\" xlink:href=\"#DejaVuSans-98\"/>\n     <use transform=\"translate(746.728516 0.015625)\" xlink:href=\"#DejaVuSans-105\"/>\n     <use transform=\"translate(774.511719 0.015625)\" xlink:href=\"#DejaVuSans-110\"/>\n     <use transform=\"translate(837.890625 0.015625)\" xlink:href=\"#DejaVuSans-32\"/>\n     <use transform=\"translate(869.677734 0.015625)\" xlink:href=\"#DejaVuSans-99\"/>\n     <use transform=\"translate(924.658203 0.015625)\" xlink:href=\"#DejaVuSans-111\"/>\n     <use transform=\"translate(985.839844 0.015625)\" xlink:href=\"#DejaVuSans-110\"/>\n     <use transform=\"translate(1049.21875 0.015625)\" xlink:href=\"#DejaVuSans-116\"/>\n     <use transform=\"translate(1088.427734 0.015625)\" xlink:href=\"#DejaVuSans-101\"/>\n     <use transform=\"translate(1149.951172 0.015625)\" xlink:href=\"#DejaVuSans-110\"/>\n     <use transform=\"translate(1213.330078 0.015625)\" xlink:href=\"#DejaVuSans-116\"/>\n     <use transform=\"translate(1252.539062 0.015625)\" xlink:href=\"#DejaVuSans-32\"/>\n     <use transform=\"translate(1284.326172 0.015625)\" xlink:href=\"#DejaVuSans-111\"/>\n     <use transform=\"translate(1345.507812 0.015625)\" xlink:href=\"#DejaVuSans-102\"/>\n     <use transform=\"translate(1380.712891 0.015625)\" xlink:href=\"#DejaVuSans-32\"/>\n     <use transform=\"translate(1412.5 0.015625)\" xlink:href=\"#DejaVuSans-83\"/>\n     <use transform=\"translate(1475.976562 0.015625)\" xlink:href=\"#DejaVuSans-105\"/>\n     <use transform=\"translate(1503.759766 0.015625)\" xlink:href=\"#DejaVuSans-103\"/>\n     <use transform=\"translate(1567.236328 0.015625)\" xlink:href=\"#DejaVuSans-110\"/>\n     <use transform=\"translate(1630.615234 0.015625)\" xlink:href=\"#DejaVuSans-97\"/>\n     <use transform=\"translate(1691.894531 0.015625)\" xlink:href=\"#DejaVuSans-108\"/>\n     <use transform=\"translate(1719.677734 0.015625)\" xlink:href=\"#DejaVuSans-32\"/>\n     <use transform=\"translate(1751.464844 0.015625)\" xlink:href=\"#DejaVuSans-97\"/>\n     <use transform=\"translate(1812.744141 0.015625)\" xlink:href=\"#DejaVuSans-110\"/>\n     <use transform=\"translate(1876.123047 0.015625)\" xlink:href=\"#DejaVuSans-100\"/>\n     <use transform=\"translate(1939.599609 0.015625)\" xlink:href=\"#DejaVuSans-32\"/>\n     <use transform=\"translate(1971.386719 0.015625)\" xlink:href=\"#DejaVuSans-66\"/>\n     <use transform=\"translate(2039.990234 0.015625)\" xlink:href=\"#DejaVuSans-97\"/>\n     <use transform=\"translate(2101.269531 0.015625)\" xlink:href=\"#DejaVuSans-99\"/>\n     <use transform=\"translate(2156.25 0.015625)\" xlink:href=\"#DejaVuSans-107\"/>\n     <use transform=\"translate(2214.160156 0.015625)\" xlink:href=\"#DejaVuSans-103\"/>\n     <use transform=\"translate(2277.636719 0.015625)\" xlink:href=\"#DejaVuSans-114\"/>\n     <use transform=\"translate(2318.75 0.015625)\" xlink:href=\"#DejaVuSans-111\"/>\n     <use transform=\"translate(2379.931641 0.015625)\" xlink:href=\"#DejaVuSans-117\"/>\n     <use transform=\"translate(2443.310547 0.015625)\" xlink:href=\"#DejaVuSans-110\"/>\n     <use transform=\"translate(2506.689453 0.015625)\" xlink:href=\"#DejaVuSans-100\"/>\n    </g>\n   </g>\n   <g id=\"legend_1\">\n    <g id=\"patch_7\">\n     <path d=\"M 302.153097 61.50025 \nL 393.807784 61.50025 \nQ 395.807784 61.50025 395.807784 59.50025 \nL 395.807784 31.144 \nQ 395.807784 29.144 393.807784 29.144 \nL 302.153097 29.144 \nQ 300.153097 29.144 300.153097 31.144 \nL 300.153097 59.50025 \nQ 300.153097 61.50025 302.153097 61.50025 \nz\n\" style=\"fill:#ffffff;opacity:0.8;stroke:#cccccc;stroke-linejoin:miter;stroke-width:0.5;\"/>\n    </g>\n    <g id=\"line2d_25\">\n     <path d=\"M 304.153097 37.242437 \nL 324.153097 37.242437 \n\" style=\"fill:none;stroke:#d62728;stroke-linecap:square;stroke-width:1.5;\"/>\n    </g>\n    <g id=\"line2d_26\"/>\n    <g id=\"text_15\">\n     <!-- Signal -->\n     <g transform=\"translate(332.153097 40.742437)scale(0.1 -0.1)\">\n      <use xlink:href=\"#DejaVuSans-83\"/>\n      <use x=\"63.476562\" xlink:href=\"#DejaVuSans-105\"/>\n      <use x=\"91.259766\" xlink:href=\"#DejaVuSans-103\"/>\n      <use x=\"154.736328\" xlink:href=\"#DejaVuSans-110\"/>\n      <use x=\"218.115234\" xlink:href=\"#DejaVuSans-97\"/>\n      <use x=\"279.394531\" xlink:href=\"#DejaVuSans-108\"/>\n     </g>\n    </g>\n    <g id=\"line2d_27\">\n     <path d=\"M 304.153097 51.920562 \nL 324.153097 51.920562 \n\" style=\"fill:none;stroke:#1f77b4;stroke-linecap:square;stroke-width:1.5;\"/>\n    </g>\n    <g id=\"line2d_28\"/>\n    <g id=\"text_16\">\n     <!-- Background -->\n     <g transform=\"translate(332.153097 55.420562)scale(0.1 -0.1)\">\n      <use xlink:href=\"#DejaVuSans-66\"/>\n      <use x=\"68.603516\" xlink:href=\"#DejaVuSans-97\"/>\n      <use x=\"129.882812\" xlink:href=\"#DejaVuSans-99\"/>\n      <use x=\"184.863281\" xlink:href=\"#DejaVuSans-107\"/>\n      <use x=\"242.773438\" xlink:href=\"#DejaVuSans-103\"/>\n      <use x=\"306.25\" xlink:href=\"#DejaVuSans-114\"/>\n      <use x=\"345.113281\" xlink:href=\"#DejaVuSans-111\"/>\n      <use x=\"406.294922\" xlink:href=\"#DejaVuSans-117\"/>\n      <use x=\"469.673828\" xlink:href=\"#DejaVuSans-110\"/>\n      <use x=\"533.052734\" xlink:href=\"#DejaVuSans-100\"/>\n     </g>\n    </g>\n   </g>\n  </g>\n  <g id=\"axes_2\">\n   <g id=\"patch_8\">\n    <path d=\"M 471.825966 187.224 \nL 826.916875 187.224 \nL 826.916875 24.144 \nL 471.825966 24.144 \nz\n\" style=\"fill:#e5e5e5;\"/>\n   </g>\n   <g id=\"matplotlib.axis_3\">\n    <g id=\"xtick_7\">\n     <g id=\"line2d_29\">\n      <path clip-path=\"url(#pc3599efe01)\" d=\"M 487.966462 187.224 \nL 487.966462 24.144 \n\" style=\"fill:none;stroke:#ffffff;stroke-linecap:square;stroke-width:0.8;\"/>\n     </g>\n     <g id=\"line2d_30\">\n      <g>\n       <use style=\"fill:#555555;stroke:#555555;stroke-width:0.8;\" x=\"487.966462\" xlink:href=\"#m21ac4e672b\" y=\"187.224\"/>\n      </g>\n     </g>\n     <g id=\"text_17\">\n      <!-- 0.0 -->\n      <g style=\"fill:#555555;\" transform=\"translate(480.014899 201.822438)scale(0.1 -0.1)\">\n       <use xlink:href=\"#DejaVuSans-48\"/>\n       <use x=\"63.623047\" xlink:href=\"#DejaVuSans-46\"/>\n       <use x=\"95.410156\" xlink:href=\"#DejaVuSans-48\"/>\n      </g>\n     </g>\n    </g>\n    <g id=\"xtick_8\">\n     <g id=\"line2d_31\">\n      <path clip-path=\"url(#pc3599efe01)\" d=\"M 552.528445 187.224 \nL 552.528445 24.144 \n\" style=\"fill:none;stroke:#ffffff;stroke-linecap:square;stroke-width:0.8;\"/>\n     </g>\n     <g id=\"line2d_32\">\n      <g>\n       <use style=\"fill:#555555;stroke:#555555;stroke-width:0.8;\" x=\"552.528445\" xlink:href=\"#m21ac4e672b\" y=\"187.224\"/>\n      </g>\n     </g>\n     <g id=\"text_18\">\n      <!-- 0.2 -->\n      <g style=\"fill:#555555;\" transform=\"translate(544.576883 201.822438)scale(0.1 -0.1)\">\n       <use xlink:href=\"#DejaVuSans-48\"/>\n       <use x=\"63.623047\" xlink:href=\"#DejaVuSans-46\"/>\n       <use x=\"95.410156\" xlink:href=\"#DejaVuSans-50\"/>\n      </g>\n     </g>\n    </g>\n    <g id=\"xtick_9\">\n     <g id=\"line2d_33\">\n      <path clip-path=\"url(#pc3599efe01)\" d=\"M 617.090429 187.224 \nL 617.090429 24.144 \n\" style=\"fill:none;stroke:#ffffff;stroke-linecap:square;stroke-width:0.8;\"/>\n     </g>\n     <g id=\"line2d_34\">\n      <g>\n       <use style=\"fill:#555555;stroke:#555555;stroke-width:0.8;\" x=\"617.090429\" xlink:href=\"#m21ac4e672b\" y=\"187.224\"/>\n      </g>\n     </g>\n     <g id=\"text_19\">\n      <!-- 0.4 -->\n      <g style=\"fill:#555555;\" transform=\"translate(609.138866 201.822438)scale(0.1 -0.1)\">\n       <use xlink:href=\"#DejaVuSans-48\"/>\n       <use x=\"63.623047\" xlink:href=\"#DejaVuSans-46\"/>\n       <use x=\"95.410156\" xlink:href=\"#DejaVuSans-52\"/>\n      </g>\n     </g>\n    </g>\n    <g id=\"xtick_10\">\n     <g id=\"line2d_35\">\n      <path clip-path=\"url(#pc3599efe01)\" d=\"M 681.652412 187.224 \nL 681.652412 24.144 \n\" style=\"fill:none;stroke:#ffffff;stroke-linecap:square;stroke-width:0.8;\"/>\n     </g>\n     <g id=\"line2d_36\">\n      <g>\n       <use style=\"fill:#555555;stroke:#555555;stroke-width:0.8;\" x=\"681.652412\" xlink:href=\"#m21ac4e672b\" y=\"187.224\"/>\n      </g>\n     </g>\n     <g id=\"text_20\">\n      <!-- 0.6 -->\n      <g style=\"fill:#555555;\" transform=\"translate(673.70085 201.822438)scale(0.1 -0.1)\">\n       <use xlink:href=\"#DejaVuSans-48\"/>\n       <use x=\"63.623047\" xlink:href=\"#DejaVuSans-46\"/>\n       <use x=\"95.410156\" xlink:href=\"#DejaVuSans-54\"/>\n      </g>\n     </g>\n    </g>\n    <g id=\"xtick_11\">\n     <g id=\"line2d_37\">\n      <path clip-path=\"url(#pc3599efe01)\" d=\"M 746.214396 187.224 \nL 746.214396 24.144 \n\" style=\"fill:none;stroke:#ffffff;stroke-linecap:square;stroke-width:0.8;\"/>\n     </g>\n     <g id=\"line2d_38\">\n      <g>\n       <use style=\"fill:#555555;stroke:#555555;stroke-width:0.8;\" x=\"746.214396\" xlink:href=\"#m21ac4e672b\" y=\"187.224\"/>\n      </g>\n     </g>\n     <g id=\"text_21\">\n      <!-- 0.8 -->\n      <g style=\"fill:#555555;\" transform=\"translate(738.262833 201.822438)scale(0.1 -0.1)\">\n       <use xlink:href=\"#DejaVuSans-48\"/>\n       <use x=\"63.623047\" xlink:href=\"#DejaVuSans-46\"/>\n       <use x=\"95.410156\" xlink:href=\"#DejaVuSans-56\"/>\n      </g>\n     </g>\n    </g>\n    <g id=\"xtick_12\">\n     <g id=\"line2d_39\">\n      <path clip-path=\"url(#pc3599efe01)\" d=\"M 810.776379 187.224 \nL 810.776379 24.144 \n\" style=\"fill:none;stroke:#ffffff;stroke-linecap:square;stroke-width:0.8;\"/>\n     </g>\n     <g id=\"line2d_40\">\n      <g>\n       <use style=\"fill:#555555;stroke:#555555;stroke-width:0.8;\" x=\"810.776379\" xlink:href=\"#m21ac4e672b\" y=\"187.224\"/>\n      </g>\n     </g>\n     <g id=\"text_22\">\n      <!-- 1.0 -->\n      <g style=\"fill:#555555;\" transform=\"translate(802.824817 201.822438)scale(0.1 -0.1)\">\n       <use xlink:href=\"#DejaVuSans-49\"/>\n       <use x=\"63.623047\" xlink:href=\"#DejaVuSans-46\"/>\n       <use x=\"95.410156\" xlink:href=\"#DejaVuSans-48\"/>\n      </g>\n     </g>\n    </g>\n    <g id=\"text_23\">\n     <!-- Score -->\n     <g style=\"fill:#555555;\" transform=\"translate(632.568608 217.02025)scale(0.12 -0.12)\">\n      <use xlink:href=\"#DejaVuSans-83\"/>\n      <use x=\"63.476562\" xlink:href=\"#DejaVuSans-99\"/>\n      <use x=\"118.457031\" xlink:href=\"#DejaVuSans-111\"/>\n      <use x=\"179.638672\" xlink:href=\"#DejaVuSans-114\"/>\n      <use x=\"218.501953\" xlink:href=\"#DejaVuSans-101\"/>\n     </g>\n    </g>\n   </g>\n   <g id=\"matplotlib.axis_4\">\n    <g id=\"ytick_6\">\n     <g id=\"line2d_41\">\n      <path clip-path=\"url(#pc3599efe01)\" d=\"M 471.825966 179.811273 \nL 826.916875 179.811273 \n\" style=\"fill:none;stroke:#ffffff;stroke-linecap:square;stroke-width:0.8;\"/>\n     </g>\n     <g id=\"line2d_42\">\n      <g>\n       <use style=\"fill:#555555;stroke:#555555;stroke-width:0.8;\" x=\"471.825966\" xlink:href=\"#m68f47219f1\" y=\"179.811273\"/>\n      </g>\n     </g>\n     <g id=\"text_24\">\n      <!-- 0 -->\n      <g style=\"fill:#555555;\" transform=\"translate(458.463466 183.610491)scale(0.1 -0.1)\">\n       <use xlink:href=\"#DejaVuSans-48\"/>\n      </g>\n     </g>\n    </g>\n    <g id=\"ytick_7\">\n     <g id=\"line2d_43\">\n      <path clip-path=\"url(#pc3599efe01)\" d=\"M 471.825966 155.379788 \nL 826.916875 155.379788 \n\" style=\"fill:none;stroke:#ffffff;stroke-linecap:square;stroke-width:0.8;\"/>\n     </g>\n     <g id=\"line2d_44\">\n      <g>\n       <use style=\"fill:#555555;stroke:#555555;stroke-width:0.8;\" x=\"471.825966\" xlink:href=\"#m68f47219f1\" y=\"155.379788\"/>\n      </g>\n     </g>\n     <g id=\"text_25\">\n      <!-- 25000 -->\n      <defs>\n       <path d=\"M 10.796875 72.90625 \nL 49.515625 72.90625 \nL 49.515625 64.59375 \nL 19.828125 64.59375 \nL 19.828125 46.734375 \nQ 21.96875 47.46875 24.109375 47.828125 \nQ 26.265625 48.1875 28.421875 48.1875 \nQ 40.625 48.1875 47.75 41.5 \nQ 54.890625 34.8125 54.890625 23.390625 \nQ 54.890625 11.625 47.5625 5.09375 \nQ 40.234375 -1.421875 26.90625 -1.421875 \nQ 22.3125 -1.421875 17.546875 -0.640625 \nQ 12.796875 0.140625 7.71875 1.703125 \nL 7.71875 11.625 \nQ 12.109375 9.234375 16.796875 8.0625 \nQ 21.484375 6.890625 26.703125 6.890625 \nQ 35.15625 6.890625 40.078125 11.328125 \nQ 45.015625 15.765625 45.015625 23.390625 \nQ 45.015625 31 40.078125 35.4375 \nQ 35.15625 39.890625 26.703125 39.890625 \nQ 22.75 39.890625 18.8125 39.015625 \nQ 14.890625 38.140625 10.796875 36.28125 \nz\n\" id=\"DejaVuSans-53\"/>\n      </defs>\n      <g style=\"fill:#555555;\" transform=\"translate(433.013466 159.179007)scale(0.1 -0.1)\">\n       <use xlink:href=\"#DejaVuSans-50\"/>\n       <use x=\"63.623047\" xlink:href=\"#DejaVuSans-53\"/>\n       <use x=\"127.246094\" xlink:href=\"#DejaVuSans-48\"/>\n       <use x=\"190.869141\" xlink:href=\"#DejaVuSans-48\"/>\n       <use x=\"254.492188\" xlink:href=\"#DejaVuSans-48\"/>\n      </g>\n     </g>\n    </g>\n    <g id=\"ytick_8\">\n     <g id=\"line2d_45\">\n      <path clip-path=\"url(#pc3599efe01)\" d=\"M 471.825966 130.948303 \nL 826.916875 130.948303 \n\" style=\"fill:none;stroke:#ffffff;stroke-linecap:square;stroke-width:0.8;\"/>\n     </g>\n     <g id=\"line2d_46\">\n      <g>\n       <use style=\"fill:#555555;stroke:#555555;stroke-width:0.8;\" x=\"471.825966\" xlink:href=\"#m68f47219f1\" y=\"130.948303\"/>\n      </g>\n     </g>\n     <g id=\"text_26\">\n      <!-- 50000 -->\n      <g style=\"fill:#555555;\" transform=\"translate(433.013466 134.747522)scale(0.1 -0.1)\">\n       <use xlink:href=\"#DejaVuSans-53\"/>\n       <use x=\"63.623047\" xlink:href=\"#DejaVuSans-48\"/>\n       <use x=\"127.246094\" xlink:href=\"#DejaVuSans-48\"/>\n       <use x=\"190.869141\" xlink:href=\"#DejaVuSans-48\"/>\n       <use x=\"254.492188\" xlink:href=\"#DejaVuSans-48\"/>\n      </g>\n     </g>\n    </g>\n    <g id=\"ytick_9\">\n     <g id=\"line2d_47\">\n      <path clip-path=\"url(#pc3599efe01)\" d=\"M 471.825966 106.516819 \nL 826.916875 106.516819 \n\" style=\"fill:none;stroke:#ffffff;stroke-linecap:square;stroke-width:0.8;\"/>\n     </g>\n     <g id=\"line2d_48\">\n      <g>\n       <use style=\"fill:#555555;stroke:#555555;stroke-width:0.8;\" x=\"471.825966\" xlink:href=\"#m68f47219f1\" y=\"106.516819\"/>\n      </g>\n     </g>\n     <g id=\"text_27\">\n      <!-- 75000 -->\n      <defs>\n       <path d=\"M 8.203125 72.90625 \nL 55.078125 72.90625 \nL 55.078125 68.703125 \nL 28.609375 0 \nL 18.3125 0 \nL 43.21875 64.59375 \nL 8.203125 64.59375 \nz\n\" id=\"DejaVuSans-55\"/>\n      </defs>\n      <g style=\"fill:#555555;\" transform=\"translate(433.013466 110.316037)scale(0.1 -0.1)\">\n       <use xlink:href=\"#DejaVuSans-55\"/>\n       <use x=\"63.623047\" xlink:href=\"#DejaVuSans-53\"/>\n       <use x=\"127.246094\" xlink:href=\"#DejaVuSans-48\"/>\n       <use x=\"190.869141\" xlink:href=\"#DejaVuSans-48\"/>\n       <use x=\"254.492188\" xlink:href=\"#DejaVuSans-48\"/>\n      </g>\n     </g>\n    </g>\n    <g id=\"ytick_10\">\n     <g id=\"line2d_49\">\n      <path clip-path=\"url(#pc3599efe01)\" d=\"M 471.825966 82.085334 \nL 826.916875 82.085334 \n\" style=\"fill:none;stroke:#ffffff;stroke-linecap:square;stroke-width:0.8;\"/>\n     </g>\n     <g id=\"line2d_50\">\n      <g>\n       <use style=\"fill:#555555;stroke:#555555;stroke-width:0.8;\" x=\"471.825966\" xlink:href=\"#m68f47219f1\" y=\"82.085334\"/>\n      </g>\n     </g>\n     <g id=\"text_28\">\n      <!-- 100000 -->\n      <g style=\"fill:#555555;\" transform=\"translate(426.650966 85.884553)scale(0.1 -0.1)\">\n       <use xlink:href=\"#DejaVuSans-49\"/>\n       <use x=\"63.623047\" xlink:href=\"#DejaVuSans-48\"/>\n       <use x=\"127.246094\" xlink:href=\"#DejaVuSans-48\"/>\n       <use x=\"190.869141\" xlink:href=\"#DejaVuSans-48\"/>\n       <use x=\"254.492188\" xlink:href=\"#DejaVuSans-48\"/>\n       <use x=\"318.115234\" xlink:href=\"#DejaVuSans-48\"/>\n      </g>\n     </g>\n    </g>\n    <g id=\"ytick_11\">\n     <g id=\"line2d_51\">\n      <path clip-path=\"url(#pc3599efe01)\" d=\"M 471.825966 57.653849 \nL 826.916875 57.653849 \n\" style=\"fill:none;stroke:#ffffff;stroke-linecap:square;stroke-width:0.8;\"/>\n     </g>\n     <g id=\"line2d_52\">\n      <g>\n       <use style=\"fill:#555555;stroke:#555555;stroke-width:0.8;\" x=\"471.825966\" xlink:href=\"#m68f47219f1\" y=\"57.653849\"/>\n      </g>\n     </g>\n     <g id=\"text_29\">\n      <!-- 125000 -->\n      <g style=\"fill:#555555;\" transform=\"translate(426.650966 61.453068)scale(0.1 -0.1)\">\n       <use xlink:href=\"#DejaVuSans-49\"/>\n       <use x=\"63.623047\" xlink:href=\"#DejaVuSans-50\"/>\n       <use x=\"127.246094\" xlink:href=\"#DejaVuSans-53\"/>\n       <use x=\"190.869141\" xlink:href=\"#DejaVuSans-48\"/>\n       <use x=\"254.492188\" xlink:href=\"#DejaVuSans-48\"/>\n       <use x=\"318.115234\" xlink:href=\"#DejaVuSans-48\"/>\n      </g>\n     </g>\n    </g>\n    <g id=\"ytick_12\">\n     <g id=\"line2d_53\">\n      <path clip-path=\"url(#pc3599efe01)\" d=\"M 471.825966 33.222365 \nL 826.916875 33.222365 \n\" style=\"fill:none;stroke:#ffffff;stroke-linecap:square;stroke-width:0.8;\"/>\n     </g>\n     <g id=\"line2d_54\">\n      <g>\n       <use style=\"fill:#555555;stroke:#555555;stroke-width:0.8;\" x=\"471.825966\" xlink:href=\"#m68f47219f1\" y=\"33.222365\"/>\n      </g>\n     </g>\n     <g id=\"text_30\">\n      <!-- 150000 -->\n      <g style=\"fill:#555555;\" transform=\"translate(426.650966 37.021583)scale(0.1 -0.1)\">\n       <use xlink:href=\"#DejaVuSans-49\"/>\n       <use x=\"63.623047\" xlink:href=\"#DejaVuSans-53\"/>\n       <use x=\"127.246094\" xlink:href=\"#DejaVuSans-48\"/>\n       <use x=\"190.869141\" xlink:href=\"#DejaVuSans-48\"/>\n       <use x=\"254.492188\" xlink:href=\"#DejaVuSans-48\"/>\n       <use x=\"318.115234\" xlink:href=\"#DejaVuSans-48\"/>\n      </g>\n     </g>\n    </g>\n    <g id=\"text_31\">\n     <!-- Counts -->\n     <defs>\n      <path d=\"M 64.40625 67.28125 \nL 64.40625 56.890625 \nQ 59.421875 61.53125 53.78125 63.8125 \nQ 48.140625 66.109375 41.796875 66.109375 \nQ 29.296875 66.109375 22.65625 58.46875 \nQ 16.015625 50.828125 16.015625 36.375 \nQ 16.015625 21.96875 22.65625 14.328125 \nQ 29.296875 6.6875 41.796875 6.6875 \nQ 48.140625 6.6875 53.78125 8.984375 \nQ 59.421875 11.28125 64.40625 15.921875 \nL 64.40625 5.609375 \nQ 59.234375 2.09375 53.4375 0.328125 \nQ 47.65625 -1.421875 41.21875 -1.421875 \nQ 24.65625 -1.421875 15.125 8.703125 \nQ 5.609375 18.84375 5.609375 36.375 \nQ 5.609375 53.953125 15.125 64.078125 \nQ 24.65625 74.21875 41.21875 74.21875 \nQ 47.75 74.21875 53.53125 72.484375 \nQ 59.328125 70.75 64.40625 67.28125 \nz\n\" id=\"DejaVuSans-67\"/>\n      <path d=\"M 44.28125 53.078125 \nL 44.28125 44.578125 \nQ 40.484375 46.53125 36.375 47.5 \nQ 32.28125 48.484375 27.875 48.484375 \nQ 21.1875 48.484375 17.84375 46.4375 \nQ 14.5 44.390625 14.5 40.28125 \nQ 14.5 37.15625 16.890625 35.375 \nQ 19.28125 33.59375 26.515625 31.984375 \nL 29.59375 31.296875 \nQ 39.15625 29.25 43.1875 25.515625 \nQ 47.21875 21.78125 47.21875 15.09375 \nQ 47.21875 7.46875 41.1875 3.015625 \nQ 35.15625 -1.421875 24.609375 -1.421875 \nQ 20.21875 -1.421875 15.453125 -0.5625 \nQ 10.6875 0.296875 5.421875 2 \nL 5.421875 11.28125 \nQ 10.40625 8.6875 15.234375 7.390625 \nQ 20.0625 6.109375 24.8125 6.109375 \nQ 31.15625 6.109375 34.5625 8.28125 \nQ 37.984375 10.453125 37.984375 14.40625 \nQ 37.984375 18.0625 35.515625 20.015625 \nQ 33.0625 21.96875 24.703125 23.78125 \nL 21.578125 24.515625 \nQ 13.234375 26.265625 9.515625 29.90625 \nQ 5.8125 33.546875 5.8125 39.890625 \nQ 5.8125 47.609375 11.28125 51.796875 \nQ 16.75 56 26.8125 56 \nQ 31.78125 56 36.171875 55.265625 \nQ 40.578125 54.546875 44.28125 53.078125 \nz\n\" id=\"DejaVuSans-115\"/>\n     </defs>\n     <g style=\"fill:#555555;\" transform=\"translate(420.155341 126.62775)rotate(-90)scale(0.12 -0.12)\">\n      <use xlink:href=\"#DejaVuSans-67\"/>\n      <use x=\"69.824219\" xlink:href=\"#DejaVuSans-111\"/>\n      <use x=\"131.005859\" xlink:href=\"#DejaVuSans-117\"/>\n      <use x=\"194.384766\" xlink:href=\"#DejaVuSans-110\"/>\n      <use x=\"257.763672\" xlink:href=\"#DejaVuSans-116\"/>\n      <use x=\"296.972656\" xlink:href=\"#DejaVuSans-115\"/>\n     </g>\n    </g>\n   </g>\n   <g id=\"line2d_55\">\n    <path clip-path=\"url(#pc3599efe01)\" d=\"M 487.966462 31.556727 \nL 487.966462 147.477409 \nL 504.106958 147.477409 \nL 504.106958 160.563136 \nL 520.247454 160.563136 \nL 520.247454 165.694645 \nL 536.387949 165.694645 \nL 536.387949 168.510948 \nL 552.528445 168.510948 \nL 552.528445 170.312203 \nL 568.668941 170.312203 \nL 568.668941 171.119303 \nL 584.809437 171.119303 \nL 584.809437 171.637925 \nL 600.949933 171.637925 \nL 600.949933 172.651775 \nL 617.090429 172.651775 \nL 617.090429 173.100083 \nL 633.230925 173.100083 \nL 633.230925 173.156601 \nL 649.37142 173.156601 \nL 649.37142 173.669076 \nL 665.511916 173.669076 \nL 665.511916 173.133503 \nL 681.652412 173.133503 \nL 681.652412 173.341174 \nL 697.792908 173.341174 \nL 697.792908 173.100474 \nL 713.933404 173.100474 \nL 713.933404 173.396146 \nL 730.0739 173.396146 \nL 730.0739 173.889673 \nL 746.214396 173.889673 \nL 746.214396 174.349021 \nL 762.354892 174.349021 \nL 762.354892 175.514125 \nL 778.495387 175.514125 \nL 778.495387 177.849087 \nL 794.635883 177.849087 \nL 794.635883 179.811273 \nL 810.776379 179.811273 \n\" style=\"fill:none;stroke:#9467bd;stroke-linecap:square;stroke-width:1.5;\"/>\n   </g>\n   <g id=\"line2d_56\">\n    <path clip-path=\"url(#pc3599efe01)\" d=\"M 487.966462 31.562322 \nL 487.966462 147.484283 \nL 504.106958 147.484283 \nL 504.106958 160.569847 \nL 520.247454 160.569847 \nL 520.247454 165.702273 \nL 536.387949 165.702273 \nL 536.387949 168.520213 \nL 552.528445 168.520213 \nL 552.528445 170.322514 \nL 568.668941 170.322514 \nL 568.668941 171.129529 \nL 584.809437 171.129529 \nL 584.809437 171.648901 \nL 600.949933 171.648901 \nL 600.949933 172.664805 \nL 617.090429 172.664805 \nL 617.090429 173.113728 \nL 633.230925 173.113728 \nL 633.230925 173.173416 \nL 649.37142 173.173416 \nL 649.37142 173.688956 \nL 665.511916 173.688956 \nL 665.511916 173.157537 \nL 681.652412 173.157537 \nL 681.652412 173.371544 \nL 697.792908 173.371544 \nL 697.792908 173.136797 \nL 713.933404 173.136797 \nL 713.933404 173.443311 \nL 730.0739 173.443311 \nL 730.0739 173.949705 \nL 746.214396 173.949705 \nL 746.214396 174.426962 \nL 762.354892 174.426962 \nL 762.354892 175.63042 \nL 778.495387 175.63042 \nL 778.495387 177.972918 \nL 794.635883 177.972918 \nL 794.635883 179.811273 \nL 810.776379 179.811273 \n\" style=\"fill:none;stroke:#1f77b4;stroke-linecap:square;stroke-width:1.5;\"/>\n   </g>\n   <g id=\"line2d_57\">\n    <path clip-path=\"url(#pc3599efe01)\" d=\"M 487.966462 179.805678 \nL 487.966462 179.804398 \nL 504.106958 179.804398 \nL 504.106958 179.804562 \nL 520.247454 179.804562 \nL 520.247454 179.803645 \nL 536.387949 179.803645 \nL 536.387949 179.802007 \nL 552.528445 179.802007 \nL 552.528445 179.800962 \nL 568.668941 179.800962 \nL 568.668941 179.801047 \nL 584.809437 179.801047 \nL 584.809437 179.800297 \nL 600.949933 179.800297 \nL 600.949933 179.798242 \nL 617.090429 179.798242 \nL 617.090429 179.797628 \nL 633.230925 179.797628 \nL 633.230925 179.794458 \nL 649.37142 179.794458 \nL 649.37142 179.791393 \nL 665.511916 179.791393 \nL 665.511916 179.787239 \nL 681.652412 179.787239 \nL 681.652412 179.780903 \nL 697.792908 179.780903 \nL 697.792908 179.77495 \nL 713.933404 179.77495 \nL 713.933404 179.764107 \nL 730.0739 179.764107 \nL 730.0739 179.751241 \nL 746.214396 179.751241 \nL 746.214396 179.733332 \nL 762.354892 179.733332 \nL 762.354892 179.694978 \nL 778.495387 179.694978 \nL 778.495387 179.687442 \nL 794.635883 179.687442 \nL 794.635883 179.811273 \nL 810.776379 179.811273 \n\" style=\"fill:none;stroke:#d62728;stroke-linecap:square;stroke-width:1.5;\"/>\n   </g>\n   <g id=\"patch_9\">\n    <path d=\"M 471.825966 187.224 \nL 471.825966 24.144 \n\" style=\"fill:none;stroke:#ffffff;stroke-linecap:square;stroke-linejoin:miter;\"/>\n   </g>\n   <g id=\"patch_10\">\n    <path d=\"M 826.916875 187.224 \nL 826.916875 24.144 \n\" style=\"fill:none;stroke:#ffffff;stroke-linecap:square;stroke-linejoin:miter;\"/>\n   </g>\n   <g id=\"patch_11\">\n    <path d=\"M 471.825966 187.224 \nL 826.916875 187.224 \n\" style=\"fill:none;stroke:#ffffff;stroke-linecap:square;stroke-linejoin:miter;\"/>\n   </g>\n   <g id=\"patch_12\">\n    <path d=\"M 471.825966 24.144 \nL 826.916875 24.144 \n\" style=\"fill:none;stroke:#ffffff;stroke-linecap:square;stroke-linejoin:miter;\"/>\n   </g>\n   <g id=\"text_32\">\n    <!-- ${\\bf Counts}$: bin content of Signal and Background -->\n    <defs>\n     <path d=\"M 67 4 \nQ 61.8125 1.3125 56.203125 -0.046875 \nQ 50.59375 -1.421875 44.484375 -1.421875 \nQ 26.265625 -1.421875 15.625 8.765625 \nQ 4.984375 18.953125 4.984375 36.375 \nQ 4.984375 53.859375 15.625 64.03125 \nQ 26.265625 74.21875 44.484375 74.21875 \nQ 50.59375 74.21875 56.203125 72.84375 \nQ 61.8125 71.484375 67 68.796875 \nL 67 53.71875 \nQ 61.765625 57.28125 56.6875 58.9375 \nQ 51.609375 60.59375 46 60.59375 \nQ 35.9375 60.59375 30.171875 54.140625 \nQ 24.421875 47.703125 24.421875 36.375 \nQ 24.421875 25.09375 30.171875 18.640625 \nQ 35.9375 12.203125 46 12.203125 \nQ 51.609375 12.203125 56.6875 13.859375 \nQ 61.765625 15.53125 67 19.09375 \nz\n\" id=\"DejaVuSans-Bold-67\"/>\n     <path d=\"M 7.8125 21.296875 \nL 7.8125 54.6875 \nL 25.390625 54.6875 \nL 25.390625 49.21875 \nQ 25.390625 44.78125 25.34375 38.0625 \nQ 25.296875 31.34375 25.296875 29.109375 \nQ 25.296875 22.515625 25.640625 19.609375 \nQ 25.984375 16.703125 26.8125 15.375 \nQ 27.875 13.671875 29.609375 12.734375 \nQ 31.34375 11.8125 33.59375 11.8125 \nQ 39.0625 11.8125 42.1875 16.015625 \nQ 45.3125 20.21875 45.3125 27.6875 \nL 45.3125 54.6875 \nL 62.796875 54.6875 \nL 62.796875 0 \nL 45.3125 0 \nL 45.3125 7.90625 \nQ 41.359375 3.125 36.9375 0.84375 \nQ 32.515625 -1.421875 27.203125 -1.421875 \nQ 17.71875 -1.421875 12.765625 4.390625 \nQ 7.8125 10.203125 7.8125 21.296875 \nz\n\" id=\"DejaVuSans-Bold-117\"/>\n     <path d=\"M 63.375 33.296875 \nL 63.375 0 \nL 45.796875 0 \nL 45.796875 5.421875 \nL 45.796875 25.484375 \nQ 45.796875 32.5625 45.484375 35.25 \nQ 45.171875 37.9375 44.390625 39.203125 \nQ 43.359375 40.921875 41.59375 41.875 \nQ 39.84375 42.828125 37.59375 42.828125 \nQ 32.125 42.828125 29 38.59375 \nQ 25.875 34.375 25.875 26.90625 \nL 25.875 0 \nL 8.40625 0 \nL 8.40625 54.6875 \nL 25.875 54.6875 \nL 25.875 46.6875 \nQ 29.828125 51.46875 34.265625 53.734375 \nQ 38.71875 56 44.09375 56 \nQ 53.5625 56 58.46875 50.1875 \nQ 63.375 44.390625 63.375 33.296875 \nz\n\" id=\"DejaVuSans-Bold-110\"/>\n     <path d=\"M 51.125 52.984375 \nL 51.125 39.703125 \nQ 45.515625 42.046875 40.28125 43.21875 \nQ 35.0625 44.390625 30.421875 44.390625 \nQ 25.4375 44.390625 23.015625 43.140625 \nQ 20.609375 41.890625 20.609375 39.3125 \nQ 20.609375 37.203125 22.4375 36.078125 \nQ 24.265625 34.96875 29 34.421875 \nL 32.078125 33.984375 \nQ 45.515625 32.28125 50.140625 28.375 \nQ 54.78125 24.46875 54.78125 16.109375 \nQ 54.78125 7.375 48.328125 2.96875 \nQ 41.890625 -1.421875 29.109375 -1.421875 \nQ 23.6875 -1.421875 17.890625 -0.5625 \nQ 12.109375 0.296875 6 2 \nL 6 15.28125 \nQ 11.234375 12.75 16.71875 11.46875 \nQ 22.21875 10.203125 27.875 10.203125 \nQ 33.015625 10.203125 35.59375 11.609375 \nQ 38.1875 13.03125 38.1875 15.828125 \nQ 38.1875 18.171875 36.40625 19.3125 \nQ 34.625 20.453125 29.296875 21.09375 \nL 26.21875 21.484375 \nQ 14.546875 22.953125 9.859375 26.90625 \nQ 5.171875 30.859375 5.171875 38.921875 \nQ 5.171875 47.609375 11.125 51.796875 \nQ 17.09375 56 29.390625 56 \nQ 34.234375 56 39.546875 55.265625 \nQ 44.875 54.546875 51.125 52.984375 \nz\n\" id=\"DejaVuSans-Bold-115\"/>\n    </defs>\n    <g transform=\"translate(480.53142 18.144)scale(0.144 -0.144)\">\n     <use transform=\"translate(0 0.015625)\" xlink:href=\"#DejaVuSans-Bold-67\"/>\n     <use transform=\"translate(73.388672 0.015625)\" xlink:href=\"#DejaVuSans-Bold-111\"/>\n     <use transform=\"translate(142.089844 0.015625)\" xlink:href=\"#DejaVuSans-Bold-117\"/>\n     <use transform=\"translate(213.28125 0.015625)\" xlink:href=\"#DejaVuSans-Bold-110\"/>\n     <use transform=\"translate(284.472656 0.015625)\" xlink:href=\"#DejaVuSans-Bold-116\"/>\n     <use transform=\"translate(332.275391 0.015625)\" xlink:href=\"#DejaVuSans-Bold-115\"/>\n     <use transform=\"translate(391.796875 0.015625)\" xlink:href=\"#DejaVuSans-58\"/>\n     <use transform=\"translate(425.488281 0.015625)\" xlink:href=\"#DejaVuSans-32\"/>\n     <use transform=\"translate(457.275391 0.015625)\" xlink:href=\"#DejaVuSans-98\"/>\n     <use transform=\"translate(520.751953 0.015625)\" xlink:href=\"#DejaVuSans-105\"/>\n     <use transform=\"translate(548.535156 0.015625)\" xlink:href=\"#DejaVuSans-110\"/>\n     <use transform=\"translate(611.914062 0.015625)\" xlink:href=\"#DejaVuSans-32\"/>\n     <use transform=\"translate(643.701172 0.015625)\" xlink:href=\"#DejaVuSans-99\"/>\n     <use transform=\"translate(698.681641 0.015625)\" xlink:href=\"#DejaVuSans-111\"/>\n     <use transform=\"translate(759.863281 0.015625)\" xlink:href=\"#DejaVuSans-110\"/>\n     <use transform=\"translate(823.242188 0.015625)\" xlink:href=\"#DejaVuSans-116\"/>\n     <use transform=\"translate(862.451172 0.015625)\" xlink:href=\"#DejaVuSans-101\"/>\n     <use transform=\"translate(923.974609 0.015625)\" xlink:href=\"#DejaVuSans-110\"/>\n     <use transform=\"translate(987.353516 0.015625)\" xlink:href=\"#DejaVuSans-116\"/>\n     <use transform=\"translate(1026.5625 0.015625)\" xlink:href=\"#DejaVuSans-32\"/>\n     <use transform=\"translate(1058.349609 0.015625)\" xlink:href=\"#DejaVuSans-111\"/>\n     <use transform=\"translate(1119.53125 0.015625)\" xlink:href=\"#DejaVuSans-102\"/>\n     <use transform=\"translate(1154.736328 0.015625)\" xlink:href=\"#DejaVuSans-32\"/>\n     <use transform=\"translate(1186.523438 0.015625)\" xlink:href=\"#DejaVuSans-83\"/>\n     <use transform=\"translate(1250 0.015625)\" xlink:href=\"#DejaVuSans-105\"/>\n     <use transform=\"translate(1277.783203 0.015625)\" xlink:href=\"#DejaVuSans-103\"/>\n     <use transform=\"translate(1341.259766 0.015625)\" xlink:href=\"#DejaVuSans-110\"/>\n     <use transform=\"translate(1404.638672 0.015625)\" xlink:href=\"#DejaVuSans-97\"/>\n     <use transform=\"translate(1465.917969 0.015625)\" xlink:href=\"#DejaVuSans-108\"/>\n     <use transform=\"translate(1493.701172 0.015625)\" xlink:href=\"#DejaVuSans-32\"/>\n     <use transform=\"translate(1525.488281 0.015625)\" xlink:href=\"#DejaVuSans-97\"/>\n     <use transform=\"translate(1586.767578 0.015625)\" xlink:href=\"#DejaVuSans-110\"/>\n     <use transform=\"translate(1650.146484 0.015625)\" xlink:href=\"#DejaVuSans-100\"/>\n     <use transform=\"translate(1713.623047 0.015625)\" xlink:href=\"#DejaVuSans-32\"/>\n     <use transform=\"translate(1745.410156 0.015625)\" xlink:href=\"#DejaVuSans-66\"/>\n     <use transform=\"translate(1814.013672 0.015625)\" xlink:href=\"#DejaVuSans-97\"/>\n     <use transform=\"translate(1875.292969 0.015625)\" xlink:href=\"#DejaVuSans-99\"/>\n     <use transform=\"translate(1930.273438 0.015625)\" xlink:href=\"#DejaVuSans-107\"/>\n     <use transform=\"translate(1988.183594 0.015625)\" xlink:href=\"#DejaVuSans-103\"/>\n     <use transform=\"translate(2051.660156 0.015625)\" xlink:href=\"#DejaVuSans-114\"/>\n     <use transform=\"translate(2092.773438 0.015625)\" xlink:href=\"#DejaVuSans-111\"/>\n     <use transform=\"translate(2153.955078 0.015625)\" xlink:href=\"#DejaVuSans-117\"/>\n     <use transform=\"translate(2217.333984 0.015625)\" xlink:href=\"#DejaVuSans-110\"/>\n     <use transform=\"translate(2280.712891 0.015625)\" xlink:href=\"#DejaVuSans-100\"/>\n    </g>\n   </g>\n   <g id=\"legend_2\">\n    <g id=\"patch_13\">\n     <path d=\"M 728.262187 76.178375 \nL 819.916875 76.178375 \nQ 821.916875 76.178375 821.916875 74.178375 \nL 821.916875 31.144 \nQ 821.916875 29.144 819.916875 29.144 \nL 728.262187 29.144 \nQ 726.262187 29.144 726.262187 31.144 \nL 726.262187 74.178375 \nQ 726.262187 76.178375 728.262187 76.178375 \nz\n\" style=\"fill:#ffffff;opacity:0.8;stroke:#cccccc;stroke-linejoin:miter;stroke-width:0.5;\"/>\n    </g>\n    <g id=\"line2d_58\">\n     <path d=\"M 730.262187 37.242438 \nL 750.262187 37.242438 \n\" style=\"fill:none;stroke:#9467bd;stroke-linecap:square;stroke-width:1.5;\"/>\n    </g>\n    <g id=\"line2d_59\"/>\n    <g id=\"text_33\">\n     <!-- S+B -->\n     <defs>\n      <path d=\"M 46 62.703125 \nL 46 35.5 \nL 73.1875 35.5 \nL 73.1875 27.203125 \nL 46 27.203125 \nL 46 0 \nL 37.796875 0 \nL 37.796875 27.203125 \nL 10.59375 27.203125 \nL 10.59375 35.5 \nL 37.796875 35.5 \nL 37.796875 62.703125 \nz\n\" id=\"DejaVuSans-43\"/>\n     </defs>\n     <g transform=\"translate(758.262187 40.742438)scale(0.1 -0.1)\">\n      <use xlink:href=\"#DejaVuSans-83\"/>\n      <use x=\"63.476562\" xlink:href=\"#DejaVuSans-43\"/>\n      <use x=\"147.265625\" xlink:href=\"#DejaVuSans-66\"/>\n     </g>\n    </g>\n    <g id=\"line2d_60\">\n     <path d=\"M 730.262187 51.920563 \nL 750.262187 51.920563 \n\" style=\"fill:none;stroke:#1f77b4;stroke-linecap:square;stroke-width:1.5;\"/>\n    </g>\n    <g id=\"line2d_61\"/>\n    <g id=\"text_34\">\n     <!-- Background -->\n     <g transform=\"translate(758.262187 55.420563)scale(0.1 -0.1)\">\n      <use xlink:href=\"#DejaVuSans-66\"/>\n      <use x=\"68.603516\" xlink:href=\"#DejaVuSans-97\"/>\n      <use x=\"129.882812\" xlink:href=\"#DejaVuSans-99\"/>\n      <use x=\"184.863281\" xlink:href=\"#DejaVuSans-107\"/>\n      <use x=\"242.773438\" xlink:href=\"#DejaVuSans-103\"/>\n      <use x=\"306.25\" xlink:href=\"#DejaVuSans-114\"/>\n      <use x=\"345.113281\" xlink:href=\"#DejaVuSans-111\"/>\n      <use x=\"406.294922\" xlink:href=\"#DejaVuSans-117\"/>\n      <use x=\"469.673828\" xlink:href=\"#DejaVuSans-110\"/>\n      <use x=\"533.052734\" xlink:href=\"#DejaVuSans-100\"/>\n     </g>\n    </g>\n    <g id=\"line2d_62\">\n     <path d=\"M 730.262187 66.598688 \nL 750.262187 66.598688 \n\" style=\"fill:none;stroke:#d62728;stroke-linecap:square;stroke-width:1.5;\"/>\n    </g>\n    <g id=\"line2d_63\"/>\n    <g id=\"text_35\">\n     <!-- Signal -->\n     <g transform=\"translate(758.262187 70.098688)scale(0.1 -0.1)\">\n      <use xlink:href=\"#DejaVuSans-83\"/>\n      <use x=\"63.476562\" xlink:href=\"#DejaVuSans-105\"/>\n      <use x=\"91.259766\" xlink:href=\"#DejaVuSans-103\"/>\n      <use x=\"154.736328\" xlink:href=\"#DejaVuSans-110\"/>\n      <use x=\"218.115234\" xlink:href=\"#DejaVuSans-97\"/>\n      <use x=\"279.394531\" xlink:href=\"#DejaVuSans-108\"/>\n     </g>\n    </g>\n   </g>\n  </g>\n </g>\n <defs>\n  <clipPath id=\"p294ab0cdee\">\n   <rect height=\"163.08\" width=\"355.090909\" x=\"45.716875\" y=\"24.144\"/>\n  </clipPath>\n  <clipPath id=\"pc3599efe01\">\n   <rect height=\"163.08\" width=\"355.090909\" x=\"471.825966\" y=\"24.144\"/>\n  </clipPath>\n </defs>\n</svg>\n"
          },
          "metadata": {
            "tags": []
          }
        }
      ]
    },
    {
      "cell_type": "markdown",
      "metadata": {
        "id": "FK9yu-N-oUIU"
      },
      "source": [
        "Now our PDF is discretized on the bins, we can compute the likelihood for $\\mu$ values on each bin, and determine the maximum likelihood estimator $\\hat{\\mu}$ by optimizing the global log-likelihood."
      ]
    },
    {
      "cell_type": "code",
      "metadata": {
        "id": "3P7KE_9wnpJ4",
        "colab": {
          "base_uri": "https://localhost:8080/"
        },
        "outputId": "0f576cba-6db9-421b-cf06-82a6dd00bbb9"
      },
      "source": [
        "# Expected number of events in the bins (rounded to be used with a Poisson distribution) \n",
        "y = np.round(S*pS + B*pB) \n",
        "\n",
        "# Actual bin content\n",
        "def BinContent(k, mu):\n",
        "  return mu*S*pS[k]+B*pB[k]\n",
        "\n",
        "# Definition of the likelihood for each bin\n",
        "def likp(k, yk, mu):\n",
        "  return poisson(BinContent(k, mu)).pmf(yk)\n",
        "\n",
        "# Computation of the global log-likelihood\n",
        "def bll(mu):\n",
        "  return -2*sum([np.log(likp(k, y[k], mu)) for k in range(0,np.size(y))])\n",
        "\n",
        "EPS = 0.0001 # trick to avoid potential division by zero during the minimization\n",
        "par_bnds = ((EPS, None)) # Forbids parameter values to be negative, so mu>EPS here.\n",
        "par0 = 0.9 # quick bad guess to start with some value of mu...\n",
        "res = minimize(bll, par0, bounds= par_bnds[1], method='Nelder-Mead')\n",
        "\n",
        "if not res.success:\n",
        "  print(\"minimize n'a pas convergé\")\n",
        "print(f'mu = {res.x[0]:.3f}')"
      ],
      "execution_count": null,
      "outputs": [
        {
          "output_type": "stream",
          "text": [
            "mu = 1.000\n"
          ],
          "name": "stdout"
        }
      ]
    },
    {
      "cell_type": "markdown",
      "metadata": {
        "id": "lBRoRKsOqImW"
      },
      "source": [
        "Using the same method as previously, we may compute $\\sigma_\\mu$, the uncertainty on the signal strength."
      ]
    },
    {
      "cell_type": "code",
      "metadata": {
        "id": "pZTtNzp8qivL",
        "colab": {
          "base_uri": "https://localhost:8080/",
          "height": 452
        },
        "outputId": "4275b948-9cf1-48a4-e7c6-d2849feedc79"
      },
      "source": [
        "mu_axis_values = np.linspace(0.5, 1.5, 200)\n",
        "binned_loglike_values = np.array([bll(mu) for mu in mu_axis_values]).flatten()\n",
        "\n",
        "plt.plot(mu_axis_values, binned_loglike_values - min(binned_loglike_values), color = 'tab:orange', \n",
        "         label='binned log-likelihood')\n",
        "plt.hlines(1, min(mu_axis_values), max(mu_axis_values), linestyle= ':', color= 'tab:gray')\n",
        "\n",
        "idx = np.argwhere(np.diff(np.sign(\n",
        "        binned_loglike_values - min(binned_loglike_values) - 1\n",
        "        ))).flatten()\n",
        "\n",
        "plt.xlabel(r'$\\mu$')\n",
        "plt.ylabel(r'$-2\\log {\\cal L}(\\mu) + 2\\log {\\cal L}_{\\rm min}$')\n",
        "plt.title(r'Log-likelihood profile with respect to $\\mu$')\n",
        "\n",
        "plt.plot(mu_axis_values[idx], [1, 1], 'ko', label=r'$1\\sigma$ interval')\n",
        "plt.plot(mu_axis_values[idx[0]]*np.ones(2), [0, 1], 'k--')\n",
        "plt.plot(mu_axis_values[idx[1]]*np.ones(2), [0, 1], 'k--')\n",
        "sigma_mu = np.diff(mu_axis_values[idx])/2\n",
        "plt.plot(mu_axis_values, ((mu_axis_values-1)/sigma_mu)**2, linestyle='--',\n",
        "         color= 'tab:green', label='parabola approximation')\n",
        "plt.legend(facecolor = 'w')\n",
        "plt.show()\n",
        "\n",
        "# Defining the binned log-likelihood best fit mu parameter:\n",
        "muhat = mu_axis_values[np.argmin(binned_loglike_values)]\n",
        "\n",
        "# Printing the output of the fit:\n",
        "print('Shape analysis. Best fit parameter and uncertainty:\\n')\n",
        "pprint(muhat, mu_axis_values[idx[1]] - muhat, abs(mu_axis_values[idx[0]] - muhat))"
      ],
      "execution_count": null,
      "outputs": [
        {
          "output_type": "display_data",
          "data": {
            "text/plain": [
              "<Figure size 432x288 with 1 Axes>"
            ],
            "image/svg+xml": "<?xml version=\"1.0\" encoding=\"utf-8\" standalone=\"no\"?>\n<!DOCTYPE svg PUBLIC \"-//W3C//DTD SVG 1.1//EN\"\n  \"http://www.w3.org/Graphics/SVG/1.1/DTD/svg11.dtd\">\n<!-- Created with matplotlib (https://matplotlib.org/) -->\n<svg height=\"281.075875pt\" version=\"1.1\" viewBox=\"0 0 387.743125 281.075875\" width=\"387.743125pt\" xmlns=\"http://www.w3.org/2000/svg\" xmlns:xlink=\"http://www.w3.org/1999/xlink\">\n <defs>\n  <style type=\"text/css\">\n*{stroke-linecap:butt;stroke-linejoin:round;}\n  </style>\n </defs>\n <g id=\"figure_1\">\n  <g id=\"patch_1\">\n   <path d=\"M 0 281.075875 \nL 387.743125 281.075875 \nL 387.743125 0 \nL 0 0 \nz\n\" style=\"fill:#ffffff;\"/>\n  </g>\n  <g id=\"axes_1\">\n   <g id=\"patch_2\">\n    <path d=\"M 45.743125 241.584 \nL 380.543125 241.584 \nL 380.543125 24.144 \nL 45.743125 24.144 \nz\n\" style=\"fill:#e5e5e5;\"/>\n   </g>\n   <g id=\"matplotlib.axis_1\">\n    <g id=\"xtick_1\">\n     <g id=\"line2d_1\">\n      <path clip-path=\"url(#p703f176607)\" d=\"M 91.39767 241.584 \nL 91.39767 24.144 \n\" style=\"fill:none;stroke:#ffffff;stroke-linecap:square;stroke-width:0.8;\"/>\n     </g>\n     <g id=\"line2d_2\">\n      <defs>\n       <path d=\"M 0 0 \nL 0 3.5 \n\" id=\"m8ad562d999\" style=\"stroke:#555555;stroke-width:0.8;\"/>\n      </defs>\n      <g>\n       <use style=\"fill:#555555;stroke:#555555;stroke-width:0.8;\" x=\"91.39767\" xlink:href=\"#m8ad562d999\" y=\"241.584\"/>\n      </g>\n     </g>\n     <g id=\"text_1\">\n      <!-- 0.6 -->\n      <defs>\n       <path d=\"M 31.78125 66.40625 \nQ 24.171875 66.40625 20.328125 58.90625 \nQ 16.5 51.421875 16.5 36.375 \nQ 16.5 21.390625 20.328125 13.890625 \nQ 24.171875 6.390625 31.78125 6.390625 \nQ 39.453125 6.390625 43.28125 13.890625 \nQ 47.125 21.390625 47.125 36.375 \nQ 47.125 51.421875 43.28125 58.90625 \nQ 39.453125 66.40625 31.78125 66.40625 \nz\nM 31.78125 74.21875 \nQ 44.046875 74.21875 50.515625 64.515625 \nQ 56.984375 54.828125 56.984375 36.375 \nQ 56.984375 17.96875 50.515625 8.265625 \nQ 44.046875 -1.421875 31.78125 -1.421875 \nQ 19.53125 -1.421875 13.0625 8.265625 \nQ 6.59375 17.96875 6.59375 36.375 \nQ 6.59375 54.828125 13.0625 64.515625 \nQ 19.53125 74.21875 31.78125 74.21875 \nz\n\" id=\"DejaVuSans-48\"/>\n       <path d=\"M 10.6875 12.40625 \nL 21 12.40625 \nL 21 0 \nL 10.6875 0 \nz\n\" id=\"DejaVuSans-46\"/>\n       <path d=\"M 33.015625 40.375 \nQ 26.375 40.375 22.484375 35.828125 \nQ 18.609375 31.296875 18.609375 23.390625 \nQ 18.609375 15.53125 22.484375 10.953125 \nQ 26.375 6.390625 33.015625 6.390625 \nQ 39.65625 6.390625 43.53125 10.953125 \nQ 47.40625 15.53125 47.40625 23.390625 \nQ 47.40625 31.296875 43.53125 35.828125 \nQ 39.65625 40.375 33.015625 40.375 \nz\nM 52.59375 71.296875 \nL 52.59375 62.3125 \nQ 48.875 64.0625 45.09375 64.984375 \nQ 41.3125 65.921875 37.59375 65.921875 \nQ 27.828125 65.921875 22.671875 59.328125 \nQ 17.53125 52.734375 16.796875 39.40625 \nQ 19.671875 43.65625 24.015625 45.921875 \nQ 28.375 48.1875 33.59375 48.1875 \nQ 44.578125 48.1875 50.953125 41.515625 \nQ 57.328125 34.859375 57.328125 23.390625 \nQ 57.328125 12.15625 50.6875 5.359375 \nQ 44.046875 -1.421875 33.015625 -1.421875 \nQ 20.359375 -1.421875 13.671875 8.265625 \nQ 6.984375 17.96875 6.984375 36.375 \nQ 6.984375 53.65625 15.1875 63.9375 \nQ 23.390625 74.21875 37.203125 74.21875 \nQ 40.921875 74.21875 44.703125 73.484375 \nQ 48.484375 72.75 52.59375 71.296875 \nz\n\" id=\"DejaVuSans-54\"/>\n      </defs>\n      <g style=\"fill:#555555;\" transform=\"translate(83.446108 256.182437)scale(0.1 -0.1)\">\n       <use xlink:href=\"#DejaVuSans-48\"/>\n       <use x=\"63.623047\" xlink:href=\"#DejaVuSans-46\"/>\n       <use x=\"95.410156\" xlink:href=\"#DejaVuSans-54\"/>\n      </g>\n     </g>\n    </g>\n    <g id=\"xtick_2\">\n     <g id=\"line2d_3\">\n      <path clip-path=\"url(#p703f176607)\" d=\"M 152.270398 241.584 \nL 152.270398 24.144 \n\" style=\"fill:none;stroke:#ffffff;stroke-linecap:square;stroke-width:0.8;\"/>\n     </g>\n     <g id=\"line2d_4\">\n      <g>\n       <use style=\"fill:#555555;stroke:#555555;stroke-width:0.8;\" x=\"152.270398\" xlink:href=\"#m8ad562d999\" y=\"241.584\"/>\n      </g>\n     </g>\n     <g id=\"text_2\">\n      <!-- 0.8 -->\n      <defs>\n       <path d=\"M 31.78125 34.625 \nQ 24.75 34.625 20.71875 30.859375 \nQ 16.703125 27.09375 16.703125 20.515625 \nQ 16.703125 13.921875 20.71875 10.15625 \nQ 24.75 6.390625 31.78125 6.390625 \nQ 38.8125 6.390625 42.859375 10.171875 \nQ 46.921875 13.96875 46.921875 20.515625 \nQ 46.921875 27.09375 42.890625 30.859375 \nQ 38.875 34.625 31.78125 34.625 \nz\nM 21.921875 38.8125 \nQ 15.578125 40.375 12.03125 44.71875 \nQ 8.5 49.078125 8.5 55.328125 \nQ 8.5 64.0625 14.71875 69.140625 \nQ 20.953125 74.21875 31.78125 74.21875 \nQ 42.671875 74.21875 48.875 69.140625 \nQ 55.078125 64.0625 55.078125 55.328125 \nQ 55.078125 49.078125 51.53125 44.71875 \nQ 48 40.375 41.703125 38.8125 \nQ 48.828125 37.15625 52.796875 32.3125 \nQ 56.78125 27.484375 56.78125 20.515625 \nQ 56.78125 9.90625 50.3125 4.234375 \nQ 43.84375 -1.421875 31.78125 -1.421875 \nQ 19.734375 -1.421875 13.25 4.234375 \nQ 6.78125 9.90625 6.78125 20.515625 \nQ 6.78125 27.484375 10.78125 32.3125 \nQ 14.796875 37.15625 21.921875 38.8125 \nz\nM 18.3125 54.390625 \nQ 18.3125 48.734375 21.84375 45.5625 \nQ 25.390625 42.390625 31.78125 42.390625 \nQ 38.140625 42.390625 41.71875 45.5625 \nQ 45.3125 48.734375 45.3125 54.390625 \nQ 45.3125 60.0625 41.71875 63.234375 \nQ 38.140625 66.40625 31.78125 66.40625 \nQ 25.390625 66.40625 21.84375 63.234375 \nQ 18.3125 60.0625 18.3125 54.390625 \nz\n\" id=\"DejaVuSans-56\"/>\n      </defs>\n      <g style=\"fill:#555555;\" transform=\"translate(144.318835 256.182437)scale(0.1 -0.1)\">\n       <use xlink:href=\"#DejaVuSans-48\"/>\n       <use x=\"63.623047\" xlink:href=\"#DejaVuSans-46\"/>\n       <use x=\"95.410156\" xlink:href=\"#DejaVuSans-56\"/>\n      </g>\n     </g>\n    </g>\n    <g id=\"xtick_3\">\n     <g id=\"line2d_5\">\n      <path clip-path=\"url(#p703f176607)\" d=\"M 213.143125 241.584 \nL 213.143125 24.144 \n\" style=\"fill:none;stroke:#ffffff;stroke-linecap:square;stroke-width:0.8;\"/>\n     </g>\n     <g id=\"line2d_6\">\n      <g>\n       <use style=\"fill:#555555;stroke:#555555;stroke-width:0.8;\" x=\"213.143125\" xlink:href=\"#m8ad562d999\" y=\"241.584\"/>\n      </g>\n     </g>\n     <g id=\"text_3\">\n      <!-- 1.0 -->\n      <defs>\n       <path d=\"M 12.40625 8.296875 \nL 28.515625 8.296875 \nL 28.515625 63.921875 \nL 10.984375 60.40625 \nL 10.984375 69.390625 \nL 28.421875 72.90625 \nL 38.28125 72.90625 \nL 38.28125 8.296875 \nL 54.390625 8.296875 \nL 54.390625 0 \nL 12.40625 0 \nz\n\" id=\"DejaVuSans-49\"/>\n      </defs>\n      <g style=\"fill:#555555;\" transform=\"translate(205.191563 256.182437)scale(0.1 -0.1)\">\n       <use xlink:href=\"#DejaVuSans-49\"/>\n       <use x=\"63.623047\" xlink:href=\"#DejaVuSans-46\"/>\n       <use x=\"95.410156\" xlink:href=\"#DejaVuSans-48\"/>\n      </g>\n     </g>\n    </g>\n    <g id=\"xtick_4\">\n     <g id=\"line2d_7\">\n      <path clip-path=\"url(#p703f176607)\" d=\"M 274.015852 241.584 \nL 274.015852 24.144 \n\" style=\"fill:none;stroke:#ffffff;stroke-linecap:square;stroke-width:0.8;\"/>\n     </g>\n     <g id=\"line2d_8\">\n      <g>\n       <use style=\"fill:#555555;stroke:#555555;stroke-width:0.8;\" x=\"274.015852\" xlink:href=\"#m8ad562d999\" y=\"241.584\"/>\n      </g>\n     </g>\n     <g id=\"text_4\">\n      <!-- 1.2 -->\n      <defs>\n       <path d=\"M 19.1875 8.296875 \nL 53.609375 8.296875 \nL 53.609375 0 \nL 7.328125 0 \nL 7.328125 8.296875 \nQ 12.9375 14.109375 22.625 23.890625 \nQ 32.328125 33.6875 34.8125 36.53125 \nQ 39.546875 41.84375 41.421875 45.53125 \nQ 43.3125 49.21875 43.3125 52.78125 \nQ 43.3125 58.59375 39.234375 62.25 \nQ 35.15625 65.921875 28.609375 65.921875 \nQ 23.96875 65.921875 18.8125 64.3125 \nQ 13.671875 62.703125 7.8125 59.421875 \nL 7.8125 69.390625 \nQ 13.765625 71.78125 18.9375 73 \nQ 24.125 74.21875 28.421875 74.21875 \nQ 39.75 74.21875 46.484375 68.546875 \nQ 53.21875 62.890625 53.21875 53.421875 \nQ 53.21875 48.921875 51.53125 44.890625 \nQ 49.859375 40.875 45.40625 35.40625 \nQ 44.1875 33.984375 37.640625 27.21875 \nQ 31.109375 20.453125 19.1875 8.296875 \nz\n\" id=\"DejaVuSans-50\"/>\n      </defs>\n      <g style=\"fill:#555555;\" transform=\"translate(266.06429 256.182437)scale(0.1 -0.1)\">\n       <use xlink:href=\"#DejaVuSans-49\"/>\n       <use x=\"63.623047\" xlink:href=\"#DejaVuSans-46\"/>\n       <use x=\"95.410156\" xlink:href=\"#DejaVuSans-50\"/>\n      </g>\n     </g>\n    </g>\n    <g id=\"xtick_5\">\n     <g id=\"line2d_9\">\n      <path clip-path=\"url(#p703f176607)\" d=\"M 334.88858 241.584 \nL 334.88858 24.144 \n\" style=\"fill:none;stroke:#ffffff;stroke-linecap:square;stroke-width:0.8;\"/>\n     </g>\n     <g id=\"line2d_10\">\n      <g>\n       <use style=\"fill:#555555;stroke:#555555;stroke-width:0.8;\" x=\"334.88858\" xlink:href=\"#m8ad562d999\" y=\"241.584\"/>\n      </g>\n     </g>\n     <g id=\"text_5\">\n      <!-- 1.4 -->\n      <defs>\n       <path d=\"M 37.796875 64.3125 \nL 12.890625 25.390625 \nL 37.796875 25.390625 \nz\nM 35.203125 72.90625 \nL 47.609375 72.90625 \nL 47.609375 25.390625 \nL 58.015625 25.390625 \nL 58.015625 17.1875 \nL 47.609375 17.1875 \nL 47.609375 0 \nL 37.796875 0 \nL 37.796875 17.1875 \nL 4.890625 17.1875 \nL 4.890625 26.703125 \nz\n\" id=\"DejaVuSans-52\"/>\n      </defs>\n      <g style=\"fill:#555555;\" transform=\"translate(326.937017 256.182437)scale(0.1 -0.1)\">\n       <use xlink:href=\"#DejaVuSans-49\"/>\n       <use x=\"63.623047\" xlink:href=\"#DejaVuSans-46\"/>\n       <use x=\"95.410156\" xlink:href=\"#DejaVuSans-52\"/>\n      </g>\n     </g>\n    </g>\n    <g id=\"text_6\">\n     <!-- $\\mu$ -->\n     <defs>\n      <path d=\"M -1.3125 -20.796875 \nL 13.375 54.6875 \nL 22.40625 54.6875 \nL 15.765625 20.65625 \nQ 15.578125 19.625 15.421875 18.359375 \nQ 15.28125 17.09375 15.28125 15.828125 \nQ 15.28125 11.28125 18.140625 8.828125 \nQ 21 6.390625 26.3125 6.390625 \nQ 33.546875 6.390625 37.984375 10.484375 \nQ 42.4375 14.59375 44 22.796875 \nL 50.203125 54.6875 \nL 59.1875 54.6875 \nL 51.03125 12.640625 \nQ 50.828125 11.71875 50.75 11.03125 \nQ 50.6875 10.359375 50.6875 9.8125 \nQ 50.6875 8.296875 51.296875 7.59375 \nQ 51.90625 6.890625 53.21875 6.890625 \nQ 53.71875 6.890625 54.5625 7.125 \nQ 55.421875 7.375 56.984375 8.015625 \nL 55.609375 0.78125 \nQ 53.46875 -0.296875 51.515625 -0.859375 \nQ 49.5625 -1.421875 47.703125 -1.421875 \nQ 44.484375 -1.421875 42.65625 0.625 \nQ 40.828125 2.6875 40.828125 6.296875 \nQ 38.09375 2.390625 34.296875 0.484375 \nQ 30.515625 -1.421875 25.390625 -1.421875 \nQ 20.84375 -1.421875 17.453125 0.671875 \nQ 14.0625 2.78125 12.984375 6.203125 \nL 7.71875 -20.796875 \nz\n\" id=\"DejaVuSans-Oblique-956\"/>\n     </defs>\n     <g style=\"fill:#555555;\" transform=\"translate(209.303125 271.355875)scale(0.12 -0.12)\">\n      <use transform=\"translate(0 0.3125)\" xlink:href=\"#DejaVuSans-Oblique-956\"/>\n     </g>\n    </g>\n   </g>\n   <g id=\"matplotlib.axis_2\">\n    <g id=\"ytick_1\">\n     <g id=\"line2d_11\">\n      <path clip-path=\"url(#p703f176607)\" d=\"M 45.743125 231.700364 \nL 380.543125 231.700364 \n\" style=\"fill:none;stroke:#ffffff;stroke-linecap:square;stroke-width:0.8;\"/>\n     </g>\n     <g id=\"line2d_12\">\n      <defs>\n       <path d=\"M 0 0 \nL -3.5 0 \n\" id=\"mc5a164569f\" style=\"stroke:#555555;stroke-width:0.8;\"/>\n      </defs>\n      <g>\n       <use style=\"fill:#555555;stroke:#555555;stroke-width:0.8;\" x=\"45.743125\" xlink:href=\"#mc5a164569f\" y=\"231.700364\"/>\n      </g>\n     </g>\n     <g id=\"text_7\">\n      <!-- 0.0 -->\n      <g style=\"fill:#555555;\" transform=\"translate(22.84 235.499582)scale(0.1 -0.1)\">\n       <use xlink:href=\"#DejaVuSans-48\"/>\n       <use x=\"63.623047\" xlink:href=\"#DejaVuSans-46\"/>\n       <use x=\"95.410156\" xlink:href=\"#DejaVuSans-48\"/>\n      </g>\n     </g>\n    </g>\n    <g id=\"ytick_2\">\n     <g id=\"line2d_13\">\n      <path clip-path=\"url(#p703f176607)\" d=\"M 45.743125 203.811873 \nL 380.543125 203.811873 \n\" style=\"fill:none;stroke:#ffffff;stroke-linecap:square;stroke-width:0.8;\"/>\n     </g>\n     <g id=\"line2d_14\">\n      <g>\n       <use style=\"fill:#555555;stroke:#555555;stroke-width:0.8;\" x=\"45.743125\" xlink:href=\"#mc5a164569f\" y=\"203.811873\"/>\n      </g>\n     </g>\n     <g id=\"text_8\">\n      <!-- 0.5 -->\n      <defs>\n       <path d=\"M 10.796875 72.90625 \nL 49.515625 72.90625 \nL 49.515625 64.59375 \nL 19.828125 64.59375 \nL 19.828125 46.734375 \nQ 21.96875 47.46875 24.109375 47.828125 \nQ 26.265625 48.1875 28.421875 48.1875 \nQ 40.625 48.1875 47.75 41.5 \nQ 54.890625 34.8125 54.890625 23.390625 \nQ 54.890625 11.625 47.5625 5.09375 \nQ 40.234375 -1.421875 26.90625 -1.421875 \nQ 22.3125 -1.421875 17.546875 -0.640625 \nQ 12.796875 0.140625 7.71875 1.703125 \nL 7.71875 11.625 \nQ 12.109375 9.234375 16.796875 8.0625 \nQ 21.484375 6.890625 26.703125 6.890625 \nQ 35.15625 6.890625 40.078125 11.328125 \nQ 45.015625 15.765625 45.015625 23.390625 \nQ 45.015625 31 40.078125 35.4375 \nQ 35.15625 39.890625 26.703125 39.890625 \nQ 22.75 39.890625 18.8125 39.015625 \nQ 14.890625 38.140625 10.796875 36.28125 \nz\n\" id=\"DejaVuSans-53\"/>\n      </defs>\n      <g style=\"fill:#555555;\" transform=\"translate(22.84 207.611092)scale(0.1 -0.1)\">\n       <use xlink:href=\"#DejaVuSans-48\"/>\n       <use x=\"63.623047\" xlink:href=\"#DejaVuSans-46\"/>\n       <use x=\"95.410156\" xlink:href=\"#DejaVuSans-53\"/>\n      </g>\n     </g>\n    </g>\n    <g id=\"ytick_3\">\n     <g id=\"line2d_15\">\n      <path clip-path=\"url(#p703f176607)\" d=\"M 45.743125 175.923382 \nL 380.543125 175.923382 \n\" style=\"fill:none;stroke:#ffffff;stroke-linecap:square;stroke-width:0.8;\"/>\n     </g>\n     <g id=\"line2d_16\">\n      <g>\n       <use style=\"fill:#555555;stroke:#555555;stroke-width:0.8;\" x=\"45.743125\" xlink:href=\"#mc5a164569f\" y=\"175.923382\"/>\n      </g>\n     </g>\n     <g id=\"text_9\">\n      <!-- 1.0 -->\n      <g style=\"fill:#555555;\" transform=\"translate(22.84 179.722601)scale(0.1 -0.1)\">\n       <use xlink:href=\"#DejaVuSans-49\"/>\n       <use x=\"63.623047\" xlink:href=\"#DejaVuSans-46\"/>\n       <use x=\"95.410156\" xlink:href=\"#DejaVuSans-48\"/>\n      </g>\n     </g>\n    </g>\n    <g id=\"ytick_4\">\n     <g id=\"line2d_17\">\n      <path clip-path=\"url(#p703f176607)\" d=\"M 45.743125 148.034892 \nL 380.543125 148.034892 \n\" style=\"fill:none;stroke:#ffffff;stroke-linecap:square;stroke-width:0.8;\"/>\n     </g>\n     <g id=\"line2d_18\">\n      <g>\n       <use style=\"fill:#555555;stroke:#555555;stroke-width:0.8;\" x=\"45.743125\" xlink:href=\"#mc5a164569f\" y=\"148.034892\"/>\n      </g>\n     </g>\n     <g id=\"text_10\">\n      <!-- 1.5 -->\n      <g style=\"fill:#555555;\" transform=\"translate(22.84 151.834111)scale(0.1 -0.1)\">\n       <use xlink:href=\"#DejaVuSans-49\"/>\n       <use x=\"63.623047\" xlink:href=\"#DejaVuSans-46\"/>\n       <use x=\"95.410156\" xlink:href=\"#DejaVuSans-53\"/>\n      </g>\n     </g>\n    </g>\n    <g id=\"ytick_5\">\n     <g id=\"line2d_19\">\n      <path clip-path=\"url(#p703f176607)\" d=\"M 45.743125 120.146401 \nL 380.543125 120.146401 \n\" style=\"fill:none;stroke:#ffffff;stroke-linecap:square;stroke-width:0.8;\"/>\n     </g>\n     <g id=\"line2d_20\">\n      <g>\n       <use style=\"fill:#555555;stroke:#555555;stroke-width:0.8;\" x=\"45.743125\" xlink:href=\"#mc5a164569f\" y=\"120.146401\"/>\n      </g>\n     </g>\n     <g id=\"text_11\">\n      <!-- 2.0 -->\n      <g style=\"fill:#555555;\" transform=\"translate(22.84 123.94562)scale(0.1 -0.1)\">\n       <use xlink:href=\"#DejaVuSans-50\"/>\n       <use x=\"63.623047\" xlink:href=\"#DejaVuSans-46\"/>\n       <use x=\"95.410156\" xlink:href=\"#DejaVuSans-48\"/>\n      </g>\n     </g>\n    </g>\n    <g id=\"ytick_6\">\n     <g id=\"line2d_21\">\n      <path clip-path=\"url(#p703f176607)\" d=\"M 45.743125 92.257911 \nL 380.543125 92.257911 \n\" style=\"fill:none;stroke:#ffffff;stroke-linecap:square;stroke-width:0.8;\"/>\n     </g>\n     <g id=\"line2d_22\">\n      <g>\n       <use style=\"fill:#555555;stroke:#555555;stroke-width:0.8;\" x=\"45.743125\" xlink:href=\"#mc5a164569f\" y=\"92.257911\"/>\n      </g>\n     </g>\n     <g id=\"text_12\">\n      <!-- 2.5 -->\n      <g style=\"fill:#555555;\" transform=\"translate(22.84 96.057129)scale(0.1 -0.1)\">\n       <use xlink:href=\"#DejaVuSans-50\"/>\n       <use x=\"63.623047\" xlink:href=\"#DejaVuSans-46\"/>\n       <use x=\"95.410156\" xlink:href=\"#DejaVuSans-53\"/>\n      </g>\n     </g>\n    </g>\n    <g id=\"ytick_7\">\n     <g id=\"line2d_23\">\n      <path clip-path=\"url(#p703f176607)\" d=\"M 45.743125 64.36942 \nL 380.543125 64.36942 \n\" style=\"fill:none;stroke:#ffffff;stroke-linecap:square;stroke-width:0.8;\"/>\n     </g>\n     <g id=\"line2d_24\">\n      <g>\n       <use style=\"fill:#555555;stroke:#555555;stroke-width:0.8;\" x=\"45.743125\" xlink:href=\"#mc5a164569f\" y=\"64.36942\"/>\n      </g>\n     </g>\n     <g id=\"text_13\">\n      <!-- 3.0 -->\n      <defs>\n       <path d=\"M 40.578125 39.3125 \nQ 47.65625 37.796875 51.625 33 \nQ 55.609375 28.21875 55.609375 21.1875 \nQ 55.609375 10.40625 48.1875 4.484375 \nQ 40.765625 -1.421875 27.09375 -1.421875 \nQ 22.515625 -1.421875 17.65625 -0.515625 \nQ 12.796875 0.390625 7.625 2.203125 \nL 7.625 11.71875 \nQ 11.71875 9.328125 16.59375 8.109375 \nQ 21.484375 6.890625 26.8125 6.890625 \nQ 36.078125 6.890625 40.9375 10.546875 \nQ 45.796875 14.203125 45.796875 21.1875 \nQ 45.796875 27.640625 41.28125 31.265625 \nQ 36.765625 34.90625 28.71875 34.90625 \nL 20.21875 34.90625 \nL 20.21875 43.015625 \nL 29.109375 43.015625 \nQ 36.375 43.015625 40.234375 45.921875 \nQ 44.09375 48.828125 44.09375 54.296875 \nQ 44.09375 59.90625 40.109375 62.90625 \nQ 36.140625 65.921875 28.71875 65.921875 \nQ 24.65625 65.921875 20.015625 65.03125 \nQ 15.375 64.15625 9.8125 62.3125 \nL 9.8125 71.09375 \nQ 15.4375 72.65625 20.34375 73.4375 \nQ 25.25 74.21875 29.59375 74.21875 \nQ 40.828125 74.21875 47.359375 69.109375 \nQ 53.90625 64.015625 53.90625 55.328125 \nQ 53.90625 49.265625 50.4375 45.09375 \nQ 46.96875 40.921875 40.578125 39.3125 \nz\n\" id=\"DejaVuSans-51\"/>\n      </defs>\n      <g style=\"fill:#555555;\" transform=\"translate(22.84 68.168639)scale(0.1 -0.1)\">\n       <use xlink:href=\"#DejaVuSans-51\"/>\n       <use x=\"63.623047\" xlink:href=\"#DejaVuSans-46\"/>\n       <use x=\"95.410156\" xlink:href=\"#DejaVuSans-48\"/>\n      </g>\n     </g>\n    </g>\n    <g id=\"ytick_8\">\n     <g id=\"line2d_25\">\n      <path clip-path=\"url(#p703f176607)\" d=\"M 45.743125 36.480929 \nL 380.543125 36.480929 \n\" style=\"fill:none;stroke:#ffffff;stroke-linecap:square;stroke-width:0.8;\"/>\n     </g>\n     <g id=\"line2d_26\">\n      <g>\n       <use style=\"fill:#555555;stroke:#555555;stroke-width:0.8;\" x=\"45.743125\" xlink:href=\"#mc5a164569f\" y=\"36.480929\"/>\n      </g>\n     </g>\n     <g id=\"text_14\">\n      <!-- 3.5 -->\n      <g style=\"fill:#555555;\" transform=\"translate(22.84 40.280148)scale(0.1 -0.1)\">\n       <use xlink:href=\"#DejaVuSans-51\"/>\n       <use x=\"63.623047\" xlink:href=\"#DejaVuSans-46\"/>\n       <use x=\"95.410156\" xlink:href=\"#DejaVuSans-53\"/>\n      </g>\n     </g>\n    </g>\n    <g id=\"text_15\">\n     <!-- $-2\\log {\\cal L}(\\mu) + 2\\log {\\cal L}_{\\rm min}$ -->\n     <defs>\n      <path d=\"M 10.59375 35.5 \nL 73.1875 35.5 \nL 73.1875 27.203125 \nL 10.59375 27.203125 \nz\n\" id=\"DejaVuSans-8722\"/>\n      <path d=\"M 9.421875 75.984375 \nL 18.40625 75.984375 \nL 18.40625 0 \nL 9.421875 0 \nz\n\" id=\"DejaVuSans-108\"/>\n      <path d=\"M 30.609375 48.390625 \nQ 23.390625 48.390625 19.1875 42.75 \nQ 14.984375 37.109375 14.984375 27.296875 \nQ 14.984375 17.484375 19.15625 11.84375 \nQ 23.34375 6.203125 30.609375 6.203125 \nQ 37.796875 6.203125 41.984375 11.859375 \nQ 46.1875 17.53125 46.1875 27.296875 \nQ 46.1875 37.015625 41.984375 42.703125 \nQ 37.796875 48.390625 30.609375 48.390625 \nz\nM 30.609375 56 \nQ 42.328125 56 49.015625 48.375 \nQ 55.71875 40.765625 55.71875 27.296875 \nQ 55.71875 13.875 49.015625 6.21875 \nQ 42.328125 -1.421875 30.609375 -1.421875 \nQ 18.84375 -1.421875 12.171875 6.21875 \nQ 5.515625 13.875 5.515625 27.296875 \nQ 5.515625 40.765625 12.171875 48.375 \nQ 18.84375 56 30.609375 56 \nz\n\" id=\"DejaVuSans-111\"/>\n      <path d=\"M 45.40625 27.984375 \nQ 45.40625 37.75 41.375 43.109375 \nQ 37.359375 48.484375 30.078125 48.484375 \nQ 22.859375 48.484375 18.828125 43.109375 \nQ 14.796875 37.75 14.796875 27.984375 \nQ 14.796875 18.265625 18.828125 12.890625 \nQ 22.859375 7.515625 30.078125 7.515625 \nQ 37.359375 7.515625 41.375 12.890625 \nQ 45.40625 18.265625 45.40625 27.984375 \nz\nM 54.390625 6.78125 \nQ 54.390625 -7.171875 48.1875 -13.984375 \nQ 42 -20.796875 29.203125 -20.796875 \nQ 24.46875 -20.796875 20.265625 -20.09375 \nQ 16.0625 -19.390625 12.109375 -17.921875 \nL 12.109375 -9.1875 \nQ 16.0625 -11.328125 19.921875 -12.34375 \nQ 23.78125 -13.375 27.78125 -13.375 \nQ 36.625 -13.375 41.015625 -8.765625 \nQ 45.40625 -4.15625 45.40625 5.171875 \nL 45.40625 9.625 \nQ 42.625 4.78125 38.28125 2.390625 \nQ 33.9375 0 27.875 0 \nQ 17.828125 0 11.671875 7.65625 \nQ 5.515625 15.328125 5.515625 27.984375 \nQ 5.515625 40.671875 11.671875 48.328125 \nQ 17.828125 56 27.875 56 \nQ 33.9375 56 38.28125 53.609375 \nQ 42.625 51.21875 45.40625 46.390625 \nL 45.40625 54.6875 \nL 54.390625 54.6875 \nz\n\" id=\"DejaVuSans-103\"/>\n      <path d=\"M 63.59375 14.296875 \nL 65.296875 12.5 \nQ 52.296875 -0.703125 37.703125 -0.703125 \nQ 33.703125 -0.703125 28.90625 0.40625 \nQ 21.796875 1.90625 17.90625 1.90625 \nQ 15.703125 1.90625 10.5 0.953125 \nQ 5.296875 0 3 0 \nL 3.59375 2.40625 \nQ 9.09375 2.40625 11.40625 11.703125 \nL 18.40625 40.09375 \nQ 20.09375 47 23.6875 52.390625 \nQ 27.296875 57.796875 31.640625 60.84375 \nQ 36 63.90625 40.390625 65.453125 \nQ 44.796875 67 48.796875 67 \nQ 53.796875 67 56.140625 63.796875 \nQ 58.5 60.59375 58.5 56 \nQ 58.5 52.296875 56.140625 50 \nQ 53.796875 47.703125 50.40625 47.703125 \nQ 48.203125 47.703125 46.796875 49.203125 \nQ 45.40625 50.703125 45.40625 52.796875 \nQ 45.40625 54.40625 46.203125 55.5 \nQ 47 56.59375 47.890625 56.9375 \nQ 48.796875 57.296875 49.59375 57.890625 \nQ 50.40625 58.5 50.40625 59.203125 \nQ 50.40625 63 44.59375 63 \nQ 39.40625 63 36.09375 59.140625 \nQ 32.796875 55.296875 31.09375 48.9375 \nQ 29.40625 42.59375 28.046875 35.6875 \nQ 26.703125 28.796875 24.203125 21.296875 \nQ 21.703125 13.796875 18.09375 9.203125 \nL 18.09375 8.796875 \nQ 21.296875 11 29.5 11 \nQ 34.796875 11 38.4375 8.5 \nQ 42.09375 6 46.296875 6 \nQ 54.796875 6 63.59375 14.296875 \nz\n\" id=\"STIXNonUnicode-Italic-57912\"/>\n      <path d=\"M 31 75.875 \nQ 24.46875 64.65625 21.28125 53.65625 \nQ 18.109375 42.671875 18.109375 31.390625 \nQ 18.109375 20.125 21.3125 9.0625 \nQ 24.515625 -2 31 -13.1875 \nL 23.1875 -13.1875 \nQ 15.875 -1.703125 12.234375 9.375 \nQ 8.59375 20.453125 8.59375 31.390625 \nQ 8.59375 42.28125 12.203125 53.3125 \nQ 15.828125 64.359375 23.1875 75.875 \nz\n\" id=\"DejaVuSans-40\"/>\n      <path d=\"M 8.015625 75.875 \nL 15.828125 75.875 \nQ 23.140625 64.359375 26.78125 53.3125 \nQ 30.421875 42.28125 30.421875 31.390625 \nQ 30.421875 20.453125 26.78125 9.375 \nQ 23.140625 -1.703125 15.828125 -13.1875 \nL 8.015625 -13.1875 \nQ 14.5 -2 17.703125 9.0625 \nQ 20.90625 20.125 20.90625 31.390625 \nQ 20.90625 42.671875 17.703125 53.65625 \nQ 14.5 64.65625 8.015625 75.875 \nz\n\" id=\"DejaVuSans-41\"/>\n      <path d=\"M 46 62.703125 \nL 46 35.5 \nL 73.1875 35.5 \nL 73.1875 27.203125 \nL 46 27.203125 \nL 46 0 \nL 37.796875 0 \nL 37.796875 27.203125 \nL 10.59375 27.203125 \nL 10.59375 35.5 \nL 37.796875 35.5 \nL 37.796875 62.703125 \nz\n\" id=\"DejaVuSans-43\"/>\n      <path d=\"M 52 44.1875 \nQ 55.375 50.25 60.0625 53.125 \nQ 64.75 56 71.09375 56 \nQ 79.640625 56 84.28125 50.015625 \nQ 88.921875 44.046875 88.921875 33.015625 \nL 88.921875 0 \nL 79.890625 0 \nL 79.890625 32.71875 \nQ 79.890625 40.578125 77.09375 44.375 \nQ 74.3125 48.1875 68.609375 48.1875 \nQ 61.625 48.1875 57.5625 43.546875 \nQ 53.515625 38.921875 53.515625 30.90625 \nL 53.515625 0 \nL 44.484375 0 \nL 44.484375 32.71875 \nQ 44.484375 40.625 41.703125 44.40625 \nQ 38.921875 48.1875 33.109375 48.1875 \nQ 26.21875 48.1875 22.15625 43.53125 \nQ 18.109375 38.875 18.109375 30.90625 \nL 18.109375 0 \nL 9.078125 0 \nL 9.078125 54.6875 \nL 18.109375 54.6875 \nL 18.109375 46.1875 \nQ 21.1875 51.21875 25.484375 53.609375 \nQ 29.78125 56 35.6875 56 \nQ 41.65625 56 45.828125 52.96875 \nQ 50 49.953125 52 44.1875 \nz\n\" id=\"DejaVuSans-109\"/>\n      <path d=\"M 9.421875 54.6875 \nL 18.40625 54.6875 \nL 18.40625 0 \nL 9.421875 0 \nz\nM 9.421875 75.984375 \nL 18.40625 75.984375 \nL 18.40625 64.59375 \nL 9.421875 64.59375 \nz\n\" id=\"DejaVuSans-105\"/>\n      <path d=\"M 54.890625 33.015625 \nL 54.890625 0 \nL 45.90625 0 \nL 45.90625 32.71875 \nQ 45.90625 40.484375 42.875 44.328125 \nQ 39.84375 48.1875 33.796875 48.1875 \nQ 26.515625 48.1875 22.3125 43.546875 \nQ 18.109375 38.921875 18.109375 30.90625 \nL 18.109375 0 \nL 9.078125 0 \nL 9.078125 54.6875 \nL 18.109375 54.6875 \nL 18.109375 46.1875 \nQ 21.34375 51.125 25.703125 53.5625 \nQ 30.078125 56 35.796875 56 \nQ 45.21875 56 50.046875 50.171875 \nQ 54.890625 44.34375 54.890625 33.015625 \nz\n\" id=\"DejaVuSans-110\"/>\n     </defs>\n     <g style=\"fill:#555555;\" transform=\"translate(16.32 196.164)rotate(-90)scale(0.12 -0.12)\">\n      <use transform=\"translate(0 0.015625)\" xlink:href=\"#DejaVuSans-8722\"/>\n      <use transform=\"translate(83.789062 0.015625)\" xlink:href=\"#DejaVuSans-50\"/>\n      <use transform=\"translate(147.412109 0.015625)\" xlink:href=\"#DejaVuSans-108\"/>\n      <use transform=\"translate(175.195312 0.015625)\" xlink:href=\"#DejaVuSans-111\"/>\n      <use transform=\"translate(236.376953 0.015625)\" xlink:href=\"#DejaVuSans-103\"/>\n      <use transform=\"translate(299.853516 0.015625)\" xlink:href=\"#STIXNonUnicode-Italic-57912\"/>\n      <use transform=\"translate(369.153503 0.015625)\" xlink:href=\"#DejaVuSans-40\"/>\n      <use transform=\"translate(408.167175 0.015625)\" xlink:href=\"#DejaVuSans-Oblique-956\"/>\n      <use transform=\"translate(471.790222 0.015625)\" xlink:href=\"#DejaVuSans-41\"/>\n      <use transform=\"translate(530.286316 0.015625)\" xlink:href=\"#DejaVuSans-43\"/>\n      <use transform=\"translate(633.5578 0.015625)\" xlink:href=\"#DejaVuSans-50\"/>\n      <use transform=\"translate(697.180847 0.015625)\" xlink:href=\"#DejaVuSans-108\"/>\n      <use transform=\"translate(724.96405 0.015625)\" xlink:href=\"#DejaVuSans-111\"/>\n      <use transform=\"translate(786.145691 0.015625)\" xlink:href=\"#DejaVuSans-103\"/>\n      <use transform=\"translate(849.622253 0.015625)\" xlink:href=\"#STIXNonUnicode-Italic-57912\"/>\n      <use transform=\"translate(919.879272 -16.390625)scale(0.7)\" xlink:href=\"#DejaVuSans-109\"/>\n      <use transform=\"translate(988.067749 -16.390625)scale(0.7)\" xlink:href=\"#DejaVuSans-105\"/>\n      <use transform=\"translate(1007.515991 -16.390625)scale(0.7)\" xlink:href=\"#DejaVuSans-110\"/>\n     </g>\n    </g>\n   </g>\n   <g id=\"LineCollection_1\">\n    <path clip-path=\"url(#p703f176607)\" d=\"M 60.961307 175.923382 \nL 365.324943 175.923382 \n\" style=\"fill:none;stroke:#7f7f7f;stroke-dasharray:1.5,2.475;stroke-dashoffset:0;stroke-width:1.5;\"/>\n   </g>\n   <g id=\"line2d_27\">\n    <path clip-path=\"url(#p703f176607)\" d=\"M 60.961307 34.027636 \nL 67.079169 49.723902 \nL 73.197031 64.761897 \nL 79.314893 79.142836 \nL 85.432755 92.867931 \nL 91.550617 105.938391 \nL 97.668479 118.355418 \nL 103.786341 130.120212 \nL 108.374738 138.516499 \nL 112.963134 146.54708 \nL 117.551531 154.212456 \nL 122.139927 161.513127 \nL 126.728324 168.449593 \nL 131.31672 175.022351 \nL 135.905117 181.231896 \nL 140.493513 187.078725 \nL 145.08191 192.56333 \nL 149.670306 197.686205 \nL 154.258703 202.447839 \nL 158.847099 206.848725 \nL 163.435496 210.889349 \nL 168.023892 214.570199 \nL 172.612289 217.891762 \nL 177.200686 220.854522 \nL 181.789082 223.458964 \nL 186.377479 225.705569 \nL 190.965875 227.594819 \nL 194.024806 228.656026 \nL 197.083737 229.558763 \nL 200.142668 230.303173 \nL 203.201599 230.889397 \nL 206.26053 231.317576 \nL 209.319461 231.587851 \nL 212.378392 231.700364 \nL 215.437323 231.655253 \nL 218.496254 231.452661 \nL 221.555185 231.092726 \nL 224.614116 230.575588 \nL 227.673047 229.901388 \nL 230.731978 229.070264 \nL 233.790909 228.082356 \nL 238.379306 226.306826 \nL 242.967702 224.179312 \nL 247.556099 221.700279 \nL 252.144495 218.870193 \nL 256.732892 215.689518 \nL 261.321289 212.158717 \nL 265.909685 208.278252 \nL 270.498082 204.048584 \nL 275.086478 199.470172 \nL 279.674875 194.543475 \nL 284.263271 189.26895 \nL 288.851668 183.647054 \nL 293.440064 177.67824 \nL 298.028461 171.362964 \nL 302.616857 164.701678 \nL 307.205254 157.694834 \nL 311.79365 150.342882 \nL 316.382047 142.646272 \nL 320.970443 134.605452 \nL 327.088305 123.349694 \nL 333.206167 111.48386 \nL 339.32403 99.009002 \nL 345.441892 85.926173 \nL 351.559754 72.236417 \nL 357.677616 57.940779 \nL 363.795478 43.040298 \nL 365.324943 39.220793 \nL 365.324943 39.220793 \n\" style=\"fill:none;stroke:#ff7f0e;stroke-linecap:square;stroke-width:1.5;\"/>\n   </g>\n   <g id=\"line2d_28\">\n    <defs>\n     <path d=\"M 0 3 \nC 0.795609 3 1.55874 2.683901 2.12132 2.12132 \nC 2.683901 1.55874 3 0.795609 3 0 \nC 3 -0.795609 2.683901 -1.55874 2.12132 -2.12132 \nC 1.55874 -2.683901 0.795609 -3 0 -3 \nC -0.795609 -3 -1.55874 -2.683901 -2.12132 -2.12132 \nC -2.683901 -1.55874 -3 -0.795609 -3 0 \nC -3 0.795609 -2.683901 1.55874 -2.12132 2.12132 \nC -1.55874 2.683901 -0.795609 3 0 3 \nz\n\" id=\"me7274ee703\" style=\"stroke:#000000;\"/>\n    </defs>\n    <g clip-path=\"url(#p703f176607)\">\n     <use style=\"stroke:#000000;\" x=\"131.31672\" xlink:href=\"#me7274ee703\" y=\"175.923382\"/>\n     <use style=\"stroke:#000000;\" x=\"293.440064\" xlink:href=\"#me7274ee703\" y=\"175.923382\"/>\n    </g>\n   </g>\n   <g id=\"line2d_29\">\n    <path clip-path=\"url(#p703f176607)\" d=\"M 131.31672 231.700364 \nL 131.31672 175.923382 \n\" style=\"fill:none;stroke:#000000;stroke-dasharray:5.55,2.4;stroke-dashoffset:0;stroke-width:1.5;\"/>\n   </g>\n   <g id=\"line2d_30\">\n    <path clip-path=\"url(#p703f176607)\" d=\"M 293.440064 231.700364 \nL 293.440064 175.923382 \n\" style=\"fill:none;stroke:#000000;stroke-dasharray:5.55,2.4;stroke-dashoffset:0;stroke-width:1.5;\"/>\n   </g>\n   <g id=\"line2d_31\">\n    <path clip-path=\"url(#p703f176607)\" d=\"M 60.961307 35.115793 \nL 67.079169 50.603883 \nL 73.197031 65.456565 \nL 79.314893 79.673837 \nL 85.432755 93.255701 \nL 91.550617 106.202156 \nL 97.668479 118.513202 \nL 103.786341 130.188839 \nL 108.374738 138.52858 \nL 112.963134 146.510903 \nL 117.551531 154.135809 \nL 122.139927 161.403298 \nL 126.728324 168.313369 \nL 131.31672 174.866022 \nL 135.905117 181.061258 \nL 140.493513 186.899077 \nL 145.08191 192.379478 \nL 149.670306 197.502462 \nL 154.258703 202.268028 \nL 158.847099 206.676177 \nL 163.435496 210.726908 \nL 168.023892 214.420222 \nL 172.612289 217.756118 \nL 177.200686 220.734597 \nL 181.789082 223.355659 \nL 186.377479 225.619303 \nL 190.965875 227.525529 \nL 194.024806 228.597781 \nL 197.083737 229.511182 \nL 200.142668 230.26573 \nL 203.201599 230.861425 \nL 206.26053 231.298269 \nL 209.319461 231.57626 \nL 212.378392 231.6954 \nL 215.437323 231.655686 \nL 218.496254 231.457121 \nL 221.555185 231.099704 \nL 224.614116 230.583434 \nL 227.673047 229.908312 \nL 230.731978 229.074338 \nL 233.790909 228.081512 \nL 236.84984 226.929833 \nL 241.438237 224.904468 \nL 246.026633 222.521685 \nL 250.61503 219.781484 \nL 255.203427 216.683866 \nL 259.791823 213.22883 \nL 264.38022 209.416377 \nL 268.968616 205.246507 \nL 273.557013 200.719219 \nL 278.145409 195.834514 \nL 282.733806 190.592391 \nL 287.322202 184.992851 \nL 291.910599 179.035893 \nL 296.498995 172.721518 \nL 301.087392 166.049725 \nL 305.675788 159.020515 \nL 310.264185 151.633887 \nL 314.852581 143.889842 \nL 319.440978 135.788379 \nL 324.029374 127.329499 \nL 328.617771 118.513202 \nL 334.735633 106.202156 \nL 340.853495 93.255701 \nL 346.971357 79.673837 \nL 353.089219 65.456565 \nL 359.207081 50.603883 \nL 365.324943 35.115793 \nL 365.324943 35.115793 \n\" style=\"fill:none;stroke:#2ca02c;stroke-dasharray:5.55,2.4;stroke-dashoffset:0;stroke-width:1.5;\"/>\n   </g>\n   <g id=\"patch_3\">\n    <path d=\"M 45.743125 241.584 \nL 45.743125 24.144 \n\" style=\"fill:none;stroke:#ffffff;stroke-linecap:square;stroke-linejoin:miter;\"/>\n   </g>\n   <g id=\"patch_4\">\n    <path d=\"M 380.543125 241.584 \nL 380.543125 24.144 \n\" style=\"fill:none;stroke:#ffffff;stroke-linecap:square;stroke-linejoin:miter;\"/>\n   </g>\n   <g id=\"patch_5\">\n    <path d=\"M 45.743125 241.584 \nL 380.543125 241.584 \n\" style=\"fill:none;stroke:#ffffff;stroke-linecap:square;stroke-linejoin:miter;\"/>\n   </g>\n   <g id=\"patch_6\">\n    <path d=\"M 45.743125 24.144 \nL 380.543125 24.144 \n\" style=\"fill:none;stroke:#ffffff;stroke-linecap:square;stroke-linejoin:miter;\"/>\n   </g>\n   <g id=\"text_16\">\n    <!-- Log-likelihood profile with respect to $\\mu$ -->\n    <defs>\n     <path d=\"M 9.8125 72.90625 \nL 19.671875 72.90625 \nL 19.671875 8.296875 \nL 55.171875 8.296875 \nL 55.171875 0 \nL 9.8125 0 \nz\n\" id=\"DejaVuSans-76\"/>\n     <path d=\"M 4.890625 31.390625 \nL 31.203125 31.390625 \nL 31.203125 23.390625 \nL 4.890625 23.390625 \nz\n\" id=\"DejaVuSans-45\"/>\n     <path d=\"M 9.078125 75.984375 \nL 18.109375 75.984375 \nL 18.109375 31.109375 \nL 44.921875 54.6875 \nL 56.390625 54.6875 \nL 27.390625 29.109375 \nL 57.625 0 \nL 45.90625 0 \nL 18.109375 26.703125 \nL 18.109375 0 \nL 9.078125 0 \nz\n\" id=\"DejaVuSans-107\"/>\n     <path d=\"M 56.203125 29.59375 \nL 56.203125 25.203125 \nL 14.890625 25.203125 \nQ 15.484375 15.921875 20.484375 11.0625 \nQ 25.484375 6.203125 34.421875 6.203125 \nQ 39.59375 6.203125 44.453125 7.46875 \nQ 49.3125 8.734375 54.109375 11.28125 \nL 54.109375 2.78125 \nQ 49.265625 0.734375 44.1875 -0.34375 \nQ 39.109375 -1.421875 33.890625 -1.421875 \nQ 20.796875 -1.421875 13.15625 6.1875 \nQ 5.515625 13.8125 5.515625 26.8125 \nQ 5.515625 40.234375 12.765625 48.109375 \nQ 20.015625 56 32.328125 56 \nQ 43.359375 56 49.78125 48.890625 \nQ 56.203125 41.796875 56.203125 29.59375 \nz\nM 47.21875 32.234375 \nQ 47.125 39.59375 43.09375 43.984375 \nQ 39.0625 48.390625 32.421875 48.390625 \nQ 24.90625 48.390625 20.390625 44.140625 \nQ 15.875 39.890625 15.1875 32.171875 \nz\n\" id=\"DejaVuSans-101\"/>\n     <path d=\"M 54.890625 33.015625 \nL 54.890625 0 \nL 45.90625 0 \nL 45.90625 32.71875 \nQ 45.90625 40.484375 42.875 44.328125 \nQ 39.84375 48.1875 33.796875 48.1875 \nQ 26.515625 48.1875 22.3125 43.546875 \nQ 18.109375 38.921875 18.109375 30.90625 \nL 18.109375 0 \nL 9.078125 0 \nL 9.078125 75.984375 \nL 18.109375 75.984375 \nL 18.109375 46.1875 \nQ 21.34375 51.125 25.703125 53.5625 \nQ 30.078125 56 35.796875 56 \nQ 45.21875 56 50.046875 50.171875 \nQ 54.890625 44.34375 54.890625 33.015625 \nz\n\" id=\"DejaVuSans-104\"/>\n     <path d=\"M 45.40625 46.390625 \nL 45.40625 75.984375 \nL 54.390625 75.984375 \nL 54.390625 0 \nL 45.40625 0 \nL 45.40625 8.203125 \nQ 42.578125 3.328125 38.25 0.953125 \nQ 33.9375 -1.421875 27.875 -1.421875 \nQ 17.96875 -1.421875 11.734375 6.484375 \nQ 5.515625 14.40625 5.515625 27.296875 \nQ 5.515625 40.1875 11.734375 48.09375 \nQ 17.96875 56 27.875 56 \nQ 33.9375 56 38.25 53.625 \nQ 42.578125 51.265625 45.40625 46.390625 \nz\nM 14.796875 27.296875 \nQ 14.796875 17.390625 18.875 11.75 \nQ 22.953125 6.109375 30.078125 6.109375 \nQ 37.203125 6.109375 41.296875 11.75 \nQ 45.40625 17.390625 45.40625 27.296875 \nQ 45.40625 37.203125 41.296875 42.84375 \nQ 37.203125 48.484375 30.078125 48.484375 \nQ 22.953125 48.484375 18.875 42.84375 \nQ 14.796875 37.203125 14.796875 27.296875 \nz\n\" id=\"DejaVuSans-100\"/>\n     <path id=\"DejaVuSans-32\"/>\n     <path d=\"M 18.109375 8.203125 \nL 18.109375 -20.796875 \nL 9.078125 -20.796875 \nL 9.078125 54.6875 \nL 18.109375 54.6875 \nL 18.109375 46.390625 \nQ 20.953125 51.265625 25.265625 53.625 \nQ 29.59375 56 35.59375 56 \nQ 45.5625 56 51.78125 48.09375 \nQ 58.015625 40.1875 58.015625 27.296875 \nQ 58.015625 14.40625 51.78125 6.484375 \nQ 45.5625 -1.421875 35.59375 -1.421875 \nQ 29.59375 -1.421875 25.265625 0.953125 \nQ 20.953125 3.328125 18.109375 8.203125 \nz\nM 48.6875 27.296875 \nQ 48.6875 37.203125 44.609375 42.84375 \nQ 40.53125 48.484375 33.40625 48.484375 \nQ 26.265625 48.484375 22.1875 42.84375 \nQ 18.109375 37.203125 18.109375 27.296875 \nQ 18.109375 17.390625 22.1875 11.75 \nQ 26.265625 6.109375 33.40625 6.109375 \nQ 40.53125 6.109375 44.609375 11.75 \nQ 48.6875 17.390625 48.6875 27.296875 \nz\n\" id=\"DejaVuSans-112\"/>\n     <path d=\"M 41.109375 46.296875 \nQ 39.59375 47.171875 37.8125 47.578125 \nQ 36.03125 48 33.890625 48 \nQ 26.265625 48 22.1875 43.046875 \nQ 18.109375 38.09375 18.109375 28.8125 \nL 18.109375 0 \nL 9.078125 0 \nL 9.078125 54.6875 \nL 18.109375 54.6875 \nL 18.109375 46.1875 \nQ 20.953125 51.171875 25.484375 53.578125 \nQ 30.03125 56 36.53125 56 \nQ 37.453125 56 38.578125 55.875 \nQ 39.703125 55.765625 41.0625 55.515625 \nz\n\" id=\"DejaVuSans-114\"/>\n     <path d=\"M 37.109375 75.984375 \nL 37.109375 68.5 \nL 28.515625 68.5 \nQ 23.6875 68.5 21.796875 66.546875 \nQ 19.921875 64.59375 19.921875 59.515625 \nL 19.921875 54.6875 \nL 34.71875 54.6875 \nL 34.71875 47.703125 \nL 19.921875 47.703125 \nL 19.921875 0 \nL 10.890625 0 \nL 10.890625 47.703125 \nL 2.296875 47.703125 \nL 2.296875 54.6875 \nL 10.890625 54.6875 \nL 10.890625 58.5 \nQ 10.890625 67.625 15.140625 71.796875 \nQ 19.390625 75.984375 28.609375 75.984375 \nz\n\" id=\"DejaVuSans-102\"/>\n     <path d=\"M 4.203125 54.6875 \nL 13.1875 54.6875 \nL 24.421875 12.015625 \nL 35.59375 54.6875 \nL 46.1875 54.6875 \nL 57.421875 12.015625 \nL 68.609375 54.6875 \nL 77.59375 54.6875 \nL 63.28125 0 \nL 52.6875 0 \nL 40.921875 44.828125 \nL 29.109375 0 \nL 18.5 0 \nz\n\" id=\"DejaVuSans-119\"/>\n     <path d=\"M 18.3125 70.21875 \nL 18.3125 54.6875 \nL 36.8125 54.6875 \nL 36.8125 47.703125 \nL 18.3125 47.703125 \nL 18.3125 18.015625 \nQ 18.3125 11.328125 20.140625 9.421875 \nQ 21.96875 7.515625 27.59375 7.515625 \nL 36.8125 7.515625 \nL 36.8125 0 \nL 27.59375 0 \nQ 17.1875 0 13.234375 3.875 \nQ 9.28125 7.765625 9.28125 18.015625 \nL 9.28125 47.703125 \nL 2.6875 47.703125 \nL 2.6875 54.6875 \nL 9.28125 54.6875 \nL 9.28125 70.21875 \nz\n\" id=\"DejaVuSans-116\"/>\n     <path d=\"M 44.28125 53.078125 \nL 44.28125 44.578125 \nQ 40.484375 46.53125 36.375 47.5 \nQ 32.28125 48.484375 27.875 48.484375 \nQ 21.1875 48.484375 17.84375 46.4375 \nQ 14.5 44.390625 14.5 40.28125 \nQ 14.5 37.15625 16.890625 35.375 \nQ 19.28125 33.59375 26.515625 31.984375 \nL 29.59375 31.296875 \nQ 39.15625 29.25 43.1875 25.515625 \nQ 47.21875 21.78125 47.21875 15.09375 \nQ 47.21875 7.46875 41.1875 3.015625 \nQ 35.15625 -1.421875 24.609375 -1.421875 \nQ 20.21875 -1.421875 15.453125 -0.5625 \nQ 10.6875 0.296875 5.421875 2 \nL 5.421875 11.28125 \nQ 10.40625 8.6875 15.234375 7.390625 \nQ 20.0625 6.109375 24.8125 6.109375 \nQ 31.15625 6.109375 34.5625 8.28125 \nQ 37.984375 10.453125 37.984375 14.40625 \nQ 37.984375 18.0625 35.515625 20.015625 \nQ 33.0625 21.96875 24.703125 23.78125 \nL 21.578125 24.515625 \nQ 13.234375 26.265625 9.515625 29.90625 \nQ 5.8125 33.546875 5.8125 39.890625 \nQ 5.8125 47.609375 11.28125 51.796875 \nQ 16.75 56 26.8125 56 \nQ 31.78125 56 36.171875 55.265625 \nQ 40.578125 54.546875 44.28125 53.078125 \nz\n\" id=\"DejaVuSans-115\"/>\n     <path d=\"M 48.78125 52.59375 \nL 48.78125 44.1875 \nQ 44.96875 46.296875 41.140625 47.34375 \nQ 37.3125 48.390625 33.40625 48.390625 \nQ 24.65625 48.390625 19.8125 42.84375 \nQ 14.984375 37.3125 14.984375 27.296875 \nQ 14.984375 17.28125 19.8125 11.734375 \nQ 24.65625 6.203125 33.40625 6.203125 \nQ 37.3125 6.203125 41.140625 7.25 \nQ 44.96875 8.296875 48.78125 10.40625 \nL 48.78125 2.09375 \nQ 45.015625 0.34375 40.984375 -0.53125 \nQ 36.96875 -1.421875 32.421875 -1.421875 \nQ 20.0625 -1.421875 12.78125 6.34375 \nQ 5.515625 14.109375 5.515625 27.296875 \nQ 5.515625 40.671875 12.859375 48.328125 \nQ 20.21875 56 33.015625 56 \nQ 37.15625 56 41.109375 55.140625 \nQ 45.0625 54.296875 48.78125 52.59375 \nz\n\" id=\"DejaVuSans-99\"/>\n    </defs>\n    <g transform=\"translate(74.615125 18.144)scale(0.144 -0.144)\">\n     <use transform=\"translate(0 0.015625)\" xlink:href=\"#DejaVuSans-76\"/>\n     <use transform=\"translate(55.712891 0.015625)\" xlink:href=\"#DejaVuSans-111\"/>\n     <use transform=\"translate(116.894531 0.015625)\" xlink:href=\"#DejaVuSans-103\"/>\n     <use transform=\"translate(180.371094 0.015625)\" xlink:href=\"#DejaVuSans-45\"/>\n     <use transform=\"translate(216.455078 0.015625)\" xlink:href=\"#DejaVuSans-108\"/>\n     <use transform=\"translate(244.238281 0.015625)\" xlink:href=\"#DejaVuSans-105\"/>\n     <use transform=\"translate(272.021484 0.015625)\" xlink:href=\"#DejaVuSans-107\"/>\n     <use transform=\"translate(329.931641 0.015625)\" xlink:href=\"#DejaVuSans-101\"/>\n     <use transform=\"translate(391.455078 0.015625)\" xlink:href=\"#DejaVuSans-108\"/>\n     <use transform=\"translate(419.238281 0.015625)\" xlink:href=\"#DejaVuSans-105\"/>\n     <use transform=\"translate(447.021484 0.015625)\" xlink:href=\"#DejaVuSans-104\"/>\n     <use transform=\"translate(510.400391 0.015625)\" xlink:href=\"#DejaVuSans-111\"/>\n     <use transform=\"translate(571.582031 0.015625)\" xlink:href=\"#DejaVuSans-111\"/>\n     <use transform=\"translate(632.763672 0.015625)\" xlink:href=\"#DejaVuSans-100\"/>\n     <use transform=\"translate(696.240234 0.015625)\" xlink:href=\"#DejaVuSans-32\"/>\n     <use transform=\"translate(728.027344 0.015625)\" xlink:href=\"#DejaVuSans-112\"/>\n     <use transform=\"translate(791.503906 0.015625)\" xlink:href=\"#DejaVuSans-114\"/>\n     <use transform=\"translate(832.617188 0.015625)\" xlink:href=\"#DejaVuSans-111\"/>\n     <use transform=\"translate(893.798828 0.015625)\" xlink:href=\"#DejaVuSans-102\"/>\n     <use transform=\"translate(929.003906 0.015625)\" xlink:href=\"#DejaVuSans-105\"/>\n     <use transform=\"translate(956.787109 0.015625)\" xlink:href=\"#DejaVuSans-108\"/>\n     <use transform=\"translate(984.570312 0.015625)\" xlink:href=\"#DejaVuSans-101\"/>\n     <use transform=\"translate(1046.09375 0.015625)\" xlink:href=\"#DejaVuSans-32\"/>\n     <use transform=\"translate(1077.880859 0.015625)\" xlink:href=\"#DejaVuSans-119\"/>\n     <use transform=\"translate(1159.667969 0.015625)\" xlink:href=\"#DejaVuSans-105\"/>\n     <use transform=\"translate(1187.451172 0.015625)\" xlink:href=\"#DejaVuSans-116\"/>\n     <use transform=\"translate(1226.660156 0.015625)\" xlink:href=\"#DejaVuSans-104\"/>\n     <use transform=\"translate(1290.039062 0.015625)\" xlink:href=\"#DejaVuSans-32\"/>\n     <use transform=\"translate(1321.826172 0.015625)\" xlink:href=\"#DejaVuSans-114\"/>\n     <use transform=\"translate(1362.939453 0.015625)\" xlink:href=\"#DejaVuSans-101\"/>\n     <use transform=\"translate(1424.462891 0.015625)\" xlink:href=\"#DejaVuSans-115\"/>\n     <use transform=\"translate(1476.5625 0.015625)\" xlink:href=\"#DejaVuSans-112\"/>\n     <use transform=\"translate(1540.039062 0.015625)\" xlink:href=\"#DejaVuSans-101\"/>\n     <use transform=\"translate(1601.5625 0.015625)\" xlink:href=\"#DejaVuSans-99\"/>\n     <use transform=\"translate(1656.542969 0.015625)\" xlink:href=\"#DejaVuSans-116\"/>\n     <use transform=\"translate(1695.751953 0.015625)\" xlink:href=\"#DejaVuSans-32\"/>\n     <use transform=\"translate(1727.539062 0.015625)\" xlink:href=\"#DejaVuSans-116\"/>\n     <use transform=\"translate(1766.748047 0.015625)\" xlink:href=\"#DejaVuSans-111\"/>\n     <use transform=\"translate(1827.929688 0.015625)\" xlink:href=\"#DejaVuSans-32\"/>\n     <use transform=\"translate(1859.716797 0.015625)\" xlink:href=\"#DejaVuSans-Oblique-956\"/>\n    </g>\n   </g>\n   <g id=\"legend_1\">\n    <g id=\"patch_7\">\n     <path d=\"M 137.390781 76.178375 \nL 288.895469 76.178375 \nQ 290.895469 76.178375 290.895469 74.178375 \nL 290.895469 31.144 \nQ 290.895469 29.144 288.895469 29.144 \nL 137.390781 29.144 \nQ 135.390781 29.144 135.390781 31.144 \nL 135.390781 74.178375 \nQ 135.390781 76.178375 137.390781 76.178375 \nz\n\" style=\"fill:#ffffff;opacity:0.8;stroke:#cccccc;stroke-linejoin:miter;stroke-width:0.5;\"/>\n    </g>\n    <g id=\"line2d_32\">\n     <path d=\"M 139.390781 37.242438 \nL 159.390781 37.242438 \n\" style=\"fill:none;stroke:#ff7f0e;stroke-linecap:square;stroke-width:1.5;\"/>\n    </g>\n    <g id=\"line2d_33\"/>\n    <g id=\"text_17\">\n     <!-- binned log-likelihood -->\n     <defs>\n      <path d=\"M 48.6875 27.296875 \nQ 48.6875 37.203125 44.609375 42.84375 \nQ 40.53125 48.484375 33.40625 48.484375 \nQ 26.265625 48.484375 22.1875 42.84375 \nQ 18.109375 37.203125 18.109375 27.296875 \nQ 18.109375 17.390625 22.1875 11.75 \nQ 26.265625 6.109375 33.40625 6.109375 \nQ 40.53125 6.109375 44.609375 11.75 \nQ 48.6875 17.390625 48.6875 27.296875 \nz\nM 18.109375 46.390625 \nQ 20.953125 51.265625 25.265625 53.625 \nQ 29.59375 56 35.59375 56 \nQ 45.5625 56 51.78125 48.09375 \nQ 58.015625 40.1875 58.015625 27.296875 \nQ 58.015625 14.40625 51.78125 6.484375 \nQ 45.5625 -1.421875 35.59375 -1.421875 \nQ 29.59375 -1.421875 25.265625 0.953125 \nQ 20.953125 3.328125 18.109375 8.203125 \nL 18.109375 0 \nL 9.078125 0 \nL 9.078125 75.984375 \nL 18.109375 75.984375 \nz\n\" id=\"DejaVuSans-98\"/>\n     </defs>\n     <g transform=\"translate(167.390781 40.742438)scale(0.1 -0.1)\">\n      <use xlink:href=\"#DejaVuSans-98\"/>\n      <use x=\"63.476562\" xlink:href=\"#DejaVuSans-105\"/>\n      <use x=\"91.259766\" xlink:href=\"#DejaVuSans-110\"/>\n      <use x=\"154.638672\" xlink:href=\"#DejaVuSans-110\"/>\n      <use x=\"218.017578\" xlink:href=\"#DejaVuSans-101\"/>\n      <use x=\"279.541016\" xlink:href=\"#DejaVuSans-100\"/>\n      <use x=\"343.017578\" xlink:href=\"#DejaVuSans-32\"/>\n      <use x=\"374.804688\" xlink:href=\"#DejaVuSans-108\"/>\n      <use x=\"402.587891\" xlink:href=\"#DejaVuSans-111\"/>\n      <use x=\"463.769531\" xlink:href=\"#DejaVuSans-103\"/>\n      <use x=\"527.246094\" xlink:href=\"#DejaVuSans-45\"/>\n      <use x=\"563.330078\" xlink:href=\"#DejaVuSans-108\"/>\n      <use x=\"591.113281\" xlink:href=\"#DejaVuSans-105\"/>\n      <use x=\"618.896484\" xlink:href=\"#DejaVuSans-107\"/>\n      <use x=\"673.181641\" xlink:href=\"#DejaVuSans-101\"/>\n      <use x=\"734.705078\" xlink:href=\"#DejaVuSans-108\"/>\n      <use x=\"762.488281\" xlink:href=\"#DejaVuSans-105\"/>\n      <use x=\"790.271484\" xlink:href=\"#DejaVuSans-104\"/>\n      <use x=\"853.650391\" xlink:href=\"#DejaVuSans-111\"/>\n      <use x=\"914.832031\" xlink:href=\"#DejaVuSans-111\"/>\n      <use x=\"976.013672\" xlink:href=\"#DejaVuSans-100\"/>\n     </g>\n    </g>\n    <g id=\"line2d_34\"/>\n    <g id=\"line2d_35\">\n     <g>\n      <use style=\"stroke:#000000;\" x=\"149.390781\" xlink:href=\"#me7274ee703\" y=\"51.920563\"/>\n     </g>\n    </g>\n    <g id=\"text_18\">\n     <!-- $1\\sigma$ interval -->\n     <defs>\n      <path d=\"M 34.671875 47.5625 \nQ 27.25 47.5625 22.21875 42.1875 \nQ 16.890625 36.578125 15.140625 27.296875 \nQ 13.1875 17.484375 16.3125 11.8125 \nQ 19.390625 6.203125 26.65625 6.203125 \nQ 33.84375 6.203125 39.109375 11.859375 \nQ 44.4375 17.53125 46.34375 27.296875 \nQ 48.046875 36.234375 45.015625 42.1875 \nQ 42.1875 47.5625 34.671875 47.5625 \nz\nM 36.078125 54.734375 \nL 65.921875 54.6875 \nL 64.15625 45.703125 \nL 54.109375 45.703125 \nQ 57.90625 38.09375 55.859375 27.296875 \nQ 53.21875 13.875 45.0625 6.25 \nQ 36.859375 -1.421875 25.140625 -1.421875 \nQ 13.375 -1.421875 8.203125 6.25 \nQ 3.03125 13.875 5.671875 27.296875 \nQ 8.25 40.765625 16.40625 48.390625 \nQ 23.1875 54.734375 36.078125 54.734375 \nz\n\" id=\"DejaVuSans-Oblique-963\"/>\n      <path d=\"M 2.984375 54.6875 \nL 12.5 54.6875 \nL 29.59375 8.796875 \nL 46.6875 54.6875 \nL 56.203125 54.6875 \nL 35.6875 0 \nL 23.484375 0 \nz\n\" id=\"DejaVuSans-118\"/>\n      <path d=\"M 34.28125 27.484375 \nQ 23.390625 27.484375 19.1875 25 \nQ 14.984375 22.515625 14.984375 16.5 \nQ 14.984375 11.71875 18.140625 8.90625 \nQ 21.296875 6.109375 26.703125 6.109375 \nQ 34.1875 6.109375 38.703125 11.40625 \nQ 43.21875 16.703125 43.21875 25.484375 \nL 43.21875 27.484375 \nz\nM 52.203125 31.203125 \nL 52.203125 0 \nL 43.21875 0 \nL 43.21875 8.296875 \nQ 40.140625 3.328125 35.546875 0.953125 \nQ 30.953125 -1.421875 24.3125 -1.421875 \nQ 15.921875 -1.421875 10.953125 3.296875 \nQ 6 8.015625 6 15.921875 \nQ 6 25.140625 12.171875 29.828125 \nQ 18.359375 34.515625 30.609375 34.515625 \nL 43.21875 34.515625 \nL 43.21875 35.40625 \nQ 43.21875 41.609375 39.140625 45 \nQ 35.0625 48.390625 27.6875 48.390625 \nQ 23 48.390625 18.546875 47.265625 \nQ 14.109375 46.140625 10.015625 43.890625 \nL 10.015625 52.203125 \nQ 14.9375 54.109375 19.578125 55.046875 \nQ 24.21875 56 28.609375 56 \nQ 40.484375 56 46.34375 49.84375 \nQ 52.203125 43.703125 52.203125 31.203125 \nz\n\" id=\"DejaVuSans-97\"/>\n     </defs>\n     <g transform=\"translate(167.390781 55.420563)scale(0.1 -0.1)\">\n      <use transform=\"translate(0 0.015625)\" xlink:href=\"#DejaVuSans-49\"/>\n      <use transform=\"translate(63.623047 0.015625)\" xlink:href=\"#DejaVuSans-Oblique-963\"/>\n      <use transform=\"translate(127.001953 0.015625)\" xlink:href=\"#DejaVuSans-32\"/>\n      <use transform=\"translate(158.789062 0.015625)\" xlink:href=\"#DejaVuSans-105\"/>\n      <use transform=\"translate(186.572266 0.015625)\" xlink:href=\"#DejaVuSans-110\"/>\n      <use transform=\"translate(249.951172 0.015625)\" xlink:href=\"#DejaVuSans-116\"/>\n      <use transform=\"translate(289.160156 0.015625)\" xlink:href=\"#DejaVuSans-101\"/>\n      <use transform=\"translate(350.683594 0.015625)\" xlink:href=\"#DejaVuSans-114\"/>\n      <use transform=\"translate(391.796875 0.015625)\" xlink:href=\"#DejaVuSans-118\"/>\n      <use transform=\"translate(450.976562 0.015625)\" xlink:href=\"#DejaVuSans-97\"/>\n      <use transform=\"translate(512.255859 0.015625)\" xlink:href=\"#DejaVuSans-108\"/>\n     </g>\n    </g>\n    <g id=\"line2d_36\">\n     <path d=\"M 139.390781 66.598688 \nL 159.390781 66.598688 \n\" style=\"fill:none;stroke:#2ca02c;stroke-dasharray:5.55,2.4;stroke-dashoffset:0;stroke-width:1.5;\"/>\n    </g>\n    <g id=\"line2d_37\"/>\n    <g id=\"text_19\">\n     <!-- parabola approximation -->\n     <defs>\n      <path d=\"M 54.890625 54.6875 \nL 35.109375 28.078125 \nL 55.90625 0 \nL 45.3125 0 \nL 29.390625 21.484375 \nL 13.484375 0 \nL 2.875 0 \nL 24.125 28.609375 \nL 4.6875 54.6875 \nL 15.28125 54.6875 \nL 29.78125 35.203125 \nL 44.28125 54.6875 \nz\n\" id=\"DejaVuSans-120\"/>\n     </defs>\n     <g transform=\"translate(167.390781 70.098688)scale(0.1 -0.1)\">\n      <use xlink:href=\"#DejaVuSans-112\"/>\n      <use x=\"63.476562\" xlink:href=\"#DejaVuSans-97\"/>\n      <use x=\"124.755859\" xlink:href=\"#DejaVuSans-114\"/>\n      <use x=\"165.869141\" xlink:href=\"#DejaVuSans-97\"/>\n      <use x=\"227.148438\" xlink:href=\"#DejaVuSans-98\"/>\n      <use x=\"290.625\" xlink:href=\"#DejaVuSans-111\"/>\n      <use x=\"351.806641\" xlink:href=\"#DejaVuSans-108\"/>\n      <use x=\"379.589844\" xlink:href=\"#DejaVuSans-97\"/>\n      <use x=\"440.869141\" xlink:href=\"#DejaVuSans-32\"/>\n      <use x=\"472.65625\" xlink:href=\"#DejaVuSans-97\"/>\n      <use x=\"533.935547\" xlink:href=\"#DejaVuSans-112\"/>\n      <use x=\"597.412109\" xlink:href=\"#DejaVuSans-112\"/>\n      <use x=\"660.888672\" xlink:href=\"#DejaVuSans-114\"/>\n      <use x=\"699.751953\" xlink:href=\"#DejaVuSans-111\"/>\n      <use x=\"757.808594\" xlink:href=\"#DejaVuSans-120\"/>\n      <use x=\"816.988281\" xlink:href=\"#DejaVuSans-105\"/>\n      <use x=\"844.771484\" xlink:href=\"#DejaVuSans-109\"/>\n      <use x=\"942.183594\" xlink:href=\"#DejaVuSans-97\"/>\n      <use x=\"1003.462891\" xlink:href=\"#DejaVuSans-116\"/>\n      <use x=\"1042.671875\" xlink:href=\"#DejaVuSans-105\"/>\n      <use x=\"1070.455078\" xlink:href=\"#DejaVuSans-111\"/>\n      <use x=\"1131.636719\" xlink:href=\"#DejaVuSans-110\"/>\n     </g>\n    </g>\n   </g>\n  </g>\n </g>\n <defs>\n  <clipPath id=\"p703f176607\">\n   <rect height=\"217.44\" width=\"334.8\" x=\"45.743125\" y=\"24.144\"/>\n  </clipPath>\n </defs>\n</svg>\n"
          },
          "metadata": {
            "tags": []
          }
        },
        {
          "output_type": "stream",
          "text": [
            "Shape analysis. Best fit parameter and uncertainty:\n",
            "\n"
          ],
          "name": "stdout"
        },
        {
          "output_type": "display_data",
          "data": {
            "text/latex": "$\\hat{\\mu} = 0.997^{+0.266}_{-0.266}$",
            "text/plain": [
              "<IPython.core.display.Latex object>"
            ]
          },
          "metadata": {
            "tags": []
          }
        }
      ]
    },
    {
      "cell_type": "markdown",
      "metadata": {
        "id": "_dnmbZ9JrSlt"
      },
      "source": [
        "The obtained value is consistent with the previous one within a $1\\sigma$ range."
      ]
    }
  ]
}